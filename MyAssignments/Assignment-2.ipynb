{
 "cells": [
  {
   "cell_type": "code",
   "execution_count": 30,
   "id": "2fe49af2-8927-4330-8549-74be8ca913cd",
   "metadata": {},
   "outputs": [
    {
     "name": "stdin",
     "output_type": "stream",
     "text": [
      "Enter the item cost price:  780\n",
      "Enter the item sell price:  600\n"
     ]
    },
    {
     "name": "stdout",
     "output_type": "stream",
     "text": [
      "The loss price is -180 percentage is: -23.076923076923077%\n"
     ]
    }
   ],
   "source": [
    "# 1. Task: Calculate Profit Percentage\n",
    "cost_price = int(input(\"Enter the item cost price: \"))\n",
    "sell_price = int(input(\"Enter the item sell price: \"))\n",
    "profit = sell_price - cost_price\n",
    "if cost_price < sell_price:\n",
    "    profit_per = (profit/sell_price)*100\n",
    "    print(f\"The profit price is {profit} and percentage is: {profit_per}%\")\n",
    "else:\n",
    "    loss_per = (profit/cost_price)*100\n",
    "    print(f\"The loss price is {profit} percentage is: {loss_per}%\")"
   ]
  },
  {
   "cell_type": "code",
   "execution_count": 33,
   "id": "d4e6f765-4229-4ea0-9b83-c30a24fc0ca3",
   "metadata": {},
   "outputs": [
    {
     "name": "stdin",
     "output_type": "stream",
     "text": [
      "Enter player1 runs score:  78\n",
      "Enter player2 runs score:  45\n",
      "Enter player3 runs score:  68\n",
      "Enter player4 runs score:  45\n",
      "Enter player5 runs score:  85\n"
     ]
    },
    {
     "name": "stdout",
     "output_type": "stream",
     "text": [
      "Total score is :321 and average score is:64.2\n"
     ]
    }
   ],
   "source": [
    "# 2. Task: Cricket Stats Analyzer\n",
    "player1 = int(input(\"Enter player1 runs score: \"))\n",
    "player2 = int(input(\"Enter player2 runs score: \"))\n",
    "player3 = int(input(\"Enter player3 runs score: \"))\n",
    "player4 = int(input(\"Enter player4 runs score: \"))\n",
    "player5 = int(input(\"Enter player5 runs score: \"))\n",
    "\n",
    "total_score = player1 + player2 + player3 + player4 + player5\n",
    "avg_score = total_score/5\n",
    "print(f\"Total score is :{total_score} and average score is:{avg_score}\")"
   ]
  },
  {
   "cell_type": "code",
   "execution_count": 38,
   "id": "50fb8ae0-dd1c-45a6-9063-fb41db09e83f",
   "metadata": {},
   "outputs": [
    {
     "name": "stdin",
     "output_type": "stream",
     "text": [
      "Enter your age:  28\n"
     ]
    },
    {
     "name": "stdout",
     "output_type": "stream",
     "text": [
      "You left 37 year in your retirement.\n"
     ]
    }
   ],
   "source": [
    "# 3. Task: Retirement Age Calculator\n",
    "user_age = int(input(\"Enter your age: \"))\n",
    "\n",
    "age = 65\n",
    "if user_age < age:\n",
    "    age_val = age - user_age\n",
    "    print(f\"You left {age_val} year in your retirement.\")\n",
    "else:\n",
    "    print(\"you already reached retirement age.\")"
   ]
  },
  {
   "cell_type": "code",
   "execution_count": 43,
   "id": "9e80b25e-240e-4f56-a074-3ca200be7f3b",
   "metadata": {},
   "outputs": [
    {
     "name": "stdin",
     "output_type": "stream",
     "text": [
      "Enter the radius of the circle: 5\n"
     ]
    },
    {
     "name": "stdout",
     "output_type": "stream",
     "text": [
      "The area of the circle is: 78.525\n"
     ]
    }
   ],
   "source": [
    "# 4. Task: Calculate the Area of a Circle\n",
    "radius = int(input(\"Enter the radius of the circle:\"))\n",
    "area = 3.141 * radius * radius\n",
    "print(f\"The area of the circle is: {area}\")"
   ]
  },
  {
   "cell_type": "code",
   "execution_count": 28,
   "id": "f3e2fc71-c2c0-4917-bef4-2d01edc4b138",
   "metadata": {},
   "outputs": [
    {
     "name": "stdout",
     "output_type": "stream",
     "text": [
      "Gross Salary: 55000\n",
      "Tax Deducted: 5500.0\n",
      "Net Salary: 47500.0\n"
     ]
    }
   ],
   "source": [
    "# 5. Task: Salary Calculation\n",
    "\n",
    "base_salary = 50000\n",
    "bonus = 5000\n",
    "tax_rate = 10  # in percentage\n",
    "other_charges = 2000\n",
    "\n",
    "\n",
    "gross_salary = base_salary + bonus\n",
    "tax_amount = gross_salary * (tax_rate / 100)\n",
    "net_salary = gross_salary - tax_amount - other_charges\n",
    "\n",
    "print(f\"Gross Salary: {gross_salary}\")\n",
    "print(f\"Tax Deducted: {tax_amount}\")\n",
    "print(f\"Net Salary: {net_salary}\")"
   ]
  },
  {
   "cell_type": "code",
   "execution_count": 5,
   "id": "ccfde304-ef88-43a3-b238-2aa2c2c65466",
   "metadata": {},
   "outputs": [
    {
     "name": "stdin",
     "output_type": "stream",
     "text": [
      "Enter your age: 25\n",
      "Enter your monthly income: 25001\n",
      "Enter your credit score: 701\n",
      "Enter your outstanding debts: 10001\n"
     ]
    },
    {
     "name": "stdout",
     "output_type": "stream",
     "text": [
      "Loan Rejected\n"
     ]
    }
   ],
   "source": [
    "# 6. Task: Bank Loan Approval System\n",
    "age = int(input(\"Enter your age:\"))\n",
    "monthly_income = float(input(\"Enter your monthly income:\"))\n",
    "credit_score = int(input(\"Enter your credit score:\"))\n",
    "outstanding_debts = int(input(\"Enter your outstanding debts:\"))\n",
    "if age >=18 and age <= 60 and monthly_income >= 25000 and credit_score >= 700 and outstanding_debts <= 10000:\n",
    "    print(\"Loan Approved!\")\n",
    "else:\n",
    "    print(\"Loan Rejected!\")"
   ]
  },
  {
   "cell_type": "code",
   "execution_count": 25,
   "id": "61768063-0c26-439f-b2ab-908f87ec27d6",
   "metadata": {},
   "outputs": [
    {
     "name": "stdin",
     "output_type": "stream",
     "text": [
      "Enter your academic score: 78\n",
      "Enter your attendance percentage: 78\n",
      "You participation any extracurricular: Y4\n"
     ]
    },
    {
     "name": "stdout",
     "output_type": "stream",
     "text": [
      "You not Eligible for Interview\n"
     ]
    }
   ],
   "source": [
    "# 7. Task: Students Interview Eligibility Checker\n",
    "academic_score = float(input(\"Enter your academic score:\"))\n",
    "attendance_per = float(input(\"Enter your attendance percentage:\"))\n",
    "extracurricular = input(\"You participation any extracurricular:\").lower()\n",
    "\n",
    "if academic_score >= 60 and attendance_per >= 75 and extracurricular in (\"yes\" or \"y\"):\n",
    "    print(\"You Eligible for Interview\")\n",
    "else:\n",
    "    print(\"You not Eligible for Interview\")\n",
    "\n"
   ]
  },
  {
   "cell_type": "code",
   "execution_count": 29,
   "id": "6a797f1c-33d8-481d-a912-423ba6db22fa",
   "metadata": {},
   "outputs": [
    {
     "name": "stdin",
     "output_type": "stream",
     "text": [
      "Enter their email address: bitturaj281@gmail.com\n"
     ]
    },
    {
     "name": "stdout",
     "output_type": "stream",
     "text": [
      "Your email is not eligible for registration\n"
     ]
    }
   ],
   "source": [
    "# 8. Task: Validating Email Domain\n",
    "email_address = input(\"Enter their email address:\").lower()\n",
    "\n",
    "if email_address is (\"gmail.com\"):\n",
    "    print(\"Your email is eligible for registration\")\n",
    "else:\n",
    "    print(\"Your email is not eligible for registration\")"
   ]
  },
  {
   "cell_type": "code",
   "execution_count": null,
   "id": "347690de-7603-48d8-b1e1-fa6b3717a07b",
   "metadata": {},
   "outputs": [],
   "source": [
    "# Task 9: Employee Access Level System\n",
    "\n",
    "ADMIN = \"admin\"\n",
    "STAFF = \"staff\"\n",
    "VISITOR = \"visitor\"\n",
    "\n",
    "employee_1_access = ADMIN\n",
    "employee_2_access = ADMIN\n",
    "\n",
    "\n",
    "print(f\"Employee 1 has access level: \")\n",
    "print(f\"Employee 2 has access level: \")\n",
    "\n",
    "if employee_1_access is employee_2_access:\n",
    "    print(\"Both employees have the same access level\")\n",
    "else:\n",
    "    print(\"Employees have different access level\")"
   ]
  },
  {
   "cell_type": "code",
   "execution_count": 53,
   "id": "c8465471-f998-4878-934c-37d5c5b8411d",
   "metadata": {},
   "outputs": [
    {
     "name": "stdin",
     "output_type": "stream",
     "text": [
      "Enter your marks: 55\n"
     ]
    },
    {
     "name": "stdout",
     "output_type": "stream",
     "text": [
      "Your grade is E\n"
     ]
    }
   ],
   "source": [
    "# 10.Task : Student Grading System\n",
    "marks = int(input(\"Enter your marks:\"))\n",
    "if marks >= 90 and marks <=100:\n",
    "    print(\"Your grade is A\")\n",
    "elif marks >= 80 and marks <= 89:\n",
    "    print(\"Your grade is B\")\n",
    "elif marks >= 70 and marks <= 79:\n",
    "    print(\"Your grade is C\")\n",
    "elif marks >= 60 and marks <= 69:\n",
    "    print(\"Your grade is D\")\n",
    "elif marks >= 50 and marks <= 59:\n",
    "    print(\"Your grade is E\")\n",
    "elif marks >= 0 and marks <= 49:\n",
    "    print(\"Your grade is F\")\n",
    "else:\n",
    "    print(\"Invalid marks. Please enter a value between 0 and 100.\")"
   ]
  },
  {
   "cell_type": "code",
   "execution_count": 57,
   "id": "3c4647c6-52b4-4638-9aa5-7a45aa25cd70",
   "metadata": {},
   "outputs": [
    {
     "name": "stdin",
     "output_type": "stream",
     "text": [
      "Your user name: user1\n",
      "Your password: passwrod@123\n"
     ]
    },
    {
     "name": "stdout",
     "output_type": "stream",
     "text": [
      "Authentication failed.\n"
     ]
    }
   ],
   "source": [
    "# 11.Task : Authentication System.\n",
    "username = input(\"Your user name:\")\n",
    "password = input(\"Your password:\")\n",
    "username1 = \"user1\"\n",
    "username1_password1 = \"pass@123\"\n",
    "if username == username1 and password == username1_password1:\n",
    "    print(\"Authentication successful.\")\n",
    "else:\n",
    "    print(\"Authentication failed.\")"
   ]
  },
  {
   "cell_type": "code",
   "execution_count": 31,
   "id": "0178a633-f09d-4809-86d2-2edab69c5b44",
   "metadata": {},
   "outputs": [
    {
     "name": "stdin",
     "output_type": "stream",
     "text": [
      "Enter years of experience:  5\n"
     ]
    },
    {
     "name": "stdout",
     "output_type": "stream",
     "text": [
      "Mid-Level employee experience of 5 years. Their salary is: 50000\n"
     ]
    }
   ],
   "source": [
    "# 12.Employee Salary Based on Experience.\n",
    "experience = int(input(\"Enter years of experience: \"))\n",
    "base_salary = 80000\n",
    "m_salary = 50000\n",
    "j_salary = 30000\n",
    "bonus = 5000\n",
    "total_salary = base_salary + bonus\n",
    "\n",
    "if experience >= 10:\n",
    "    print(f\"Senior employee salary: {base_salary}\")\n",
    "    if experience > 15:\n",
    "        print(f\"Employee experience of {experience} years. Bonus is added: {total_salary}\")\n",
    "\n",
    "elif experience >= 5 and experience <= 9:\n",
    "    print(f\"Mid-Level employee experience of {experience} years. Their salary is: {m_salary}\")\n",
    "\n",
    "elif experience < 5:\n",
    "    print(f\"Junior employee experience of {experience} years. Their salary is: {j_salary}\")\n"
   ]
  },
  {
   "cell_type": "code",
   "execution_count": 20,
   "id": "40966dea-0647-453d-8417-c8d3ed504951",
   "metadata": {},
   "outputs": [
    {
     "name": "stdin",
     "output_type": "stream",
     "text": [
      "Enter the number of days 9\n"
     ]
    },
    {
     "name": "stdout",
     "output_type": "stream",
     "text": [
      "You borrowed the book for 9 days and charges:Rs. 27\n"
     ]
    }
   ],
   "source": [
    "# 13. Library Charge Calculation\n",
    "days = int(input(\"Enter the number of days\"))\n",
    "if days <= 5:\n",
    "    print(f\"You borrowed the book for {days} days and charges:Rs. {days * 2}\")\n",
    "elif days <=10:\n",
    "    print(f\"You borrowed the book for {days} days and charges:Rs. {days * 3}\")\n",
    "elif days <=15:\n",
    "    print(f\"You borrowed the book for {days} days and charges:Rs. {days * 4}\")\n",
    "else:\n",
    "    print(f\"You borrowed the book for {days} days and Charges: Rs. {days * 5}\")"
   ]
  },
  {
   "cell_type": "code",
   "execution_count": 33,
   "id": "4e25a67e-9023-4b66-86e5-798e1e7fff63",
   "metadata": {},
   "outputs": [
    {
     "name": "stdin",
     "output_type": "stream",
     "text": [
      "Enter the number of days the book was borrowed:  8\n"
     ]
    },
    {
     "name": "stdout",
     "output_type": "stream",
     "text": [
      "The total library charge is: Rs. 19\n"
     ]
    }
   ],
   "source": [
    "# 13. Library Charge Calculation\n",
    "# Get the number of days the book was borrowed from user input\n",
    "days_borrowed = int(input(\"Enter the number of days the book was borrowed: \"))\n",
    "\n",
    "total_charge=0\n",
    "\n",
    "# Calculate total charge based on number of days borrowed\n",
    "if days_borrowed<= 5:\n",
    "    total_charge = days_borrowed * 2\n",
    "elif days_borrowed<=10 :\n",
    "    total_charge = 5 * 2 + (days_borrowed - 5) * 3 \n",
    "elif days_borrowed<=15:\n",
    "    total_charge = 5 * 2 + 5 * 3  + (days_borrowed - 10) * 4 \n",
    "else:\n",
    "    total_charge = 5 * 2 + 5 * 3  + 5 * 4  + (days_borrowed - 15) * 5\n",
    "    \n",
    "print(f\"The total library charge is: Rs. {total_charge}\")"
   ]
  },
  {
   "cell_type": "code",
   "execution_count": 4,
   "id": "dc39aa8f-f294-4f0e-bee6-ead9e5c93b1c",
   "metadata": {},
   "outputs": [
    {
     "name": "stdin",
     "output_type": "stream",
     "text": [
      "Enter first number: 45\n",
      "Enter second number: 5\n",
      "Enter third number: 55\n"
     ]
    }
   ],
   "source": [
    "# 14. Arranging Three Numbers in Descending Order\n",
    "num1 = float(input(\"Enter first number: \"))\n",
    "num2 = float(input(\"Enter second number: \"))\n",
    "num3 = float(input(\"Enter third number: \"))\n",
    "if num1 >= num2 and num1 >= num3:\n",
    "    if num2 >= num3:\n",
    "        print(f\"Numbers in Descending Order: {num1}, {num2}, {num3}\")\n",
    "    else:\n",
    "        print(f\"Numbers in Descending Order: {num1}, {num3}, {num2}\")\n",
    "elif num2 >= num1 and num2 >= num3:\n",
    "    if num1 >= num3:\n",
    "        print(f\"Numbers in Descending Order: {num2}, {num1}, {num3}\")\n",
    "    else:\n",
    "        print(f\"Numbers in Descending Order: {num2}, {num3}, {num1}\")\n",
    "elif num3 >= num1 and num3 >= num2:\n",
    "    if num1 >= num2:\n",
    "        print(f\"Numbers in Descending Order: {num3}, {num1}, {num2}\")\n",
    "    else:\n",
    "        print(f\"Numbers in Descending Order: {num3}, {num2}, {num1}\")\n",
    "else:\n",
    "    print(\"Invalid input. Please enter valid numbers.\")\n"
   ]
  },
  {
   "cell_type": "code",
   "execution_count": 45,
   "id": "2a295d51-999e-4052-aca1-e56b30aa90d4",
   "metadata": {},
   "outputs": [
    {
     "name": "stdin",
     "output_type": "stream",
     "text": [
      "Enter your age:  35\n",
      "How many years of experience:  6\n",
      "Enter your background check result (pass/fail):  Yes\n",
      "Enter your highest qualification:  Masters\n",
      "Enter your certifications:  Some\n"
     ]
    },
    {
     "name": "stdout",
     "output_type": "stream",
     "text": [
      "Approved: Senior level candidate.\n"
     ]
    }
   ],
   "source": [
    "age = int(input(\"Enter your age: \"))\n",
    "experience = int(input(\"How many years of experience: \"))\n",
    "background_check = input(\"Enter your background check result (pass/fail): \").lower()\n",
    "qualification = input(\"Enter your highest qualification: \").lower()\n",
    "certifications = input(\"Enter your certifications: \").lower()\n",
    "\n",
    "if age <= 18:\n",
    "    print(\"Rejected: You are too young to apply.\")\n",
    "elif age >= 60 and experience <= 10:\n",
    "    print(\"Rejected: Insufficient experience for senior age.\")\n",
    "elif background_check == \"fail\":\n",
    "    print(\"Rejected: Background check failed.\")\n",
    "elif qualification in (\"phd\", \"masters\"):\n",
    "    if experience >= 5:\n",
    "        print(\"Approved: Senior level candidate.\")\n",
    "    elif 2 <= experience < 5:\n",
    "        if certifications == \"many\":\n",
    "            print(\"Approved: Promising candidate with certifications.\")\n",
    "        else:\n",
    "            print(\"Rejected: Insufficient experience and certifications.\")\n",
    "    else:\n",
    "        print(\"Rejected: Experience too low for senior qualification.\")\n",
    "elif qualification == \"bachelors\":\n",
    "    if experience >= 3:\n",
    "        print(\"Approved: Qualified candidate.\")\n",
    "    elif certifications == \"many\":\n",
    "        print(\"Approved: Candidate with certifications.\")\n",
    "    else:\n",
    "        print(\"Rejected: Not enough experience or certifications.\")\n",
    "elif qualification == \"highschool\":\n",
    "    if experience >= 5:\n",
    "        print(\"Approved: Experienced candidate with certifications.\")\n",
    "    else:\n",
    "        print(\"Rejected: Does not meet minimum qualification.\")\n",
    "else:\n",
    "    print(\"Rejected: Qualification not recognized.\")\n"
   ]
  },
  {
   "cell_type": "code",
   "execution_count": 9,
   "id": "f789622d-bd27-409f-a226-7eba9f2f97d6",
   "metadata": {},
   "outputs": [
    {
     "name": "stdin",
     "output_type": "stream",
     "text": [
      "Enter car brand:  Audi\n",
      "Enter car price:  1500000\n"
     ]
    },
    {
     "name": "stdout",
     "output_type": "stream",
     "text": [
      "Car Audi and tax is: ₹375000.0\n"
     ]
    }
   ],
   "source": [
    "# 15. Tax Calculation for Car Purchase\n",
    "# Mahindra: 5%, Audi: 10%, Jaguar: 25%, Mercedes: 30%\n",
    "car_brand = input(\"Enter car brand: \")\n",
    "car_price = int(input(\"Enter car price: \"))\n",
    "\n",
    "if 700000 <= car_price < 1000000:\n",
    "    tax = (car_price / 100) * 5\n",
    "    print(f\"Car {car_brand} and tax is: {tax}\")\n",
    "elif 1000000 <= car_price < 1500000:\n",
    "    tax = (car_price / 100) * 10\n",
    "    print(f\"Car {car_brand} and tax is: tax}\")\n",
    "elif 1500000 <= car_price < 2000000:\n",
    "    tax = (car_price / 100) * 25\n",
    "    print(f\"Car {car_brand} and tax is: {tax}\")\n",
    "elif 2000000 <= car_price < 2500000:\n",
    "    tax = (car_price / 100) * 30\n",
    "    print(f\"Car {car_brand} and tax is: {tax}\")\n",
    "else:\n",
    "    tax = 0"
   ]
  },
  {
   "cell_type": "code",
   "execution_count": 45,
   "id": "b9f931bd-329f-4a72-9040-050bf0fc139f",
   "metadata": {},
   "outputs": [
    {
     "name": "stdin",
     "output_type": "stream",
     "text": [
      "Enter first number:  150\n",
      "Enter second number:  160\n",
      "Enter third number:  178\n"
     ]
    },
    {
     "name": "stdout",
     "output_type": "stream",
     "text": [
      "The middle number is: 160\n"
     ]
    }
   ],
   "source": [
    "# 16.Finding the Middle Number\n",
    "num1 = int(input(\"Enter first number: \"))\n",
    "num2 = int(input(\"Enter second number: \"))\n",
    "num3 = int(input(\"Enter third number: \"))\n",
    "\n",
    "if (num1 > num2 and num1 < num3) or (num1 > num3 and num1 < num2):\n",
    "    print(f\"The middle number is: {num1}\")\n",
    "elif (num2 > num1 and num2 < num3) or (num2 > num3 and num2 < num1):\n",
    "    print(f\"The middle number is: {num2}\")\n",
    "else:\n",
    "    print(f\"The middle number is: {num3}\")\n"
   ]
  },
  {
   "cell_type": "code",
   "execution_count": 42,
   "id": "87efaa4e-1062-4139-a809-ebbc2a492b07",
   "metadata": {},
   "outputs": [
    {
     "name": "stdin",
     "output_type": "stream",
     "text": [
      "Enter first number:  78\n",
      "Enter second number:  45\n",
      "Enter third number:  60\n"
     ]
    },
    {
     "name": "stdout",
     "output_type": "stream",
     "text": [
      "78 is the greatest\n"
     ]
    }
   ],
   "source": [
    "# 17.Find the greatest number.\n",
    "\n",
    "a = int(input(\"Enter first number: \"))\n",
    "b = int(input(\"Enter second number: \"))\n",
    "c = int(input(\"Enter third number: \"))\n",
    "\n",
    "if a >= b and a >= c:\n",
    "    print(f\"{a} is the greatest\")\n",
    "elif b >= a and b >= c:\n",
    "    print(f\"{b} is the greatest\")\n",
    "else:\n",
    "    print(f\"{c} is the greatest\")\n"
   ]
  },
  {
   "cell_type": "code",
   "execution_count": 11,
   "id": "7e10ecba-901f-4217-ab9e-4de0e3b27b57",
   "metadata": {},
   "outputs": [
    {
     "name": "stdin",
     "output_type": "stream",
     "text": [
      "Enter your user name: user\n",
      "Enter your password: Pass@123\n"
     ]
    },
    {
     "name": "stdout",
     "output_type": "stream",
     "text": [
      "Authentication failed.\n"
     ]
    }
   ],
   "source": [
    "# 18.Authentication System\n",
    "\n",
    "username = input(\"Enter your user name:\")\n",
    "password = input(\"Enter your password:\")\n",
    "\n",
    "if username == \"user1\" and password == \"pass@123\":\n",
    "    print(\"Authentication successful.\")\n",
    "else:\n",
    "    print(\"Authentication failed.\")"
   ]
  },
  {
   "cell_type": "code",
   "execution_count": 16,
   "id": "5ab7392f-75e3-4115-8851-c3c710c98a6a",
   "metadata": {},
   "outputs": [
    {
     "name": "stdin",
     "output_type": "stream",
     "text": [
      "Enter your percentage: 75\n"
     ]
    },
    {
     "name": "stdout",
     "output_type": "stream",
     "text": [
      "Eligible to sit in the exam.\n"
     ]
    }
   ],
   "source": [
    "# 19.Calculate Class Attendance Percentage\n",
    "attendance_per = int(input(\"Enter your percentage:\"))\n",
    "\n",
    "if attendance_per < 75:\n",
    "    print(\"Not eligible to sit in the exam.\")\n",
    "elif attendance_per >= 75:\n",
    "    print(\"Eligible to sit in the exam.\")\n",
    "else:\n",
    "    print(\"Add a right value\")"
   ]
  },
  {
   "cell_type": "code",
   "execution_count": 46,
   "id": "b0164f08-f6e0-4bf0-b644-bceedc66e74e",
   "metadata": {},
   "outputs": [
    {
     "name": "stdin",
     "output_type": "stream",
     "text": [
      "Enter your age: 22\n",
      "Enter your graduation status: yes\n",
      "Enter your nationality: indian\n",
      "Enter the score marks: 500\n",
      "Enter the cutt_ff marks: 450\n"
     ]
    },
    {
     "name": "stdout",
     "output_type": "stream",
     "text": [
      "proceed to Prelims.\n",
      "proceed to Mains.\n",
      "passed, proceed to Interview.\n",
      "Congratulations! You have cleared the UPSC.\n"
     ]
    }
   ],
   "source": [
    "# 21.UPSC Selection Process\n",
    "age = int(input(\"Enter your age:\"))\n",
    "graduate_status = input(\"Enter your graduation status:\").lower()\n",
    "nationality = input(\"Enter your nationality:\").lower()\n",
    "candidate_score = int(input(\"Enter the score marks:\"))\n",
    "cutt_off = int(input(\"Enter the cutt_ff marks:\"))\n",
    "\n",
    "if 21 <= age <= 32 and graduate_status == \"yes\" and nationality == \"indian\":\n",
    "    print(\"proceed to Prelims.\")\n",
    "    if(candidate_score >= cutt_off):\n",
    "        print(\"proceed to Mains.\")\n",
    "        if(candidate_score >= cutt_off):\n",
    "            print(\"passed, proceed to Interview.\")\n",
    "            if(candidate_score >= cutt_off):\n",
    "                print(\"Congratulations! You have cleared the UPSC.\")\n",
    "            else:\n",
    "                print(\"You failed the Interview.\")\n",
    "        else:\n",
    "            print(\"failed,You failed the Mains.\")\n",
    "    else:\n",
    "        print(\"You failed the Prelims.\")\n",
    "else:\n",
    "    print(\"Your are ineligible\")\n",
    "    "
   ]
  },
  {
   "cell_type": "code",
   "execution_count": 39,
   "id": "675585a5-47a7-4cf2-b523-2a2081b4c82d",
   "metadata": {},
   "outputs": [
    {
     "name": "stdin",
     "output_type": "stream",
     "text": [
      "Enter your contact detail: 455\n",
      "Enter your OTP: 44\n",
      "Enter your email address: user@example.com\n",
      "Enter your password: password123\n"
     ]
    },
    {
     "name": "stdout",
     "output_type": "stream",
     "text": [
      "Login successful with email!\n"
     ]
    }
   ],
   "source": [
    "# 22. Menu-Driven Login System\n",
    "phone_number = \"1234567890\"\n",
    "OTP = \"1234\"\n",
    "email = \"user@example.com\"\n",
    "password = \"password123\"\n",
    "\n",
    "contact = input(\"Enter your contact detail:\")\n",
    "otp = input(\"Enter your OTP:\")\n",
    "email_add = input(\"Enter your email address:\")\n",
    "_password = input(\"Enter your password:\")\n",
    "\n",
    "if (contact == phone_number and otp == OTP):\n",
    "    print(\"Login successful with phone!\")\n",
    "elif (email_add == email and _password == password):\n",
    "    print(\"Login successful with email!\")\n",
    "else:\n",
    "    print(\"Enter valid credentials\")\n"
   ]
  },
  {
   "cell_type": "code",
   "execution_count": null,
   "id": "e588897b-fee3-48b2-8291-c8e27ca7ab0f",
   "metadata": {},
   "outputs": [],
   "source": [
    "# 23. KBC Game\n",
    "start = input(\"Do you want to start the game? (yes/no): \")\n",
    "score = 0\n",
    "correct = 0\n",
    "skipped = 0\n",
    "wrong = 0\n",
    "if start == \"yes\":\n",
    "    q1 = input(\"Q1: 2+2=? (A:3 B:4 C:5 D:6, type A/B/C/D/skip): \")\n",
    "    if q1 == \"b\":\n",
    "        score += 1000\n",
    "        correct += 1\n",
    "    elif q1 == \"skip\":\n",
    "        skipped += 1\n",
    "    else:\n",
    "        wrong += 1\n",
    "\n",
    "    q2 = input(\"Q2: Capital of India? (A:Mumbai B:Delhi C:Kolkata D:Chennai/skip): \")\n",
    "    if q2 == \"b\":\n",
    "        score += 2000\n",
    "        correct += 1\n",
    "    elif q2 == \"skip\":\n",
    "        skipped += 1\n",
    "    else:\n",
    "        wrong += 1\n",
    "\n",
    "    print(\"Final Score:\", score)\n",
    "    print(\"Correct Answers:\", correct)\n",
    "    print(\"Skipped Questions:\", skipped)\n",
    "    print(\"Wrong Answers:\", wrong)\n",
    "else:\n",
    "    print(\"Game not started.\")"
   ]
  }
 ],
 "metadata": {
  "kernelspec": {
   "display_name": "Python 3 (ipykernel)",
   "language": "python",
   "name": "python3"
  },
  "language_info": {
   "codemirror_mode": {
    "name": "ipython",
    "version": 3
   },
   "file_extension": ".py",
   "mimetype": "text/x-python",
   "name": "python",
   "nbconvert_exporter": "python",
   "pygments_lexer": "ipython3",
   "version": "3.13.5"
  }
 },
 "nbformat": 4,
 "nbformat_minor": 5
}
