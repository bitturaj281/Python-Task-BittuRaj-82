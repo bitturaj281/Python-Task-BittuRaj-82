{
 "cells": [
  {
   "cell_type": "markdown",
   "id": "fba92002-9367-4f2d-b3fb-5cb69f3de3e5",
   "metadata": {},
   "source": [
    "Python List Presentation\n",
    "\n",
    "1. What is a List?\n",
    "\n",
    "    (I)  A list is a collection of items in a single variable.\n",
    "    (II) Lists are ordered, mutable (changeable), and allow duplicate values."
   ]
  },
  {
   "cell_type": "code",
   "execution_count": 1,
   "id": "0f199769-ffc8-4439-ac28-4583525024ad",
   "metadata": {},
   "outputs": [
    {
     "name": "stdout",
     "output_type": "stream",
     "text": [
      "['apple', 'banana', 'cherry']\n"
     ]
    }
   ],
   "source": [
    "fruits = [\"apple\", \"banana\", \"cherry\"]\n",
    "print(fruits)"
   ]
  },
  {
   "cell_type": "markdown",
   "id": "4bcfdfc6-d967-41c4-bf30-f57bc4f494c9",
   "metadata": {},
   "source": [
    "2. Characteristics of Lists\n",
    "\n",
    "✅ Ordered → items have an index (0, 1, 2, …).\n",
    "\n",
    "✅ Mutable → we can change, add, or remove items.\n",
    "\n",
    "✅ Allow duplicates → same value can appear multiple times.\n",
    "\n",
    "✅ Can store different data types together."
   ]
  },
  {
   "cell_type": "code",
   "execution_count": 2,
   "id": "104f118e-d380-431c-b2c5-bb3247b5f116",
   "metadata": {},
   "outputs": [
    {
     "name": "stdout",
     "output_type": "stream",
     "text": [
      "[10, 'hello', 3.14, True]\n"
     ]
    }
   ],
   "source": [
    "my_list = [10, \"hello\", 3.14, True]\n",
    "print(my_list)\n"
   ]
  },
  {
   "cell_type": "markdown",
   "id": "01731b2a-79c4-4374-bb28-b904bf87db7d",
   "metadata": {},
   "source": [
    "3. Indexing & Slicing\n",
    "\n",
    "    (I)Python uses zero-based indexing.\n",
    "\n",
    "    (II)We can also use negative indexes."
   ]
  },
  {
   "cell_type": "code",
   "execution_count": 3,
   "id": "0017fe18-8267-44a6-adf2-09e71cc64a9e",
   "metadata": {},
   "outputs": [
    {
     "name": "stdout",
     "output_type": "stream",
     "text": [
      "10\n",
      "50\n",
      "[20, 30, 40]\n"
     ]
    }
   ],
   "source": [
    "numbers = [10, 20, 30, 40, 50]\n",
    "\n",
    "print(numbers[0])   # 10 (first item)\n",
    "# print(numbers[-1])  # 50 (last item)\n",
    "# print(numbers[1:4]) # [20, 30, 40] (slice)"
   ]
  },
  {
   "cell_type": "markdown",
   "id": "fa1afbdb-fda9-4bd2-a837-8bd7bea0387d",
   "metadata": {},
   "source": [
    "4. Common List Operations\n",
    " (I) Adding Items"
   ]
  },
  {
   "cell_type": "code",
   "execution_count": 8,
   "id": "2f8b003d-c9fb-4ac0-b8a5-354f7e8326d2",
   "metadata": {},
   "outputs": [
    {
     "name": "stdout",
     "output_type": "stream",
     "text": [
      "['apple', 'banana']\n"
     ]
    }
   ],
   "source": [
    "fruits = [\"apple\", \"banana\"]\n",
    "# fruits.append(\"cherry\")     # add at end\n",
    "# fruits.insert(1, \"orange\")  # add at index\n",
    "print(fruits)"
   ]
  },
  {
   "cell_type": "raw",
   "id": "80d8e0aa-efb1-4dc9-89e1-0504f8dad550",
   "metadata": {},
   "source": [
    "Removing Items"
   ]
  },
  {
   "cell_type": "code",
   "execution_count": 9,
   "id": "ab7b2fbf-47b9-43e4-8cf3-73ac47d45370",
   "metadata": {},
   "outputs": [
    {
     "name": "stdout",
     "output_type": "stream",
     "text": [
      "['apple']\n"
     ]
    }
   ],
   "source": [
    "fruits.remove(\"banana\")  # remove by value\n",
    "# fruits.pop(0)            # remove by index\n",
    "print(fruits)"
   ]
  },
  {
   "cell_type": "raw",
   "id": "c4ceef88-e823-44a3-8393-3794a0c61c99",
   "metadata": {},
   "source": [
    "Updating Items"
   ]
  },
  {
   "cell_type": "code",
   "execution_count": 10,
   "id": "4561d71b-7986-42c8-a5ba-5307e02e6ffc",
   "metadata": {},
   "outputs": [
    {
     "name": "stdout",
     "output_type": "stream",
     "text": [
      "['mango']\n"
     ]
    }
   ],
   "source": [
    "fruits[0] = \"mango\"\n",
    "print(fruits)"
   ]
  },
  {
   "cell_type": "markdown",
   "id": "46876f14-f2d4-47ca-9a33-c2a0fc63694b",
   "metadata": {},
   "source": [
    "5. Useful List Functions"
   ]
  },
  {
   "cell_type": "code",
   "execution_count": 11,
   "id": "81786cea-1644-47dc-b159-714d2cea91a7",
   "metadata": {},
   "outputs": [
    {
     "name": "stdout",
     "output_type": "stream",
     "text": [
      "4\n"
     ]
    }
   ],
   "source": [
    "numbers = [5, 2, 9, 1]\n",
    "\n",
    "print(len(numbers))   # length → 4\n",
    "# print(max(numbers))   # maximum → 9\n",
    "# print(min(numbers))   # minimum → 1\n",
    "# print(sorted(numbers)) # [1, 2, 5, 9]"
   ]
  },
  {
   "cell_type": "markdown",
   "id": "a50cb080-3a2e-4871-a987-2b03988627fc",
   "metadata": {},
   "source": [
    "6. Iterating Through Lists"
   ]
  },
  {
   "cell_type": "code",
   "execution_count": 12,
   "id": "6f06bb93-a80e-4731-a62f-0d12d330e6f4",
   "metadata": {},
   "outputs": [
    {
     "name": "stdout",
     "output_type": "stream",
     "text": [
      "apple\n",
      "banana\n",
      "cherry\n"
     ]
    }
   ],
   "source": [
    "fruits = [\"apple\", \"banana\", \"cherry\"]\n",
    "for item in fruits:\n",
    "    print(item)"
   ]
  },
  {
   "cell_type": "markdown",
   "id": "573a7a50-8dfd-4187-82ce-5adc6a6e86f3",
   "metadata": {},
   "source": [
    "7. Nested Lists\n",
    "   Lists can contain other lists"
   ]
  },
  {
   "cell_type": "code",
   "execution_count": 13,
   "id": "b2339eb7-6050-49eb-96ad-c07d50a8eb35",
   "metadata": {},
   "outputs": [
    {
     "name": "stdout",
     "output_type": "stream",
     "text": [
      "6\n"
     ]
    }
   ],
   "source": [
    "matrix = [[1,2,3], [4,5,6], [7,8,9]]\n",
    "print(matrix[1][2])  # 6\n"
   ]
  },
  {
   "cell_type": "markdown",
   "id": "7df4f60e-36de-4a46-b8e2-8d203c01a37a",
   "metadata": {},
   "source": [
    "8. Real-Life Example\n",
    "   Shopping Cart"
   ]
  },
  {
   "cell_type": "code",
   "execution_count": 20,
   "id": "9f687654-75c4-4d83-bc0d-47267ad0cb00",
   "metadata": {},
   "outputs": [
    {
     "name": "stdout",
     "output_type": "stream",
     "text": [
      "Final cart: ['milk', 'bread', 'eggs']\n"
     ]
    }
   ],
   "source": [
    "cart = [\"milk\", \"bread\", \"eggs\"]\n",
    "# cart.append(\"butter\")\n",
    "# cart.remove(\"milk\")\n",
    "print(\"Final cart:\", cart)\n"
   ]
  },
  {
   "cell_type": "markdown",
   "id": "585a5fbf-e33c-4f34-9a5f-1c892a9dfb38",
   "metadata": {},
   "source": [
    "Summary\n",
    "\n",
    "    List = ordered, mutable, allows duplicates.\n",
    "\n",
    "    Supports indexing, slicing, updating, adding, removing.\n",
    "\n",
    "    Very flexible → can hold numbers, strings, booleans, even other lists."
   ]
  },
  {
   "cell_type": "code",
   "execution_count": null,
   "id": "c83aa368-d71c-4979-8b11-ddfa9ee6e97a",
   "metadata": {},
   "outputs": [],
   "source": []
  }
 ],
 "metadata": {
  "kernelspec": {
   "display_name": "Python 3 (ipykernel)",
   "language": "python",
   "name": "python3"
  },
  "language_info": {
   "codemirror_mode": {
    "name": "ipython",
    "version": 3
   },
   "file_extension": ".py",
   "mimetype": "text/x-python",
   "name": "python",
   "nbconvert_exporter": "python",
   "pygments_lexer": "ipython3",
   "version": "3.13.5"
  }
 },
 "nbformat": 4,
 "nbformat_minor": 5
}
