{
 "cells": [
  {
   "cell_type": "code",
   "execution_count": 1,
   "id": "dce73355-083e-4e97-ae23-057abd8c3ff5",
   "metadata": {},
   "outputs": [],
   "source": [
    "# pip install mysql-connector-python\n",
    "# pip install mysql-connector\n",
    "# pip install pymysql"
   ]
  },
  {
   "cell_type": "code",
   "execution_count": 3,
   "id": "52786a85-e7b9-439d-aba9-c36e30e76055",
   "metadata": {},
   "outputs": [
    {
     "name": "stdout",
     "output_type": "stream",
     "text": [
      "<pymysql.connections.Connection object at 0x0000022882538CD0>\n",
      "(('banking_customer',), ('batch_82',), ('data_science',), ('information_schema',), ('intro_sql',), ('join_sql',), ('metlife',), ('my_school',), ('mysql',), ('numbers',), ('performance_schema',), ('practice_db',), ('project',), ('python',), ('school',), ('students',), ('sys',))\n"
     ]
    }
   ],
   "source": [
    "# How to connect with database.\n",
    "import pymysql as mysql\n",
    "try:\n",
    "    mydb = mysql.connect(host=\"localhost\", user=\"root\", password=\"Scientist@$2024BIT\")\n",
    "    print(mydb)\n",
    "    cursor=mydb.cursor()\n",
    "    cursor.execute(\"SHOW DATABASES\")\n",
    "    print(cursor.fetchall())\n",
    "except Exception as e:\n",
    "    print(\"Error:\", e)"
   ]
  },
  {
   "cell_type": "code",
   "execution_count": 10,
   "id": "a953b51a-e813-407e-9e57-15b23456a601",
   "metadata": {},
   "outputs": [
    {
     "name": "stdout",
     "output_type": "stream",
     "text": [
      "<pymysql.connections.Connection object at 0x000001F5EBCC87D0>\n",
      "Error: (1007, \"Can't create database 'python'; database exists\")\n"
     ]
    }
   ],
   "source": [
    "import pymysql as mysql\n",
    "\n",
    "try:\n",
    "    mydb = mysql.connect(host=\"localhost\", user=\"root\", password=\"Scientist@$2024BIT\")\n",
    "    print(mydb)\n",
    "    cursor=mydb.cursor()\n",
    "    db_name=\"python\"\n",
    "    # cursor.execute(f\"DROP DATABASE {db_name}\")\n",
    "    cursor.execute(f\"CREATE DATABASE {db_name}\")\n",
    "    print(\"Database Created...\")\n",
    "except Exception as e:\n",
    "    print(\"Error:\", e)"
   ]
  },
  {
   "cell_type": "code",
   "execution_count": 19,
   "id": "b87ac173-4451-4365-8d5c-d8cad4c31a18",
   "metadata": {},
   "outputs": [
    {
     "name": "stdout",
     "output_type": "stream",
     "text": [
      "(('city',), ('demo',), ('employees',), ('my_data',), ('new_customer',), ('students',), ('test',))\n"
     ]
    }
   ],
   "source": [
    "import pymysql as mysql\n",
    "\n",
    "try:\n",
    "    mydb = mysql.connect(host=\"localhost\", user=\"root\", password=\"Scientist@$2024BIT\",database=\"batch_82\")\n",
    "    # print(mydb)\n",
    "    cursor=mydb.cursor()\n",
    "    cursor.execute(\"SHOW TABLES\")\n",
    "    # cursor.execute(\"SELECT * FROM employees\")\n",
    "    # mydb.close()\n",
    "    \n",
    "    print(cursor.fetchall())\n",
    "except Exception as e:\n",
    "    print(\"Error:\", e)\n",
    "finally:\n",
    "    mydb.close()"
   ]
  },
  {
   "cell_type": "code",
   "execution_count": 16,
   "id": "ddbf3c89-1597-480e-838d-bc16f375707c",
   "metadata": {},
   "outputs": [],
   "source": [
    "# Sunnary\n",
    "# 1. How to get connect with database (mysql.connectore and pymysql)\n",
    "# 2. How to get execute queries\n",
    "# 3. How to connect with any particular database\n",
    "# 4. How to fetch database and tables\n",
    "# 5. How to create a table in a dedicated database.\n",
    "# 6. How to insert data in the table of database\n",
    "# 7. how to read and delete\n",
    "# 8. This is the full CRUD operation using python connectivity."
   ]
  },
  {
   "cell_type": "code",
   "execution_count": 13,
   "id": "4ab6457d-af61-46c6-8637-e5c161d5967b",
   "metadata": {},
   "outputs": [
    {
     "name": "stdout",
     "output_type": "stream",
     "text": [
      "Your Table is Created...\n"
     ]
    }
   ],
   "source": [
    "# 5. How to create a table in a dedicated database.\n",
    "import pymysql as mysql\n",
    "\n",
    "try:\n",
    "    mydb = mysql.connect(host=\"localhost\", user=\"root\", password=\"Scientist@$2024BIT\", database=\"batch_82\")\n",
    "\n",
    "    cursor=mydb.cursor()\n",
    "    \n",
    "    query=f\"\"\"CREATE TABLE DEMO(\n",
    "    SNAME VARCHAR(10),\n",
    "    SROLL INT,\n",
    "    SCLASS VARCHAR(10),\n",
    "    SADDRESS VARCHAR(100)\n",
    "    );\"\"\"\n",
    "\n",
    "    cursor.execute(query)\n",
    "    \n",
    "    print(\"Your Table is Created...\")\n",
    "except Exception as e:\n",
    "    print(\"Error:\", e)"
   ]
  },
  {
   "cell_type": "code",
   "execution_count": 31,
   "id": "f667e862-c2fd-4a5d-9c3a-f0daf413e4bc",
   "metadata": {},
   "outputs": [
    {
     "name": "stdin",
     "output_type": "stream",
     "text": [
      "Enter your name:  Pavn\n"
     ]
    },
    {
     "name": "stdout",
     "output_type": "stream",
     "text": [
      "Your Data inserted...\n"
     ]
    }
   ],
   "source": [
    "# 6. How to insert data in the table of database\n",
    "import pymysql as mysql\n",
    "\n",
    "try:\n",
    "    name=input(\"Enter your name: \")\n",
    "    mydb = mysql.connect(host=\"localhost\", user=\"root\", password=\"Scientist@$2024BIT\", database=\"batch_82\")\n",
    "    cursor=mydb.cursor() \n",
    "    query=f\"\"\"INSERT INTO DEMO(SNAME,SROLL,SCLASS,SADDRESS)\n",
    "    VALUES('{name}',25,\"12th\",\"NEW-DELHI\")\"\"\"\n",
    "    cursor.execute(query)\n",
    "    mydb.commit()\n",
    "    print(\"Your Data inserted...\")\n",
    "except Exception as e:\n",
    "    print(\"Error:\", e)\n",
    "finally:\n",
    "    mydb.close()"
   ]
  },
  {
   "cell_type": "code",
   "execution_count": 36,
   "id": "67b4dc6c-3b6f-43c0-8f99-660791f9de36",
   "metadata": {},
   "outputs": [
    {
     "name": "stdout",
     "output_type": "stream",
     "text": [
      "('RAJVIR', 25, '12th', 'NEW-DELHI')\n"
     ]
    }
   ],
   "source": [
    "# 7. how to read data\n",
    "import pymysql as mysql\n",
    "\n",
    "try:\n",
    "    mydb = mysql.connect(host=\"localhost\", user=\"root\", password=\"Scientist@$2024BIT\", database=\"batch_82\")\n",
    "    cursor=mydb.cursor() \n",
    "    query=f\"\"\"SELECT * FROM DEMO;\"\"\"\n",
    "    s = cursor.execute(query)\n",
    "    if s==0:\n",
    "        print(\"No Data found in Table...\")\n",
    "    else:      \n",
    "        for i in cursor.fetchall():\n",
    "            print(i)\n",
    "    # print(cursor.fetchall())\n",
    "except Exception as e:\n",
    "    print(\"Error:\", e)"
   ]
  },
  {
   "cell_type": "code",
   "execution_count": 28,
   "id": "456ff12c-5865-426b-b772-09951d1fdf48",
   "metadata": {},
   "outputs": [
    {
     "name": "stdout",
     "output_type": "stream",
     "text": [
      "Data deleted...\n"
     ]
    }
   ],
   "source": [
    "# 7. how to delete data\n",
    "import pymysql as mysql\n",
    "\n",
    "try:\n",
    "    mydb = mysql.connect(host=\"localhost\", user=\"root\", password=\"Scientist@$2024BIT\", database=\"batch_82\")\n",
    "    cursor=mydb.cursor() \n",
    "    query=f\"\"\"DELETE FROM DEMO;\"\"\"\n",
    "    cursor.execute(query)\n",
    "    print(\"Data deleted...\")\n",
    "    mydb.commit()\n",
    "except Exception as e:\n",
    "    print(\"Error:\", e)"
   ]
  },
  {
   "cell_type": "code",
   "execution_count": 37,
   "id": "239e9970-b507-4966-8200-d8d3fcbaa45c",
   "metadata": {},
   "outputs": [
    {
     "name": "stdout",
     "output_type": "stream",
     "text": [
      "Data Updeted...\n",
      "Thanks you\n"
     ]
    }
   ],
   "source": [
    "# 7. How to update data\n",
    "import pymysql as mysql\n",
    "\n",
    "try:\n",
    "    mydb = mysql.connect(host=\"localhost\", user=\"root\", password=\"Scientist@$2024BIT\", database=\"batch_82\")\n",
    "    cursor=mydb.cursor() \n",
    "    query=f\"\"\"UPDATE DEMO SET SNAME=\"RAJVIR\" WHERE SNAME=\"PAVN\";\"\"\"\n",
    "    cursor.execute(query)\n",
    "    print(\"Data Updeted...\")\n",
    "    mydb.commit()\n",
    "except Exception as e:\n",
    "    print(\"Error:\", e)\n",
    "finally:\n",
    "    print(\"Thanks you\")"
   ]
  },
  {
   "cell_type": "code",
   "execution_count": null,
   "id": "f74262d1-da64-4334-94bd-20d06df8a8c9",
   "metadata": {},
   "outputs": [],
   "source": []
  }
 ],
 "metadata": {
  "kernelspec": {
   "display_name": "Python 3 (ipykernel)",
   "language": "python",
   "name": "python3"
  },
  "language_info": {
   "codemirror_mode": {
    "name": "ipython",
    "version": 3
   },
   "file_extension": ".py",
   "mimetype": "text/x-python",
   "name": "python",
   "nbconvert_exporter": "python",
   "pygments_lexer": "ipython3",
   "version": "3.13.5"
  }
 },
 "nbformat": 4,
 "nbformat_minor": 5
}
