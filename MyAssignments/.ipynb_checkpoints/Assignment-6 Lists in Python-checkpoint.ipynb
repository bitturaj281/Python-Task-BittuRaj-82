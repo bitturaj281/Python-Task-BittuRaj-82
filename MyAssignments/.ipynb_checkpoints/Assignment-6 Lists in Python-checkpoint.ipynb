{
 "cells": [
  {
   "cell_type": "raw",
   "id": "24b7d3b0-cd40-4458-934b-abf005508c2e",
   "metadata": {},
   "source": [
    "1. Write a Python program to find the sum of all elements in the list [10, 20, 30, 40, 50]."
   ]
  },
  {
   "cell_type": "code",
   "execution_count": 1,
   "id": "eec31004-6f44-4dab-9578-ccb58e4ba894",
   "metadata": {},
   "outputs": [
    {
     "name": "stdout",
     "output_type": "stream",
     "text": [
      "150\n"
     ]
    }
   ],
   "source": [
    "list1 = [10, 20, 30, 40, 50]\n",
    "total = sum(list1)\n",
    "print(total)"
   ]
  },
  {
   "cell_type": "raw",
   "id": "98af9318-ff59-4282-b37a-35fce7bc6c07",
   "metadata": {},
   "source": [
    "2. Write a Python program to display the odd and even elements from the list [10, 23, 11, 12, 33, 44, 2, 5, 6]."
   ]
  },
  {
   "cell_type": "code",
   "execution_count": 5,
   "id": "8c9157d6-19fe-4aa8-9ed8-5bd1620be3b5",
   "metadata": {},
   "outputs": [
    {
     "name": "stdout",
     "output_type": "stream",
     "text": [
      "Even numbers: [10, 12, 44, 2, 6]\n",
      "Odd numbers: [23, 11, 33, 5]\n"
     ]
    }
   ],
   "source": [
    "list1 = [10, 23, 11, 12, 33, 44, 2, 5, 6]\n",
    "\n",
    "even_list = []\n",
    "odd_list = []\n",
    "\n",
    "for i in list1:\n",
    "    if i % 2 == 0:\n",
    "        even_list.append(i)\n",
    "    else:\n",
    "        odd_list.append(i)\n",
    "\n",
    "print(f\"Even numbers: {even_list}\")\n",
    "print(f\"Odd numbers: {odd_list}\")\n"
   ]
  },
  {
   "cell_type": "raw",
   "id": "446cd959-e67f-4f7b-a6d7-a027f084f80a",
   "metadata": {},
   "source": [
    "3. Write a Python program to count the odd and even numbers in the list [10, 23, 11, 12, 33, 44, 2, 5, 6]."
   ]
  },
  {
   "cell_type": "code",
   "execution_count": 7,
   "id": "fe8b7435-95dd-4fae-b944-bdacd1ff9943",
   "metadata": {},
   "outputs": [
    {
     "name": "stdout",
     "output_type": "stream",
     "text": [
      "Even numbers: 5\n",
      "Odd numbers: 4\n"
     ]
    }
   ],
   "source": [
    "list1 = [10, 23, 11, 12, 33, 44, 2, 5, 6]\n",
    "\n",
    "even_list = 0\n",
    "odd_list = 0\n",
    "\n",
    "for i in list1:\n",
    "    if i % 2 == 0:\n",
    "        even_list +=1\n",
    "    else:\n",
    "        odd_list +=1\n",
    "\n",
    "print(f\"Even numbers: {even_list}\")\n",
    "print(f\"Odd numbers: {odd_list}\")\n"
   ]
  },
  {
   "cell_type": "raw",
   "id": "a7c49586-658c-454b-ac54-7f56ce5734f3",
   "metadata": {},
   "source": [
    "4. Write a Python program to interchange the first and last elements in the list [10, 23, 11, 12, 33, 44, 2, 5, 6]."
   ]
  },
  {
   "cell_type": "code",
   "execution_count": 9,
   "id": "b7033010-340f-42a7-892a-0ce4bcb5f5ba",
   "metadata": {},
   "outputs": [
    {
     "name": "stdout",
     "output_type": "stream",
     "text": [
      "[6, 23, 11, 12, 33, 44, 2, 5, 10]\n"
     ]
    }
   ],
   "source": [
    "list1 = [10, 23, 11, 12, 33, 44, 2, 5, 6]\n",
    "\n",
    "list1[0], list1[-1] = list1[-1], list1[0]\n",
    "\n",
    "print(list1)\n"
   ]
  },
  {
   "cell_type": "raw",
   "id": "550d9b81-6453-4711-9671-9ef2d7bb4c73",
   "metadata": {},
   "source": [
    "5. Write a Python program to duplicate all the items in the list li = [1, 2, 3],\n",
    "such that the result is:\n",
    "output = [1, 2, 3, 1, 2, 3, 1, 2, 3]."
   ]
  },
  {
   "cell_type": "code",
   "execution_count": 12,
   "id": "064a3150-edf1-4690-b901-8e5b8aa4beda",
   "metadata": {},
   "outputs": [
    {
     "name": "stdout",
     "output_type": "stream",
     "text": [
      "[1, 2, 3, 1, 2, 3, 1, 2, 3]\n"
     ]
    }
   ],
   "source": [
    "li = [1, 2, 3]\n",
    "new_li = li * 3\n",
    "print(new_li)"
   ]
  },
  {
   "cell_type": "raw",
   "id": "f0d6b10e-4dd7-4ac0-a3af-3e9a0958bfaa",
   "metadata": {},
   "source": [
    "6. Find the smallest element in the list [10, 23, 11, 12, 33, 44, 2, 5, 6]."
   ]
  },
  {
   "cell_type": "code",
   "execution_count": 13,
   "id": "ccf91c5f-588f-4e12-966a-842559bc9280",
   "metadata": {},
   "outputs": [
    {
     "name": "stdout",
     "output_type": "stream",
     "text": [
      "2\n"
     ]
    }
   ],
   "source": [
    "li = [10, 23, 11, 12, 33, 44, 2, 5, 6]\n",
    "min_li = min(li)\n",
    "print(min_li)"
   ]
  },
  {
   "cell_type": "raw",
   "id": "cf4b7dda-b5d1-44cf-8345-10b1bee14cf0",
   "metadata": {},
   "source": [
    "7. Find the greatest element in the list [89, 23, 24, 2, 55, 54, 64]."
   ]
  },
  {
   "cell_type": "code",
   "execution_count": 14,
   "id": "729f8031-4e43-4d08-bd28-654c74d2965d",
   "metadata": {},
   "outputs": [
    {
     "name": "stdout",
     "output_type": "stream",
     "text": [
      "89\n"
     ]
    }
   ],
   "source": [
    "li = [89, 23, 24, 2, 55, 54, 64]\n",
    "max_li = max(li)\n",
    "print(max_li)"
   ]
  },
  {
   "cell_type": "raw",
   "id": "bf42dbab-eee3-4bfa-ad9a-594023f6784d",
   "metadata": {},
   "source": [
    "8. Find the repetitive elements in the list [1,2,3,4,56,1,22,23,33,23, 56]."
   ]
  },
  {
   "cell_type": "code",
   "execution_count": 15,
   "id": "d6ed9bc8-f738-49dc-a14b-cced2e241115",
   "metadata": {},
   "outputs": [
    {
     "name": "stdout",
     "output_type": "stream",
     "text": [
      "Repetitive elements are: [1, 56, 23]\n"
     ]
    }
   ],
   "source": [
    "li = [1, 2, 3, 4, 56, 1, 22, 23, 33, 23, 56]\n",
    "\n",
    "duplicates = []\n",
    "for i in li:\n",
    "    if li.count(i) > 1 and i not in duplicates:\n",
    "        duplicates.append(i)\n",
    "\n",
    "print(f\"Repetitive elements are: {duplicates}\")\n"
   ]
  },
  {
   "cell_type": "raw",
   "id": "8ed3c6ca-a94a-4476-92fe-9880faa01977",
   "metadata": {},
   "source": [
    "9. Remove all the odd elements from the list [10, 23, 11,12,33,44,2,5, 6]."
   ]
  },
  {
   "cell_type": "code",
   "execution_count": 16,
   "id": "64534494-0ea1-41b3-80e8-2004dd0ca1e9",
   "metadata": {},
   "outputs": [
    {
     "name": "stdout",
     "output_type": "stream",
     "text": [
      "new list without odd number is: [10, 12, 44, 2, 6]\n"
     ]
    }
   ],
   "source": [
    "li = [10, 23, 11,12,33,44,2,5, 6]\n",
    "new_li = []\n",
    "for i in li:\n",
    "    if i % 2 == 0:\n",
    "        new_li.append(i)\n",
    "\n",
    "print(f\"new list without odd number is: {new_li}\")"
   ]
  },
  {
   "cell_type": "raw",
   "id": "5196f05e-faae-4024-92df-6822c56019a8",
   "metadata": {},
   "source": [
    "10.Find all non-repetitive elements in the list[1,2,3,4,56,1,22,23,33,23,56]."
   ]
  },
  {
   "cell_type": "code",
   "execution_count": 18,
   "id": "e60615cf-0cb6-443a-a863-84bb1565eda0",
   "metadata": {},
   "outputs": [
    {
     "name": "stdout",
     "output_type": "stream",
     "text": [
      "Non repetitive elements are: [2, 3, 4, 22, 33]\n"
     ]
    }
   ],
   "source": [
    "li = [1, 2, 3, 4, 56, 1, 22, 23, 33, 23, 56]\n",
    "\n",
    "non_repetitive = []\n",
    "\n",
    "for i in li:\n",
    "    if li.count(i) == 1:\n",
    "        non_repetitive.append(i)\n",
    "\n",
    "print(f\"Non repetitive elements are: {non_repetitive}\")"
   ]
  },
  {
   "cell_type": "raw",
   "id": "36128478-aa06-44d7-87e5-7f8676157cca",
   "metadata": {},
   "source": [
    "11.Write a Python program to duplicate all items in the listl = [1, 2, 3] to\n",
    "produce the result:\n",
    "result = [1, 2, 3, 1, 2, 3, 1, 2, 3]."
   ]
  },
  {
   "cell_type": "code",
   "execution_count": 23,
   "id": "fc4a3586-6197-47e2-9581-5a40e9721d93",
   "metadata": {},
   "outputs": [
    {
     "name": "stdout",
     "output_type": "stream",
     "text": [
      "[1, 2, 3, 1, 2, 3, 1, 2, 3]\n"
     ]
    }
   ],
   "source": [
    "listl = [1, 2, 3]\n",
    "result = listl * 3\n",
    "print(result)"
   ]
  },
  {
   "cell_type": "raw",
   "id": "11431b24-70de-4dc4-92f7-ab6574e24008",
   "metadata": {},
   "source": [
    "12.Find the second greatest element in the list [89, 23, 24, 2, 55, 54, 64]."
   ]
  },
  {
   "cell_type": "code",
   "execution_count": 24,
   "id": "cf3ee323-934b-4e9a-9b8e-bab589da849f",
   "metadata": {},
   "outputs": [
    {
     "name": "stdout",
     "output_type": "stream",
     "text": [
      "Second greatest element is: 64\n"
     ]
    }
   ],
   "source": [
    "li = [89, 23, 24, 2, 55, 54, 64]\n",
    "\n",
    "sorted_li = sorted(li, reverse=True)\n",
    "\n",
    "second_greatest = sorted_li[1]\n",
    "print(f\"Second greatest element is: {second_greatest}\")\n"
   ]
  },
  {
   "cell_type": "raw",
   "id": "62a77d8d-5992-4535-a128-0c0356e07cb2",
   "metadata": {},
   "source": [
    "13.Reverse the list [1, 2, 3, 4, 56, 1, 22, 23, 33, 23, 56]."
   ]
  },
  {
   "cell_type": "code",
   "execution_count": 25,
   "id": "90280961-8fe0-44a8-a309-c52522de3b3f",
   "metadata": {},
   "outputs": [
    {
     "name": "stdout",
     "output_type": "stream",
     "text": [
      "[56, 23, 33, 23, 22, 1, 56, 4, 3, 2, 1]\n"
     ]
    }
   ],
   "source": [
    "li = [1, 2, 3, 4, 56, 1, 22, 23, 33, 23, 56]\n",
    "li.reverse()\n",
    "print(li)"
   ]
  },
  {
   "cell_type": "raw",
   "id": "dda4fde8-634f-4382-9050-ec83a31684b6",
   "metadata": {},
   "source": [
    "14.Arrange the list [1, 2, 3, 4, 56, 1, 22, 23, 33, 23, 56] in\n",
    "ascending order."
   ]
  },
  {
   "cell_type": "code",
   "execution_count": 26,
   "id": "d9f66fb0-1213-420e-a762-82e0ac0929f9",
   "metadata": {},
   "outputs": [
    {
     "name": "stdout",
     "output_type": "stream",
     "text": [
      "[1, 1, 2, 3, 4, 22, 23, 23, 33, 56, 56]\n"
     ]
    }
   ],
   "source": [
    "li = [1, 2, 3, 4, 56, 1, 22, 23, 33, 23, 56]\n",
    "print(sorted(li))"
   ]
  },
  {
   "cell_type": "raw",
   "id": "2d5be3be-11ce-40fe-b14b-10cedffabd26",
   "metadata": {},
   "source": [
    "15.Arrange the list [1, 2, 3, 4, 56, 1, 22, 23, 33, 23, 56] in\n",
    "descending order."
   ]
  },
  {
   "cell_type": "code",
   "execution_count": 39,
   "id": "20f9144a-755c-4d53-820a-5cc40cf8891c",
   "metadata": {},
   "outputs": [
    {
     "name": "stdout",
     "output_type": "stream",
     "text": [
      "[56, 56, 33, 23, 23, 22, 4, 3, 2, 1, 1]\n"
     ]
    }
   ],
   "source": [
    "li = [1, 2, 3, 4, 56, 1, 22, 23, 33, 23, 56]\n",
    "li.sort(reverse=True)\n",
    "print(li)"
   ]
  },
  {
   "cell_type": "raw",
   "id": "32ab27a0-029f-47e5-bf26-8eae86438576",
   "metadata": {},
   "source": [
    "16.Write a Python program to print all the vowels present in the given list of strings\n",
    "[\"Dreamer\", \"infotech\"]."
   ]
  },
  {
   "cell_type": "code",
   "execution_count": 40,
   "id": "c3f24dd0-46fe-449d-b297-4e198476b3dc",
   "metadata": {},
   "outputs": [
    {
     "name": "stdout",
     "output_type": "stream",
     "text": [
      "Vowels in the list: ['e', 'a', 'e', 'i', 'o', 'e']\n"
     ]
    }
   ],
   "source": [
    "words = [\"Dreamer\", \"infotech\"]\n",
    "vowels = \"aeiouAEIOU\"\n",
    "found_vowels = []\n",
    "\n",
    "for word in words:\n",
    "    for ch in word:\n",
    "        if ch in vowels:\n",
    "            found_vowels.append(ch)\n",
    "\n",
    "print(f\"Vowels in the list: {found_vowels}\")\n"
   ]
  },
  {
   "cell_type": "raw",
   "id": "2333c261-0b7d-45f9-809f-099fd7c3b992",
   "metadata": {},
   "source": [
    "17.Write a Python program to take input from the user to create a list of elements.\n",
    "The user should input each element of the list one by one. Create a list with\n",
    "these elements (maximum of 5 elements)."
   ]
  },
  {
   "cell_type": "code",
   "execution_count": 42,
   "id": "024436ad-6e20-4834-89f9-7f62c094d949",
   "metadata": {},
   "outputs": [
    {
     "name": "stdin",
     "output_type": "stream",
     "text": [
      "Enter element 1:  Apple\n",
      "Enter element 2:  samsun\n",
      "Enter element 3:  1525\n",
      "Enter element 4:  365\n",
      "Enter element 5:  \"Hello\"\n"
     ]
    },
    {
     "name": "stdout",
     "output_type": "stream",
     "text": [
      "Final list is: ['Apple', 'samsun', '1525', '365', '\"Hello\"']\n"
     ]
    }
   ],
   "source": [
    "user_list = []\n",
    "\n",
    "for i in range(5):\n",
    "    element = input(f\"Enter element {i+1}: \")\n",
    "    user_list.append(element)\n",
    "\n",
    "print(\"Final list is:\", user_list)"
   ]
  },
  {
   "cell_type": "raw",
   "id": "80c01b27-29ed-462b-b24d-f18bddc8551c",
   "metadata": {},
   "source": [
    "18.Write a Python program to generate a list of numbers in reverse order from 10 to\n",
    "1 using list comprehension."
   ]
  },
  {
   "cell_type": "code",
   "execution_count": 46,
   "id": "ac6c042b-e38b-4197-a134-cc914d2143b4",
   "metadata": {},
   "outputs": [
    {
     "name": "stdout",
     "output_type": "stream",
     "text": [
      "[10, 9, 8, 7, 6, 5, 4, 3, 2, 1]\n"
     ]
    }
   ],
   "source": [
    "li = [i for i in range(10, 0, -1)]\n",
    "print(li)"
   ]
  },
  {
   "cell_type": "raw",
   "id": "643d8cc6-e9c7-40b8-afa2-d1200a76b544",
   "metadata": {},
   "source": [
    "19.Create a list of square numbers from 1 to 10 using list comprehension."
   ]
  },
  {
   "cell_type": "code",
   "execution_count": 48,
   "id": "5b2e1ef9-cd94-40b1-99d2-d950483fd57c",
   "metadata": {},
   "outputs": [
    {
     "name": "stdout",
     "output_type": "stream",
     "text": [
      "[0, 1, 4, 9, 16, 25, 36, 49, 64, 81, 100]\n"
     ]
    }
   ],
   "source": [
    "li = [i**2 for i in range(11)]\n",
    "print(li)"
   ]
  },
  {
   "cell_type": "raw",
   "id": "d8763eb5-6c6a-457a-9c81-e6bdf688c6c4",
   "metadata": {},
   "source": [
    "20.Create a list of even numbers from 1 to 10 using list comprehension."
   ]
  },
  {
   "cell_type": "code",
   "execution_count": 50,
   "id": "aca15c8d-c3a9-4f3c-9de1-47523fe69df7",
   "metadata": {},
   "outputs": [
    {
     "name": "stdout",
     "output_type": "stream",
     "text": [
      "[0, 2, 4, 6, 8, 10]\n"
     ]
    }
   ],
   "source": [
    "li = [i for i in range(11) if i%2==0]\n",
    "print(li)"
   ]
  },
  {
   "cell_type": "raw",
   "id": "dbd76da3-a236-4b04-a41c-0ac0eff2c184",
   "metadata": {},
   "source": [
    "21.Filter strings from the list language = ['python', 'php', 'java',\n",
    "'c++', 'javascript', 'ruby'] that contain a specific letter provided by\n",
    "the user, using list comprehension."
   ]
  },
  {
   "cell_type": "code",
   "execution_count": 54,
   "id": "5f7f3b76-e98c-40ef-bfd1-b722ee9806ab",
   "metadata": {},
   "outputs": [
    {
     "name": "stdin",
     "output_type": "stream",
     "text": [
      "Enter a letter to filter:  r\n"
     ]
    },
    {
     "name": "stdout",
     "output_type": "stream",
     "text": [
      "Filtered list: ['javascript', 'ruby']\n"
     ]
    }
   ],
   "source": [
    "language = ['python', 'php', 'java', 'c++', 'javascript', 'ruby']\n",
    "\n",
    "ch = input(\"Enter a letter to filter: \")\n",
    "\n",
    "li = [word for word in language if ch in word]\n",
    "print(\"Filtered list:\", li)"
   ]
  },
  {
   "cell_type": "code",
   "execution_count": null,
   "id": "05bd4447-6b82-43ed-bf27-b1d4a8e82c87",
   "metadata": {},
   "outputs": [],
   "source": []
  }
 ],
 "metadata": {
  "kernelspec": {
   "display_name": "Python 3 (ipykernel)",
   "language": "python",
   "name": "python3"
  },
  "language_info": {
   "codemirror_mode": {
    "name": "ipython",
    "version": 3
   },
   "file_extension": ".py",
   "mimetype": "text/x-python",
   "name": "python",
   "nbconvert_exporter": "python",
   "pygments_lexer": "ipython3",
   "version": "3.13.5"
  }
 },
 "nbformat": 4,
 "nbformat_minor": 5
}
