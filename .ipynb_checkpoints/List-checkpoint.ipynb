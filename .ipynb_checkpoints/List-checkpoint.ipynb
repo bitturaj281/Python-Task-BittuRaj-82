{
 "cells": [
  {
   "cell_type": "code",
   "execution_count": 3,
   "id": "d5ac45d5-1b56-4530-b4df-a3e7dad0b986",
   "metadata": {},
   "outputs": [
    {
     "name": "stdout",
     "output_type": "stream",
     "text": [
      "5\n"
     ]
    }
   ],
   "source": [
    "\n",
    "\n",
    "thislist = [\"apple\", \"banana\", \"cherry\", \"apple\", \"cherry\"]\n",
    "# print(thislist)\n",
    "print(len(thislist))"
   ]
  },
  {
   "cell_type": "code",
   "execution_count": 6,
   "id": "61fd5a79-b626-4ced-8234-bd65b30838af",
   "metadata": {},
   "outputs": [
    {
     "name": "stdout",
     "output_type": "stream",
     "text": [
      "['apple', 35, True, 'cherry']\n",
      "<class 'list'>\n"
     ]
    }
   ],
   "source": [
    "list1 = [\"apple\",35 ,True, \"cherry\"]\n",
    "print(list1)\n",
    "print(type(list1))"
   ]
  },
  {
   "cell_type": "code",
   "execution_count": 10,
   "id": "7c50cd6a-71e7-4099-bd66-cb9815ea22dc",
   "metadata": {},
   "outputs": [
    {
     "name": "stdout",
     "output_type": "stream",
     "text": [
      "apple\n"
     ]
    }
   ],
   "source": [
    "this_list = ((\"apple\", \"banana\", \"cherry\", \"apple\", \"cherry\"))\n",
    "print(this_list[-2])"
   ]
  },
  {
   "cell_type": "code",
   "execution_count": 12,
   "id": "2bdd2633-45d5-4f11-b323-1f629272707a",
   "metadata": {},
   "outputs": [
    {
     "name": "stdout",
     "output_type": "stream",
     "text": [
      "['cherry', 'orange', 'kiwi']\n"
     ]
    }
   ],
   "source": [
    "_thislist = [\"apple\", \"banana\", \"cherry\", \"orange\", \"kiwi\", \"melon\", \"mango\"]\n",
    "print(_thislist[2:5])"
   ]
  },
  {
   "cell_type": "code",
   "execution_count": 13,
   "id": "8fcee2bd-2198-40a8-a9e5-04f54c0f27fa",
   "metadata": {},
   "outputs": [
    {
     "name": "stdout",
     "output_type": "stream",
     "text": [
      "['apple', 'banana', 'cherry', 'orange']\n"
     ]
    }
   ],
   "source": [
    "thislist = [\"apple\", \"banana\", \"cherry\", \"orange\", \"kiwi\", \"melon\", \"mango\"]\n",
    "print(thislist[:4])\n"
   ]
  },
  {
   "cell_type": "code",
   "execution_count": 14,
   "id": "22c66c71-6048-466b-9a55-d208a9be471e",
   "metadata": {},
   "outputs": [
    {
     "name": "stdout",
     "output_type": "stream",
     "text": [
      "['cherry', 'orange', 'kiwi', 'melon', 'mango']\n"
     ]
    }
   ],
   "source": [
    "thislist = [\"apple\", \"banana\", \"cherry\", \"orange\", \"kiwi\", \"melon\", \"mango\"]\n",
    "print(thislist[2:])"
   ]
  },
  {
   "cell_type": "code",
   "execution_count": 15,
   "id": "3a7d0f1e-3dd6-44d7-a898-4545250d48fc",
   "metadata": {},
   "outputs": [
    {
     "name": "stdout",
     "output_type": "stream",
     "text": [
      "['orange', 'kiwi', 'melon']\n"
     ]
    }
   ],
   "source": [
    "thislist = [\"apple\", \"banana\", \"cherry\", \"orange\", \"kiwi\", \"melon\", \"mango\"]\n",
    "print(thislist[-4:-1])"
   ]
  },
  {
   "cell_type": "code",
   "execution_count": 19,
   "id": "e2ba873a-0069-4429-9fb0-14af2effa4ce",
   "metadata": {},
   "outputs": [
    {
     "name": "stdout",
     "output_type": "stream",
     "text": [
      "Yes, 'apple' is in the fruits list\n"
     ]
    }
   ],
   "source": [
    "thislist = [\"apple\", \"banana\", \"cherry\"]\n",
    "if \"apple\" in thislist:\n",
    "  print(\"Yes, 'apple' is in the fruits list\")\n",
    "else:\n",
    "    print(\"Not present\")"
   ]
  },
  {
   "cell_type": "code",
   "execution_count": 21,
   "id": "b1dabb63-3b47-43ee-97ac-fcaf580495d6",
   "metadata": {},
   "outputs": [
    {
     "name": "stdout",
     "output_type": "stream",
     "text": [
      "['apple', 'blackcurrant', 'cherry']\n"
     ]
    }
   ],
   "source": [
    "thislist = [\"apple\", \"banana\", \"cherry\"]\n",
    "thislist[1] = \"blackcurrant\"\n",
    "print(thislist)"
   ]
  },
  {
   "cell_type": "code",
   "execution_count": 22,
   "id": "c98dbb81-b9fa-41eb-9659-547f3f59678b",
   "metadata": {},
   "outputs": [
    {
     "name": "stdout",
     "output_type": "stream",
     "text": [
      "['apple', 'blackcurrant', 'watermelon', 'orange', 'kiwi', 'mango']\n"
     ]
    }
   ],
   "source": [
    "thislist = [\"apple\", \"banana\", \"cherry\", \"orange\", \"kiwi\", \"mango\"]\n",
    "thislist[1:3] = [\"blackcurrant\", \"watermelon\"]\n",
    "print(thislist)"
   ]
  },
  {
   "cell_type": "code",
   "execution_count": 23,
   "id": "84ee5208-fa6f-4843-884a-a7dd38a0ca6f",
   "metadata": {},
   "outputs": [
    {
     "name": "stdout",
     "output_type": "stream",
     "text": [
      "['apple', 'blackcurrant', 'watermelon', 'cherry']\n"
     ]
    }
   ],
   "source": [
    "thislist = [\"apple\", \"banana\", \"cherry\"]\n",
    "thislist[1:2] = [\"blackcurrant\", \"watermelon\"]\n",
    "print(thislist)"
   ]
  },
  {
   "cell_type": "code",
   "execution_count": 24,
   "id": "0501c8ad-ec18-4b1b-9e01-8b9c2a096486",
   "metadata": {},
   "outputs": [
    {
     "name": "stdout",
     "output_type": "stream",
     "text": [
      "['apple', 'watermelon']\n"
     ]
    }
   ],
   "source": [
    "thislist = [\"apple\", \"banana\", \"cherry\"]\n",
    "thislist[1:3] = [\"watermelon\"]\n",
    "print(thislist)"
   ]
  },
  {
   "cell_type": "code",
   "execution_count": 25,
   "id": "1d0c669c-e826-4f0c-9456-c1ce6cadeef6",
   "metadata": {},
   "outputs": [
    {
     "name": "stdout",
     "output_type": "stream",
     "text": [
      "['apple', 'banana', 'watermelon', 'cherry']\n"
     ]
    }
   ],
   "source": [
    "thislist = [\"apple\", \"banana\", \"cherry\"]\n",
    "thislist.insert(2, \"watermelon\")\n",
    "print(thislist)"
   ]
  },
  {
   "cell_type": "code",
   "execution_count": 27,
   "id": "f8d4cb40-5341-4036-815c-7c35e8dca77f",
   "metadata": {},
   "outputs": [
    {
     "name": "stdout",
     "output_type": "stream",
     "text": [
      "['apple', 'banana', 'cherry', 'grapes']\n"
     ]
    }
   ],
   "source": [
    "thislist = [\"apple\", \"banana\", \"cherry\"]\n",
    "thislist.append(\"grapes\")\n",
    "print(thislist)"
   ]
  },
  {
   "cell_type": "code",
   "execution_count": 29,
   "id": "8e8f0c8d-a199-480a-a771-7e873db6c615",
   "metadata": {},
   "outputs": [
    {
     "name": "stdout",
     "output_type": "stream",
     "text": [
      "['apple', 'orange', 'banana', 'cherry']\n"
     ]
    }
   ],
   "source": [
    "thislist = [\"apple\", \"banana\", \"cherry\"]\n",
    "thislist.insert(1,\"orange\")\n",
    "print(thislist)"
   ]
  },
  {
   "cell_type": "code",
   "execution_count": 31,
   "id": "c605efaf-eb3c-4e1f-9a61-e6092aedc6ac",
   "metadata": {},
   "outputs": [
    {
     "name": "stdout",
     "output_type": "stream",
     "text": [
      "['apple', 'banana', 'cherry', 'apple', 'banana', 'cherry', 'apple', 'cherry']\n"
     ]
    }
   ],
   "source": [
    "thislist = [\"apple\", \"banana\", \"cherry\"]\n",
    "tropical = [\"mango\", \"pineapple\", \"papaya\"]\n",
    "this_list = ((\"apple\", \"banana\", \"cherry\", \"apple\", \"cherry\"))\n",
    "thislist.extend(this_list)\n",
    "print(thislist)\n"
   ]
  },
  {
   "cell_type": "code",
   "execution_count": 32,
   "id": "9c9a142b-62bb-43e1-86c0-9dbec0cf153f",
   "metadata": {},
   "outputs": [
    {
     "name": "stdout",
     "output_type": "stream",
     "text": [
      "['apple', 'banana', 'cherry', 'kiwi', 'orange']\n"
     ]
    }
   ],
   "source": [
    "thislist = [\"apple\", \"banana\", \"cherry\"]\n",
    "thistuple = (\"kiwi\", \"orange\")\n",
    "thislist.extend(thistuple)\n",
    "print(thislist)"
   ]
  },
  {
   "cell_type": "code",
   "execution_count": 33,
   "id": "e5cefb90-058d-46a2-beab-a7868c253350",
   "metadata": {},
   "outputs": [
    {
     "name": "stdout",
     "output_type": "stream",
     "text": [
      "['apple', 'cherry']\n"
     ]
    }
   ],
   "source": [
    "thislist = [\"apple\", \"banana\", \"cherry\"]\n",
    "thislist.remove(\"banana\")\n",
    "print(thislist)"
   ]
  },
  {
   "cell_type": "code",
   "execution_count": 34,
   "id": "cdafd224-c5d0-44cd-a4e1-d1e99007eba6",
   "metadata": {},
   "outputs": [
    {
     "name": "stdout",
     "output_type": "stream",
     "text": [
      "['apple', 'cherry']\n"
     ]
    }
   ],
   "source": [
    "thislist = [\"apple\", \"banana\", \"cherry\"]\n",
    "thislist.pop(1)\n",
    "print(thislist)"
   ]
  },
  {
   "cell_type": "code",
   "execution_count": 35,
   "id": "bec48740-5a18-489b-bace-ccfd139061e4",
   "metadata": {},
   "outputs": [
    {
     "name": "stdout",
     "output_type": "stream",
     "text": [
      "['apple', 'banana']\n"
     ]
    }
   ],
   "source": [
    "thislist = [\"apple\", \"banana\", \"cherry\"]\n",
    "thislist.pop()\n",
    "print(thislist)"
   ]
  },
  {
   "cell_type": "code",
   "execution_count": 36,
   "id": "f3daa2a4-e5e1-4257-b502-97a491ccab15",
   "metadata": {},
   "outputs": [
    {
     "name": "stdout",
     "output_type": "stream",
     "text": [
      "['banana', 'cherry']\n"
     ]
    }
   ],
   "source": [
    "thislist = [\"apple\", \"banana\", \"cherry\"]\n",
    "del thislist[0]\n",
    "print(thislist)"
   ]
  },
  {
   "cell_type": "code",
   "execution_count": 42,
   "id": "1b1ad379-f520-47c2-9c1f-07c8aa1c566d",
   "metadata": {},
   "outputs": [
    {
     "name": "stdout",
     "output_type": "stream",
     "text": [
      "['apple', 'banana', 'cherry']\n"
     ]
    }
   ],
   "source": [
    "thislist = [\"apple\", \"banana\", \"cherry\"]\n",
    "# del thislist?+\n",
    "print(thislist)"
   ]
  },
  {
   "cell_type": "code",
   "execution_count": 43,
   "id": "1d1742c0-a481-42ad-b619-19ea5165e2b1",
   "metadata": {},
   "outputs": [
    {
     "name": "stdout",
     "output_type": "stream",
     "text": [
      "[]\n"
     ]
    }
   ],
   "source": [
    "thislist = [\"apple\", \"banana\", \"cherry\"]\n",
    "thislist.clear()\n",
    "print(thislist)"
   ]
  },
  {
   "cell_type": "code",
   "execution_count": 50,
   "id": "d1b55f51-4b62-41da-80f7-5e609fa0dc17",
   "metadata": {},
   "outputs": [
    {
     "name": "stdout",
     "output_type": "stream",
     "text": [
      "apple\n",
      "banana\n",
      "cherry\n"
     ]
    }
   ],
   "source": [
    "thislist = [\"apple\", \"banana\", \"cherry\"]\n",
    "for x in thislist:\n",
    "  print(x)\n"
   ]
  },
  {
   "cell_type": "code",
   "execution_count": 52,
   "id": "574d44c8-5790-4362-8329-8038af905b84",
   "metadata": {},
   "outputs": [
    {
     "name": "stdout",
     "output_type": "stream",
     "text": [
      "apple\n",
      "banana\n",
      "cherry\n"
     ]
    }
   ],
   "source": [
    "thislist = [\"apple\", \"banana\", \"cherry\"]\n",
    "for i in range(len(thislist)):\n",
    "  print(thislist[i])"
   ]
  },
  {
   "cell_type": "code",
   "execution_count": 1,
   "id": "a2d25b51-0f5e-49dd-9973-34299118d475",
   "metadata": {},
   "outputs": [
    {
     "name": "stdout",
     "output_type": "stream",
     "text": [
      "apple\n",
      "banana\n",
      "cherry\n"
     ]
    }
   ],
   "source": [
    "thislist = [\"apple\", \"banana\", \"cherry\"]\n",
    "i = 0\n",
    "while i < len(thislist):\n",
    "  print(thislist[i])\n",
    "  i += 1"
   ]
  },
  {
   "cell_type": "code",
   "execution_count": 2,
   "id": "0b9228b3-7f42-43c6-bbc6-e08f022140df",
   "metadata": {},
   "outputs": [
    {
     "name": "stdout",
     "output_type": "stream",
     "text": [
      "apple\n",
      "banana\n",
      "cherry\n"
     ]
    },
    {
     "data": {
      "text/plain": [
       "[None, None, None]"
      ]
     },
     "execution_count": 2,
     "metadata": {},
     "output_type": "execute_result"
    }
   ],
   "source": [
    "thislist = [\"apple\", \"banana\", \"cherry\"]\n",
    "[print(x) for x in thislist]"
   ]
  },
  {
   "cell_type": "code",
   "execution_count": 3,
   "id": "9bbbf8b8-0fd2-4f09-9d13-c64e6534b69f",
   "metadata": {},
   "outputs": [
    {
     "name": "stdout",
     "output_type": "stream",
     "text": [
      "['apple', 'banana', 'mango']\n"
     ]
    }
   ],
   "source": [
    "fruits = [\"apple\", \"banana\", \"cherry\", \"kiwi\", \"mango\"]\n",
    "newlist = []\n",
    "\n",
    "for x in fruits:\n",
    "  if \"a\" in x:\n",
    "    newlist.append(x)\n",
    "\n",
    "print(newlist)"
   ]
  },
  {
   "cell_type": "code",
   "execution_count": 5,
   "id": "1adddd12-15f7-4273-81a9-59f0324de65f",
   "metadata": {},
   "outputs": [
    {
     "name": "stdout",
     "output_type": "stream",
     "text": [
      "['banana', 'cherry', 'kiwi', 'mango']\n"
     ]
    }
   ],
   "source": [
    "fruits = [\"apple\", \"banana\", \"cherry\", \"kiwi\", \"mango\"]\n",
    "\n",
    "# newlist = [x for x in fruits if \"a\" in x]\n",
    "newlist = [x for x in fruits if x != \"apple\"]\n",
    "\n",
    "print(newlist)"
   ]
  },
  {
   "cell_type": "code",
   "execution_count": 5,
   "id": "60f72a06-e945-443b-89dc-745d05e03d97",
   "metadata": {},
   "outputs": [
    {
     "name": "stdout",
     "output_type": "stream",
     "text": [
      "['banana', 'cherry', 'kiwi', 'mango']\n"
     ]
    }
   ],
   "source": [
    "fruits = [\"apple\", \"banana\", \"cherry\", \"kiwi\", \"mango\"]\n",
    "\n",
    "# newlist = [x for x in fruits if \"a\" in x]\n",
    "newlist = [x for x in fruits if x != \"apple\"]\n",
    "\n",
    "print(newlist)"
   ]
  },
  {
   "cell_type": "code",
   "execution_count": null,
   "id": "770b3652-bddb-4858-ae4c-ba6b2c7a5427",
   "metadata": {},
   "outputs": [],
   "source": [
    "# Menu-Driven Program for List Operations\n",
    "\n",
    "my_list = []       # initial empty list\n",
    "data_type = None   # store fixed type (int/float/str)\n",
    "\n",
    "while True:\n",
    "    print(\"\\nMenu:\")\n",
    "    print(\"1. Insert at the beginning\")\n",
    "    print(\"2. Insert at the end\")\n",
    "    print(\"3. Insert at a specific index\")\n",
    "    print(\"4. Remove from the beginning\")\n",
    "    print(\"5. Remove from the end\")\n",
    "    print(\"6. Remove at a specific index\")\n",
    "    print(\"7. Update the first element\")\n",
    "    print(\"8. Update the last element\")\n",
    "    print(\"9. Update at a specific index\")\n",
    "    print(\"10. Show list data\")\n",
    "    print(\"0. Exit\")\n",
    "\n",
    "    choice = input(\"Enter your choice: \")\n",
    "\n",
    "    if choice == \"0\":\n",
    "        print(\"Exiting program...\")\n",
    "        break\n",
    "\n",
    "    elif choice in {\"1\", \"2\", \"3\", \"7\", \"8\", \"9\"}:\n",
    "        val = input(\"Enter value: \")\n",
    "\n",
    "        # Detect type if first insert\n",
    "        if not my_list:\n",
    "            if val.isdigit():\n",
    "                val = int(val)\n",
    "                data_type = int\n",
    "            else:\n",
    "                try:\n",
    "                    val = float(val)\n",
    "                    data_type = float\n",
    "                except ValueError:\n",
    "                    data_type = str\n",
    "            # Insert according to option\n",
    "            if choice == \"1\":  \n",
    "                my_list.insert(0, val)\n",
    "            elif choice == \"2\":  \n",
    "                my_list.append(val)\n",
    "            elif choice == \"3\":  \n",
    "                idx = int(input(\"Enter index: \"))\n",
    "                if 0 <= idx <= len(my_list):\n",
    "                    my_list.insert(idx, val)\n",
    "                else:\n",
    "                    print(\"Invalid index\")\n",
    "            else:  # for updates, since list empty, not possible\n",
    "                print(\"List is empty, cannot update yet!\")\n",
    "            continue\n",
    "\n",
    "        # Convert value to required type\n",
    "        try:\n",
    "            val = data_type(val)\n",
    "        except ValueError:\n",
    "            print(f\"Only {data_type.__name__} allowed!\")\n",
    "            continue\n",
    "\n",
    "        # Perform operations\n",
    "        if choice == \"1\":  \n",
    "            my_list.insert(0, val)\n",
    "        elif choice == \"2\":  \n",
    "            my_list.append(val)\n",
    "        elif choice == \"3\":  \n",
    "            idx = int(input(\"Enter index: \"))\n",
    "            if 0 <= idx <= len(my_list):\n",
    "                my_list.insert(idx, val)\n",
    "            else:\n",
    "                print(\"Invalid index\")\n",
    "        elif choice == \"7\":  \n",
    "            my_list[0] = val\n",
    "        elif choice == \"8\":  \n",
    "            my_list[-1] = val\n",
    "        elif choice == \"9\":  \n",
    "            idx = int(input(\"Enter index: \"))\n",
    "            if 0 <= idx < len(my_list):\n",
    "                my_list[idx] = val\n",
    "            else:\n",
    "                print(\"Invalid index\")\n",
    "\n",
    "    elif choice == \"4\":  \n",
    "        if my_list:\n",
    "            my_list.pop(0)\n",
    "        else:\n",
    "            print(\"List is empty\")\n",
    "\n",
    "    elif choice == \"5\":  \n",
    "        if my_list:\n",
    "            my_list.pop()\n",
    "        else:\n",
    "            print(\"List is empty\")\n",
    "\n",
    "    elif choice == \"6\":  \n",
    "        if my_list:\n",
    "            idx = int(input(\"Enter index: \"))\n",
    "            if 0 <= idx < len(my_list):\n",
    "                my_list.pop(idx)\n",
    "            else:\n",
    "                print(\"Invalid index\")\n",
    "        else:\n",
    "            print(\"List is empty\")\n",
    "\n",
    "    elif choice == \"10\":  \n",
    "        print(\"Current list:\", my_list)\n",
    "\n",
    "    else:\n",
    "        print(\"Invalid choice. Try again!\")\n"
   ]
  },
  {
   "cell_type": "code",
   "execution_count": 5,
   "id": "0279b187-417e-44ce-9431-a744e9f82046",
   "metadata": {},
   "outputs": [
    {
     "name": "stdout",
     "output_type": "stream",
     "text": [
      "['apple', 'banana', 'cherry', 'kiwi', 'mango']\n"
     ]
    }
   ],
   "source": [
    "fruits = [\"apple\", \"banana\", \"cherry\", \"kiwi\", \"mango\"]\n",
    "newlist = [x for x in fruits]\n",
    "print(newlist)"
   ]
  },
  {
   "cell_type": "code",
   "execution_count": 7,
   "id": "7039c618-c5ae-4eb4-bd78-266808769e27",
   "metadata": {},
   "outputs": [
    {
     "name": "stdout",
     "output_type": "stream",
     "text": [
      "[0, 1, 2, 3, 4]\n"
     ]
    }
   ],
   "source": [
    "newlist = [x for x in range(10) if x<5]\n",
    "\n",
    "print(newlist)"
   ]
  },
  {
   "cell_type": "code",
   "execution_count": 20,
   "id": "57dc4191-a8c2-46f8-a7be-b41f3654d548",
   "metadata": {},
   "outputs": [
    {
     "name": "stdout",
     "output_type": "stream",
     "text": [
      "['apple', 'orange', 'cherry', 'kiwi', 'mango']\n"
     ]
    }
   ],
   "source": [
    "fruits = [\"apple\", \"banana\", \"cherry\", \"kiwi\", \"mango\"]\n",
    "\n",
    "# newlist = [x.upper() for x in fruits]\n",
    "# newlist = ['hello' for x in fruits]\n",
    "newlist = [x if x != \"banana\" else \"orange\" for x in fruits]\n",
    "\n",
    "print(newlist)"
   ]
  },
  {
   "cell_type": "code",
   "execution_count": 23,
   "id": "4565cedb-3610-4b7f-ba55-f9c6457da488",
   "metadata": {},
   "outputs": [
    {
     "name": "stdout",
     "output_type": "stream",
     "text": [
      "['pineapple', 'orange', 'mango', 'kiwi', 'banana']\n"
     ]
    }
   ],
   "source": [
    "thislist = [\"orange\", \"mango\", \"kiwi\", \"pineapple\", \"banana\"]\n",
    "# thislist.sort()\n",
    "thislist.sort(reverse=True)\n",
    "print(thislist)"
   ]
  },
  {
   "cell_type": "code",
   "execution_count": 25,
   "id": "f144e3aa-07b4-498a-a949-86f74e9492c9",
   "metadata": {},
   "outputs": [
    {
     "name": "stdout",
     "output_type": "stream",
     "text": [
      "[100, 82, 65, 50, 23]\n"
     ]
    }
   ],
   "source": [
    "thislist = [100, 50, 65, 82, 23]\n",
    "# thislist.sort()\n",
    "thislist.sort(reverse=True)\n",
    "print(thislist)"
   ]
  },
  {
   "cell_type": "code",
   "execution_count": 26,
   "id": "7d86047e-ab81-4b62-812a-8c1ea03788de",
   "metadata": {},
   "outputs": [
    {
     "name": "stdout",
     "output_type": "stream",
     "text": [
      "['apple', 'banana', 'cherry']\n"
     ]
    }
   ],
   "source": [
    "thislist = [\"apple\", \"banana\", \"cherry\"]\n",
    "mylist = thislist.copy()\n",
    "print(mylist)"
   ]
  },
  {
   "cell_type": "code",
   "execution_count": 27,
   "id": "9bb593f7-c0dc-4961-b381-72557ecdf5d9",
   "metadata": {},
   "outputs": [
    {
     "name": "stdout",
     "output_type": "stream",
     "text": [
      "['apple', 'banana', 'cherry']\n"
     ]
    }
   ],
   "source": [
    "thislist = [\"apple\", \"banana\", \"cherry\"]\n",
    "mylist = list(thislist)\n",
    "print(mylist)"
   ]
  },
  {
   "cell_type": "code",
   "execution_count": 31,
   "id": "0d8ba8a2-0be5-4578-97e6-bedb37b16b9e",
   "metadata": {},
   "outputs": [
    {
     "name": "stdout",
     "output_type": "stream",
     "text": [
      "['apple', 'banana', 'cherry']\n"
     ]
    }
   ],
   "source": [
    "thislist = [\"apple\", \"banana\", \"cherry\"]\n",
    "mylist = thislist[:]\n",
    "print(mylist)"
   ]
  },
  {
   "cell_type": "code",
   "execution_count": 32,
   "id": "9571b585-a521-41ce-bd0e-86ce2d874604",
   "metadata": {},
   "outputs": [
    {
     "name": "stdout",
     "output_type": "stream",
     "text": [
      "['a', 'b', 'c', 1, 2, 3]\n"
     ]
    }
   ],
   "source": [
    "list1 = [\"a\", \"b\", \"c\"]\n",
    "list2 = [1, 2, 3]\n",
    "\n",
    "list3 = list1 + list2\n",
    "print(list3)"
   ]
  },
  {
   "cell_type": "code",
   "execution_count": 33,
   "id": "7f3db398-cdf5-43bc-ba0e-6db3e75fd3a6",
   "metadata": {},
   "outputs": [
    {
     "name": "stdout",
     "output_type": "stream",
     "text": [
      "['a', 'b', 'c', 1, 2, 3]\n"
     ]
    }
   ],
   "source": [
    "list1 = [\"a\", \"b\" , \"c\"]\n",
    "list2 = [1, 2, 3]\n",
    "\n",
    "for x in list2:\n",
    "  list1.append(x)\n",
    "\n",
    "print(list1)"
   ]
  },
  {
   "cell_type": "code",
   "execution_count": 34,
   "id": "75620613-acbb-4f27-85ec-b243567a8bbd",
   "metadata": {},
   "outputs": [
    {
     "name": "stdout",
     "output_type": "stream",
     "text": [
      "['a', 'b', 'c', 1, 2, 3]\n"
     ]
    }
   ],
   "source": [
    "list1 = [\"a\", \"b\" , \"c\"]\n",
    "list2 = [1, 2, 3]\n",
    "\n",
    "list1.extend(list2)\n",
    "print(list1)"
   ]
  },
  {
   "cell_type": "code",
   "execution_count": 35,
   "id": "8d2d6d6b-ae17-436c-84c3-2b84fa995e61",
   "metadata": {},
   "outputs": [
    {
     "name": "stdout",
     "output_type": "stream",
     "text": [
      "[12, 23, 45, 67, 89, 99]\n"
     ]
    }
   ],
   "source": [
    "# List methods\n",
    "list1 = [12,23,45,67,89]\n",
    "\n",
    "list1.append(99)\n",
    "print(list1)"
   ]
  },
  {
   "cell_type": "code",
   "execution_count": 39,
   "id": "670369bb-0e2b-4dd3-bd65-6cdef6c5c78f",
   "metadata": {},
   "outputs": [
    {
     "name": "stdout",
     "output_type": "stream",
     "text": [
      "[]\n"
     ]
    }
   ],
   "source": [
    "list1 = [12,23,45,67,89]\n",
    "list1.clear()\n",
    "print(list1)"
   ]
  },
  {
   "cell_type": "code",
   "execution_count": 40,
   "id": "c55fa09a-cf10-4fe8-aeb3-f9fda18a3988",
   "metadata": {},
   "outputs": [
    {
     "name": "stdout",
     "output_type": "stream",
     "text": [
      "[12, 23, 45, 67, 89]\n"
     ]
    }
   ],
   "source": [
    "list1 = [12,23,45,67,89]\n",
    "list2 = list1.copy()\n",
    "print(list2)"
   ]
  },
  {
   "cell_type": "code",
   "execution_count": 41,
   "id": "e9009254-90ac-4a35-a37a-1b318b167c11",
   "metadata": {},
   "outputs": [
    {
     "name": "stdout",
     "output_type": "stream",
     "text": [
      "[12, 23, 45, 67, 89]\n"
     ]
    }
   ],
   "source": [
    "list1 = [12,23,45,67,89]\n",
    "list2 = list(list1)\n",
    "print(list2)"
   ]
  },
  {
   "cell_type": "code",
   "execution_count": 43,
   "id": "2d06dd22-6218-4d8d-adde-5fdb3a2a30f0",
   "metadata": {},
   "outputs": [
    {
     "name": "stdout",
     "output_type": "stream",
     "text": [
      "[12, 23, 45, 67, 89]\n"
     ]
    }
   ],
   "source": [
    "list1 = [12,23,45,67,89]\n",
    "list2 = list1[:]\n",
    "print(list2)"
   ]
  },
  {
   "cell_type": "code",
   "execution_count": 54,
   "id": "56e11ed3-a620-453a-8b83-afbf35e708a6",
   "metadata": {},
   "outputs": [
    {
     "name": "stdout",
     "output_type": "stream",
     "text": [
      "4\n"
     ]
    }
   ],
   "source": [
    "list1 = [12,23,45,67,89,12,12,12]\n",
    "x = list1.count(12)\n",
    "print(x)"
   ]
  },
  {
   "cell_type": "code",
   "execution_count": 59,
   "id": "d2646650-0be8-491c-8e10-63de574cd459",
   "metadata": {},
   "outputs": [
    {
     "name": "stdout",
     "output_type": "stream",
     "text": [
      "[12, 23, 45, 67, 89, 'banana', 'banana', 'grapes', 'banana', 'orange']\n"
     ]
    }
   ],
   "source": [
    "list1 = [12,23,45,67,89]\n",
    "list2 = [\"banana\",\"banana\", \"grapes\", \"banana\", \"orange\"]\n",
    "list1.extend(list2)\n",
    "print(list1)"
   ]
  },
  {
   "cell_type": "code",
   "execution_count": 77,
   "id": "d79cbfd9-1984-40c1-b3bb-c86103524395",
   "metadata": {},
   "outputs": [
    {
     "name": "stdout",
     "output_type": "stream",
     "text": [
      "3\n"
     ]
    }
   ],
   "source": [
    "list1 = [12,23,45,67,89,12,12,12]\n",
    "x = list1.index(67)\n",
    "print(x)"
   ]
  },
  {
   "cell_type": "code",
   "execution_count": 70,
   "id": "6c13c5ce-a347-4757-ba4c-354b91a489db",
   "metadata": {},
   "outputs": [
    {
     "name": "stdout",
     "output_type": "stream",
     "text": [
      "[12, 14, 23, 45, 67, 89, 12, 12, 12]\n"
     ]
    }
   ],
   "source": [
    "list1 = [12,23,45,67,89,12,12,12]\n",
    "list1.insert(1,14)\n",
    "print(list1)"
   ]
  },
  {
   "cell_type": "code",
   "execution_count": 73,
   "id": "f9d1f758-ffec-411f-85b2-3414a7fc391d",
   "metadata": {},
   "outputs": [
    {
     "name": "stdout",
     "output_type": "stream",
     "text": [
      "[12, 23, 45, 67, 89, 12, 12]\n"
     ]
    }
   ],
   "source": [
    "list1 = [12,23,45,67,89,12,12,12]\n",
    "# x = list1.pop(1)\n",
    "# print(x)\n",
    "list1.pop(6)\n",
    "print(list1)"
   ]
  },
  {
   "cell_type": "code",
   "execution_count": 76,
   "id": "093cb7f5-2314-4969-8cc5-e2f632327536",
   "metadata": {},
   "outputs": [
    {
     "name": "stdout",
     "output_type": "stream",
     "text": [
      "[12, 23, 45, 67, 12, 12, 12]\n"
     ]
    }
   ],
   "source": [
    "list1 = [12,23,45,67,89,12,12,12]\n",
    "list1.remove(89)\n",
    "print(list1)"
   ]
  },
  {
   "cell_type": "code",
   "execution_count": 84,
   "id": "e0e2c82f-6bd2-49a9-9b8d-e80e5411ab7a",
   "metadata": {},
   "outputs": [
    {
     "name": "stdout",
     "output_type": "stream",
     "text": [
      "[89, 67, 45, 23, 12, 12, 12, 12]\n"
     ]
    }
   ],
   "source": [
    "list1 = [12,23,45,67,89,12,12,12]\n",
    "list1.sort(reverse = True)\n",
    "print(list1)"
   ]
  },
  {
   "cell_type": "code",
   "execution_count": 93,
   "id": "eaab8694-e62b-4f8f-b1c4-7c28926345ba",
   "metadata": {},
   "outputs": [
    {
     "name": "stdout",
     "output_type": "stream",
     "text": [
      "[12, 12, 12, 89, 67, 45, 23, 12]\n"
     ]
    }
   ],
   "source": [
    "list1 = [12,23,45,67,89,12,12,12]\n",
    "\n",
    "list1.reverse()\n",
    "\n",
    "print(list1)"
   ]
  },
  {
   "cell_type": "code",
   "execution_count": 4,
   "id": "fb32e105-7813-4a43-a628-6b889d18dae9",
   "metadata": {},
   "outputs": [
    {
     "name": "stdout",
     "output_type": "stream",
     "text": [
      "['apple', 'orange', 'banana']\n"
     ]
    }
   ],
   "source": [
    "fruits = [\"apple\", \"banana\"]\n",
    "# fruits.append(\"cherry\")     # add at end\n",
    "fruits.insert(1, \"orange\")  # add at index\n",
    "print(fruits)\n"
   ]
  },
  {
   "cell_type": "code",
   "execution_count": null,
   "id": "eca959bb-7398-434e-923a-b4e20e009e00",
   "metadata": {},
   "outputs": [],
   "source": []
  }
 ],
 "metadata": {
  "kernelspec": {
   "display_name": "Python 3 (ipykernel)",
   "language": "python",
   "name": "python3"
  },
  "language_info": {
   "codemirror_mode": {
    "name": "ipython",
    "version": 3
   },
   "file_extension": ".py",
   "mimetype": "text/x-python",
   "name": "python",
   "nbconvert_exporter": "python",
   "pygments_lexer": "ipython3",
   "version": "3.13.5"
  }
 },
 "nbformat": 4,
 "nbformat_minor": 5
}
