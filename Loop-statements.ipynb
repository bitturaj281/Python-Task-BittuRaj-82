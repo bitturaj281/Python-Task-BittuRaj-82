{
 "cells": [
  {
   "cell_type": "code",
   "execution_count": 13,
   "id": "6be25c7b-7e7a-42b4-be30-3505066957da",
   "metadata": {},
   "outputs": [
    {
     "name": "stdout",
     "output_type": "stream",
     "text": [
      "r\n",
      "a\n",
      "j\n",
      "1\n",
      "2\n",
      "3\n"
     ]
    }
   ],
   "source": [
    "# What is loop ?\n",
    "# Types of loop\n",
    "# 1.for loop: range based loop.\n",
    "# 2.while loop: conditioned based loop\n",
    "\n",
    "user_name = \"raj_!#123@\"\n",
    "\n",
    "for e in user_name:\n",
    "    if e==\"_\" or e==\"!\" or e==\"@\" or e==\"#\":\n",
    "        continue\n",
    "    print(e)"
   ]
  },
  {
   "cell_type": "code",
   "execution_count": 34,
   "id": "c7aba89e-f0e9-410b-a44b-f65fd771ff5f",
   "metadata": {},
   "outputs": [
    {
     "name": "stdout",
     "output_type": "stream",
     "text": [
      "10\n",
      "12\n",
      "14\n",
      "16\n",
      "18\n",
      "20\n",
      "22\n",
      "24\n"
     ]
    }
   ],
   "source": [
    "# range(start: 0, stop: -1, step: 1)\n",
    "for i in range(10, 25):\n",
    "    if i%2==0:\n",
    "        print(i)"
   ]
  },
  {
   "cell_type": "code",
   "execution_count": 35,
   "id": "34401182-1ee5-4ec3-af64-eb8ab6e7c4f7",
   "metadata": {},
   "outputs": [],
   "source": [
    "start = 5\n",
    "end = 1\n",
    "s = 0\n",
    "if start < end:\n",
    "    end = start\n",
    "    for e in range(start, end+1):\n",
    "        s=s+e\n",
    "        print(s)"
   ]
  },
  {
   "cell_type": "code",
   "execution_count": null,
   "id": "7082cbda-4449-4c61-8941-44fec424f5f8",
   "metadata": {},
   "outputs": [],
   "source": [
    "for e in range(1,11):\n",
    "    print(f\"2 x {e} = {2*e}\")\n",
    "\n",
    "a =\"Hello\"\n",
    "\n",
    "for i in a:\n",
    "    print(i)"
   ]
  },
  {
   "cell_type": "code",
   "execution_count": 3,
   "id": "a4993365-2c3f-4594-8888-54dd319fc223",
   "metadata": {},
   "outputs": [
    {
     "name": "stdout",
     "output_type": "stream",
     "text": [
      "rivjar\n"
     ]
    }
   ],
   "source": [
    "name=\"rajvir\"\n",
    "rev=\"\"\n",
    "for e in name:\n",
    "    rev=e+rev\n",
    "print(rev)"
   ]
  },
  {
   "cell_type": "code",
   "execution_count": 18,
   "id": "c859b974-bbd6-4911-8f88-aadeda0163d5",
   "metadata": {},
   "outputs": [
    {
     "name": "stdin",
     "output_type": "stream",
     "text": [
      "Enter a statement:  hello world\n"
     ]
    },
    {
     "name": "stdout",
     "output_type": "stream",
     "text": [
      "e\n",
      "o\n",
      "o\n"
     ]
    }
   ],
   "source": [
    "#wap to print only vowel from a give string by user.\n",
    "\n",
    "data = input(\"Enter a statement: \")\n",
    " \n",
    "for i in data.lower():\n",
    "    if i in \"aeiou\":\n",
    "        print(i)"
   ]
  },
  {
   "cell_type": "code",
   "execution_count": 25,
   "id": "69ec2a7b-59ce-4247-89f6-d91b358077ec",
   "metadata": {},
   "outputs": [
    {
     "name": "stdout",
     "output_type": "stream",
     "text": [
      "Outer loop- 1\n",
      "Inner loop- 1\n",
      "Very inner loop- 1\n",
      "Last loop- 1\n",
      "Last loop- 2\n",
      "Very inner loop- 2\n",
      "Last loop- 1\n",
      "Last loop- 2\n",
      "Very inner loop- 3\n",
      "Last loop- 1\n",
      "Last loop- 2\n",
      "Very inner loop- 4\n",
      "Last loop- 1\n",
      "Last loop- 2\n",
      "Inner loop- 2\n",
      "Very inner loop- 1\n",
      "Last loop- 1\n",
      "Last loop- 2\n",
      "Very inner loop- 2\n",
      "Last loop- 1\n",
      "Last loop- 2\n",
      "Very inner loop- 3\n",
      "Last loop- 1\n",
      "Last loop- 2\n",
      "Very inner loop- 4\n",
      "Last loop- 1\n",
      "Last loop- 2\n",
      "Inner loop- 3\n",
      "Very inner loop- 1\n",
      "Last loop- 1\n",
      "Last loop- 2\n",
      "Very inner loop- 2\n",
      "Last loop- 1\n",
      "Last loop- 2\n",
      "Very inner loop- 3\n",
      "Last loop- 1\n",
      "Last loop- 2\n",
      "Very inner loop- 4\n",
      "Last loop- 1\n",
      "Last loop- 2\n",
      "Outer loop- 2\n",
      "Inner loop- 1\n",
      "Very inner loop- 1\n",
      "Last loop- 1\n",
      "Last loop- 2\n",
      "Very inner loop- 2\n",
      "Last loop- 1\n",
      "Last loop- 2\n",
      "Very inner loop- 3\n",
      "Last loop- 1\n",
      "Last loop- 2\n",
      "Very inner loop- 4\n",
      "Last loop- 1\n",
      "Last loop- 2\n",
      "Inner loop- 2\n",
      "Very inner loop- 1\n",
      "Last loop- 1\n",
      "Last loop- 2\n",
      "Very inner loop- 2\n",
      "Last loop- 1\n",
      "Last loop- 2\n",
      "Very inner loop- 3\n",
      "Last loop- 1\n",
      "Last loop- 2\n",
      "Very inner loop- 4\n",
      "Last loop- 1\n",
      "Last loop- 2\n",
      "Inner loop- 3\n",
      "Very inner loop- 1\n",
      "Last loop- 1\n",
      "Last loop- 2\n",
      "Very inner loop- 2\n",
      "Last loop- 1\n",
      "Last loop- 2\n",
      "Very inner loop- 3\n",
      "Last loop- 1\n",
      "Last loop- 2\n",
      "Very inner loop- 4\n",
      "Last loop- 1\n",
      "Last loop- 2\n",
      "Outer loop- 3\n",
      "Inner loop- 1\n",
      "Very inner loop- 1\n",
      "Last loop- 1\n",
      "Last loop- 2\n",
      "Very inner loop- 2\n",
      "Last loop- 1\n",
      "Last loop- 2\n",
      "Very inner loop- 3\n",
      "Last loop- 1\n",
      "Last loop- 2\n",
      "Very inner loop- 4\n",
      "Last loop- 1\n",
      "Last loop- 2\n",
      "Inner loop- 2\n",
      "Very inner loop- 1\n",
      "Last loop- 1\n",
      "Last loop- 2\n",
      "Very inner loop- 2\n",
      "Last loop- 1\n",
      "Last loop- 2\n",
      "Very inner loop- 3\n",
      "Last loop- 1\n",
      "Last loop- 2\n",
      "Very inner loop- 4\n",
      "Last loop- 1\n",
      "Last loop- 2\n",
      "Inner loop- 3\n",
      "Very inner loop- 1\n",
      "Last loop- 1\n",
      "Last loop- 2\n",
      "Very inner loop- 2\n",
      "Last loop- 1\n",
      "Last loop- 2\n",
      "Very inner loop- 3\n",
      "Last loop- 1\n",
      "Last loop- 2\n",
      "Very inner loop- 4\n",
      "Last loop- 1\n",
      "Last loop- 2\n",
      "Outer loop- 4\n",
      "Inner loop- 1\n",
      "Very inner loop- 1\n",
      "Last loop- 1\n",
      "Last loop- 2\n",
      "Very inner loop- 2\n",
      "Last loop- 1\n",
      "Last loop- 2\n",
      "Very inner loop- 3\n",
      "Last loop- 1\n",
      "Last loop- 2\n",
      "Very inner loop- 4\n",
      "Last loop- 1\n",
      "Last loop- 2\n",
      "Inner loop- 2\n",
      "Very inner loop- 1\n",
      "Last loop- 1\n",
      "Last loop- 2\n",
      "Very inner loop- 2\n",
      "Last loop- 1\n",
      "Last loop- 2\n",
      "Very inner loop- 3\n",
      "Last loop- 1\n",
      "Last loop- 2\n",
      "Very inner loop- 4\n",
      "Last loop- 1\n",
      "Last loop- 2\n",
      "Inner loop- 3\n",
      "Very inner loop- 1\n",
      "Last loop- 1\n",
      "Last loop- 2\n",
      "Very inner loop- 2\n",
      "Last loop- 1\n",
      "Last loop- 2\n",
      "Very inner loop- 3\n",
      "Last loop- 1\n",
      "Last loop- 2\n",
      "Very inner loop- 4\n",
      "Last loop- 1\n",
      "Last loop- 2\n",
      "Outer loop- 5\n",
      "Inner loop- 1\n",
      "Very inner loop- 1\n",
      "Last loop- 1\n",
      "Last loop- 2\n",
      "Very inner loop- 2\n",
      "Last loop- 1\n",
      "Last loop- 2\n",
      "Very inner loop- 3\n",
      "Last loop- 1\n",
      "Last loop- 2\n",
      "Very inner loop- 4\n",
      "Last loop- 1\n",
      "Last loop- 2\n",
      "Inner loop- 2\n",
      "Very inner loop- 1\n",
      "Last loop- 1\n",
      "Last loop- 2\n",
      "Very inner loop- 2\n",
      "Last loop- 1\n",
      "Last loop- 2\n",
      "Very inner loop- 3\n",
      "Last loop- 1\n",
      "Last loop- 2\n",
      "Very inner loop- 4\n",
      "Last loop- 1\n",
      "Last loop- 2\n",
      "Inner loop- 3\n",
      "Very inner loop- 1\n",
      "Last loop- 1\n",
      "Last loop- 2\n",
      "Very inner loop- 2\n",
      "Last loop- 1\n",
      "Last loop- 2\n",
      "Very inner loop- 3\n",
      "Last loop- 1\n",
      "Last loop- 2\n",
      "Very inner loop- 4\n",
      "Last loop- 1\n",
      "Last loop- 2\n"
     ]
    }
   ],
   "source": [
    "# Nested for loop.\n",
    "for i in range(1,6):\n",
    "    print(\"Outer loop-\",i)\n",
    "    for e in range(1,4):\n",
    "        print(\"Inner loop-\",e)\n",
    "        for j in range(1,5):\n",
    "            print(\"Very inner loop-\",j)\n",
    "            for f in range(1,3):\n",
    "                print(\"Last loop-\",f)"
   ]
  },
  {
   "cell_type": "code",
   "execution_count": 27,
   "id": "4202de64-0cdf-4465-8736-066f6e9546f5",
   "metadata": {},
   "outputs": [
    {
     "name": "stdout",
     "output_type": "stream",
     "text": [
      "1\n",
      "2\n",
      "3\n",
      "4\n",
      "ye chalega\n"
     ]
    }
   ],
   "source": [
    "for e in range(1,5):\n",
    "    print(e)\n",
    "else:\n",
    "    print(\"ye chalega\")"
   ]
  },
  {
   "cell_type": "code",
   "execution_count": 30,
   "id": "3d2b07bf-351a-431a-b5bc-46f2afbdee9a",
   "metadata": {},
   "outputs": [
    {
     "name": "stdout",
     "output_type": "stream",
     "text": [
      "1\n",
      "2\n",
      "3\n",
      "4\n",
      "5\n"
     ]
    }
   ],
   "source": [
    "# break and continue\n",
    "for i in range(1,11):\n",
    "    if i==6:\n",
    "        break\n",
    "    print(i)"
   ]
  },
  {
   "cell_type": "code",
   "execution_count": 31,
   "id": "c8f132e0-4fe7-4a88-8e2b-567405a71571",
   "metadata": {},
   "outputs": [
    {
     "name": "stdout",
     "output_type": "stream",
     "text": [
      "1\n",
      "2\n",
      "3\n",
      "4\n",
      "5\n",
      "7\n",
      "8\n",
      "9\n",
      "10\n"
     ]
    }
   ],
   "source": [
    "for i in range(1,11):\n",
    "    if i==6:\n",
    "        continue\n",
    "    print(i)"
   ]
  },
  {
   "cell_type": "code",
   "execution_count": 143,
   "id": "83f2eb61-6d40-48d8-8754-92034bd786ae",
   "metadata": {},
   "outputs": [
    {
     "name": "stdin",
     "output_type": "stream",
     "text": [
      "Enter your char:  k\n"
     ]
    },
    {
     "name": "stdout",
     "output_type": "stream",
     "text": [
      "Not founded\n"
     ]
    }
   ],
   "source": [
    "str1 = \"Dreamer infotech\".lower()\n",
    "user = input(\"Enter your char: \")\n",
    "\n",
    "if user in str1:\n",
    "    print(\"founded\")\n",
    "else:\n",
    "    print(\"Not founded\")"
   ]
  },
  {
   "cell_type": "code",
   "execution_count": 97,
   "id": "4e29c331-28ef-4d48-971c-e5906f048962",
   "metadata": {},
   "outputs": [
    {
     "name": "stdin",
     "output_type": "stream",
     "text": [
      "Enter your number:  4\n"
     ]
    },
    {
     "name": "stdout",
     "output_type": "stream",
     "text": [
      "1:1\n",
      "1:2\n",
      "1:3\n",
      "1:4\n",
      "2:1\n",
      "2:2\n",
      "2:3\n",
      "2:4\n",
      "3:1\n",
      "3:2\n",
      "3:3\n",
      "3:4\n",
      "4:1\n",
      "4:2\n",
      "4:3\n",
      "4:4\n"
     ]
    }
   ],
   "source": [
    "user_val = int(input(\"Enter your number: \"))\n",
    "\n",
    "for i in range(1,user_val+1):\n",
    "    for j in range(1,user_val+1):\n",
    "        print(f\"{i}:{j}\")"
   ]
  },
  {
   "cell_type": "code",
   "execution_count": 96,
   "id": "1ffe5be4-a19e-40e5-b974-4eafe2513a99",
   "metadata": {},
   "outputs": [
    {
     "name": "stdin",
     "output_type": "stream",
     "text": [
      "Enter your number:  8\n"
     ]
    },
    {
     "name": "stdout",
     "output_type": "stream",
     "text": [
      "0\n",
      "2\n",
      "4\n",
      "6\n"
     ]
    }
   ],
   "source": [
    "user_num = int(input(\"Enter your number: \"))\n",
    "for i in range(user_num):\n",
    "    if i%2==0:\n",
    "        print(i)"
   ]
  },
  {
   "cell_type": "code",
   "execution_count": 107,
   "id": "2d0b09a8-1503-4743-8c5c-fa0610be31b3",
   "metadata": {},
   "outputs": [
    {
     "name": "stdin",
     "output_type": "stream",
     "text": [
      "Enter your number:  8\n"
     ]
    },
    {
     "name": "stdout",
     "output_type": "stream",
     "text": [
      "36\n"
     ]
    }
   ],
   "source": [
    "# Sum of numbers from 1 to 100\n",
    "num = int(input(\"Enter your number: \"))\n",
    "for i in range(num):\n",
    "    num +=i\n",
    "print(num)"
   ]
  },
  {
   "cell_type": "code",
   "execution_count": 119,
   "id": "cb581403-0ca1-47f6-a38c-2c6bfea7a3d1",
   "metadata": {},
   "outputs": [
    {
     "name": "stdout",
     "output_type": "stream",
     "text": [
      "H\n",
      "e\n",
      "l\n",
      "l\n",
      "o\n",
      " \n",
      "W\n",
      "o\n",
      "r\n",
      "l\n",
      "d\n"
     ]
    }
   ],
   "source": [
    "#Print characters of a word\n",
    "str1 = \"Hello World\"\n",
    "for i in str1:\n",
    "    print(i)"
   ]
  },
  {
   "cell_type": "code",
   "execution_count": 134,
   "id": "c17ae3b9-500b-4c39-b6f6-b9cf5419712f",
   "metadata": {},
   "outputs": [
    {
     "name": "stdout",
     "output_type": "stream",
     "text": [
      "14\n",
      "11\n",
      "{'m': 2, 'y': 1, 'n': 1, 'a': 2, 'e': 1, 'i': 1, 's': 1, 'r': 1, 'j': 1}\n",
      "Counter({'m': 2, 'a': 2, 'y': 1, 'n': 1, 'e': 1, 'i': 1, 's': 1, 'r': 1, 'j': 1})\n"
     ]
    }
   ],
   "source": [
    "# print character counts\n",
    "\n",
    "a = \"My name is raj\".lower()\n",
    "print(len(a))\n",
    "a=a.replace(\" \",\"\")\n",
    "print(len(a))\n",
    "b = {}\n",
    "for i in a:\n",
    "    if i in b:\n",
    "        b[i]+=1\n",
    "    else:\n",
    "        b[i]=1\n",
    "print(b)\n",
    "\n",
    "\n",
    "# from collections import Counter\n",
    "# a = Counter(a)\n",
    "# print(a)\n"
   ]
  },
  {
   "cell_type": "code",
   "execution_count": 132,
   "id": "4c0b7407-d1ee-401b-b73e-744de310d6c5",
   "metadata": {},
   "outputs": [
    {
     "name": "stdout",
     "output_type": "stream",
     "text": [
      "{'m': 2, 'a': 5, 'e': 4}\n",
      "dict_items([('m', 2), ('a', 5), ('e', 4)])\n",
      "[('a', 5), ('e', 4), ('m', 2)]\n"
     ]
    }
   ],
   "source": [
    "a = {'m': 2, 'a': 5, 'e':4}\n",
    "print(a)\n",
    "a=a.items()\n",
    "print(a)\n",
    "a = sorted(a)\n",
    "print(a)"
   ]
  },
  {
   "cell_type": "code",
   "execution_count": 145,
   "id": "595530bf-9ff3-42b7-bd96-ba08c34ee814",
   "metadata": {},
   "outputs": [
    {
     "name": "stdin",
     "output_type": "stream",
     "text": [
      "Enter you char:  h\n"
     ]
    },
    {
     "name": "stdout",
     "output_type": "stream",
     "text": [
      "1\n"
     ]
    }
   ],
   "source": [
    "str1 = \"Dreamer infotech\"\n",
    "\n",
    "user = input(\"Enter you char: \")\n",
    "c= 0\n",
    "for i in str1:\n",
    "    if i==user:\n",
    "        c+=1\n",
    "print(c)"
   ]
  },
  {
   "cell_type": "code",
   "execution_count": 148,
   "id": "a67df0d8-b222-452a-bc6c-edbd7c83c19f",
   "metadata": {},
   "outputs": [
    {
     "name": "stdout",
     "output_type": "stream",
     "text": [
      "9\n"
     ]
    }
   ],
   "source": [
    "str1 = \"Dreamer infotech Hello world\"\n",
    "c= 0\n",
    "for i in str1:\n",
    "    if i in \"aeiou\":\n",
    "        c+=1\n",
    "print(c)"
   ]
  },
  {
   "cell_type": "code",
   "execution_count": 2,
   "id": "ef4552e8-b379-4289-8aa2-af516e8fc011",
   "metadata": {},
   "outputs": [
    {
     "name": "stdin",
     "output_type": "stream",
     "text": [
      "Enter your password:  passswordd@1234\n"
     ]
    },
    {
     "name": "stdout",
     "output_type": "stream",
     "text": [
      "Strong password!\n"
     ]
    }
   ],
   "source": [
    "password = input(\"Enter your password: \")\n",
    "\n",
    "has_digit = False\n",
    "has_special = False\n",
    "special_chars = \"@#$%^&*!\"\n",
    "\n",
    "for char in password:\n",
    "    if char.isdigit():\n",
    "        has_digit = True\n",
    "    if char in special_chars:\n",
    "        has_special = True\n",
    "\n",
    "if len(password) >= 8 and has_digit and has_special:\n",
    "    print(\"Strong password!\")\n",
    "else:\n",
    "    print(\"Weak password. Try again.\")\n"
   ]
  },
  {
   "cell_type": "code",
   "execution_count": 21,
   "id": "909001cb-2e2a-433e-a84d-6fa09ef2f3b2",
   "metadata": {},
   "outputs": [
    {
     "name": "stdout",
     "output_type": "stream",
     "text": [
      "Even numbers:9\n",
      "Odd numbers:4\n"
     ]
    }
   ],
   "source": [
    "# 2. Even or Odd Counter in a List\n",
    "# Problem:\n",
    "# Count how many numbers in a list are even and how many are odd.\n",
    "list1 = [2, 3, 5, 6, 8, 210, 20, 23, 21, 24, 26, 26, 30]\n",
    "\n",
    "even_count = 0\n",
    "odd_count = 0\n",
    "for i in list1:\n",
    "    if i % 2 == 0:\n",
    "        even_count+=1\n",
    "    else:\n",
    "        odd_count+=1\n",
    "\n",
    "\n",
    "print(f\"Even numbers:{even_count}\")\n",
    "print(f\"Odd numbers:{odd_count}\")"
   ]
  },
  {
   "cell_type": "code",
   "execution_count": null,
   "id": "f3ab6ae5-f946-4f10-ad50-2eba0a01569a",
   "metadata": {},
   "outputs": [],
   "source": [
    "# Student Grade Calculator\n",
    "# Problem:\n",
    "# Ask user for marks in 5 subjects. Calculate average and give grade.\n",
    "english = int(input(\"Enter your english marks: \"))\n",
    "hindi = int(input(\"Enter your hindi marks: \"))\n",
    "science = int(input(\"Enter your science marks: \"))\n",
    "math = int(input(\"Enter your math marks: \"))'\n",
    "sst = int(input(\"Enter your sst marks: \"))"
   ]
  },
  {
   "cell_type": "code",
   "execution_count": 1,
   "id": "1957c2d1-c350-48c7-871f-97b7a4ee58b7",
   "metadata": {},
   "outputs": [
    {
     "name": "stdout",
     "output_type": "stream",
     "text": [
      "1 2 3 \n",
      "2 4 6 \n",
      "3 6 9 \n"
     ]
    }
   ],
   "source": [
    "for i in range(1, 4):      # outer loop\n",
    "    for j in range(1, 4):  # inner loop\n",
    "        print(i * j, end=\" \")\n",
    "    print()\n"
   ]
  },
  {
   "cell_type": "code",
   "execution_count": 2,
   "id": "44efb139-38c6-4f80-b025-4bd6575a0de4",
   "metadata": {},
   "outputs": [
    {
     "name": "stdout",
     "output_type": "stream",
     "text": [
      "1\n",
      "2\n",
      "3\n",
      "4\n",
      "5\n"
     ]
    }
   ],
   "source": [
    "for i in range(1, 6):    # 1,2,3,4,5\n",
    "    print(i)"
   ]
  },
  {
   "cell_type": "code",
   "execution_count": 3,
   "id": "b9ddc328-0433-4826-b533-8d6cd9696063",
   "metadata": {},
   "outputs": [
    {
     "name": "stdout",
     "output_type": "stream",
     "text": [
      "10\n",
      "8\n",
      "6\n",
      "4\n",
      "2\n"
     ]
    }
   ],
   "source": [
    "for i in range(10, 0, -2):  # 10,8,6,4,2\n",
    "    print(i)"
   ]
  },
  {
   "cell_type": "code",
   "execution_count": 4,
   "id": "401ac115-317b-44a8-8970-1cdcfbbb6185",
   "metadata": {},
   "outputs": [
    {
     "name": "stdout",
     "output_type": "stream",
     "text": [
      "h\n",
      "e\n",
      "l\n",
      "l\n",
      "o\n"
     ]
    }
   ],
   "source": [
    "for ch in \"hello\":              # string\n",
    "    print(ch)"
   ]
  },
  {
   "cell_type": "code",
   "execution_count": 5,
   "id": "883fd245-04bd-4267-b57f-eb1dc139df38",
   "metadata": {},
   "outputs": [
    {
     "name": "stdout",
     "output_type": "stream",
     "text": [
      "10\n",
      "20\n",
      "30\n"
     ]
    }
   ],
   "source": [
    "for x in [10, 20, 30]:          # list/tuple\n",
    "    print(x)"
   ]
  },
  {
   "cell_type": "code",
   "execution_count": 10,
   "id": "2e5deaae-eab4-4e99-abf3-1360891b3cde",
   "metadata": {},
   "outputs": [
    {
     "name": "stdout",
     "output_type": "stream",
     "text": [
      "a\n",
      "b\n"
     ]
    }
   ],
   "source": [
    "for key in {\"a\": 1, \"b\": 2}:    # dict → keys by default\n",
    "    print(key)"
   ]
  },
  {
   "cell_type": "code",
   "execution_count": 11,
   "id": "813ee4d8-91fb-4807-8c81-6b821a9dd309",
   "metadata": {},
   "outputs": [
    {
     "name": "stdout",
     "output_type": "stream",
     "text": [
      "a 1\n",
      "b 2\n"
     ]
    }
   ],
   "source": [
    "for k, v in {\"a\": 1, \"b\": 2}.items():  # keys & values\n",
    "    print(k, v)"
   ]
  },
  {
   "cell_type": "code",
   "execution_count": 12,
   "id": "61608483-92aa-4966-8933-c341a0dfbd05",
   "metadata": {},
   "outputs": [
    {
     "name": "stdout",
     "output_type": "stream",
     "text": [
      "1\n",
      "2\n",
      "3\n"
     ]
    }
   ],
   "source": [
    "for x in {3, 1, 2}:             # set (unordered)\n",
    "    print(x)"
   ]
  },
  {
   "cell_type": "code",
   "execution_count": 13,
   "id": "8cb8b32c-2a43-4256-83fc-fdc8b3080c45",
   "metadata": {},
   "outputs": [
    {
     "name": "stdout",
     "output_type": "stream",
     "text": [
      "1 aman\n",
      "2 shivam\n",
      "3 raju\n"
     ]
    }
   ],
   "source": [
    "# Getting index + value: enumerate\n",
    "\n",
    "names = [\"aman\", \"shivam\", \"raju\"]\n",
    "for idx, name in enumerate(names, start=1):\n",
    "    print(idx, name)\n"
   ]
  },
  {
   "cell_type": "code",
   "execution_count": 15,
   "id": "22128b91-0e08-490a-a0ca-710212850ed7",
   "metadata": {},
   "outputs": [
    {
     "name": "stdout",
     "output_type": "stream",
     "text": [
      "1 78\n",
      "2 82\n",
      "3 91\n"
     ]
    }
   ],
   "source": [
    "# Looping multiple sequences in parallel: zip\n",
    "roll = [1,2,3]\n",
    "marks = [78,82,91]\n",
    "for r, m in zip(roll, marks):\n",
    "    print(r, m)\n"
   ]
  },
  {
   "cell_type": "code",
   "execution_count": 17,
   "id": "96a6e749-2028-47e8-b68c-431e4ec0a6e3",
   "metadata": {},
   "outputs": [
    {
     "name": "stdout",
     "output_type": "stream",
     "text": [
      "3\n",
      "2\n",
      "1\n"
     ]
    }
   ],
   "source": [
    "# Reverse or sorted iteration\n",
    "for x in reversed([1,2,3]):  # 3,2,1\n",
    "    print(x)"
   ]
  },
  {
   "cell_type": "code",
   "execution_count": 20,
   "id": "f3da5fda-345b-4c65-a0d9-2d9ec235a9ff",
   "metadata": {},
   "outputs": [
    {
     "name": "stdout",
     "output_type": "stream",
     "text": [
      "a\n",
      "b\n"
     ]
    }
   ],
   "source": [
    "\n",
    "for k in sorted({\"b\":2,\"a\":1}):  # a,b\n",
    "    print(k)"
   ]
  },
  {
   "cell_type": "code",
   "execution_count": 22,
   "id": "11e1bb7e-6979-4d51-a398-e9b13e147652",
   "metadata": {},
   "outputs": [
    {
     "name": "stdin",
     "output_type": "stream",
     "text": [
      "Enter text (or 'quit'):  hello\n"
     ]
    },
    {
     "name": "stdout",
     "output_type": "stream",
     "text": [
      "You typed: hello\n"
     ]
    },
    {
     "name": "stdin",
     "output_type": "stream",
     "text": [
      "Enter text (or 'quit'):  quit\n"
     ]
    }
   ],
   "source": [
    "# while loop (repeat while condition is True)\n",
    "\n",
    "# while True:\n",
    "#     s = input(\"Enter text (or 'quit'): \").strip()\n",
    "#     if s.lower() == \"quit\":\n",
    "#         break\n",
    "#     print(\"You typed:\", s)\n"
   ]
  },
  {
   "cell_type": "code",
   "execution_count": 23,
   "id": "685bd22b-03c4-4eee-9d8f-e357cf738c76",
   "metadata": {},
   "outputs": [
    {
     "name": "stdout",
     "output_type": "stream",
     "text": [
      " 1  2  3 \n",
      " 2  4  6 \n",
      " 3  6  9 \n"
     ]
    }
   ],
   "source": [
    "for i in range(1, 4):\n",
    "    for j in range(1, 4):\n",
    "        print(f\"{i*j:2}\", end=\" \")\n",
    "    print()\n"
   ]
  },
  {
   "cell_type": "code",
   "execution_count": 26,
   "id": "beea203f-3f49-4a65-91b8-59d60b4ec446",
   "metadata": {},
   "outputs": [
    {
     "name": "stdout",
     "output_type": "stream",
     "text": [
      "[1, 4, 9, 16, 25]\n"
     ]
    }
   ],
   "source": [
    "squares = [x*x for x in range(1, 6)] \n",
    "print(squares)"
   ]
  },
  {
   "cell_type": "code",
   "execution_count": 27,
   "id": "e5c69fac-3477-4425-94ba-fa443807f1eb",
   "metadata": {},
   "outputs": [
    {
     "name": "stdout",
     "output_type": "stream",
     "text": [
      "{0, 2, 4, 6, 8}\n"
     ]
    }
   ],
   "source": [
    "unique_evens = {x for x in range(10) if x%2==0}  # set\n",
    "print(unique_evens)"
   ]
  },
  {
   "cell_type": "code",
   "execution_count": 29,
   "id": "74972278-8ccf-43bd-a00b-d43d7664efc4",
   "metadata": {},
   "outputs": [
    {
     "name": "stdout",
     "output_type": "stream",
     "text": [
      "{0: 'a', 1: 'b', 2: 'c'}\n"
     ]
    }
   ],
   "source": [
    "index_map = {i: ch for i, ch in enumerate(\"abc\")} # dict\n",
    "print(index_map)"
   ]
  },
  {
   "cell_type": "code",
   "execution_count": 31,
   "id": "6ad95a85-fb64-4f50-a7dd-7d82c047ecc7",
   "metadata": {},
   "outputs": [
    {
     "name": "stdout",
     "output_type": "stream",
     "text": [
      "<generator object <genexpr> at 0x000001614FF635E0>\n"
     ]
    }
   ],
   "source": [
    "gen = (x*x for x in range(1, 1_000_000))      # generator (lazy)\n",
    "print(gen)"
   ]
  },
  {
   "cell_type": "code",
   "execution_count": 39,
   "id": "6e62562e-2e04-4f68-8b73-e6bb14bf40ed",
   "metadata": {},
   "outputs": [
    {
     "name": "stdout",
     "output_type": "stream",
     "text": [
      "30\n"
     ]
    }
   ],
   "source": [
    "N = 10\n",
    "total = 0\n",
    "for x in range(2, N+1, 2):\n",
    "    total += x\n",
    "print(total)\n"
   ]
  },
  {
   "cell_type": "code",
   "execution_count": 40,
   "id": "40840f05-9514-46c2-acca-ee38a54d91e3",
   "metadata": {},
   "outputs": [
    {
     "name": "stdout",
     "output_type": "stream",
     "text": [
      "120\n"
     ]
    }
   ],
   "source": [
    "n = 5\n",
    "fact = 1\n",
    "while n > 1:\n",
    "    fact *= n\n",
    "    n -= 1\n",
    "print(fact)\n"
   ]
  },
  {
   "cell_type": "code",
   "execution_count": null,
   "id": "5dd8c4e6-19d6-42b2-8902-ef141e801b1d",
   "metadata": {},
   "outputs": [],
   "source": []
  }
 ],
 "metadata": {
  "kernelspec": {
   "display_name": "Python 3 (ipykernel)",
   "language": "python",
   "name": "python3"
  },
  "language_info": {
   "codemirror_mode": {
    "name": "ipython",
    "version": 3
   },
   "file_extension": ".py",
   "mimetype": "text/x-python",
   "name": "python",
   "nbconvert_exporter": "python",
   "pygments_lexer": "ipython3",
   "version": "3.13.5"
  }
 },
 "nbformat": 4,
 "nbformat_minor": 5
}
