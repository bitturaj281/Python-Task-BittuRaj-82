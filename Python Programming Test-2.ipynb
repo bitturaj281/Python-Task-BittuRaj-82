{
 "cells": [
  {
   "cell_type": "markdown",
   "id": "dda23c38-457a-4f99-b1fc-fec103b4bd9e",
   "metadata": {},
   "source": [
    "1.Write a function script to filter out the files that end with .png from the given list of filenames.\n",
    "files = [\"image.png\", \"document.txt\", \"photo.jpg\", \"graphic.png\", \"script.py\"]"
   ]
  },
  {
   "cell_type": "code",
   "execution_count": 39,
   "id": "5fb1aed3-e7eb-4c80-989e-6e156c1aab76",
   "metadata": {},
   "outputs": [
    {
     "name": "stdout",
     "output_type": "stream",
     "text": [
      "['image.png', 'graphic.png']\n"
     ]
    }
   ],
   "source": [
    "# files = [\"image.png\", \"document.txt\", \"photo.jpg\", \"graphic.png\", \"script.py\"]\n",
    "# png_files = [f for f in files if f.endswith(\".png\")]\n",
    "# print(png_files)\n",
    "\n",
    "files = [\"image.png\", \"document.txt\", \"photo.jpg\", \"graphic.png\", \"script.py\"]\n",
    "\n",
    "png_files = []\n",
    "\n",
    "def filter_png(file_li):\n",
    "    for f in file_li:\n",
    "        if f.endswith(\".png\"):\n",
    "            png_files.append(f)\n",
    "    return png_files\n",
    "\n",
    "result = filter_png(files)\n",
    "print(result)"
   ]
  },
  {
   "cell_type": "markdown",
   "id": "3309033f-c7cb-4d43-904d-87cd6e5e6e9d",
   "metadata": {},
   "source": [
    "2.Write a function to filter out words with 5 or fewer letters from a list.\n",
    "words = [\"apple\", \"banana\", \"cherry\", \"dog\", \"elephant\"]"
   ]
  },
  {
   "cell_type": "code",
   "execution_count": 40,
   "id": "28887ab6-c42b-436d-9257-c65bc4c14b3f",
   "metadata": {},
   "outputs": [
    {
     "name": "stdout",
     "output_type": "stream",
     "text": [
      "['apple', 'dog']\n"
     ]
    }
   ],
   "source": [
    "words = [\"apple\", \"banana\", \"cherry\", \"dog\", \"elephant\"]\n",
    "\n",
    "word = []\n",
    "\n",
    "def filter(word_list):\n",
    "    for i in word_list:\n",
    "        if len(i)<6:\n",
    "            word.append(i)\n",
    "    return word\n",
    "    \n",
    "re = filter(words)\n",
    "print(re)"
   ]
  },
  {
   "cell_type": "markdown",
   "id": "ca1aa154-49b2-40d2-a24d-4fd79a146d59",
   "metadata": {},
   "source": [
    "4.Write a function script to convert a list of Celsius temperatures to Fahrenheit.\n",
    "celsius_temps = [0, 10, 20, 30, 40]\n",
    "Output : [32.0, 50.0, 68.0, 86.0, 104.0]"
   ]
  },
  {
   "cell_type": "code",
   "execution_count": 41,
   "id": "e1c85b54-91e9-4cf0-8771-67cb1f4a97e8",
   "metadata": {},
   "outputs": [
    {
     "name": "stdout",
     "output_type": "stream",
     "text": [
      "[32.0, 50.0, 68.0, 86.0, 104.0]\n"
     ]
    }
   ],
   "source": [
    "celsius_temps = [0, 10, 20, 30, 40]\n",
    "\n",
    "def celsius_to_fahrenheit(celsius):\n",
    "    return (celsius * 9/5) + 32    \n",
    "fahrenheit_temps = [celsius_to_fahrenheit(c) for c in celsius_temps]\n",
    "\n",
    "print(fahrenheit_temperatures)"
   ]
  },
  {
   "cell_type": "markdown",
   "id": "92ac9ab8-7c77-4bd9-8880-b2414de2f697",
   "metadata": {},
   "source": [
    "5.Write a function to filter out palindromes from a list of words.\n",
    "words = [\"madam\", \"racecar\", \"python\", \"level\", \"hello\"]\n",
    "Output : [\"madam\", \"racecar\", \"level\"]"
   ]
  },
  {
   "cell_type": "code",
   "execution_count": 45,
   "id": "9fba26fb-854d-483a-a33c-a1336fb04269",
   "metadata": {},
   "outputs": [
    {
     "name": "stdout",
     "output_type": "stream",
     "text": [
      "['madam', 'racecar', 'level']\n"
     ]
    }
   ],
   "source": [
    "words = [\"madam\", \"racecar\", \"python\", \"level\", \"hello\"]\n",
    "\n",
    "def filter_palindromes(words):\n",
    "    return [word for word in words if word == word[::-1]]\n",
    "\n",
    "result = filter_palindromes(words)\n",
    "print(result)"
   ]
  },
  {
   "cell_type": "raw",
   "id": "4e2817ed-0b01-4ec0-8147-c7d70e0553c3",
   "metadata": {},
   "source": [
    "6.You have a list of user comments. Your task is to truncate each comment to a specific\n",
    "number of words and append \"...\" if the comment was truncated.\n",
    "comments = [\n",
    "\"This is a great product and I love using it!\",\n",
    "\"Amazing experience, highly recommended for everyone.\",\n",
    "\"The worst service I have ever had!\",\n",
    "\"Decent, but could be better with more features.\"\n",
    "]\n",
    "Expected Output : \n",
    "[\n",
    "\"This is a great product...\",\n",
    "\"Amazing experience, highly recommended for...\",\n",
    "\"The worst service I have...\",\n",
    "\"Decent, but could be better...\"\n",
    "]"
   ]
  },
  {
   "cell_type": "code",
   "execution_count": 47,
   "id": "f2dbc2aa-8103-4427-9e1a-603f65c06a7a",
   "metadata": {},
   "outputs": [
    {
     "name": "stdout",
     "output_type": "stream",
     "text": [
      "['This is a great product...', 'Amazing experience, highly recommended for...', 'The worst service I have...', 'Decent, but could be better...']\n"
     ]
    }
   ],
   "source": [
    "comments = [\n",
    "    \"This is a great product and I love using it!\",\n",
    "    \"Amazing experience, highly recommended for everyone.\",\n",
    "    \"The worst service I have ever had!\",\n",
    "    \"Decent, but could be better with more features.\"\n",
    "]\n",
    "\n",
    "def truncate_comments(comments, word_limit=5):\n",
    "    result = []\n",
    "    for comment in comments:\n",
    "        words = comment.split()\n",
    "        if len(words) > word_limit:\n",
    "            truncated = \" \".join(words[:word_limit]) + \"...\"\n",
    "        else:\n",
    "            truncated = comment\n",
    "        result.append(truncated)\n",
    "    return result\n",
    "\n",
    "\n",
    "output = truncate_comments(comments)\n",
    "print(output)\n"
   ]
  },
  {
   "cell_type": "markdown",
   "id": "d9f01908-5336-41fe-a3bc-b9612405f8bc",
   "metadata": {},
   "source": [
    "7.You have a list containing both odd and even numbers. Your task is to print with the pair of\n",
    "odd and even numbers.\n",
    "list =[1,2,33,1,2,4,5,6,7,8,6,5,3,2,4,5,6,7,8,6,4,2,1,5,65,7,7,9,4,32,1]\n",
    "Output : [1, 2, 33, 2, 1, 4, 5, 6, 7, 8, 5, 6, 3, 2, 5, 4, 7, 6, 1, 8, 5, 6, 65, 4, 7, 2, 7, 4, 9, 32]"
   ]
  },
  {
   "cell_type": "code",
   "execution_count": 6,
   "id": "7801378d-7029-4b3b-98c5-e2cdccd2bb92",
   "metadata": {},
   "outputs": [
    {
     "name": "stdout",
     "output_type": "stream",
     "text": [
      "[1, 2, 33, 2, 1, 4, 5, 6, 7, 8, 5, 6, 3, 2, 5, 4, 7, 6, 1, 8, 5, 6, 65, 4, 7, 2, 7, 4, 9, 32]\n"
     ]
    }
   ],
   "source": [
    "list1 =[1,2,33,1,2,4,5,6,7,8,6,5,3,2,4,5,6,7,8,6,4,2,1,5,65,7,7,9,4,32,1]\n",
    "\n",
    "odd_li = []\n",
    "even_li = []\n",
    "\n",
    "odd_li = [x for x in list1 if x % 2 != 0]\n",
    "even_li = [x for x in list1 if x % 2 == 0]\n",
    "# print(odd_li)\n",
    "# print(even_li)\n",
    "new_li = []\n",
    "for o , e in zip(odd_li,even_li):\n",
    "    new_li.append(o)\n",
    "    new_li.append(e)\n",
    "print(new_li)"
   ]
  },
  {
   "cell_type": "markdown",
   "id": "4040ca03-9e6d-47d0-be72-0a2b5fa267e5",
   "metadata": {},
   "source": [
    "8.You have a list of employees with their name, ID, department, and email. Your task is to\n",
    "write a Python script that finds and prints the data in an unordered way."
   ]
  },
  {
   "cell_type": "code",
   "execution_count": 55,
   "id": "0188141e-bde2-4434-bdcf-b33847368d41",
   "metadata": {},
   "outputs": [
    {
     "name": "stdout",
     "output_type": "stream",
     "text": [
      "name: Aman\n",
      "id: 101\n",
      "department: HR\n",
      "email: aman@company.com\n",
      "------------------------------\n",
      "name: Raman\n",
      "id: 102\n",
      "department: IT\n",
      "email: raman@company.com\n",
      "------------------------------\n",
      "name: Pavn\n",
      "id: 103\n",
      "department: Finance\n",
      "email: pavn@company.com\n",
      "------------------------------\n",
      "name: David\n",
      "id: 104\n",
      "department: Marketing\n",
      "email: david@company.com\n",
      "------------------------------\n"
     ]
    }
   ],
   "source": [
    "# List of employees (each employee is stored as a dictionary)\n",
    "employees = [\n",
    "    {\"name\": \"Aman\", \"id\": 101, \"department\": \"HR\", \"email\": \"aman@company.com\"},\n",
    "    {\"name\": \"Raman\", \"id\": 102, \"department\": \"IT\", \"email\": \"raman@company.com\"},\n",
    "    {\"name\": \"Pavn\", \"id\": 103, \"department\": \"Finance\", \"email\": \"pavn@company.com\"},\n",
    "    {\"name\": \"David\", \"id\": 104, \"department\": \"Marketing\", \"email\": \"david@company.com\"}\n",
    "]\n",
    "\n",
    "\n",
    "for emp in employees:\n",
    "    for key, value in emp.items():\n",
    "        print(f\"{key}: {value}\")\n",
    "    print(\"-\" * 30)\n"
   ]
  },
  {
   "cell_type": "markdown",
   "id": "445e79ee-5451-425a-99f7-08c2cabc8896",
   "metadata": {},
   "source": [
    "9.Create a Python program to check if the list is homogenous or heterogeneous."
   ]
  },
  {
   "cell_type": "code",
   "execution_count": 57,
   "id": "c6d53060-8192-4ee9-a6c6-68918138fc7e",
   "metadata": {},
   "outputs": [
    {
     "name": "stdout",
     "output_type": "stream",
     "text": [
      "Heterogeneous List\n"
     ]
    }
   ],
   "source": [
    "def check_list_type(lst):\n",
    "    types = set(type(x) for x in lst)\n",
    "    if len(types) == 1:\n",
    "        return \"Homogeneous List\"\n",
    "    else:\n",
    "        return \"Heterogeneous List\"\n",
    "\n",
    "# print(check_list_type([1, 2, 3, 4]))\n",
    "print(check_list_type([1, \"a\", 3.5, True]))\n"
   ]
  },
  {
   "cell_type": "markdown",
   "id": "74723c4e-3606-4abc-851a-8cd853b41af8",
   "metadata": {},
   "source": [
    "10.Write a Python program that simulates random occurrences of data that contains A-Za-z0-9\n",
    "like “aXcF3X2cz1B3” after then separate the string and number individually."
   ]
  },
  {
   "cell_type": "code",
   "execution_count": 72,
   "id": "8607f4d8-7a17-4df7-8a5f-3fc9228ab7d3",
   "metadata": {},
   "outputs": [
    {
     "name": "stdout",
     "output_type": "stream",
     "text": [
      "Random String: HtpfDjUS5Yjw\n",
      "Letters only: HtpfDjUSYjw\n",
      "Numbers only: 5\n"
     ]
    }
   ],
   "source": [
    "import random\n",
    "import string\n",
    "\n",
    "characters = string.ascii_letters + string.digits\n",
    "random_string = \"\".join(random.choice(characters) for _ in range(12))\n",
    "\n",
    "print(\"Random String:\", random_string)\n",
    "\n",
    "letters = \"\".join([ch for ch in random_string if ch.isalpha()])\n",
    "print(\"Letters only:\", letters)\n",
    "\n",
    "numbers = \"\".join([ch for ch in random_string if ch.isdigit()])\n",
    "print(\"Numbers only:\", numbers)\n"
   ]
  },
  {
   "cell_type": "code",
   "execution_count": null,
   "id": "0ddc1406-60e4-4cde-a3c2-d0762ca292a5",
   "metadata": {},
   "outputs": [],
   "source": []
  },
  {
   "cell_type": "code",
   "execution_count": null,
   "id": "ca062a86-debc-46a2-ac5a-9be0d6849933",
   "metadata": {},
   "outputs": [],
   "source": []
  }
 ],
 "metadata": {
  "kernelspec": {
   "display_name": "Python 3 (ipykernel)",
   "language": "python",
   "name": "python3"
  },
  "language_info": {
   "codemirror_mode": {
    "name": "ipython",
    "version": 3
   },
   "file_extension": ".py",
   "mimetype": "text/x-python",
   "name": "python",
   "nbconvert_exporter": "python",
   "pygments_lexer": "ipython3",
   "version": "3.13.5"
  }
 },
 "nbformat": 4,
 "nbformat_minor": 5
}
