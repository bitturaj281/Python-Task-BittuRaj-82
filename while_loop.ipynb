{
 "cells": [
  {
   "cell_type": "code",
   "execution_count": 1,
   "id": "cf4a8177-434e-4d69-8739-53d16db3b4fd",
   "metadata": {},
   "outputs": [
    {
     "name": "stdout",
     "output_type": "stream",
     "text": [
      "1\n",
      "2\n",
      "3\n",
      "4\n",
      "5\n",
      "6\n",
      "7\n",
      "8\n",
      "9\n"
     ]
    }
   ],
   "source": [
    "# 2. while loop : conditioned based loop\n",
    "# 1. initial state (Entry point)\n",
    "# 2. condition state\n",
    "# 3. increament/decreament state\n",
    "\n",
    "i=1           # Initialization\n",
    "while (i<10): # Condition\n",
    "    print(i)\n",
    "    i+=10     # increament/decreament\n",
    "    "
   ]
  },
  {
   "cell_type": "code",
   "execution_count": 5,
   "id": "8317a3b9-daff-4ff4-857b-7ab7993e329a",
   "metadata": {},
   "outputs": [
    {
     "name": "stdout",
     "output_type": "stream",
     "text": [
      "10\n",
      "9\n",
      "8\n",
      "7\n",
      "6\n",
      "5\n",
      "4\n",
      "3\n",
      "2\n",
      "1\n"
     ]
    }
   ],
   "source": [
    "i = 10\n",
    "while i>=1:\n",
    "    print(i)\n",
    "    i-=1\n",
    "    "
   ]
  },
  {
   "cell_type": "code",
   "execution_count": 6,
   "id": "1240e411-b8de-468c-8ab9-3926d73664e4",
   "metadata": {},
   "outputs": [
    {
     "name": "stdin",
     "output_type": "stream",
     "text": [
      "Enter you choice:  45\n",
      "Enter you choice:  554\n",
      "Enter you choice:  55\n",
      "Enter you choice:  0\n"
     ]
    }
   ],
   "source": [
    "while True:\n",
    "    choice=input(\"Enter you choice: \")\n",
    "    if choice==\"0\":\n",
    "        break\n",
    "        "
   ]
  },
  {
   "cell_type": "code",
   "execution_count": 2,
   "id": "39da7d3c-24d9-4534-8f82-2d1aad14c3c4",
   "metadata": {},
   "outputs": [
    {
     "name": "stdin",
     "output_type": "stream",
     "text": [
      "Enter the number:  7\n"
     ]
    },
    {
     "name": "stdout",
     "output_type": "stream",
     "text": [
      "7 x 1 = 7\n",
      "7 x 2 = 14\n",
      "7 x 3 = 21\n",
      "7 x 4 = 28\n",
      "7 x 5 = 35\n",
      "7 x 6 = 42\n",
      "7 x 7 = 49\n",
      "7 x 8 = 56\n",
      "7 x 9 = 63\n",
      "7 x 10 = 70\n"
     ]
    }
   ],
   "source": [
    "# wap to print table of a number taken by user as input\n",
    "\n",
    "num = int(input(\"Enter the number: \"))\n",
    "i = 1\n",
    "while i <= 10:\n",
    "    print(f\"{num} x {i} = {i * num}\")\n",
    "    i+=1"
   ]
  },
  {
   "cell_type": "code",
   "execution_count": 10,
   "id": "3206367e-e83a-4b0f-8759-9265b1ff8e2b",
   "metadata": {},
   "outputs": [
    {
     "name": "stdout",
     "output_type": "stream",
     "text": [
      "My Odd: 11 13 15 17 19 21 23 25 27 29 \n",
      "Total Sum: 200\n",
      "Count of even: 11\n"
     ]
    }
   ],
   "source": [
    "# take start point from user and end point from sum of all generated number.\n",
    "# print all odd number\n",
    "# print sum of only even number\n",
    "# print count of total number of even\n",
    "\n",
    "# start = int(input(\"Enter the start number: \"))\n",
    "# end = int(input(\"Enter the end number\"))\n",
    "start = 10\n",
    "end = 30\n",
    "even_count = 0 \n",
    "my_odd = \"\"\n",
    "sum_of_all= 0\n",
    "while start<=end:\n",
    "    if start%2!=0:\n",
    "        sum_of_all+=start\n",
    "        my_odd+=str(start)+\" \"\n",
    "    else:\n",
    "        even_count+=1\n",
    "    start+=1\n",
    "print(f\"My Odd: {my_odd}\")\n",
    "print(f\"Total Sum: {sum_of_all}\")\n",
    "print(f\"Count of even: {even_count}\")\n",
    "\n",
    "    \n",
    "        \n",
    "    "
   ]
  },
  {
   "cell_type": "code",
   "execution_count": 9,
   "id": "6e02bfa2-0517-4090-9a49-e386e6b7cbed",
   "metadata": {},
   "outputs": [
    {
     "name": "stdout",
     "output_type": "stream",
     "text": [
      "iiiooeoathssmystrngfrvwlcnstnt\n"
     ]
    }
   ],
   "source": [
    "str1 = \"thisismystringforvowelconstant\"\n",
    "vowel = \"\"\n",
    "cons= \"\"\n",
    "for i in str1:\n",
    "    if i in \"aeiouAEIOU\":\n",
    "        vowel+=i\n",
    "    else:\n",
    "        cons+=i\n",
    "print(vowel+cons)\n",
    "        "
   ]
  },
  {
   "cell_type": "code",
   "execution_count": 1,
   "id": "e1b1d59f-91d8-42a6-878d-3b1df2b210fa",
   "metadata": {},
   "outputs": [
    {
     "name": "stdin",
     "output_type": "stream",
     "text": [
      "Enter you string word\n"
     ]
    }
   ],
   "source": [
    "# wap to check string is palindrom or not.\n",
    "\n",
    "word = input(\"Enter you string\")"
   ]
  },
  {
   "cell_type": "code",
   "execution_count": null,
   "id": "a319ff6e-a219-42b9-88bd-2769b5c5a997",
   "metadata": {},
   "outputs": [],
   "source": []
  }
 ],
 "metadata": {
  "kernelspec": {
   "display_name": "Python 3 (ipykernel)",
   "language": "python",
   "name": "python3"
  },
  "language_info": {
   "codemirror_mode": {
    "name": "ipython",
    "version": 3
   },
   "file_extension": ".py",
   "mimetype": "text/x-python",
   "name": "python",
   "nbconvert_exporter": "python",
   "pygments_lexer": "ipython3",
   "version": "3.13.5"
  }
 },
 "nbformat": 4,
 "nbformat_minor": 5
}
