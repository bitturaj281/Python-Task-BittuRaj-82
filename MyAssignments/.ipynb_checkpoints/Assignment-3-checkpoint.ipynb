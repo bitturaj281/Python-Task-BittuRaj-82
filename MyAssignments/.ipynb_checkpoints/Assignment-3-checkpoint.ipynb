{
 "cells": [
  {
   "cell_type": "code",
   "execution_count": 65,
   "id": "1e0cbb82-cc90-4816-be1e-6cb246b0a48d",
   "metadata": {},
   "outputs": [
    {
     "name": "stdout",
     "output_type": "stream",
     "text": [
      "Even number: 2\n",
      "Even number: 4\n",
      "Even number: 6\n",
      "Even number: 8\n",
      "Even number: 10\n",
      "Even number: 12\n",
      "Even number: 14\n",
      "Even number: 16\n",
      "Even number: 18\n",
      "Even number: 20\n",
      "Odd number: 1\n",
      "Odd number: 3\n",
      "Odd number: 5\n",
      "Odd number: 7\n",
      "Odd number: 9\n",
      "Odd number: 11\n",
      "Odd number: 13\n",
      "Odd number: 15\n",
      "Odd number: 17\n",
      "Odd number: 19\n"
     ]
    }
   ],
   "source": [
    "# 1. Write a Python program to print all odd and even numbers from 1 to 20.\n",
    "\n",
    "# for i in range(1, 21):\n",
    "#     if i % 2 == 0:\n",
    "#         print(f\"even number: {i}\")\n",
    "#     else:\n",
    "#         print(f\"odd number: {i}\")\n",
    "\n",
    "evens = []\n",
    "odds = []\n",
    "\n",
    "for i in range(1, 21):\n",
    "    if i % 2 == 0:\n",
    "        evens.append(i)\n",
    "    else:\n",
    "        odds.append(i)\n",
    "\n",
    "for num in evens:\n",
    "    print(f\"Even number: {num}\")\n",
    "\n",
    "for num in odds:\n",
    "    print(f\"Odd number: {num}\")\n"
   ]
  },
  {
   "cell_type": "code",
   "execution_count": 4,
   "id": "b0d30acb-b772-446c-a28e-c09a1f17335d",
   "metadata": {},
   "outputs": [
    {
     "name": "stdout",
     "output_type": "stream",
     "text": [
      "12\n",
      "24\n",
      "36\n",
      "48\n",
      "60\n",
      "72\n",
      "84\n",
      "96\n",
      "108\n",
      "120\n"
     ]
    }
   ],
   "source": [
    "# 2. Write a Python program to generate all multiples of 12.\n",
    "num = 12\n",
    "for i in range(1,11):\n",
    "    print(f\"{num * i}\")"
   ]
  },
  {
   "cell_type": "code",
   "execution_count": 39,
   "id": "104981bb-a12a-44c9-b956-c370c0dd46b2",
   "metadata": {},
   "outputs": [
    {
     "name": "stdin",
     "output_type": "stream",
     "text": [
      "Enter your number:  5\n"
     ]
    },
    {
     "name": "stdout",
     "output_type": "stream",
     "text": [
      "5 x 1 = 5\n",
      "5 x 2 = 10\n",
      "5 x 3 = 15\n",
      "5 x 4 = 20\n",
      "5 x 5 = 25\n",
      "5 x 6 = 30\n",
      "5 x 7 = 35\n",
      "5 x 8 = 40\n",
      "5 x 9 = 45\n",
      "5 x 10 = 50\n"
     ]
    }
   ],
   "source": [
    "# 3. Write a Python program to generate a table of a number provided by the user.\n",
    "\n",
    "num = int(input(\"Enter your number: \"))\n",
    "\n",
    "for i in range(1, 11):\n",
    "    print(f\"{num} x {i} = {num * i}\")\n"
   ]
  },
  {
   "cell_type": "code",
   "execution_count": 12,
   "id": "f55f7a14-c80a-45c3-91b3-71dcb7934405",
   "metadata": {},
   "outputs": [
    {
     "name": "stdin",
     "output_type": "stream",
     "text": [
      "Enter a number:  47\n"
     ]
    },
    {
     "name": "stdout",
     "output_type": "stream",
     "text": [
      "47 is a prime number\n"
     ]
    }
   ],
   "source": [
    "# 4. Write a Python program to check if a number provided by the user is prime or not.\n",
    "\n",
    "num = int(input(\"Enter a number: \"))\n",
    "if num > 1:\n",
    "    for i in range(2, num):\n",
    "        if num % i == 0:\n",
    "            print(f\"{num} is not a prime number\")\n",
    "            break\n",
    "    else:\n",
    "        print(f\"{num} is a prime number\")\n",
    "else:\n",
    "    print(f\"{num} is not a prime number\")\n"
   ]
  },
  {
   "cell_type": "code",
   "execution_count": 23,
   "id": "ef2dc501-0015-4159-919d-f96b57d12e7d",
   "metadata": {},
   "outputs": [
    {
     "name": "stdin",
     "output_type": "stream",
     "text": [
      "Enter your first number: 1\n",
      "Enter your Second number: 10\n"
     ]
    },
    {
     "name": "stdout",
     "output_type": "stream",
     "text": [
      "Total number sum is: 55\n"
     ]
    }
   ],
   "source": [
    "# 5. Write a Python program to calculate the sum of numbers between a starting and ending point provided by the user.\n",
    "\n",
    "start_num = int(input(\"Enter your first number:\"))\n",
    "second_num = int(input(\"Enter your Second number:\"))\n",
    "\n",
    "total = 0\n",
    "for i in range(start_num,second_num+1):\n",
    "        total+=i\n",
    "   \n",
    "print(f\"Total number sum is: {total}\")"
   ]
  },
  {
   "cell_type": "code",
   "execution_count": 38,
   "id": "b5828761-04f9-44c0-973f-491c85523431",
   "metadata": {},
   "outputs": [
    {
     "name": "stdin",
     "output_type": "stream",
     "text": [
      "Enter your first number:  2\n",
      "Enter your second number:  5\n"
     ]
    },
    {
     "name": "stdout",
     "output_type": "stream",
     "text": [
      "Total product of numbers from 2 to 5 is: 120\n"
     ]
    }
   ],
   "source": [
    "# 6. Write a Python program to calculate the product of numbers between a starting and ending point provided by the user.\n",
    "\n",
    "start_product = int(input(\"Enter your first number: \"))\n",
    "second_product = int(input(\"Enter your second number: \"))\n",
    "\n",
    "total_product = 1\n",
    "\n",
    "for i in range(start_product, second_product + 1):\n",
    "    total_product *= i\n",
    "\n",
    "print(f\"Total product of numbers from {start_product} to {second_product} is: {total_product}\")\n"
   ]
  },
  {
   "cell_type": "code",
   "execution_count": null,
   "id": "088a354d-fbd6-4e06-a2da-2c421dc3104f",
   "metadata": {},
   "outputs": [],
   "source": []
  },
  {
   "cell_type": "code",
   "execution_count": 72,
   "id": "7586ff3a-6e59-4735-ad67-c52053523b76",
   "metadata": {},
   "outputs": [
    {
     "name": "stdin",
     "output_type": "stream",
     "text": [
      "Enter the number of terms:  8\n"
     ]
    },
    {
     "name": "stdout",
     "output_type": "stream",
     "text": [
      "Total sum of 8 Fibonacci terms is: 33\n"
     ]
    }
   ],
   "source": [
    "# 7. Write a Python program to generate the Fibonacci sequence up to a specified number of terms.\n",
    "# Fibonacci sequence with total sum\n",
    "\n",
    "num = int(input(\"Enter the number of terms: \"))\n",
    "\n",
    "a, b = 0, 1\n",
    "count = 0\n",
    "total_sum = 0\n",
    "\n",
    "while count < num:\n",
    "    total_sum += a\n",
    "    a, b = b, a + b\n",
    "    count += 1 \n",
    "\n",
    "print(f\"Total sum of {num} Fibonacci terms is: {total_sum}\")\n"
   ]
  },
  {
   "cell_type": "code",
   "execution_count": 86,
   "id": "89cc9902-331a-46c2-b9aa-8f26dc0ee936",
   "metadata": {},
   "outputs": [
    {
     "name": "stdin",
     "output_type": "stream",
     "text": [
      "Enter your number: 6\n"
     ]
    },
    {
     "name": "stdout",
     "output_type": "stream",
     "text": [
      "Factorial of 6 is: 720\n"
     ]
    }
   ],
   "source": [
    "# 8. Write a Python program to calculate the factorial of a number provided by the user.\n",
    "\n",
    "num = int(input(\"Enter your number:\"))\n",
    "\n",
    "if num < 0:\n",
    "    print(\"Factorial is not for negative numbers.\")\n",
    "else:\n",
    "    factorial = 1\n",
    "    for i in range(1, num + 1):\n",
    "        factorial *= i\n",
    "    print(f\"Factorial of {num} is: {factorial}\")\n"
   ]
  },
  {
   "cell_type": "code",
   "execution_count": 66,
   "id": "cbcb4072-e43d-4d37-9250-154aef15275f",
   "metadata": {},
   "outputs": [
    {
     "name": "stdout",
     "output_type": "stream",
     "text": [
      "if think can do, can show wisely\n"
     ]
    }
   ],
   "source": [
    "# text = 'if you think you can not do, you can not show think wisely'\n",
    "# space = 0\n",
    "# newstr = ''\n",
    "# i = 0 \n",
    "\n",
    "# while i < len(text):\n",
    "#     word = ''\n",
    "#     while i < len(text) and text[i] != ' ':\n",
    "#         word += text[i]\n",
    "#         i += 1\n",
    "#     if space % 2 == 0:\n",
    "#         newstr += word + ' '\n",
    "#     space += 1\n",
    "#     i += 1\n",
    "\n",
    "# newstr = newstr.strip()\n",
    "# print(newstr)\n",
    "\n",
    "text = 'if you think you can not do, you can not show think wisely'\n",
    "words = text.split()\n",
    "newstr = ''\n",
    "\n",
    "for index in range(len(words)):\n",
    "    if index % 2 == 0:\n",
    "        newstr += words[index] + ' '\n",
    "\n",
    "newstr = newstr.strip()\n",
    "print(newstr)"
   ]
  },
  {
   "cell_type": "code",
   "execution_count": 2,
   "id": "1bad539b-b801-4d50-b01f-280bc5d187f3",
   "metadata": {},
   "outputs": [
    {
     "name": "stdout",
     "output_type": "stream",
     "text": [
      "y\n"
     ]
    }
   ],
   "source": [
    "# 9. Write a Python program to find the greatest character from the string \"python\".\n",
    "\n",
    "string= \"python\"\n",
    "great_val = 'a'\n",
    "for i in string:\n",
    "    if(i>great_val):\n",
    "        great_val = i\n",
    "print(great_val)"
   ]
  },
  {
   "cell_type": "code",
   "execution_count": 98,
   "id": "895e153f-b863-4384-bf4d-9e41a78765e4",
   "metadata": {},
   "outputs": [
    {
     "name": "stdout",
     "output_type": "stream",
     "text": [
      "Dreaer nfotech\n"
     ]
    }
   ],
   "source": [
    "# 10.Write a Python program to display all letters except 'm' and 'i' from the string \"Dreamer infotech\".\n",
    "\n",
    "str_value = \"Dreamer infotech\"\n",
    "new_str = \"\"\n",
    "\n",
    "for ch in str_value:\n",
    "    \n",
    "    if ch != \"m\" and ch != \"i\":\n",
    "        new_str += ch\n",
    "\n",
    "print(new_str)"
   ]
  },
  {
   "cell_type": "code",
   "execution_count": 112,
   "id": "06ecceb9-d386-4068-9a21-e9825e5a631f",
   "metadata": {},
   "outputs": [
    {
     "name": "stdout",
     "output_type": "stream",
     "text": [
      "Demriftc\n"
     ]
    }
   ],
   "source": [
    "# 11.Write a Python program to print alternate characters from a given string.\n",
    "\n",
    "str_value = \"Dreamer infotech\"\n",
    "new_str = str_value[0::2]\n",
    "print(new_str)\n",
    "\n",
    "# str_value = \"Dreamer infotech\"\n",
    "# new_str = \"\"\n",
    "\n",
    "# for i in range(len(str_value)):\n",
    "#     if i % 2 == 0:\n",
    "#         new_str += str_value[i]\n",
    "\n",
    "# print(new_str)"
   ]
  },
  {
   "cell_type": "code",
   "execution_count": 7,
   "id": "b64b5e4d-3db2-4c60-a91b-9196444db60e",
   "metadata": {},
   "outputs": [
    {
     "name": "stdin",
     "output_type": "stream",
     "text": [
      "Enter your string:  i'm good in data scientist\n"
     ]
    },
    {
     "name": "stdout",
     "output_type": "stream",
     "text": [
      "Reversed string: tsitneics atad ni doog m'i\n"
     ]
    }
   ],
   "source": [
    "# 12.Write a Python program to reverse a string entered by the user.\n",
    "\n",
    "str_char = input(\"Enter your string: \")\n",
    "reversed_str = str_char[::-1]\n",
    "\n",
    "print(\"Reversed string:\", reversed_str)"
   ]
  },
  {
   "cell_type": "code",
   "execution_count": 15,
   "id": "e0f76f9f-69dc-4843-b9c3-221d5c373fcc",
   "metadata": {},
   "outputs": [
    {
     "name": "stdin",
     "output_type": "stream",
     "text": [
      "Enter your string:  kkkkhello\n"
     ]
    },
    {
     "name": "stdout",
     "output_type": "stream",
     "text": [
      "Total number of characters is: 9\n"
     ]
    }
   ],
   "source": [
    "# 13.Write a Python program to count the total number of characters in a string entered by the user.\n",
    "\n",
    "str_value = input(\"Enter your string: \")\n",
    "total_sum = 0\n",
    "\n",
    "for i in str_value:\n",
    "    total_sum +=1\n",
    "\n",
    "print(\"Total number of characters is:\", total_sum)"
   ]
  },
  {
   "cell_type": "code",
   "execution_count": 12,
   "id": "1ae33c7b-a81a-41d9-a264-cc66eb95629a",
   "metadata": {},
   "outputs": [
    {
     "name": "stdin",
     "output_type": "stream",
     "text": [
      "Enter your character: radar\n"
     ]
    },
    {
     "name": "stdout",
     "output_type": "stream",
     "text": [
      "It's a palindrome!\n"
     ]
    }
   ],
   "source": [
    "# 14.Write a Python program to check whether a string entered by the user is a palindrome.\n",
    "\n",
    "str_char = input(\"Enter your character:\")\n",
    "\n",
    "if str_char == str_char[::-1]:\n",
    "    print(\"It's a palindrome!\")\n",
    "else:\n",
    "    print(\"It's not a palindrome.\")"
   ]
  },
  {
   "cell_type": "code",
   "execution_count": 17,
   "id": "c54603a5-e65c-4fba-86cc-cf5e89ac3028",
   "metadata": {},
   "outputs": [
    {
     "name": "stdin",
     "output_type": "stream",
     "text": [
      "Enter your character of word you want to search: i\n"
     ]
    },
    {
     "name": "stdout",
     "output_type": "stream",
     "text": [
      "You enter the word present in string:\n"
     ]
    }
   ],
   "source": [
    "# 15.Write a Python program that allows the user to search for a character within a given string.\n",
    "\n",
    "_str = input(\"Enter your character of word you want to search:\")\n",
    "ch = \"Collection of information is called data\"\n",
    "if _str in ch:\n",
    "    print(\"You enter the word present in string:\")\n",
    "else:\n",
    "    print(\"You word not present in string:\")"
   ]
  },
  {
   "cell_type": "code",
   "execution_count": 18,
   "id": "91bf2334-247c-4ddf-b551-a4a4e833082d",
   "metadata": {},
   "outputs": [
    {
     "name": "stdin",
     "output_type": "stream",
     "text": [
      "Enter your characters: Hello world\n"
     ]
    },
    {
     "name": "stdout",
     "output_type": "stream",
     "text": [
      "The vowels is:eoo\n",
      "The consonasts is:hll wrld\n"
     ]
    }
   ],
   "source": [
    "# 16.Write a Python program to filter out all vowels and consonants from a string entered by the user.\n",
    "\n",
    "str1 = input(\"Enter your characters:\").lower()\n",
    "vowel = \"\"\n",
    "cons= \"\"\n",
    "for i in str1:\n",
    "    if i in \"aeiou\":\n",
    "        vowel+=i\n",
    "    else:\n",
    "        cons+=i\n",
    "print(f\"The vowels is:{vowel}\")\n",
    "print(f\"The consonasts is:{cons}\")\n",
    "        "
   ]
  },
  {
   "cell_type": "code",
   "execution_count": 20,
   "id": "1512f8ff-7e31-4b62-b42f-a1490e95ba28",
   "metadata": {},
   "outputs": [
    {
     "name": "stdin",
     "output_type": "stream",
     "text": [
      "Enter a string:  rajvirBittu\n"
     ]
    },
    {
     "name": "stdout",
     "output_type": "stream",
     "text": [
      "String without duplicates: rajviBtu\n"
     ]
    }
   ],
   "source": [
    "# 17.Write a Python program to filter out duplicate characters from a string entered by the user.\n",
    "\n",
    "text = input(\"Enter a string: \")\n",
    "\n",
    "result = \"\"\n",
    "for ch in text:\n",
    "    if ch not in result:\n",
    "        result += ch\n",
    "\n",
    "print(\"String without duplicates:\", result)\n"
   ]
  },
  {
   "cell_type": "code",
   "execution_count": 33,
   "id": "89db586f-6ef0-4f82-a75d-b9f2826ebde7",
   "metadata": {},
   "outputs": [
    {
     "name": "stdout",
     "output_type": "stream",
     "text": [
      "1:1\n",
      "1:2\n",
      "1:3\n",
      "2:1\n",
      "2:2\n",
      "2:3\n",
      "3:1\n",
      "3:2\n",
      "3:3\n"
     ]
    }
   ],
   "source": [
    "# 18.Write a Python program to display all possible pairs of 3.\n",
    "# Example: 1:3, 2:3, 3:3 , 2:1 , 2:2 ,2:3 , 3:1 ,3:2 ,3:3\n",
    "\n",
    "for i in range(1,3+1):\n",
    "    for j in range(1,3+1):\n",
    "        print(f\"{i}:{j}\")"
   ]
  },
  {
   "cell_type": "code",
   "execution_count": 65,
   "id": "5cc9ad67-a6bc-4085-b5c7-49c27c8c19b9",
   "metadata": {},
   "outputs": [
    {
     "name": "stdout",
     "output_type": "stream",
     "text": [
      " *********\n",
      "  *******\n",
      "   *****\n",
      "    ***\n",
      "     *\n"
     ]
    }
   ],
   "source": [
    "# 19.Write a Python program to generate the pattern of the letter H.\n",
    "# n = input(\"Enter your word:\")\n",
    "# n = 5\n",
    "# for i in range(n):\n",
    "#     for j in range(n):\n",
    "#         print(\"*\",end=' ')\n",
    "#     print()\n",
    "\n",
    "# n = 5\n",
    "# for i in range(n):\n",
    "#     for j in range(i+1):\n",
    "#         print(\"*\",end=' ')\n",
    "#     print()\n",
    "\n",
    "# n = 5\n",
    "# for i in range(n):\n",
    "#     for j in range(i, n):\n",
    "#         print(\"*\",end=' ')\n",
    "#     print()\n",
    "\n",
    "# n=5\n",
    "# for i in range(n):\n",
    "#     for j in range(i, n):\n",
    "#         print('',end=' ')\n",
    "#     for j in range(i+1):\n",
    "#         print('*',end='')\n",
    "#     print()\n",
    "\n",
    "\n",
    "# n=5\n",
    "# for i in range(n):\n",
    "#     for j in range(i+1):\n",
    "#         print('',end=' ')\n",
    "#     for j in range(i, n):\n",
    "#         print('*',end='')\n",
    "#     print()\n",
    "\n",
    "# n=5\n",
    "# for i in range(n):\n",
    "#     for j in range(i, n):\n",
    "#         print('',end=' ')\n",
    "#     for j in range(i):\n",
    "#         print('*',end='')\n",
    "#     for j in range(i+1):\n",
    "#         print('*',end='')\n",
    "#     print()\n",
    "\n",
    "n=5\n",
    "for i in range(n):\n",
    "    for j in range(i+1):\n",
    "        print('',end=' ')\n",
    "    for j in range(i, n-1):\n",
    "        print('*',end='')\n",
    "    for j in range(i, n):\n",
    "        print('*',end='')\n",
    "    print()"
   ]
  },
  {
   "cell_type": "code",
   "execution_count": 41,
   "id": "5521f56e-d2c4-4121-9bae-c9c1b87df0f1",
   "metadata": {},
   "outputs": [
    {
     "name": "stdin",
     "output_type": "stream",
     "text": [
      "enter a string1 : virat\n",
      "enter a string2 : rohit\n"
     ]
    },
    {
     "name": "stdout",
     "output_type": "stream",
     "text": [
      "i\n",
      "r\n",
      "t\n"
     ]
    }
   ],
   "source": [
    "# 20.Write a Python program to find duplicate letters between two strings.\n",
    "# Example: In \"virat\" and \"rohit\", the duplicate letter is \"r\".\n",
    "\n",
    "str1 = input('enter a string1 :')\n",
    "str2 = input('enter a string2 :')\n",
    "for i in str1:\n",
    "    for j in str2:\n",
    "        if(i==j):\n",
    "            print(j)"
   ]
  },
  {
   "cell_type": "code",
   "execution_count": 10,
   "id": "e848aec8-275d-4dc4-ac44-e757a2e36d9f",
   "metadata": {},
   "outputs": [
    {
     "name": "stdout",
     "output_type": "stream",
     "text": [
      "Square root of 1 is: 1\n",
      "Square root of 2 is: 4\n",
      "Square root of 3 is: 9\n",
      "Square root of 4 is: 16\n",
      "Square root of 5 is: 25\n",
      "Square root of 6 is: 36\n",
      "Square root of 7 is: 49\n",
      "Square root of 8 is: 64\n",
      "Square root of 9 is: 81\n",
      "Square root of 10 is: 100\n"
     ]
    }
   ],
   "source": [
    "# 21.Write a Python program to display the squares of numbers from 1 to 10.\n",
    "\n",
    "for i in range(1,11):\n",
    "    sqr = i**2\n",
    "\n",
    "    print(f\"Square root of {i} is: {sqr}\")"
   ]
  },
  {
   "cell_type": "code",
   "execution_count": 24,
   "id": "ba7d8c61-f816-4f06-a50e-7934afc21604",
   "metadata": {},
   "outputs": [
    {
     "name": "stdout",
     "output_type": "stream",
     "text": [
      "15\n"
     ]
    }
   ],
   "source": [
    "# 22.Given a string text = \"python\", calculate the sum of the indices of its\n",
    "# characters without using the range() or len() functions.\n",
    "\n",
    "text = \"python\"\n",
    "sum_val = 0\n",
    "count_val =0\n",
    "for i in text:\n",
    "    sum_val +=count_val\n",
    "    count_val +=1\n",
    "print(sum_val)"
   ]
  },
  {
   "cell_type": "code",
   "execution_count": 9,
   "id": "201aae9f-a70f-4e13-b472-174a19355266",
   "metadata": {},
   "outputs": [
    {
     "name": "stdout",
     "output_type": "stream",
     "text": [
      "4\n"
     ]
    }
   ],
   "source": [
    "# 23.Given: text = \"python programming\"\n",
    "# Goal: Count how many vowels are in the string.\n",
    "# Constraint: Do not use indexing (text[i]) or slicing (text[:]).\n",
    "\n",
    "text = \"python programming\"\n",
    "vowel_val = 0\n",
    "\n",
    "for i in text:\n",
    "    if i in ('a', 'e', 'i', 'o', 'u'):\n",
    "        vowel_val += 1\n",
    "\n",
    "print(vowel_val)"
   ]
  },
  {
   "cell_type": "code",
   "execution_count": 29,
   "id": "e06de002-ff55-4eaf-822e-55a6987aa370",
   "metadata": {},
   "outputs": [
    {
     "name": "stdout",
     "output_type": "stream",
     "text": [
      "r\n",
      "m\n",
      "g\n"
     ]
    }
   ],
   "source": [
    "# 24.Given: text = \"programming\"\n",
    "# Goal: Print all characters that repeat in the string.\n",
    "text = \"programming\"\n",
    "\n",
    "str_val = \"\"\n",
    "repeats = \"\"\n",
    "\n",
    "for ch in text:\n",
    "    if ch in str_val:\n",
    "        if ch not in repeats:\n",
    "            repeats += ch\n",
    "            print(ch)\n",
    "    else:\n",
    "        str_val += ch\n"
   ]
  },
  {
   "cell_type": "code",
   "execution_count": 2,
   "id": "0bfa6a8f-7adf-4b75-b2d2-07bdd4bf4287",
   "metadata": {},
   "outputs": [
    {
     "name": "stdin",
     "output_type": "stream",
     "text": [
      "Enter your characters: rajvir\n"
     ]
    },
    {
     "name": "stdout",
     "output_type": "stream",
     "text": [
      "v\n"
     ]
    }
   ],
   "source": [
    "# 25.Write a Python program to find and print the greatest character in the string.\n",
    "\n",
    "str1 = input(\"Enter your characters:\")\n",
    "\n",
    "great_char = \"a\"\n",
    "\n",
    "for i in str1:\n",
    "    if i > great_char:\n",
    "        great_char = i\n",
    "\n",
    "print(great_char)"
   ]
  },
  {
   "cell_type": "code",
   "execution_count": 14,
   "id": "e34456d9-1f8b-4b2b-a61a-cd03a3e7aec3",
   "metadata": {},
   "outputs": [
    {
     "name": "stdout",
     "output_type": "stream",
     "text": [
      "First repeating character is:o\n"
     ]
    }
   ],
   "source": [
    "# 26.Given: text = \"knowyourself\"\n",
    "# Goal: Find and print the first character that repeats.\n",
    "\n",
    "text = \"knowyourself\"\n",
    "seen = \"\"\n",
    "\n",
    "for ch in text:\n",
    "    if ch in seen:\n",
    "        print(f\"First repeating character is: {ch}\")\n",
    "        break\n",
    "    else:\n",
    "        seen += ch"
   ]
  },
  {
   "cell_type": "code",
   "execution_count": 15,
   "id": "280a9bb6-f46b-4ebd-b3c5-fbec78eb5b2f",
   "metadata": {},
   "outputs": [
    {
     "name": "stdout",
     "output_type": "stream",
     "text": [
      "if think can do, can show wisely \n"
     ]
    }
   ],
   "source": [
    "# 27.Give : text=”if you think you can not do, you can not show think wisely”\n",
    "# Goal: Print the alternate words\n",
    "# Constraint: Do not use space between words more than once.\n",
    "\n",
    "text='if you think you can not do, you can not show think wisely'\n",
    "space = 0\n",
    "newstr =''\n",
    "i=0 \n",
    "while(i<len(text)):\n",
    "    word = ''\n",
    "    while(i<len(text) and  text[i] != ' ' and space%2 == 0):\n",
    "        word += text[i]\n",
    "        i = i+1\n",
    "    if(word != ''):\n",
    "        \n",
    "        newstr +=word\n",
    "        newstr += ' '\n",
    "    if(i<len(text) and  text[i] == ' ' ):\n",
    "        space = space +1\n",
    "    i= i+1\n",
    "print(newstr)"
   ]
  },
  {
   "cell_type": "code",
   "execution_count": 18,
   "id": "9abc3544-6e8e-4bfc-bbb1-05e3e0015bbf",
   "metadata": {},
   "outputs": [
    {
     "name": "stdout",
     "output_type": "stream",
     "text": [
      "Alternate characters is: koyusl\n"
     ]
    }
   ],
   "source": [
    "# 28.Given: text = \"knowyourself\"\n",
    "# Goal: Find and print the alternate characters.\n",
    "# 28. Find and print the alternate characters.\n",
    "\n",
    "text = \"knowyourself\"\n",
    "\n",
    "# print(\"Alternate characters are:\", text[::2])\n",
    "\n",
    "alt_chars = \"\"\n",
    "for i in range(0, len(text), 2):\n",
    "    alt_chars += text[i]\n",
    "\n",
    "print(f\"Alternate characters is: {alt_chars}\")\n"
   ]
  },
  {
   "cell_type": "code",
   "execution_count": 22,
   "id": "d337d661-4261-4059-8fdb-d57507fb86d2",
   "metadata": {},
   "outputs": [
    {
     "name": "stdin",
     "output_type": "stream",
     "text": [
      "Enter your number: 10\n"
     ]
    },
    {
     "name": "stdout",
     "output_type": "stream",
     "text": [
      "10 : Even\n"
     ]
    }
   ],
   "source": [
    "# 29.Take two numbers from the user: start and end. Print a string labeling each\n",
    "# number in that range as Odd or Even.\n",
    "# Output_format : 3:Odd 4:Even 5:Odd 6:Even 7:Odd 8:Even 9:Odd\n",
    "\n",
    "num = int(input(\"Enter your number:\"))\n",
    "\n",
    "if num % 2 ==0:\n",
    "    print(f\"{num} : Even\")\n",
    "else:\n",
    "    print(f\"{num} : Odd\")"
   ]
  },
  {
   "cell_type": "code",
   "execution_count": 28,
   "id": "7c293712-2772-4395-828f-1363001373b8",
   "metadata": {},
   "outputs": [
    {
     "name": "stdout",
     "output_type": "stream",
     "text": [
      "58\n"
     ]
    }
   ],
   "source": [
    "# 30.Find the sum of string “198765456412”.\n",
    "\n",
    "str1 = \"198765456412\"\n",
    "\n",
    "sum_val = 0\n",
    "\n",
    "for ch in str1:\n",
    "    sum_val+=int(ch)\n",
    "print(sum_val)\n",
    "    "
   ]
  },
  {
   "cell_type": "code",
   "execution_count": 35,
   "id": "59e71b41-3789-43ce-8873-9ebe51fefe01",
   "metadata": {},
   "outputs": [
    {
     "name": "stdout",
     "output_type": "stream",
     "text": [
      "4\n"
     ]
    }
   ],
   "source": [
    "# 31.Count how many digits in the string are greater than 5 from text = \"1234567890\".\n",
    "\n",
    "text = \"1234567890\"\n",
    "count_val = 0\n",
    "\n",
    "for ch in text:\n",
    "    if int(ch) > 5:\n",
    "        count_val+=1\n",
    "\n",
    "print(count_val)\n",
    "        "
   ]
  },
  {
   "cell_type": "code",
   "execution_count": 37,
   "id": "58a1bff1-e700-47d3-b0a8-454185e8c472",
   "metadata": {},
   "outputs": [
    {
     "name": "stdin",
     "output_type": "stream",
     "text": [
      "Enter a string:  rajvir\n",
      "Enter the character to replace:  hello\n",
      "Enter the new character:  python\n"
     ]
    },
    {
     "name": "stdout",
     "output_type": "stream",
     "text": [
      "Modified string: rajvir\n"
     ]
    }
   ],
   "source": [
    "# 32. Replace Character in String\n",
    "\n",
    "text = input(\"Enter a string: \")\n",
    "\n",
    "old_char = input(\"Enter the character to replace: \")\n",
    "\n",
    "new_char = input(\"Enter the new character: \")\n",
    "\n",
    "modified_text = text.replace(old_char, new_char)\n",
    "\n",
    "print(\"Modified string:\", modified_text)\n"
   ]
  },
  {
   "cell_type": "code",
   "execution_count": 4,
   "id": "56eed7d3-d055-428f-98e0-a9dfece40d7f",
   "metadata": {},
   "outputs": [
    {
     "name": "stdout",
     "output_type": "stream",
     "text": [
      "python___for_data_science\n"
     ]
    }
   ],
   "source": [
    "# 33.Replace Spaces with Underscores Replace all spaces in a string with underscores (_)\n",
    "\n",
    "my_data = \"python   for data science\"\n",
    "\n",
    "new = my_data.replace(\" \", \"_\")\n",
    "\n",
    "# print(my_data)\n",
    "print(new)\n"
   ]
  },
  {
   "cell_type": "code",
   "execution_count": 6,
   "id": "ebc78b40-ed39-40e5-8801-503129900681",
   "metadata": {},
   "outputs": [
    {
     "name": "stdin",
     "output_type": "stream",
     "text": [
      "Enter a string:  carrace\n"
     ]
    },
    {
     "name": "stdout",
     "output_type": "stream",
     "text": [
      "String after removing duplicates: care\n"
     ]
    }
   ],
   "source": [
    "# 34.Remove Duplicate characters from the string given by the user then print the final output.\n",
    "\n",
    "user_str = input(\"Enter a string: \")\n",
    "\n",
    "result = \"\"\n",
    "for ch in user_str:\n",
    "    if ch not in result:\n",
    "        result += ch\n",
    "\n",
    "print(f\"String after removing duplicates: {result}\")\n"
   ]
  },
  {
   "cell_type": "code",
   "execution_count": 9,
   "id": "da5de16a-ed1d-4ab0-ae0b-040fa38a74bf",
   "metadata": {},
   "outputs": [
    {
     "name": "stdin",
     "output_type": "stream",
     "text": [
      "Enter a string:  hello world\n"
     ]
    },
    {
     "name": "stdout",
     "output_type": "stream",
     "text": [
      "replaced string is:h*ll* w*rld\n"
     ]
    }
   ],
   "source": [
    "# 35.Take string from user and Replace every vowel in the string with an asterisk *.\n",
    "\n",
    "user_str = input(\"Enter a string: \").lower()\n",
    "new = ''\n",
    "\n",
    "for ch in user_str:\n",
    "    if ch in \"aeiou\":\n",
    "        new += \"*\"\n",
    "    else:\n",
    "        new += ch\n",
    "\n",
    "print(f\"replaced string is:{new}\")\n"
   ]
  },
  {
   "cell_type": "code",
   "execution_count": 12,
   "id": "0a80d71d-1303-43c5-a5e6-24d3f100f4f0",
   "metadata": {},
   "outputs": [
    {
     "name": "stdout",
     "output_type": "stream",
     "text": [
      "Number of words: 4\n"
     ]
    }
   ],
   "source": [
    "# 36.Count only words not spaces.\n",
    "# Entered a string: Hello coders from Success24\n",
    "# Number of words: 4\n",
    "\n",
    "str1 = \"Hello coders from Success24\"\n",
    "\n",
    "words = str1.split()\n",
    "\n",
    "print(f\"Number of words: {len(words)}\")"
   ]
  },
  {
   "cell_type": "code",
   "execution_count": 15,
   "id": "0e78bbdc-543f-4067-aa04-80b68557d3fc",
   "metadata": {},
   "outputs": [
    {
     "name": "stdin",
     "output_type": "stream",
     "text": [
      "Enter a string:  hello WORLD\n"
     ]
    },
    {
     "name": "stdout",
     "output_type": "stream",
     "text": [
      "Number of uppercase letters: 5\n",
      "Number of lowercase letters: 5\n"
     ]
    }
   ],
   "source": [
    "# 37.Task: Count how many uppercase and lowercase letters are in a string.\n",
    "\n",
    "user_str = input(\"Enter a string: \")\n",
    "\n",
    "upper_count = 0\n",
    "lower_count = 0\n",
    "\n",
    "for ch in user_str:\n",
    "    if ch.isupper():\n",
    "        upper_count += 1\n",
    "    elif ch.islower():\n",
    "        lower_count += 1\n",
    "\n",
    "print(f\"Number of uppercase letters: {upper_count}\")\n",
    "print(f\"Number of lowercase letters: {lower_count}\")"
   ]
  },
  {
   "cell_type": "code",
   "execution_count": 23,
   "id": "de633d33-719c-440f-b33f-a622cee7aa93",
   "metadata": {},
   "outputs": [
    {
     "name": "stdin",
     "output_type": "stream",
     "text": [
      "Enter any word: Hello world\n"
     ]
    },
    {
     "name": "stdout",
     "output_type": "stream",
     "text": [
      "Characters at odd indices is: e\n",
      "Characters at odd indices is: l\n",
      "Characters at odd indices is:  \n",
      "Characters at odd indices is: o\n",
      "Characters at odd indices is: l\n"
     ]
    }
   ],
   "source": [
    "# 38.Task: Print all characters from the string that are at odd indices.\n",
    "str1 = input(\"Enter any word:\")\n",
    "\n",
    "for i in range(len(str1)):\n",
    "    if i % 2 != 0:\n",
    "        print(f\"Characters at odd indices is: {str1[i]}\")"
   ]
  },
  {
   "cell_type": "code",
   "execution_count": 25,
   "id": "e42185d0-ea58-4b5f-a59f-cb4e3b2a3fb6",
   "metadata": {},
   "outputs": [
    {
     "name": "stdin",
     "output_type": "stream",
     "text": [
      "Enter a string:  how are you all\n"
     ]
    },
    {
     "name": "stdout",
     "output_type": "stream",
     "text": [
      "String without spaces: howareyouall\n"
     ]
    }
   ],
   "source": [
    "# 39.Task: Create a new string by removing all spaces from the input string.\n",
    "# Enter a string: how are you all\n",
    "# String without spaces: howareyouall\n",
    "\n",
    "str1 = input(\"Enter a string: \")\n",
    "\n",
    "new_str = str1.replace(\" \", \"\")\n",
    "\n",
    "print(f\"String without spaces: {new_str}\")\n"
   ]
  },
  {
   "cell_type": "code",
   "execution_count": 28,
   "id": "74bee8c3-2ad3-4ff0-8b8e-65c6b812d786",
   "metadata": {},
   "outputs": [
    {
     "name": "stdout",
     "output_type": "stream",
     "text": [
      "Number of digits in the string is: 4\n"
     ]
    }
   ],
   "source": [
    "# 40.Count how many digits in a string entered by the user.\n",
    "# text=”sytax_error2806 hai ”\n",
    "\n",
    "text=\"sytax_error2806 hai\"\n",
    "\n",
    "count_val = 0\n",
    "for ch in text:\n",
    "    if ch.isdigit():\n",
    "        count_val += 1\n",
    "\n",
    "print(f\"Number of digits in the string is: {count_val}\")\n",
    "\n"
   ]
  },
  {
   "cell_type": "code",
   "execution_count": 29,
   "id": "637dd905-652f-4d53-a72c-cbf2a5518556",
   "metadata": {},
   "outputs": [
    {
     "name": "stdin",
     "output_type": "stream",
     "text": [
      "Enter a string:  Hello2585helhow\n"
     ]
    },
    {
     "name": "stdout",
     "output_type": "stream",
     "text": [
      "Number of letters: 11\n"
     ]
    }
   ],
   "source": [
    "# 41.Count only alphabets (both uppercase and lowercase).\n",
    "# Enter a string: this123 i am\n",
    "# Number of letters: 7\n",
    "\n",
    "str1 = input(\"Enter a string: \")\n",
    "\n",
    "count_alpha = 0\n",
    "for ch in str1:\n",
    "    if ch.isalpha():\n",
    "        count_alpha += 1\n",
    "\n",
    "print(f\"Number of letters: {count_alpha}\")\n"
   ]
  },
  {
   "cell_type": "code",
   "execution_count": 33,
   "id": "136613cc-3ae1-4b88-b892-b4bbdb0cc43f",
   "metadata": {},
   "outputs": [
    {
     "name": "stdout",
     "output_type": "stream",
     "text": [
      "Day 1: balance = 100 previous day balance is = 0\n",
      "Day 2: balance = 200 previous day balance is = 100\n",
      "Day 3: balance = 300 previous day balance is = 200\n",
      "Day 4: balance = 400 previous day balance is = 300\n",
      "Day 5: balance = 500 previous day balance is = 400\n",
      "Day 6: balance = 600 previous day balance is = 500\n",
      "Day 7: balance = 700 previous day balance is = 600\n",
      "Day 8: balance = 800 previous day balance is = 700\n",
      "Day 9: balance = 900 previous day balance is = 800\n",
      "Day 10: balance = 1000 previous day balance is = 900\n"
     ]
    }
   ],
   "source": [
    "# 42.You are managing a simple banking system that tracks the balance at the end of\n",
    "# each day over 10 days. Each day, the balance increases by 100 units starting from 100\n",
    "# on day 1, 200 on day 2, and so on. You want to print the current day’s balance along with\n",
    "# the previous day’s balance. For day 1, the previous day’s balance is 0.\n",
    "# Sample output:\n",
    "# Day 1: Balance = 100, Previous Day Balance = 0\n",
    "# Day 2: Balance = 200, Previous Day Balance = 100\n",
    "# Day 3: Balance = 300, Previous Day Balance = 200\n",
    "# ...\n",
    "# Day 10: Balance = 1000, Previous Day Balance = 900\n",
    "\n",
    "previous_balance = 0\n",
    "\n",
    "for day in range(1, 11):\n",
    "    current_balance = day * 100\n",
    "    print(f\"Day {day}: balance = {current_balance} previous day balance is = {previous_balance}\")\n",
    "    previous_balance = current_balance\n"
   ]
  },
  {
   "cell_type": "code",
   "execution_count": null,
   "id": "ab890afb-c61a-405f-b250-1cc36d4dfa77",
   "metadata": {},
   "outputs": [],
   "source": []
  }
 ],
 "metadata": {
  "kernelspec": {
   "display_name": "Python 3 (ipykernel)",
   "language": "python",
   "name": "python3"
  },
  "language_info": {
   "codemirror_mode": {
    "name": "ipython",
    "version": 3
   },
   "file_extension": ".py",
   "mimetype": "text/x-python",
   "name": "python",
   "nbconvert_exporter": "python",
   "pygments_lexer": "ipython3",
   "version": "3.13.5"
  }
 },
 "nbformat": 4,
 "nbformat_minor": 5
}
