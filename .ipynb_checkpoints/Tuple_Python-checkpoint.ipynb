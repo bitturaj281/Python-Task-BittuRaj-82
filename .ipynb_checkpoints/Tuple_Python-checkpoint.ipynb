{
 "cells": [
  {
   "cell_type": "code",
   "execution_count": null,
   "id": "d388fbd9-d721-4a5e-a73f-4112f492116b",
   "metadata": {},
   "outputs": [],
   "source": [
    "# ---------------------- Tuble\n",
    "# Defination and properties\n",
    "# Creation\n",
    "# Accessing \n",
    "# Modification\n",
    "# slicing \n",
    "# Traversing\n",
    "# Built-in-methods \n",
    "# Assignment"
   ]
  },
  {
   "cell_type": "code",
   "execution_count": null,
   "id": "e1a237d5-c429-4e31-bfbc-5d1fd4d89927",
   "metadata": {},
   "outputs": [],
   "source": [
    "# Defination and properties\n",
    "# 1. Tuple is a data structure in python used to store multiple value of different data types.\n",
    "# 2. Tuple value must be comma sepreated\n",
    "# 3. Tuple are ordered indexed\n",
    "# 4. Tuple can not be modified (immuatable)"
   ]
  },
  {
   "cell_type": "code",
   "execution_count": 1,
   "id": "e58cb8d9-f7dd-4abf-a970-c3f0a699045e",
   "metadata": {},
   "outputs": [],
   "source": [
    "myd1 = {'a':1,'b':2,'c':3,'d':4}\n",
    "# print sum values\n",
    "# print key with containing vowel\n",
    "# print in reverse\n",
    "\n",
    "myd2 = {'a':\"1\",'b':\"2\",'c':\"3\",'d':\"4\"}\n",
    "# print sum values."
   ]
  },
  {
   "cell_type": "code",
   "execution_count": 2,
   "id": "d3aaec4d-1bf3-4062-8697-7dfbcb477fd3",
   "metadata": {},
   "outputs": [
    {
     "ename": "TypeError",
     "evalue": "unsupported operand type(s) for +: 'int' and 'str'",
     "output_type": "error",
     "traceback": [
      "\u001b[31m---------------------------------------------------------------------------\u001b[39m",
      "\u001b[31mTypeError\u001b[39m                                 Traceback (most recent call last)",
      "\u001b[36mCell\u001b[39m\u001b[36m \u001b[39m\u001b[32mIn[2]\u001b[39m\u001b[32m, line 4\u001b[39m\n\u001b[32m      1\u001b[39m myd1 = {\u001b[33m'\u001b[39m\u001b[33ma\u001b[39m\u001b[33m'\u001b[39m:\u001b[32m1\u001b[39m,\u001b[33m'\u001b[39m\u001b[33mb\u001b[39m\u001b[33m'\u001b[39m:\u001b[32m2\u001b[39m,\u001b[33m'\u001b[39m\u001b[33mc\u001b[39m\u001b[33m'\u001b[39m:\u001b[32m3\u001b[39m,\u001b[33m'\u001b[39m\u001b[33md\u001b[39m\u001b[33m'\u001b[39m:\u001b[32m4\u001b[39m}\n\u001b[32m      3\u001b[39m \u001b[38;5;28;01mfor\u001b[39;00m i \u001b[38;5;129;01min\u001b[39;00m myd1:\n\u001b[32m----> \u001b[39m\u001b[32m4\u001b[39m     \u001b[38;5;28mprint\u001b[39m(\u001b[38;5;28;43msum\u001b[39;49m\u001b[43m(\u001b[49m\u001b[43mi\u001b[49m\u001b[43m)\u001b[49m)\n\u001b[32m      5\u001b[39m     i+=\u001b[32m1\u001b[39m\n",
      "\u001b[31mTypeError\u001b[39m: unsupported operand type(s) for +: 'int' and 'str'"
     ]
    }
   ],
   "source": [
    "myd1 = {'a':1,'b':2,'c':3,'d':4}\n",
    "\n",
    "for i in myd1.values():\n",
    "    print(sum(i))\n",
    "    i+=1"
   ]
  },
  {
   "cell_type": "code",
   "execution_count": 2,
   "id": "32644dfa-e97d-40a0-b3c5-8f60e6142a34",
   "metadata": {},
   "outputs": [
    {
     "name": "stdout",
     "output_type": "stream",
     "text": [
      "('apple', 'banana', 'cherry')\n",
      "<class 'tuple'>\n"
     ]
    }
   ],
   "source": [
    "thistuple = (\"apple\", \"banana\", \"cherry\")\n",
    "print(thistuple)\n",
    "print(type(thistuple))"
   ]
  },
  {
   "cell_type": "code",
   "execution_count": 4,
   "id": "6a3df51c-4985-45c7-a490-6290effbe7ae",
   "metadata": {},
   "outputs": [
    {
     "name": "stdout",
     "output_type": "stream",
     "text": [
      "5\n"
     ]
    }
   ],
   "source": [
    "thistuple = (\"apple\", \"banana\", \"cherry\", \"apple\", \"cherry\")\n",
    "# print(thistuple)\n",
    "print(len(thistuple))"
   ]
  },
  {
   "cell_type": "code",
   "execution_count": 8,
   "id": "80b6c4c9-4e9a-454b-a9de-24d60a957b51",
   "metadata": {},
   "outputs": [
    {
     "name": "stdout",
     "output_type": "stream",
     "text": [
      "<class 'tuple'>\n"
     ]
    }
   ],
   "source": [
    "thistuple = (\"apple\",)\n",
    "print(type(thistuple))\n",
    "\n",
    "#NOT a tuple\n",
    "# thistuple = (\"apple\")\n",
    "# print(type(thistuple))"
   ]
  },
  {
   "cell_type": "code",
   "execution_count": 11,
   "id": "c0c19413-60d1-4c13-97d2-b52b35989a73",
   "metadata": {},
   "outputs": [
    {
     "name": "stdout",
     "output_type": "stream",
     "text": [
      "<class 'tuple'>\n"
     ]
    }
   ],
   "source": [
    "tuple1 = (\"apple\", \"banana\", \"cherry\")\n",
    "tuple2 = (1, 5, 7, 9, 3)\n",
    "tuple3 = (True, False, False)\n",
    "print(type(tuple1))"
   ]
  },
  {
   "cell_type": "code",
   "execution_count": 12,
   "id": "ae31c778-fb12-4cc9-994c-0dba2308fbad",
   "metadata": {},
   "outputs": [
    {
     "name": "stdout",
     "output_type": "stream",
     "text": [
      "('abc', 34, True, 40, 'male')\n"
     ]
    }
   ],
   "source": [
    "tuple1 = (\"abc\", 34, True, 40, \"male\")\n",
    "\n",
    "print(tuple1)\n"
   ]
  },
  {
   "cell_type": "code",
   "execution_count": 15,
   "id": "3720f516-8cbd-4671-8393-6e6b39536776",
   "metadata": {},
   "outputs": [
    {
     "name": "stdout",
     "output_type": "stream",
     "text": [
      "banana\n"
     ]
    }
   ],
   "source": [
    "thistuple = (\"apple\", \"banana\", \"cherry\")\n",
    "print(thistuple[1])"
   ]
  },
  {
   "cell_type": "code",
   "execution_count": 16,
   "id": "ca5fdbaa-7e19-400d-bfd8-4dd923261450",
   "metadata": {},
   "outputs": [
    {
     "name": "stdout",
     "output_type": "stream",
     "text": [
      "cherry\n"
     ]
    }
   ],
   "source": [
    "thistuple = (\"apple\", \"banana\", \"cherry\")\n",
    "print(thistuple[-1])\n"
   ]
  },
  {
   "cell_type": "code",
   "execution_count": 21,
   "id": "fee9a3c9-a7ce-454f-a1f6-54a1cbe9a235",
   "metadata": {},
   "outputs": [
    {
     "name": "stdout",
     "output_type": "stream",
     "text": [
      "(25, 50, 45)\n"
     ]
    }
   ],
   "source": [
    "thistuple = (25, 50, 45, \"orange\", \"kiwi\", \"melon\", \"mango\")\n",
    "# print(thistuple[3:])\n",
    "print(thistuple[:3])\n"
   ]
  },
  {
   "cell_type": "code",
   "execution_count": 25,
   "id": "439aac19-86ea-4331-a916-76adba208b41",
   "metadata": {},
   "outputs": [
    {
     "name": "stdout",
     "output_type": "stream",
     "text": [
      "Yes, 'orange' is in the fruits tuple\n"
     ]
    }
   ],
   "source": [
    "thistuple = (25, 50, 45, \"orange\", \"kiwi\", \"melon\", \"mango\")\n",
    "if \"orange\" in thistuple:\n",
    "  print(\"Yes, 'orange' is in the fruits tuple\")\n"
   ]
  },
  {
   "cell_type": "code",
   "execution_count": 26,
   "id": "736ce3d9-6664-4fc5-afb7-f0f8530c5336",
   "metadata": {},
   "outputs": [
    {
     "name": "stdout",
     "output_type": "stream",
     "text": [
      "(25, 'kiwi', 45, 'orange', 'kiwi', 'melon', 'mango')\n"
     ]
    }
   ],
   "source": [
    "x = (25, 50, 45, \"orange\", \"kiwi\", \"melon\", \"mango\")\n",
    "y = list(x)\n",
    "y[1] = \"kiwi\"\n",
    "x = tuple(y)\n",
    "\n",
    "print(x)"
   ]
  },
  {
   "cell_type": "code",
   "execution_count": 28,
   "id": "79e5d999-fb63-43a0-a4e3-5ad5db6f76bb",
   "metadata": {},
   "outputs": [
    {
     "name": "stdout",
     "output_type": "stream",
     "text": [
      "('apple', 'banana', 'cherry', 'grapes')\n"
     ]
    }
   ],
   "source": [
    "thistuple = (\"apple\", \"banana\", \"cherry\")\n",
    "y = list(thistuple)\n",
    "y.append(\"grapes\")\n",
    "thistuple = tuple(y)\n",
    "print(thistuple)"
   ]
  },
  {
   "cell_type": "code",
   "execution_count": 29,
   "id": "13e561ae-f804-4362-8568-75443e3328d0",
   "metadata": {},
   "outputs": [
    {
     "name": "stdout",
     "output_type": "stream",
     "text": [
      "('apple', 'banana', 'cherry', 'orange')\n"
     ]
    }
   ],
   "source": [
    "thistuple = (\"apple\", \"banana\", \"cherry\")\n",
    "y = (\"orange\",)\n",
    "thistuple += y\n",
    "\n",
    "print(thistuple)"
   ]
  },
  {
   "cell_type": "code",
   "execution_count": 30,
   "id": "9a4e85b3-2e8b-41f0-b2a6-7be638ae602a",
   "metadata": {},
   "outputs": [
    {
     "name": "stdout",
     "output_type": "stream",
     "text": [
      "apple\n",
      "banana\n",
      "cherry\n"
     ]
    }
   ],
   "source": [
    "thistuple = (\"apple\", \"banana\", \"cherry\")\n",
    "for x in thistuple:\n",
    "  print(x)"
   ]
  },
  {
   "cell_type": "code",
   "execution_count": 34,
   "id": "9040c7fd-d354-41b0-96c0-253719f53172",
   "metadata": {},
   "outputs": [
    {
     "name": "stdout",
     "output_type": "stream",
     "text": [
      "apple\n",
      "banana\n",
      "cherry\n"
     ]
    }
   ],
   "source": [
    "thistuple = (\"apple\", \"banana\", \"cherry\")\n",
    "for i in range(len(thistuple)):\n",
    "  print(thistuple[i])"
   ]
  },
  {
   "cell_type": "code",
   "execution_count": 38,
   "id": "527508c1-4471-4fd4-9e3d-1f3c1a2adf9c",
   "metadata": {},
   "outputs": [
    {
     "name": "stdout",
     "output_type": "stream",
     "text": [
      "apple\n",
      "banana\n",
      "cherry\n"
     ]
    }
   ],
   "source": [
    "thistuple = (\"apple\", \"banana\", \"cherry\")\n",
    "i = 0\n",
    "while i < (len(thistuple)):\n",
    "  print(thistuple[i])\n",
    "  i = i + 1"
   ]
  },
  {
   "cell_type": "code",
   "execution_count": 39,
   "id": "e9210709-c77a-4cc0-91c8-e3e790379a35",
   "metadata": {},
   "outputs": [
    {
     "name": "stdout",
     "output_type": "stream",
     "text": [
      "('a', 'b', 'c', 1, 2, 3)\n"
     ]
    }
   ],
   "source": [
    "tuple1 = (\"a\", \"b\" , \"c\")\n",
    "tuple2 = (1, 2, 3)\n",
    "\n",
    "tuple3 = tuple1 + tuple2\n",
    "print(tuple3)"
   ]
  },
  {
   "cell_type": "code",
   "execution_count": 40,
   "id": "9da6bd8d-f5be-448c-830b-48e27e45e82e",
   "metadata": {},
   "outputs": [
    {
     "name": "stdout",
     "output_type": "stream",
     "text": [
      "('apple', 'banana', 'cherry', 'apple', 'banana', 'cherry')\n"
     ]
    }
   ],
   "source": [
    "fruits = (\"apple\", \"banana\", \"cherry\")\n",
    "mytuple = fruits * 2\n",
    "\n",
    "print(mytuple)"
   ]
  },
  {
   "cell_type": "code",
   "execution_count": 49,
   "id": "8c11f047-1cd4-4bd3-926c-3852c853f55f",
   "metadata": {},
   "outputs": [
    {
     "name": "stdout",
     "output_type": "stream",
     "text": [
      "2\n"
     ]
    }
   ],
   "source": [
    "thistuple = (1, 3, 7, 8, 7, 5, 4, 6, 8, 5, 7)\n",
    "\n",
    "x = thistuple.count(8)\n",
    "\n",
    "print(x)"
   ]
  },
  {
   "cell_type": "code",
   "execution_count": 48,
   "id": "6774bc81-8a78-4c44-a3e5-11b6b33afb51",
   "metadata": {},
   "outputs": [
    {
     "name": "stdout",
     "output_type": "stream",
     "text": [
      "3\n"
     ]
    }
   ],
   "source": [
    "thistuple = (1, 3, 7, 8, 7, 5, 4, 6, 8, 5, 7)\n",
    "\n",
    "x = thistuple.index(8)\n",
    "\n",
    "print(x)"
   ]
  },
  {
   "cell_type": "code",
   "execution_count": 9,
   "id": "f4e585c8-adc2-4076-ae38-e3fec427f459",
   "metadata": {},
   "outputs": [
    {
     "name": "stdin",
     "output_type": "stream",
     "text": [
      "Enter your first number:  45\n",
      "Enter your second number:  65\n"
     ]
    },
    {
     "name": "stdout",
     "output_type": "stream",
     "text": [
      "numerator is: 9.0 and denominator is: 13.0\n"
     ]
    }
   ],
   "source": [
    "import math\n",
    "\n",
    "num1 = int(input(\"Enter your first number: \"))\n",
    "num2 = int(input(\"Enter your second number: \"))\n",
    "\n",
    "g = math.gcd(num1, num2)\n",
    "nn = num1/g\n",
    "nd = num2/g\n",
    "\n",
    "print(f\"numerator is: {nn} and denominator is: {nd}\")\n"
   ]
  },
  {
   "cell_type": "markdown",
   "id": "deee1016-b4b7-4b53-b8e3-d388f0042adb",
   "metadata": {},
   "source": [
    "What is a Tuple?\n",
    "\n",
    "    A tuple is a collection data type in Python.\n",
    "    It is ordered, immutable (cannot be changed after creation), and allows duplicate values.\n",
    "    Tuples are written inside round brackets () and elements are separated by commas."
   ]
  },
  {
   "cell_type": "code",
   "execution_count": 4,
   "id": "4489464f-387c-4464-9ccd-c5ce70fd225f",
   "metadata": {},
   "outputs": [
    {
     "name": "stdout",
     "output_type": "stream",
     "text": [
      "(10, 20, 30, 40)\n"
     ]
    }
   ],
   "source": [
    "my_tuple = (10, 20, 30, 40)\n",
    "print(my_tuple)"
   ]
  },
  {
   "cell_type": "markdown",
   "id": "23a12de4-5c29-4cbe-890e-88049a163b06",
   "metadata": {},
   "source": [
    "Characteristics of Tuples\n",
    "\n",
    "1. Ordered → The elements have a defined order, and that order will not change."
   ]
  },
  {
   "cell_type": "code",
   "execution_count": 10,
   "id": "946b8a85-4558-4c2b-a133-2946a1955f8e",
   "metadata": {},
   "outputs": [
    {
     "name": "stdout",
     "output_type": "stream",
     "text": [
      "3\n"
     ]
    }
   ],
   "source": [
    "t = (1, 2, 3)\n",
    "# print(t[1:3])   \n",
    "print(t[-1])"
   ]
  },
  {
   "cell_type": "markdown",
   "id": "2df70750-782a-40ae-b059-e061cf6ee685",
   "metadata": {},
   "source": [
    "2. Immutable → Once created, you cannot modify, add, or remove items."
   ]
  },
  {
   "cell_type": "code",
   "execution_count": 13,
   "id": "f542532e-5fb0-4548-a7e0-e4aed08814f6",
   "metadata": {},
   "outputs": [],
   "source": [
    "t = (1, 2, 3)\n",
    "# t[0] = 100  \n",
    "# print(t)     TypeError: 'tuple' object does not support item assignment"
   ]
  },
  {
   "cell_type": "markdown",
   "id": "829071d0-90f5-460e-b120-6c407f3e1401",
   "metadata": {},
   "source": [
    "3. Allows duplicates → Tuples can have the same value multiple times."
   ]
  },
  {
   "cell_type": "code",
   "execution_count": 15,
   "id": "546a3b60-8548-411f-a8a8-34d6a925b055",
   "metadata": {},
   "outputs": [
    {
     "name": "stdout",
     "output_type": "stream",
     "text": [
      "(1, 2, 2, 3)\n"
     ]
    }
   ],
   "source": [
    "t = (1, 2, 2, 3)\n",
    "print(t)   # (1, 2, 2, 3)"
   ]
  },
  {
   "cell_type": "markdown",
   "id": "258bd2b2-ba12-4e28-adc6-b217b5900bac",
   "metadata": {},
   "source": [
    "3. Can contain different data types → Tuples can mix integers, strings, lists, etc."
   ]
  },
  {
   "cell_type": "code",
   "execution_count": 16,
   "id": "a6c56f25-42eb-44e5-a7e8-8e2eaf27bc90",
   "metadata": {},
   "outputs": [
    {
     "name": "stdout",
     "output_type": "stream",
     "text": [
      "(1, 'hello', 3.5, [10, 20])\n"
     ]
    }
   ],
   "source": [
    "t = (1, \"hello\", 3.5, [10, 20])\n",
    "print(t)"
   ]
  },
  {
   "cell_type": "code",
   "execution_count": 23,
   "id": "91d49fb7-1cc4-422b-bf28-fe0c0b03b70f",
   "metadata": {},
   "outputs": [
    {
     "data": {
      "text/plain": [
       "tuple"
      ]
     },
     "execution_count": 23,
     "metadata": {},
     "output_type": "execute_result"
    }
   ],
   "source": [
    "# 🔹 Creating Tuples\n",
    "t1 = (1, 2, 3)             # normal tuple\n",
    "t2 = tuple([4, 5, 6])      # using tuple() function\n",
    "t3 = (10,)                 # single element tuple (must use comma)\n",
    "t4 = ()                    # empty tuple\n",
    "\n",
    "# type(t1)"
   ]
  },
  {
   "cell_type": "code",
   "execution_count": 26,
   "id": "657bae9e-0fb2-46f2-9754-ce0bccae3cba",
   "metadata": {},
   "outputs": [
    {
     "name": "stdout",
     "output_type": "stream",
     "text": [
      "40\n"
     ]
    }
   ],
   "source": [
    "# 🔹 Accessing Tuple Elements\n",
    "# 1. Indexing\n",
    "t = (10, 20, 30, 40)\n",
    "# print(t[0])   \n",
    "print(t[-1])  \n"
   ]
  },
  {
   "cell_type": "code",
   "execution_count": 27,
   "id": "ed0b79ca-f226-4399-b090-46f19787f1b8",
   "metadata": {},
   "outputs": [
    {
     "name": "stdout",
     "output_type": "stream",
     "text": [
      "(20, 30, 40)\n",
      "(10, 20, 30)\n"
     ]
    }
   ],
   "source": [
    "# 2. Slicing\n",
    "t = (10, 20, 30, 40, 50)\n",
    "print(t[1:4])   # (20, 30, 40)\n",
    "print(t[:3])    # (10, 20, 30)\n"
   ]
  },
  {
   "cell_type": "code",
   "execution_count": 29,
   "id": "7e86dc9a-7873-441f-9d12-1fec34daa8e6",
   "metadata": {},
   "outputs": [
    {
     "name": "stdout",
     "output_type": "stream",
     "text": [
      "(1, 2, 3, 4)\n"
     ]
    }
   ],
   "source": [
    "# 🔹 Tuple Operations\n",
    "# 1. Concatenation\n",
    "\n",
    "a = (1, 2)\n",
    "b = (3, 4)\n",
    "print(a + b)\n"
   ]
  },
  {
   "cell_type": "code",
   "execution_count": 31,
   "id": "09324fa3-f87b-4de5-9260-c34adae20650",
   "metadata": {},
   "outputs": [
    {
     "name": "stdout",
     "output_type": "stream",
     "text": [
      "(1, 2, 1, 2, 1, 2)\n"
     ]
    }
   ],
   "source": [
    "# 2. Repetition\n",
    "t = (1, 2)\n",
    "print(t * 3)\n"
   ]
  },
  {
   "cell_type": "code",
   "execution_count": 33,
   "id": "2891d096-8ec5-4272-a344-1a1b72b25427",
   "metadata": {},
   "outputs": [
    {
     "name": "stdout",
     "output_type": "stream",
     "text": [
      "True\n"
     ]
    }
   ],
   "source": [
    "# 3. Membership\n",
    "t = (10, 20, 30)\n",
    "# print(20 in t)\n",
    "print(50 not in t)\n"
   ]
  },
  {
   "cell_type": "code",
   "execution_count": 39,
   "id": "e2ad24ae-e4dc-4cec-acb3-a28438d6f224",
   "metadata": {},
   "outputs": [
    {
     "name": "stdout",
     "output_type": "stream",
     "text": [
      "6\n"
     ]
    }
   ],
   "source": [
    "# 🔹 Tuple Methods\n",
    "# Tuples have only two methods (since they are immutable):\n",
    "t = (1, 2, 2, 3, 3, 3, 4)\n",
    "\n",
    "# print(t.count(3))   \n",
    "print(t.index(4)) \n"
   ]
  },
  {
   "cell_type": "code",
   "execution_count": 42,
   "id": "38aa522e-0262-4094-b8da-df7badb501b5",
   "metadata": {},
   "outputs": [
    {
     "name": "stdout",
     "output_type": "stream",
     "text": [
      "10 20 30\n"
     ]
    }
   ],
   "source": [
    "# 🔹 Tuple Packing and Unpacking\n",
    "\n",
    "# Packing: Assigning multiple values into a tuple.\n",
    "# Unpacking: Extracting values into variables.\n",
    "\n",
    "# Packing\n",
    "t = (10, 20, 30)\n",
    "\n",
    "# Unpacking\n",
    "a, b, c = t\n",
    "print(a, b, c)"
   ]
  },
  {
   "cell_type": "code",
   "execution_count": 45,
   "id": "38e0f556-075c-4849-ab04-ded15d384747",
   "metadata": {},
   "outputs": [
    {
     "name": "stdout",
     "output_type": "stream",
     "text": [
      "5\n"
     ]
    }
   ],
   "source": [
    "# 🔹 Nested Tuples\n",
    "\n",
    "# Tuples can contain other tuples.\n",
    "t = (1, (2, 3), (4, 5, 6))\n",
    "# print(t[1])     \n",
    "print(t[2][1]) "
   ]
  },
  {
   "cell_type": "code",
   "execution_count": null,
   "id": "b0350618-e4a5-4884-8424-2df80df0dd3b",
   "metadata": {},
   "outputs": [],
   "source": []
  }
 ],
 "metadata": {
  "kernelspec": {
   "display_name": "Python 3 (ipykernel)",
   "language": "python",
   "name": "python3"
  },
  "language_info": {
   "codemirror_mode": {
    "name": "ipython",
    "version": 3
   },
   "file_extension": ".py",
   "mimetype": "text/x-python",
   "name": "python",
   "nbconvert_exporter": "python",
   "pygments_lexer": "ipython3",
   "version": "3.13.5"
  }
 },
 "nbformat": 4,
 "nbformat_minor": 5
}
