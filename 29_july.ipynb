{
 "cells": [
  {
   "cell_type": "code",
   "execution_count": 2,
   "id": "d6c68cb7-9e00-4a4e-9565-0317a0056ada",
   "metadata": {},
   "outputs": [
    {
     "name": "stdout",
     "output_type": "stream",
     "text": [
      "This will \" execute\n"
     ]
    }
   ],
   "source": [
    "#print(\"This doesnt \"execute\")\n",
    "print(\"This will \\\" execute\")"
   ]
  },
  {
   "cell_type": "code",
   "execution_count": 6,
   "id": "67838673-979e-4230-b942-5701fa2f314c",
   "metadata": {},
   "outputs": [
    {
     "name": "stdin",
     "output_type": "stream",
     "text": [
      "Enter a number:   455552165\n"
     ]
    },
    {
     "name": "stdout",
     "output_type": "stream",
     "text": [
      "The last digit of 455552165 is : 65\n"
     ]
    }
   ],
   "source": [
    "# write a program  to print last digit of a number given by user.\n",
    "\n",
    "num = int(input(\"Enter a number:  \"))\n",
    "res=num%100\n",
    "print(f\"The last digit of {num} is : {res}\")"
   ]
  },
  {
   "cell_type": "code",
   "execution_count": 7,
   "id": "18d0609f-4273-488c-8efd-3c01a819baa9",
   "metadata": {},
   "outputs": [
    {
     "name": "stdout",
     "output_type": "stream",
     "text": [
      "False\n"
     ]
    }
   ],
   "source": [
    "# Operators in python.\n",
    "# 1. Arithmatic operator (+,-,*,**:exponential, /:division, //:floor div, %:modulus -> remender\n",
    "# 2. Comparision/Relational operator (<,>,<=,>=,==,!=)\n",
    "# 3. Assignment operator (+=, -=, /=, *=, %=, //=, **=)\n",
    "# 4. Membership operator (in, not in)\n",
    "# 5. Identity operator (is, or, not)\n",
    "# 6. Logical operator (and, or, not)\n",
    "# 7. Bitwise operator (&, |, <<, >>)\n",
    "a = \"ab\"\n",
    "b = \"s\"\n",
    "res = a>b\n",
    "print(res)\n"
   ]
  },
  {
   "cell_type": "code",
   "execution_count": 3,
   "id": "be85e500-2b6d-4961-97c1-2b92d091499b",
   "metadata": {},
   "outputs": [
    {
     "name": "stdout",
     "output_type": "stream",
     "text": [
      "1\n"
     ]
    }
   ],
   "source": [
    "# 1.Arithmatic operator (+,-,*,**:exponential, /:division, //:floor div, %:modulus -> remender\n",
    "num1 = 16\n",
    "num2 = 3\n",
    "\n",
    "# res = num1 + num2\n",
    "# res = num1 - num2\n",
    "# res = num1 * num2\n",
    "# res = num1 ** num2\n",
    "# res = num1 / num2\n",
    "# res = num1 // num2\n",
    "res = num1 % num2\n",
    "\n",
    "print(res)"
   ]
  },
  {
   "cell_type": "code",
   "execution_count": 33,
   "id": "863e370a-5761-48fb-81c8-ceaafff929a2",
   "metadata": {},
   "outputs": [
    {
     "name": "stdout",
     "output_type": "stream",
     "text": [
      "False\n"
     ]
    }
   ],
   "source": [
    "# 2.Comparision/Relational operator (==,!=,<,>,<=,>=)\n",
    "a = 45\n",
    "b = 30\n",
    "#value = a < b\n",
    "#value = a > b\n",
    "#value = a <= b\n",
    "#value = a >= b\n",
    "value = a == b\n",
    "# value = a != b\n",
    "print(value)"
   ]
  },
  {
   "cell_type": "code",
   "execution_count": 5,
   "id": "306cfc38-92c6-4946-a16c-55f7953fceff",
   "metadata": {},
   "outputs": [
    {
     "name": "stdout",
     "output_type": "stream",
     "text": [
      "15\n"
     ]
    }
   ],
   "source": [
    "# 3. Assignment operator (+=, -=, /=, *=,, %=, //=, **=)\n",
    "\n",
    "x = 10\n",
    "x += 5  # Equivalent to x = x + 5; x becomes 15\n",
    "# x -= 15\n",
    "# x /= 15\n",
    "# x *= 3\n",
    "# x %= 4\n",
    "# x //= 3\n",
    "# x **= 3\n",
    "\n",
    "print(x)\n"
   ]
  },
  {
   "cell_type": "code",
   "execution_count": 5,
   "id": "9fdc6987-f49f-4d87-8f8a-3f037dfeb1ca",
   "metadata": {},
   "outputs": [
    {
     "name": "stdout",
     "output_type": "stream",
     "text": [
      "True\n",
      "True\n",
      "False\n"
     ]
    }
   ],
   "source": [
    "# 4. Membership operator (in, not in)\n",
    "\"\"\"\n",
    "NOTE: Not work on numeric values\n",
    "The not in operator in Python is a membership operator used to determine if a value is not present within a sequence\n",
    "(such as a list, tuple, string, set, or dictionary keys). It returns a boolean value: \n",
    "True: If the specified value is not found in the sequence.\n",
    "False: If the specified value is found in the sequence.\n",
    "Membership operators in Python, in and not in, are used to test for the presence or absence of a value within a sequence,\n",
    "such as a string, list, tuple, or set.They return a boolean value (True or False) based on the result of the check.\n",
    "\"\"\"\n",
    "# num = '58568'\n",
    "# res = '58' in num\n",
    "# print(res)\n",
    "\n",
    "# num = 'python'\n",
    "# res = 'py' in num\n",
    "# print(res)\n",
    "\n",
    "my_list = [10, 20, 30, 40]\n",
    "print(50 not in my_list)  \n",
    "print(20 not in my_list)\n",
    "\n",
    "# value not in sequence\n",
    "\n",
    "# With a List.\n",
    "\n",
    "\n",
    "# With a String.\n",
    "my_string = \"hello world\"\n",
    "# print(\"xyz\" not in my_string)  \n",
    "# print(\"world\" not in my_string) \n",
    "\n",
    "# With a Dictionary: (Checks against keys)\n",
    "my_dict = {\"a\": 1, \"b\": 2}\n",
    "# print(\"c\" not in my_dict)  \n",
    "# print(\"a\" not in my_dict)  \n"
   ]
  },
  {
   "cell_type": "code",
   "execution_count": 14,
   "id": "b9cb5093-25f5-4e51-8d8b-58953fab558f",
   "metadata": {},
   "outputs": [
    {
     "name": "stdout",
     "output_type": "stream",
     "text": [
      "True\n"
     ]
    }
   ],
   "source": [
    "# 5. Identity operator (is, or, not)\n",
    "# Identity operator work on memory address not on variable value\n",
    "\n",
    "a = 1000\n",
    "b = 1000\n",
    "\n",
    "# a = \"abcd\"\n",
    "# b = \"abcd\"\n",
    "# print(id(a))\n",
    "# res = a is b\n",
    "res = a == b\n",
    "print(res)"
   ]
  },
  {
   "cell_type": "code",
   "execution_count": 15,
   "id": "9427c6d4-03d8-4e87-8c99-e86eb0d2e14c",
   "metadata": {},
   "outputs": [
    {
     "name": "stdout",
     "output_type": "stream",
     "text": [
      "You can go outside\n"
     ]
    }
   ],
   "source": [
    "# 6. Logical operator (and, or, not)\n",
    "# Logical operators in Python — and, or, and not — are used to combine or modify conditional expressions (boolean values: True or False).\n",
    "x = 45\n",
    "y = 45\n",
    "\n",
    "# a = (x < 15 and y > 20)\n",
    "# b = (x > 15 or y > 20)\n",
    "\n",
    "# print(a)\n",
    "# print(b)\n",
    "# c = x != y\n",
    "# print(c)\n",
    "\n",
    "is_raining = False\n",
    "\n",
    "if not is_raining:\n",
    "    print(\"You can go outside\")\n",
    "else:\n",
    "    print(\"Stay inside\")\n",
    "# 3. not\n",
    "# Reverses the result:\n",
    "\n",
    "# not True → False\n",
    "\n",
    "# not False → True\n"
   ]
  },
  {
   "cell_type": "code",
   "execution_count": 4,
   "id": "8f9245b0-45d1-4144-b32d-ec2f5b7233df",
   "metadata": {},
   "outputs": [
    {
     "name": "stdout",
     "output_type": "stream",
     "text": [
      "1\n"
     ]
    }
   ],
   "source": [
    "# 7. Bitwise operator (&, |, ^, <<, >>)\n",
    "# Bitwise operators perform operations on integer data at the individual bit level.\n",
    "# They are often used for low-level data manipulation, flag management, and efficient calculations.\n",
    "\n",
    "# Bitwise AND (&):\n",
    "# This operator compares corresponding bits of two operands. If both bits are 1, the resulting bit is 1; otherwise, it is 0.\n",
    "\n",
    "\n",
    "# a = 3\n",
    "# b = 2\n",
    "# res = a & b\n",
    "# print(res)\n",
    "\n",
    "a = 5          # 0101 (binary)\n",
    "b = 3          # 0011 (binary)\n",
    "\n",
    "res = a & b\n",
    "print(res)     # 1 (0001)"
   ]
  },
  {
   "cell_type": "code",
   "execution_count": 8,
   "id": "782a9465-f56e-4c85-b780-781f753d7b18",
   "metadata": {},
   "outputs": [
    {
     "name": "stdout",
     "output_type": "stream",
     "text": [
      "7\n"
     ]
    }
   ],
   "source": [
    "\n",
    "# Bitwise OR (|):\n",
    "# This operator compares corresponding bits of two operands. If at least one bit is 1, the resulting bit is 1; otherwise, it is 0.\n",
    "\n",
    "\n",
    "\n",
    "\n",
    "a = 5          \n",
    "b = 3          \n",
    "\n",
    "res = a | b\n",
    "print(res)     "
   ]
  },
  {
   "cell_type": "code",
   "execution_count": 18,
   "id": "c3b83a61-0a1c-41a7-b469-a7f20dd27495",
   "metadata": {},
   "outputs": [
    {
     "name": "stdout",
     "output_type": "stream",
     "text": [
      "10\n"
     ]
    }
   ],
   "source": [
    "# 3. Left Shift (<<)\n",
    "\n",
    "# Shifts bits of a number to the left by given positions.\n",
    "\n",
    "# Each shift multiplies the number by 2.\n",
    "\n",
    "\n",
    "\n",
    "a = 5          \n",
    "\n",
    "print(a << 1)     "
   ]
  },
  {
   "cell_type": "code",
   "execution_count": 20,
   "id": "bf017a73-5d30-4a7b-b33e-7ae80eac5f89",
   "metadata": {},
   "outputs": [
    {
     "name": "stdout",
     "output_type": "stream",
     "text": [
      "5\n"
     ]
    }
   ],
   "source": [
    "# 4. Right Shift (>>)\n",
    "\n",
    "# Shifts bits of a number to the right by given positions.\n",
    "\n",
    "# Each shift divides the number by 2 (floor division).\n",
    "\n",
    "\n",
    "\n",
    "a = 10       \n",
    "\n",
    "print(a >> 1)     "
   ]
  },
  {
   "cell_type": "code",
   "execution_count": 28,
   "id": "bfc2ab54-5988-465e-8c42-a5c12485b98e",
   "metadata": {},
   "outputs": [
    {
     "name": "stdout",
     "output_type": "stream",
     "text": [
      "0b1100\n"
     ]
    }
   ],
   "source": [
    "pin = 12\n",
    "\n",
    "print(bin(pin))\n",
    "# print(hex(pin))"
   ]
  },
  {
   "cell_type": "code",
   "execution_count": 1,
   "id": "b3705da7-d6c5-45b2-9a44-71e2d597e5b5",
   "metadata": {},
   "outputs": [
    {
     "name": "stdout",
     "output_type": "stream",
     "text": [
      "<class 'int'>\n",
      "<class 'int'>\n",
      "<class 'bool'>\n"
     ]
    }
   ],
   "source": [
    "# Conditional statements\n",
    "# 1. if else\n",
    "# 2. multiple if\n",
    "# 3. if elif else\n",
    "# 4. multiple if elif else\n",
    "# 5. chaining of if else (nesting, ladder)\n",
    "a = 10\n",
    "b = 500\n",
    "print(type(a))\n",
    "print(type(b))\n",
    "res = a == b\n",
    "print(type(res))\n"
   ]
  },
  {
   "cell_type": "code",
   "execution_count": 4,
   "id": "363b1796-4f22-43de-87a4-0d2f28532695",
   "metadata": {},
   "outputs": [
    {
     "name": "stdout",
     "output_type": "stream",
     "text": [
      "False\n",
      "ha hai\n"
     ]
    }
   ],
   "source": [
    "a = 40\n",
    "b = 60\n",
    "res = a>b\n",
    "print(res)\n",
    "if (res==False):\n",
    "    print(\"ha hai\")\n",
    "else:\n",
    "    print(\"Nhi hai\")"
   ]
  },
  {
   "cell_type": "code",
   "execution_count": 8,
   "id": "095ed607-ec9d-4561-aa0c-4250bcd0abf1",
   "metadata": {},
   "outputs": [
    {
     "name": "stdout",
     "output_type": "stream",
     "text": [
      "yes\n"
     ]
    }
   ],
   "source": [
    "a = 40\n",
    "b = 65\n",
    "if a>b or a<b:\n",
    "    print(\"yes\")\n",
    "else:\n",
    "    print(\"No\")"
   ]
  },
  {
   "cell_type": "code",
   "execution_count": 9,
   "id": "6974f880-d6e2-4f8f-a415-d85669a89c29",
   "metadata": {},
   "outputs": [
    {
     "name": "stdout",
     "output_type": "stream",
     "text": [
      "No\n"
     ]
    }
   ],
   "source": [
    "a = 40\n",
    "b = 65\n",
    "if a>b and a<b:\n",
    "    print(\"yes\")\n",
    "else:\n",
    "    print(\"No\")"
   ]
  },
  {
   "cell_type": "code",
   "execution_count": 29,
   "id": "819a4c99-9473-44a7-aed8-9a9d0ee7b8a9",
   "metadata": {},
   "outputs": [
    {
     "name": "stdout",
     "output_type": "stream",
     "text": [
      "Nhi aayega\n"
     ]
    }
   ],
   "source": [
    "a = False\n",
    "if a:\n",
    "    print(\"aayega\")\n",
    "else:\n",
    "    print(\"Nhi aayega\")\n",
    "    \n",
    "\n",
    "          "
   ]
  },
  {
   "cell_type": "code",
   "execution_count": 12,
   "id": "96ebcb5f-d9ab-4bc2-89d3-58b8422dae10",
   "metadata": {},
   "outputs": [
    {
     "name": "stdout",
     "output_type": "stream",
     "text": [
      "5\n"
     ]
    }
   ],
   "source": [
    "x=\"rajiq\"\n",
    "print(len(x))"
   ]
  },
  {
   "cell_type": "code",
   "execution_count": 32,
   "id": "2f70f13d-ced5-4835-a639-6dd4efe4f312",
   "metadata": {},
   "outputs": [
    {
     "name": "stdin",
     "output_type": "stream",
     "text": [
      "Enter a number:  78\n"
     ]
    },
    {
     "name": "stdout",
     "output_type": "stream",
     "text": [
      "Given number is even: 78\n"
     ]
    }
   ],
   "source": [
    "#wap to check number is odd or even and take the number by user.\n",
    "\n",
    "num = int(input(\"Enter a number: \"))\n",
    "\n",
    "if (num%2 == 0):\n",
    "    print(f\"Given number is even: {num}\")\n",
    "else:\n",
    "    print(f\"Given number is odd: {num}\")\n"
   ]
  },
  {
   "cell_type": "code",
   "execution_count": 39,
   "id": "f1e1018f-da57-46a1-ab26-24ad45782b65",
   "metadata": {},
   "outputs": [
    {
     "name": "stdin",
     "output_type": "stream",
     "text": [
      "Enter a number:  78\n"
     ]
    },
    {
     "name": "stdout",
     "output_type": "stream",
     "text": [
      "Number is divided by 3 and 6: 78\n"
     ]
    }
   ],
   "source": [
    "#wap to check number is divided by both 3 and 6 take number by user.\n",
    "\n",
    "num = int(input(\"Enter a number: \"))\n",
    "\n",
    "if (num%3 == 0 and num%6 == 0):\n",
    "    print(f\"Number is divided by 3 and 6: {num}\")\n",
    "else:\n",
    "    print(f\"Number is not divided by 3 and 6: {num}\")\n"
   ]
  },
  {
   "cell_type": "code",
   "execution_count": 41,
   "id": "0f680e4e-9f2e-4345-a858-0466ac9e3853",
   "metadata": {},
   "outputs": [
    {
     "name": "stdout",
     "output_type": "stream",
     "text": [
      "yes1\n",
      "yes3\n"
     ]
    }
   ],
   "source": [
    "# Multiple if  Note: IN if case Continue condition checking rather true / false\n",
    "# \n",
    "z = 300\n",
    "\n",
    "if z>100:\n",
    "    print(\"yes1\")\n",
    "if z>500:\n",
    "    print(\"yes2\")\n",
    "if z>200:\n",
    "    print(\"yes3\")\n",
    "else:\n",
    "    print(\"NO 1\")"
   ]
  },
  {
   "cell_type": "code",
   "execution_count": 46,
   "id": "067a62b7-9549-4610-abf6-dc8cad05bb13",
   "metadata": {},
   "outputs": [
    {
     "name": "stdout",
     "output_type": "stream",
     "text": [
      "NO 1\n"
     ]
    }
   ],
   "source": [
    "# Q In multiple elif condition when else part execute\n",
    "# Ans: When all condition false then else part execute\n",
    "z = 300\n",
    "\n",
    "if z > 400:\n",
    "    print(\"yes1\")\n",
    "elif z > 350:\n",
    "    print(\"yes2\")\n",
    "elif z > 300:\n",
    "    print(\"yes3\")\n",
    "else:\n",
    "    print(\"NO 1\")"
   ]
  },
  {
   "cell_type": "code",
   "execution_count": 8,
   "id": "82c9a459-1632-41a1-8c87-32a4e5990a62",
   "metadata": {},
   "outputs": [
    {
     "name": "stdin",
     "output_type": "stream",
     "text": [
      "Enter a number1:  87\n"
     ]
    },
    {
     "name": "stdout",
     "output_type": "stream",
     "text": [
      "87\n"
     ]
    },
    {
     "name": "stdin",
     "output_type": "stream",
     "text": [
      "Enter a number2:  89\n"
     ]
    },
    {
     "name": "stdout",
     "output_type": "stream",
     "text": [
      "87\n"
     ]
    },
    {
     "name": "stdin",
     "output_type": "stream",
     "text": [
      "Enter a number3:  100\n"
     ]
    },
    {
     "name": "stdout",
     "output_type": "stream",
     "text": [
      "87\n",
      "In 87 89 100: 89 is greatest\n"
     ]
    }
   ],
   "source": [
    "# Wap to take three number form user and find greatest number among those given three number\n",
    "\n",
    "num1 = input(\"Enter a number1: \")\n",
    "print(num1)\n",
    "num2 = input(\"Enter a number2: \")\n",
    "print(num1)\n",
    "num3 = input(\"Enter a number3: \")\n",
    "print(num1)\n",
    "\n",
    "if (num1 > num2 and num1 > num3):\n",
    "    print(f\"In {num1} {num2} {num3}: {num1} is greatest\")\n",
    "elif (num2 > num1 and num2 > num3):\n",
    "    print(f\"In {num1} {num2} {num3}: {num2} is greatest\")\n",
    "else:\n",
    "    print(f\"In {num1} {num2} {num3}: {num3} is greatest\")\n",
    "    \n",
    "\n"
   ]
  },
  {
   "cell_type": "code",
   "execution_count": 21,
   "id": "1655c52f-4857-437f-9ad1-e3481701f0f6",
   "metadata": {},
   "outputs": [
    {
     "name": "stdin",
     "output_type": "stream",
     "text": [
      "Enter a number:  66\n"
     ]
    },
    {
     "name": "stdout",
     "output_type": "stream",
     "text": [
      "Number is divided by 3: 66\n",
      "Number is divided by 6: 66\n",
      "Number is divided by 3 and 6: 66\n"
     ]
    }
   ],
   "source": [
    "num = int(input(\"Enter a number: \"))\n",
    "\n",
    "if (num%3 == 0):\n",
    "    print(f\"Number is divided by 3: {num}\")\n",
    "if(num%6 == 0):\n",
    "    print(f\"Number is divided by 6: {num}\")\n",
    "if(num%3 == 0 and num%6 == 0):\n",
    "    print(f\"Number is divided by 3 and 6: {num}\")\n",
    "else:\n",
    "    print(f\"Number is not divided by 3 and 6: {num}\")"
   ]
  },
  {
   "cell_type": "code",
   "execution_count": 23,
   "id": "ae7ed6f3-f929-4230-bdab-efa769b40272",
   "metadata": {},
   "outputs": [
    {
     "name": "stdout",
     "output_type": "stream",
     "text": [
      "Marks of studen is:90\n",
      "pass\n"
     ]
    }
   ],
   "source": [
    "# Nested if else\n",
    "marks = 90\n",
    "if marks:\n",
    "    print(f\"Marks of studen is:{marks}\")\n",
    "    if marks > 88:\n",
    "        print(\"pass\")"
   ]
  },
  {
   "cell_type": "code",
   "execution_count": null,
   "id": "d6baa593-9fab-4679-80d6-280a3f5c9424",
   "metadata": {},
   "outputs": [],
   "source": [
    "marks = 90\n",
    "if marks:\n",
    "    if marks > 88:\n",
    "        print(\"pass\")"
   ]
  },
  {
   "cell_type": "code",
   "execution_count": 5,
   "id": "58660a9f-f285-4593-a757-30b6b637b9b8",
   "metadata": {},
   "outputs": [
    {
     "name": "stdin",
     "output_type": "stream",
     "text": [
      "Enter your name:  15\n",
      "Enter your age 45\n",
      "Enter your nation:  hhd\n"
     ]
    },
    {
     "name": "stdout",
     "output_type": "stream",
     "text": [
      "Not eligible\n"
     ]
    }
   ],
   "source": [
    "name = input(\"Enter your name: \")\n",
    "age = int(input(\"Enter your age\"))\n",
    "nationality = input(\"Enter your nation: \")\n",
    "# marks = int(input(\"Enter your marks: \"))\n",
    "# premarks = int(input(\"Enter your pre marks: \"))\n",
    "# mainsmarks = int(input(\"Enter your mains marks: \"))\n",
    "\n",
    "if age > 18 and (nationality == \"INDIAN\" or nationality == \"Indian\" or nationality == \"indian\"):\n",
    "    print(\"Student  is eligible for exam\")\n",
    "    pre_marks = int(type(f\"Enter your pre marks: \"))\n",
    "    if pre_marks >= 400:\n",
    "        print(f\"Congrates you are pass in pre: {pre_marks}\")\n",
    "        mains_marks = int(type(f\"Enter your pre mains marks: \"))\n",
    "        if mains_marks >= 500:\n",
    "            print(f\"Congrates you are pass in mains: {mains_marks}\")\n",
    "            inter_marks = int(type(f\"Enter your pre interview marks: \"))\n",
    "            if inter_marks >= 600:\n",
    "                print(f\"Congrates you selected for ias/ips\")\n",
    "            else:\n",
    "                print(\"Your are fail in interview\")\n",
    "        else:\n",
    "            print(\"Your are fail in mains\")\n",
    "    else:\n",
    "        print(\"Your are fail in pre\")\n",
    "else:\n",
    "    print(\"Not eligible\")\n",
    "        \n",
    "        \n"
   ]
  },
  {
   "cell_type": "code",
   "execution_count": 1,
   "id": "4abd65bb-95dd-4537-bf43-608af07ca4c4",
   "metadata": {},
   "outputs": [
    {
     "name": "stdin",
     "output_type": "stream",
     "text": [
      "Enter the aptitude score:  78\n",
      "Enter the technical score:  78\n",
      "Enter the HR round score:  78\n"
     ]
    },
    {
     "name": "stdout",
     "output_type": "stream",
     "text": [
      "In all three tests, they are score more than 70 they selected: 234\n",
      "In two tests, they are score more than 70 they are on hold: 234\n",
      "Rejected\n"
     ]
    }
   ],
   "source": [
    "# A software company evalutes job candidates based on three tests:\n",
    "# 1. aptitude test\n",
    "# 2. Technical test\n",
    "# 3. HR Interview\n",
    "\n",
    "# The selection criteria are follows:\n",
    "# if the candidate score more than 70\n",
    "# in all three tests, they are selected\n",
    "\n",
    "# if the candidate score more than 70\n",
    "# in only two tests, they are on hold\n",
    "\n",
    "# if the candidate score more than 70\n",
    "# in only one or none of the tests, they are rejected\n",
    "\n",
    "aptitude_score = int(input(\"Enter the aptitude score: \"))\n",
    "technical_score = int(input(\"Enter the technical score: \"))\n",
    "HRround_score = int(input(\"Enter the HR round score: \"))\n",
    "\n",
    "total_score = aptitude_score + technical_score + HRround_score\n",
    "\n",
    "if aptitude_score >= 70 and technical_score >= 70 and HRround_score >=70:\n",
    "    print(f\"In all three tests, they are score more than 70 they selected: {total_score}\")\n",
    "    if ((aptitude_score >= 70 and technical_score >= 70) or HRround_score >=70):\n",
    "        print(f\"In two tests, they are score more than 70 they are on hold: {total_score}\")\n",
    "        if (total_score == 70):\n",
    "           print(f\"In one tests, they are score more than 70 they are rejected: {total_score}\") \n",
    "        else:\n",
    "            print(\"Rejected\")\n",
    "    else:\n",
    "        print(\"On hold\")\n",
    "else:\n",
    "    print(\"Not selected!\")\n"
   ]
  },
  {
   "cell_type": "code",
   "execution_count": null,
   "id": "85b65d2a-3a69-4651-bae0-60ad4a66d4ca",
   "metadata": {},
   "outputs": [],
   "source": [
    "# if → runs a block of code when the condition is True.\n",
    "\n",
    "# if-else → runs one block if the condition is True, otherwise runs another block.\n",
    "\n",
    "# if-elif-else → checks multiple conditions one by one until one is True.\n",
    "\n",
    "# nested if-else → an if (or if-else) inside another if-else block."
   ]
  },
  {
   "cell_type": "code",
   "execution_count": 21,
   "id": "dfce2d1c-c301-4a45-905b-d941a02ddeb5",
   "metadata": {},
   "outputs": [
    {
     "name": "stdout",
     "output_type": "stream",
     "text": [
      "You are eligible to vote.\n"
     ]
    }
   ],
   "source": [
    "# 1. if – else\n",
    "# Used when we have two choices (True or False).\n",
    "age = 18\n",
    "\n",
    "if age >= 18:\n",
    "    print(\"You are eligible to vote.\")\n",
    "else:\n",
    "    print(\"You are not eligible to vote.\")\n"
   ]
  },
  {
   "cell_type": "code",
   "execution_count": 22,
   "id": "01bd0236-970c-4e1f-b0be-248f500648c0",
   "metadata": {},
   "outputs": [
    {
     "name": "stdout",
     "output_type": "stream",
     "text": [
      "Positive number\n",
      "Divisible by 3\n"
     ]
    }
   ],
   "source": [
    "# Multiple if\n",
    "# Each if condition is checked independently (all can run if True).\n",
    "\n",
    "num = 15\n",
    "\n",
    "if num > 0:\n",
    "    print(\"Positive number\")\n",
    "\n",
    "if num % 2 == 0:\n",
    "    print(\"Even number\")\n",
    "\n",
    "if num % 3 == 0:\n",
    "    print(\"Divisible by 3\")\n"
   ]
  },
  {
   "cell_type": "code",
   "execution_count": 23,
   "id": "9a5c3e9f-2267-4b7a-9e42-e440a52442d0",
   "metadata": {},
   "outputs": [
    {
     "name": "stdout",
     "output_type": "stream",
     "text": [
      "Grade: B\n"
     ]
    }
   ],
   "source": [
    "# 3. if – elif – else\n",
    "# Used when we have multiple choices but only one will execute.\n",
    "\n",
    "marks = 75\n",
    "\n",
    "if marks >= 90:\n",
    "    print(\"Grade: A\")\n",
    "elif marks >= 75:\n",
    "    print(\"Grade: B\")\n",
    "elif marks >= 50:\n",
    "    print(\"Grade: C\")\n",
    "else:\n",
    "    print(\"Grade: Fail\")\n"
   ]
  },
  {
   "cell_type": "code",
   "execution_count": 24,
   "id": "9bada107-7c51-4430-b3d6-f649aaf358cd",
   "metadata": {},
   "outputs": [
    {
     "name": "stdout",
     "output_type": "stream",
     "text": [
      "Positive Even\n"
     ]
    }
   ],
   "source": [
    "# 4. Chaining (Nesting / Ladder of if else)\n",
    "# Nested if = if inside another if.\n",
    "\n",
    "num = 20\n",
    "\n",
    "if num > 0:\n",
    "    if num % 2 == 0:\n",
    "        print(\"Positive Even\")\n",
    "    else:\n",
    "        print(\"Positive Odd\")\n",
    "else:\n",
    "    print(\"Negative number or Zero\")\n"
   ]
  },
  {
   "cell_type": "code",
   "execution_count": null,
   "id": "0fb0f4a5-c19d-4db2-b5d4-5c293313ad54",
   "metadata": {},
   "outputs": [],
   "source": []
  }
 ],
 "metadata": {
  "kernelspec": {
   "display_name": "Python 3 (ipykernel)",
   "language": "python",
   "name": "python3"
  },
  "language_info": {
   "codemirror_mode": {
    "name": "ipython",
    "version": 3
   },
   "file_extension": ".py",
   "mimetype": "text/x-python",
   "name": "python",
   "nbconvert_exporter": "python",
   "pygments_lexer": "ipython3",
   "version": "3.13.5"
  }
 },
 "nbformat": 4,
 "nbformat_minor": 5
}
