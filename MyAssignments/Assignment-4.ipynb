{
 "cells": [
  {
   "cell_type": "raw",
   "id": "a2ba4eb1-94e6-4593-904b-64485680e602",
   "metadata": {},
   "source": [
    "Assignment-4 While Loop in Python"
   ]
  },
  {
   "cell_type": "raw",
   "id": "277f06e3-3021-4826-a58e-63e82731db28",
   "metadata": {},
   "source": [
    "1. Write a program to generate all possible multiples of a number provided by the user."
   ]
  },
  {
   "cell_type": "code",
   "execution_count": 2,
   "id": "5b225298-422e-46cc-a7e5-fb55236f0b2d",
   "metadata": {},
   "outputs": [
    {
     "name": "stdin",
     "output_type": "stream",
     "text": [
      "Enter a number you want to multiply: 17\n"
     ]
    },
    {
     "name": "stdout",
     "output_type": "stream",
     "text": [
      "17 X 1 = 17\n",
      "17 X 2 = 34\n",
      "17 X 3 = 51\n",
      "17 X 4 = 68\n",
      "17 X 5 = 85\n",
      "17 X 6 = 102\n",
      "17 X 7 = 119\n",
      "17 X 8 = 136\n",
      "17 X 9 = 153\n",
      "17 X 10 = 170\n"
     ]
    }
   ],
   "source": [
    "num = int(input(\"Enter a number you want to multiply:\"))\n",
    "i = 1\n",
    "while i <= 10:\n",
    "    print(f\"{num} X {i} = {num * i}\")\n",
    "    i += 1\n"
   ]
  },
  {
   "cell_type": "raw",
   "id": "e2c600da-1564-4809-9442-02d45b6bd8d6",
   "metadata": {},
   "source": [
    " 2. Write a program to calculate the factorial of a number provided by the user."
   ]
  },
  {
   "cell_type": "code",
   "execution_count": 1,
   "id": "e27c1c40-029b-4726-83ae-34d79b3fa816",
   "metadata": {},
   "outputs": [
    {
     "name": "stdin",
     "output_type": "stream",
     "text": [
      "Enter a number:  5\n"
     ]
    },
    {
     "name": "stdout",
     "output_type": "stream",
     "text": [
      "The factorial of 5 is : 120\n"
     ]
    }
   ],
   "source": [
    "num = int(input(\"Enter a number: \"))\n",
    "\n",
    "fact = 1\n",
    "a = 1\n",
    "while a<=num:\n",
    "    fact=fact*a\n",
    "    a+=1\n",
    "print(f\"The factorial of {num} is : {fact}\")"
   ]
  },
  {
   "cell_type": "raw",
   "id": "63fe27eb-7e42-4ac6-8d14-b8c0f7548077",
   "metadata": {},
   "source": [
    "3. Write a program to display all odd and even numbers in the range between 10 and 25."
   ]
  },
  {
   "cell_type": "code",
   "execution_count": 6,
   "id": "9fec3fb4-2c5a-4b38-a0e4-d24b01513250",
   "metadata": {},
   "outputs": [
    {
     "name": "stdout",
     "output_type": "stream",
     "text": [
      "Even : 10\n",
      "Odd  : 11\n",
      "Even : 12\n",
      "Odd  : 13\n",
      "Even : 14\n",
      "Odd  : 15\n",
      "Even : 16\n",
      "Odd  : 17\n",
      "Even : 18\n",
      "Odd  : 19\n",
      "Even : 20\n",
      "Odd  : 21\n",
      "Even : 22\n",
      "Odd  : 23\n",
      "Even : 24\n",
      "Odd  : 25\n"
     ]
    }
   ],
   "source": [
    "i = 10\n",
    "while i <= 25:\n",
    "    if i % 2 == 0:\n",
    "        print(f\"Even : {i}\")\n",
    "    else:\n",
    "        print(f\"Odd  : {i}\")\n",
    "    i += 1\n"
   ]
  },
  {
   "cell_type": "raw",
   "id": "9cb56566-fdc6-484a-ad9f-d83ad0f115ca",
   "metadata": {},
   "source": [
    "4. Write a program to generate the multiplication table of a number provided by the user.\n",
    "   The output should be in the format: 2 x 2 = 4 and so on."
   ]
  },
  {
   "cell_type": "code",
   "execution_count": 8,
   "id": "f0d33d4d-e94b-4094-a4f9-89a66581a117",
   "metadata": {},
   "outputs": [
    {
     "name": "stdin",
     "output_type": "stream",
     "text": [
      "Enter a number: 2\n"
     ]
    },
    {
     "name": "stdout",
     "output_type": "stream",
     "text": [
      "2 X 1 = 2\n",
      "2 X 2 = 4\n",
      "2 X 3 = 6\n",
      "2 X 4 = 8\n",
      "2 X 5 = 10\n",
      "2 X 6 = 12\n",
      "2 X 7 = 14\n",
      "2 X 8 = 16\n",
      "2 X 9 = 18\n",
      "2 X 10 = 20\n"
     ]
    }
   ],
   "source": [
    "num = int(input(\"Enter a number:\"))\n",
    "i=1\n",
    "while i<=10:\n",
    "    print(f\"{num} X {i} = {num * i}\")\n",
    "    i+=1"
   ]
  },
  {
   "cell_type": "raw",
   "id": "5cc05ce3-97c8-4a6b-a1aa-9472d3f6f9c0",
   "metadata": {},
   "source": [
    "5. Write a program to check whether a number provided by the user is a palindrome."
   ]
  },
  {
   "cell_type": "code",
   "execution_count": 3,
   "id": "ba4b3509-d66b-4c80-8311-1c7d4fe42715",
   "metadata": {},
   "outputs": [
    {
     "name": "stdin",
     "output_type": "stream",
     "text": [
      "Enter a number:  121\n"
     ]
    },
    {
     "name": "stdout",
     "output_type": "stream",
     "text": [
      "Number is palindrome\n"
     ]
    }
   ],
   "source": [
    "number = int(input(\"Enter a number: \"))\n",
    "temp = number\n",
    "reverse = 0\n",
    "\n",
    "while(number > 0):\n",
    "    dig = number % 10\n",
    "    reverse = reverse * 10 + dig\n",
    "    number = number // 10\n",
    "\n",
    "if temp == reverse:\n",
    "    print(\"Number is a palindrome\")\n",
    "else:\n",
    "    print(\"Number is not a palindrome\")"
   ]
  },
  {
   "cell_type": "raw",
   "id": "f0d65503-e49b-4a33-810b-c4d8720958f6",
   "metadata": {},
   "source": [
    "6. Write a program to generate the Fibonacci series up to a number provided by the user."
   ]
  },
  {
   "cell_type": "code",
   "execution_count": 7,
   "id": "7afe867c-57a8-4264-85ac-8551f9278679",
   "metadata": {},
   "outputs": [
    {
     "name": "stdin",
     "output_type": "stream",
     "text": [
      "Enter your number:  10\n"
     ]
    },
    {
     "name": "stdout",
     "output_type": "stream",
     "text": [
      "The fibonacci sequence for given number 10 is : 55\n"
     ]
    }
   ],
   "source": [
    "num = int(input(\"Enter your number: \"))\n",
    "a = 0\n",
    "b = 1\n",
    "c = 0\n",
    "i = 1\n",
    "while i < num:\n",
    "    c = a+b\n",
    "    a = b\n",
    "    b = c\n",
    "    i+=1\n",
    "\n",
    "print(f\"The fibonacci sequence for given number {num} is : {c}\")\n",
    "    "
   ]
  },
  {
   "cell_type": "raw",
   "id": "bc2da8fe-76d9-49de-a9c0-5d8ef8ef9407",
   "metadata": {},
   "source": [
    "7. Write a program to check whether a number provided by the user is prime."
   ]
  },
  {
   "cell_type": "code",
   "execution_count": 9,
   "id": "ab2d90fc-425b-43ff-b919-7db4e607f223",
   "metadata": {},
   "outputs": [
    {
     "name": "stdin",
     "output_type": "stream",
     "text": [
      "Enter your number:  1\n"
     ]
    },
    {
     "name": "stdout",
     "output_type": "stream",
     "text": [
      "Prime\n"
     ]
    }
   ],
   "source": [
    "num = int(input(\"Enter your number: \"))\n",
    "\n",
    "i = 2\n",
    "while i < num:\n",
    "    if num % i == 0:\n",
    "        print(\"Not Prime\")\n",
    "        break\n",
    "    i += 1\n",
    "else:\n",
    "    print(\"Prime\")"
   ]
  },
  {
   "cell_type": "raw",
   "id": "b467459e-ab61-4189-b972-060ecb25f00d",
   "metadata": {},
   "source": [
    "8. Write a program to generate the squares of the first 10 natural numbers.\n",
    "The output should be in the format: Square of 2: 4 and so on."
   ]
  },
  {
   "cell_type": "code",
   "execution_count": 10,
   "id": "fb943334-450d-4a28-893e-710a3551f1a0",
   "metadata": {},
   "outputs": [
    {
     "name": "stdout",
     "output_type": "stream",
     "text": [
      "Square of 1: 1\n",
      "Square of 2: 4\n",
      "Square of 3: 9\n",
      "Square of 4: 16\n",
      "Square of 5: 25\n",
      "Square of 6: 36\n",
      "Square of 7: 49\n",
      "Square of 8: 64\n",
      "Square of 9: 81\n",
      "Square of 10: 100\n"
     ]
    }
   ],
   "source": [
    "i = 1\n",
    "while i <= 10:\n",
    "    n = i ** 2\n",
    "    print(f\"Square of {i}: {n}\")\n",
    "    i += 1"
   ]
  },
  {
   "cell_type": "raw",
   "id": "17934a4b-67bd-44b1-b031-ce16310bbc8c",
   "metadata": {},
   "source": [
    "9. Write a program to calculate the sum of the digits of a number provided by the user."
   ]
  },
  {
   "cell_type": "code",
   "execution_count": 12,
   "id": "6bbc54bc-d312-491a-95fa-0487eb039524",
   "metadata": {},
   "outputs": [
    {
     "name": "stdin",
     "output_type": "stream",
     "text": [
      "Enter a number:  789\n"
     ]
    },
    {
     "name": "stdout",
     "output_type": "stream",
     "text": [
      "Sum of digits: 24\n"
     ]
    }
   ],
   "source": [
    "num = int(input(\"Enter a number: \"))\n",
    "s = 0\n",
    "\n",
    "while num > 0:\n",
    "    s = s + (num % 10)\n",
    "    num = num // 10\n",
    "\n",
    "print(\"Sum of digits:\", s)\n"
   ]
  },
  {
   "cell_type": "raw",
   "id": "37148e44-dfa9-426e-932f-c041420fbb7c",
   "metadata": {},
   "source": [
    "10.Write a program to check whether a number provided by the user is a palindrome."
   ]
  },
  {
   "cell_type": "code",
   "execution_count": null,
   "id": "f8d803ea-3866-422e-876c-289999cc9d5c",
   "metadata": {},
   "outputs": [],
   "source": [
    "number = int(input(\"Enter a number: \"))\n",
    "temp = number\n",
    "reverse = 0\n",
    "\n",
    "while(number > 0):\n",
    "    dig = number % 10\n",
    "    reverse = reverse * 10 + dig\n",
    "    number = number // 10\n",
    "\n",
    "if temp == reverse:\n",
    "    print(\"Number is a palindrome\")\n",
    "else:\n",
    "    print(\"Number is not a palindrome\")"
   ]
  },
  {
   "cell_type": "raw",
   "id": "6c12744a-8817-4dae-92db-bcc93b86780a",
   "metadata": {},
   "source": [
    "11. Write a program that takes the starting and ending points of a range as input\n",
    "from the user, then calculates the sum of all numbers within that range."
   ]
  },
  {
   "cell_type": "code",
   "execution_count": 17,
   "id": "4d9466c5-983e-4242-9681-90ba44f5b109",
   "metadata": {},
   "outputs": [
    {
     "name": "stdin",
     "output_type": "stream",
     "text": [
      "Enter the starting number:  5\n",
      "Enter the ending number:  13\n"
     ]
    },
    {
     "name": "stdout",
     "output_type": "stream",
     "text": [
      "Sum of numbers from 5 to 13 is: 81\n"
     ]
    }
   ],
   "source": [
    "start = int(input(\"Enter the starting number: \"))\n",
    "end = int(input(\"Enter the ending number: \"))\n",
    "\n",
    "total = 0\n",
    "i = start\n",
    "\n",
    "while i <= end:\n",
    "    total = total + i   \n",
    "    i += 1           \n",
    "\n",
    "print(f\"Sum of numbers from {start} to {end} is: {total}\")"
   ]
  },
  {
   "cell_type": "raw",
   "id": "3e9a2c4e-915e-4848-a93a-bd3090e42cdc",
   "metadata": {},
   "source": [
    "12.Write a program that takes the starting and ending points of a range as input\n",
    "from the user, then calculates the product of all numbers within that range."
   ]
  },
  {
   "cell_type": "code",
   "execution_count": 5,
   "id": "ccaca44a-9d4f-4520-a611-def3ec727308",
   "metadata": {},
   "outputs": [
    {
     "name": "stdin",
     "output_type": "stream",
     "text": [
      "Enter the starting number:  5\n",
      "Enter the ending number:  9\n"
     ]
    },
    {
     "name": "stdout",
     "output_type": "stream",
     "text": [
      "Count of numbers from 5 to 9 is: 5\n"
     ]
    }
   ],
   "source": [
    "start = int(input(\"Enter the starting number: \"))\n",
    "end = int(input(\"Enter the ending number: \"))\n",
    "\n",
    "count = 0\n",
    "i = start\n",
    "\n",
    "while i <= end:\n",
    "    count += 1\n",
    "    i += 1\n",
    "\n",
    "print(f\"Count of product from {start} to {end} is: {count}\")"
   ]
  },
  {
   "cell_type": "raw",
   "id": "b1f03e21-6f1c-4bf2-802d-e5e98f12bd4b",
   "metadata": {},
   "source": [
    "13.Write a program to find the greatest character in the string \"python\"."
   ]
  },
  {
   "cell_type": "code",
   "execution_count": 8,
   "id": "7a6948c7-67e0-4b5c-ae11-4d7c27d38f1c",
   "metadata": {},
   "outputs": [
    {
     "name": "stdout",
     "output_type": "stream",
     "text": [
      "Greatest character in the string: y\n"
     ]
    }
   ],
   "source": [
    "str1 = \"python\"\n",
    "i = 0\n",
    "great_val = str1[0]\n",
    "\n",
    "while i < len(str1):\n",
    "    if str1[i] > great_val:\n",
    "        great_val = str1[i]\n",
    "    i += 1\n",
    "\n",
    "print(f\"Greatest character in the string: {great_val}\")"
   ]
  },
  {
   "cell_type": "raw",
   "id": "3ce66d6d-2a42-4de7-9a61-e4f766966bd9",
   "metadata": {},
   "source": [
    "14.Write a program that allows the user to search for a character within the string\n",
    "\"Python is a programming language\"."
   ]
  },
  {
   "cell_type": "code",
   "execution_count": 12,
   "id": "34145f12-4460-4fe9-aa5f-b680cea1bc01",
   "metadata": {},
   "outputs": [
    {
     "name": "stdin",
     "output_type": "stream",
     "text": [
      "Enter a character to search:  l\n"
     ]
    },
    {
     "name": "stdout",
     "output_type": "stream",
     "text": [
      "Character 'l' found in the string.\n"
     ]
    }
   ],
   "source": [
    "str1 = \"Python is a programming language\"\n",
    "ch = input(\"Enter a character to search: \")\n",
    "\n",
    "found = False\n",
    "i = 0\n",
    "\n",
    "while i < len(str1):\n",
    "    if str1[i] == ch:\n",
    "        found = True\n",
    "        break\n",
    "    i += 1\n",
    "\n",
    "if found:\n",
    "    print(f\"Character '{ch}' found in the string.\")\n",
    "else:\n",
    "    print(f\"Character '{ch}' not found in the string.\")"
   ]
  },
  {
   "cell_type": "raw",
   "id": "ad225216-92ba-44a4-b38b-27c0612a82fb",
   "metadata": {},
   "source": [
    "15.Write a program to filter out all vowels and consonants from a string provided by\n",
    "the user."
   ]
  },
  {
   "cell_type": "code",
   "execution_count": 15,
   "id": "bda9e699-4b02-4bad-9aa1-2cc6d520409d",
   "metadata": {},
   "outputs": [
    {
     "name": "stdin",
     "output_type": "stream",
     "text": [
      "Enter a string:  rajvir\n"
     ]
    },
    {
     "name": "stdout",
     "output_type": "stream",
     "text": [
      "Vowels: ai\n",
      "Consonants: rjvr\n"
     ]
    }
   ],
   "source": [
    "str1 = input(\"Enter a string: \")\n",
    "vowels = \"aeiouAEIOU\"\n",
    "\n",
    "only_vowels = \"\"\n",
    "only_consonants = \"\"\n",
    "\n",
    "i = 0\n",
    "while i < len(str1):\n",
    "    if str1[i].isalpha():\n",
    "        if str1[i] in vowels:\n",
    "            only_vowels += str1[i]\n",
    "        else:\n",
    "            only_consonants += str1[i]\n",
    "    i += 1\n",
    "\n",
    "print(\"Vowels:\", only_vowels)\n",
    "print(\"Consonants:\", only_consonants)\n"
   ]
  },
  {
   "cell_type": "raw",
   "id": "fbaf66c6-887d-4d8b-83cb-112b613a311f",
   "metadata": {},
   "source": [
    "16.Write a program to filter out duplicate characters from a string provided by the\n",
    "user."
   ]
  },
  {
   "cell_type": "code",
   "execution_count": 17,
   "id": "3bebcfa5-6525-4d7c-99f7-f82c6fa94fc6",
   "metadata": {},
   "outputs": [
    {
     "name": "stdin",
     "output_type": "stream",
     "text": [
      "Enter a string:  Hello python\n"
     ]
    },
    {
     "name": "stdout",
     "output_type": "stream",
     "text": [
      "String after removing duplicates: Helo pythn\n"
     ]
    }
   ],
   "source": [
    "str1 = input(\"Enter a string: \")\n",
    "result = \"\"\n",
    "i = 0\n",
    "\n",
    "while i < len(str1):\n",
    "    if str1[i] not in result:\n",
    "        result += str1[i]\n",
    "    i += 1\n",
    "\n",
    "print(\"String after removing duplicates:\", result)\n"
   ]
  },
  {
   "cell_type": "raw",
   "id": "1e3d81c4-35ab-4da1-9091-85ab7f299854",
   "metadata": {},
   "source": [
    "17.Write a program to find the greatest character in the string \"python\"."
   ]
  },
  {
   "cell_type": "code",
   "execution_count": 18,
   "id": "212946f3-0f7f-4a99-987a-c43e290360cf",
   "metadata": {},
   "outputs": [
    {
     "name": "stdout",
     "output_type": "stream",
     "text": [
      "Greatest character in the string: y\n"
     ]
    }
   ],
   "source": [
    "str1 = \"python\"\n",
    "i = 0\n",
    "great_val = str1[0]\n",
    "\n",
    "while i < len(str1):\n",
    "    if str1[i] > great_val:\n",
    "        great_val = str1[i]\n",
    "    i += 1\n",
    "\n",
    "print(f\"Greatest character in the string: {great_val}\")"
   ]
  },
  {
   "cell_type": "raw",
   "id": "29a2660d-7c88-4c4d-810c-e896d19e6316",
   "metadata": {},
   "source": [
    "18.Write a program to display all letters except 'm' and 'i' from the string\n",
    "\"Dreamer Infotech\"."
   ]
  },
  {
   "cell_type": "code",
   "execution_count": 19,
   "id": "527f05a8-f090-4fc7-9c8a-a5290872a963",
   "metadata": {},
   "outputs": [
    {
     "name": "stdout",
     "output_type": "stream",
     "text": [
      "Dreaer nfotech"
     ]
    }
   ],
   "source": [
    "str1 = \"Dreamer Infotech\"\n",
    "i = 0\n",
    "\n",
    "while i < len(str1):\n",
    "    if str1[i] not in ['m', 'i', 'M', 'I']:\n",
    "        print(str1[i], end=\"\")\n",
    "    i += 1\n"
   ]
  },
  {
   "cell_type": "raw",
   "id": "95b0b5a9-3eed-45a5-b154-4a362f09ff10",
   "metadata": {},
   "source": [
    "19.Write a program to print alternate characters of a string provided by the user."
   ]
  },
  {
   "cell_type": "code",
   "execution_count": 20,
   "id": "0c1bab78-729f-4a00-960a-599a47069ce5",
   "metadata": {},
   "outputs": [
    {
     "name": "stdin",
     "output_type": "stream",
     "text": [
      "Enter a string:  Programming\n"
     ]
    },
    {
     "name": "stdout",
     "output_type": "stream",
     "text": [
      "Pormig"
     ]
    }
   ],
   "source": [
    "str1 = input(\"Enter a string: \")\n",
    "i = 0\n",
    "\n",
    "while i < len(str1):\n",
    "    print(str1[i], end=\"\")\n",
    "    i += 2"
   ]
  },
  {
   "cell_type": "raw",
   "id": "5f122058-5d4c-457a-b19c-f9f063e5d689",
   "metadata": {},
   "source": [
    "20.Write a program to reverse a string provided by the user."
   ]
  },
  {
   "cell_type": "code",
   "execution_count": 21,
   "id": "ce6a0c84-d080-4d23-bae9-fb4d4f051941",
   "metadata": {},
   "outputs": [
    {
     "name": "stdin",
     "output_type": "stream",
     "text": [
      "Enter a string:  Hello world\n"
     ]
    },
    {
     "name": "stdout",
     "output_type": "stream",
     "text": [
      "Reversed string: dlrow olleH\n"
     ]
    }
   ],
   "source": [
    "str1 = input(\"Enter a string: \")\n",
    "reversed_str = \"\"\n",
    "i = len(str1) - 1\n",
    "\n",
    "while i >= 0:\n",
    "    reversed_str += str1[i]\n",
    "    i -= 1\n",
    "\n",
    "print(\"Reversed string:\", reversed_str)"
   ]
  },
  {
   "cell_type": "code",
   "execution_count": null,
   "id": "bf16da34-7969-40d3-a755-150292165220",
   "metadata": {},
   "outputs": [],
   "source": []
  }
 ],
 "metadata": {
  "kernelspec": {
   "display_name": "Python 3 (ipykernel)",
   "language": "python",
   "name": "python3"
  },
  "language_info": {
   "codemirror_mode": {
    "name": "ipython",
    "version": 3
   },
   "file_extension": ".py",
   "mimetype": "text/x-python",
   "name": "python",
   "nbconvert_exporter": "python",
   "pygments_lexer": "ipython3",
   "version": "3.13.5"
  }
 },
 "nbformat": 4,
 "nbformat_minor": 5
}
