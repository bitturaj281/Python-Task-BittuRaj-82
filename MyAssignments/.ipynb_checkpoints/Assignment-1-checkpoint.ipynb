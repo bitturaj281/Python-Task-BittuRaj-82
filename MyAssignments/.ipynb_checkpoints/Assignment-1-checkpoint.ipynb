{
 "cells": [
  {
   "cell_type": "raw",
   "id": "8f916648-c1e7-439c-aa93-5b3f8a50c3a5",
   "metadata": {},
   "source": [
    "1. Switch values of two integers"
   ]
  },
  {
   "cell_type": "code",
   "execution_count": 14,
   "id": "8047ace5-744f-427d-863d-385cb24552d4",
   "metadata": {},
   "outputs": [
    {
     "name": "stdout",
     "output_type": "stream",
     "text": [
      "30\n",
      "20\n"
     ]
    }
   ],
   "source": [
    "n1 = 20\n",
    "n2 = 30\n",
    "\n",
    "# n1,n2 = n2,n1\n",
    "# print(n1)\n",
    "# print(n2)\n",
    "\n",
    "temp = n1\n",
    "n1 = 20\n",
    "\n",
    "n1 = n2\n",
    "n1 = 30\n",
    "\n",
    "n2 = temp\n",
    "n2 = 20\n",
    "\n",
    "print(n1)\n",
    "print(n2)\n"
   ]
  },
  {
   "cell_type": "raw",
   "id": "692fbaa8-8bd4-4f3a-a967-5ad5fc453352",
   "metadata": {},
   "source": [
    "2. Switch values of two strings (characters)"
   ]
  },
  {
   "cell_type": "code",
   "execution_count": 15,
   "id": "be18d1c2-a3e2-4f9b-8fb9-68b9d9b0dce3",
   "metadata": {},
   "outputs": [
    {
     "name": "stdout",
     "output_type": "stream",
     "text": [
      "java\n",
      "hello\n"
     ]
    }
   ],
   "source": [
    "char1 = \"hello\"\n",
    "char2 = \"java\"\n",
    "\n",
    "char1 = temp\n",
    "temp = \"hello\"\n",
    "\n",
    "char1 = char2\n",
    "char1 = \"java\"\n",
    "\n",
    "char2 = temp\n",
    "char2 = \"hello\"\n",
    "\n",
    "print(char1)\n",
    "print(char2)\n"
   ]
  },
  {
   "cell_type": "raw",
   "id": "ce244626-32ff-4c69-b4c2-8f2d7052c946",
   "metadata": {},
   "source": [
    "3. Switch one string value with one integer value"
   ]
  },
  {
   "cell_type": "code",
   "execution_count": 17,
   "id": "f866cc4f-da63-4240-8fdd-65bb69a7f0b5",
   "metadata": {},
   "outputs": [
    {
     "name": "stdout",
     "output_type": "stream",
     "text": [
      "java\n",
      "200\n"
     ]
    }
   ],
   "source": [
    "n1 = 200\n",
    "char2 = \"java\"\n",
    "\n",
    "n1 = temp\n",
    "temp = 200\n",
    "\n",
    "n1 = char2\n",
    "n1 = \"java\"\n",
    "\n",
    "char2 = temp\n",
    "char2 = 200\n",
    "\n",
    "print(n1)\n",
    "print(char2)"
   ]
  },
  {
   "cell_type": "raw",
   "id": "84e4b377-aedb-4389-9901-badd2ad8a602",
   "metadata": {},
   "source": [
    "Banking and Transactions\n",
    "5. Update balance after deposit\n",
    "Initial balance: current_balance = 10000\n",
    "Deposit amount: deposit_balance = 5000\n",
    "Output:\n",
    "○ Before deposit: current_balance = 10000\n",
    "○ After deposit: current_balance = 15000"
   ]
  },
  {
   "cell_type": "code",
   "execution_count": 23,
   "id": "af7fb8f4-f501-4de0-bede-a95c04644853",
   "metadata": {},
   "outputs": [
    {
     "name": "stdout",
     "output_type": "stream",
     "text": [
      "Before deposit: 10000\n",
      "After deposit: 15000\n"
     ]
    }
   ],
   "source": [
    "current_balance = 10000\n",
    "deposit_balance = 5000\n",
    "\n",
    "print(f\"Before deposit: {current_balance}\")\n",
    "print(f\"After deposit: {current_balance + deposit_balance}\")"
   ]
  },
  {
   "cell_type": "raw",
   "id": "2d47d426-a2f3-4c45-ae6d-8ea94c0dc11d",
   "metadata": {},
   "source": [
    "6. Update balance after withdrawal\n",
    "Before: balance = 12000\n",
    "Withdrawal: 3000\n",
    "\n",
    "After: ?"
   ]
  },
  {
   "cell_type": "code",
   "execution_count": 24,
   "id": "d38e7693-ca5f-4470-82ee-37191bda6ac9",
   "metadata": {},
   "outputs": [
    {
     "name": "stdout",
     "output_type": "stream",
     "text": [
      "After withdrawal balance: 9000 \n"
     ]
    }
   ],
   "source": [
    "balance = 12000\n",
    "Withdrawal= 3000\n",
    "\n",
    "print(f\"After withdrawal balance: {balance - Withdrawal} \") "
   ]
  },
  {
   "cell_type": "raw",
   "id": "4c10e970-a7fc-49d1-bbde-4ea512cdaea3",
   "metadata": {},
   "source": [
    "7. Increase shopping cart items by 3\n",
    "Before: cart_items = 5\n",
    "After: ?"
   ]
  },
  {
   "cell_type": "code",
   "execution_count": 25,
   "id": "867b226f-87a6-4fab-811a-06468d442f72",
   "metadata": {},
   "outputs": [
    {
     "name": "stdout",
     "output_type": "stream",
     "text": [
      "After added the item: 8\n"
     ]
    }
   ],
   "source": [
    "cart_items = 5\n",
    "additem = 3\n",
    "\n",
    "print(f\"After added the item: {cart_items + additem}\")"
   ]
  },
  {
   "cell_type": "raw",
   "id": "b3fa949a-1f51-4acd-b8fe-21eae6cec11f",
   "metadata": {},
   "source": [
    "8. Apply a 20% discount to a price\n",
    "Before: price = 1000\n",
    "After: ?"
   ]
  },
  {
   "cell_type": "code",
   "execution_count": 32,
   "id": "4ca4c4c2-818f-4251-bcac-431b81664871",
   "metadata": {},
   "outputs": [
    {
     "name": "stdout",
     "output_type": "stream",
     "text": [
      "After apply a 20% discount to a price: 800 \n"
     ]
    }
   ],
   "source": [
    "Beforeprice = 1000\n",
    "discont = 20\n",
    "\n",
    "discont_price = (Beforeprice * discont)//100\n",
    "# print(discont_price)\n",
    "print(f\"After apply a 20% discount to a price: {Beforeprice - discont_price} \")"
   ]
  },
  {
   "cell_type": "raw",
   "id": "d3d9db0c-565d-4889-a3fb-1e97a38ca607",
   "metadata": {},
   "source": [
    "Academic Calculations\n",
    "9. Calculate student percentage\n",
    "Input: obtain_marks = 430, out_of = 500\n",
    "Output: Percentage = ?"
   ]
  },
  {
   "cell_type": "code",
   "execution_count": 35,
   "id": "67a28b5e-dc4e-439e-ab0e-962362cf925a",
   "metadata": {},
   "outputs": [
    {
     "name": "stdout",
     "output_type": "stream",
     "text": [
      "student Percentage: 86.0\n"
     ]
    }
   ],
   "source": [
    "obtain_marks = 430\n",
    "out_of = 500\n",
    "\n",
    "print(f\"student Percentage: {(obtain_marks/out_of)*100}\")"
   ]
  },
  {
   "cell_type": "raw",
   "id": "5436666b-c85d-49b0-a272-4b2c110e3728",
   "metadata": {},
   "source": [
    "10.Calculate total and average of 4 subjects\n",
    "Input Example:\n",
    "● Subject 1: 80\n",
    "● Subject 2: 75\n",
    "● Subject 3: 90\n",
    "● Subject 4: 85"
   ]
  },
  {
   "cell_type": "code",
   "execution_count": 42,
   "id": "e7b8005e-e0a3-474e-a887-3fe4092d517b",
   "metadata": {},
   "outputs": [
    {
     "name": "stdout",
     "output_type": "stream",
     "text": [
      "total marks of four subjects: 330\n",
      "average of four subjects: 82.5\n"
     ]
    }
   ],
   "source": [
    "Subject_1 = 80\n",
    "Subject_2 = 75\n",
    "Subject_3 = 90\n",
    "Subject_4 = 85\n",
    "totalMarks = Subject_1 + Subject_2 + Subject_3 + Subject_4\n",
    "print(f\"total marks of four subjects: {totalMarks}\")\n",
    "print(f\"average of four subjects: {totalMarks/4}\")"
   ]
  },
  {
   "cell_type": "raw",
   "id": "996a62a6-2b51-4eaf-9ae5-3d8169829f3e",
   "metadata": {},
   "source": [
    "11. Calculate average of 3 numbers\n",
    "Input: num1 = 25, num2 = 35, num3 = 45\n",
    "Output: Average = ?"
   ]
  },
  {
   "cell_type": "code",
   "execution_count": 45,
   "id": "0901eb7e-d3e9-49eb-82ba-338c815cd56c",
   "metadata": {},
   "outputs": [
    {
     "name": "stdout",
     "output_type": "stream",
     "text": [
      "average of three numbers: 35.0\n"
     ]
    }
   ],
   "source": [
    "num1 = 25\n",
    "num2 = 35\n",
    "num3 = 45\n",
    "\n",
    "totalNumber = num1 + num2 + num3\n",
    "\n",
    "print(f\"average of three numbers: {totalNumber/3}\")"
   ]
  },
  {
   "cell_type": "raw",
   "id": "7b22e87f-80a1-4403-8db8-fa6875bbd888",
   "metadata": {},
   "source": [
    "Finance & Business Calculations\n",
    "\n",
    "12.Calculate profit or loss percentage\n",
    "Input: cost_price = 500, selling_price = 600\n",
    "Output: Profit or Loss = ?"
   ]
  },
  {
   "cell_type": "code",
   "execution_count": 47,
   "id": "1cf26d90-f90d-4ff3-a656-242ea9414cc8",
   "metadata": {},
   "outputs": [
    {
     "name": "stdout",
     "output_type": "stream",
     "text": [
      "Profit price is: 100\n",
      "Profit percentage: 20.0\n"
     ]
    }
   ],
   "source": [
    "cost_price = 500\n",
    "selling_price = 600\n",
    "\n",
    "profit = selling_price - cost_price\n",
    "profitPer = (profit/cost_price)*100\n",
    "\n",
    "print(f\"Profit price is: {profit}\")\n",
    "print(f\"Profit percentage: {profitPer}\")"
   ]
  },
  {
   "cell_type": "raw",
   "id": "a36a098b-1135-4335-9bce-997510af997d",
   "metadata": {},
   "source": [
    "13. Calculate simple interest\n",
    "Input: principal = 10000, rate = 5, time = 2\n",
    "Output: Simple Interest = ?"
   ]
  },
  {
   "cell_type": "code",
   "execution_count": 48,
   "id": "6d1b62fa-5ae5-4db2-b2aa-edadd2dbedf0",
   "metadata": {},
   "outputs": [
    {
     "name": "stdout",
     "output_type": "stream",
     "text": [
      "simple intereset: 1000.0\n"
     ]
    }
   ],
   "source": [
    "principal = 10000\n",
    "rate = 5\n",
    "time = 2\n",
    "simpleInterest = (principal * rate * time)/100\n",
    "\n",
    "print(f\"simple intereset: {simpleInterest}\")"
   ]
  },
  {
   "cell_type": "raw",
   "id": "f9d98b53-bf63-41c3-9ce8-37db072ae744",
   "metadata": {},
   "source": [
    "14.Calculate compound interest\n",
    "Input: principal = 10000, rate = 5, time = 2\n",
    "Output: Compound Interest = ?"
   ]
  },
  {
   "cell_type": "code",
   "execution_count": 50,
   "id": "fe8fd50a-d082-4e26-b120-b5848a77a0a5",
   "metadata": {},
   "outputs": [
    {
     "name": "stdout",
     "output_type": "stream",
     "text": [
      "11025.0\n",
      "Compound interest: 1025.0\n"
     ]
    }
   ],
   "source": [
    "principal = 10000\n",
    "rate = 5\n",
    "time = 2\n",
    "\n",
    "amount = principal * (1 + rate/100) ** time\n",
    "# print(amount)\n",
    "print(f\"Compound interest: {amount - principal}\")"
   ]
  },
  {
   "cell_type": "raw",
   "id": "c646d36a-f378-4c29-807d-446f034e7601",
   "metadata": {},
   "source": [
    "15.Calculate tax on income\n",
    "Input: income = 500000, tax_rate = 10\n",
    "Output: Tax = ?"
   ]
  },
  {
   "cell_type": "code",
   "execution_count": 11,
   "id": "94c725d2-8724-4529-97e0-4962ec5f038f",
   "metadata": {},
   "outputs": [
    {
     "name": "stdout",
     "output_type": "stream",
     "text": [
      "After calculate amount tax on income is: 50000.0\n"
     ]
    }
   ],
   "source": [
    "income = 500000\n",
    "tax_rate = 10 \n",
    "\n",
    "tax_amount = (10/100)*500000\n",
    "print(f\"After calculate amount tax on income is: {tax_amount}\")\n"
   ]
  },
  {
   "cell_type": "raw",
   "id": "3132c8d8-1456-40ca-a798-eedbbbe9ff3e",
   "metadata": {},
   "source": [
    "16.Calculate percentage increase or decrease\n",
    "Input: initial_value = 200, final_value = 250\n",
    "Output: Percentage Change = ?"
   ]
  },
  {
   "cell_type": "code",
   "execution_count": 19,
   "id": "3dddd0d3-c4d7-4220-ac22-694a5ff7126e",
   "metadata": {},
   "outputs": [
    {
     "name": "stdout",
     "output_type": "stream",
     "text": [
      "Percentage Change: 25.0\n"
     ]
    }
   ],
   "source": [
    "initial_value = 200\n",
    "final_value = 250\n",
    "\n",
    "profit = final_value - initial_value\n",
    "Percentage = (profit/initial_value)*100\n",
    "print(f\"Percentage Change: {Percentage}\")"
   ]
  },
  {
   "cell_type": "raw",
   "id": "512e529a-4289-4c0b-b644-845b1ea091aa",
   "metadata": {},
   "source": [
    "Conversions\n",
    "17. Convert boolean to integer\n",
    "Input: True\n",
    "Output: ?"
   ]
  },
  {
   "cell_type": "code",
   "execution_count": 23,
   "id": "5dd66a17-f2e7-42db-8a81-4013f5c26999",
   "metadata": {},
   "outputs": [
    {
     "name": "stdout",
     "output_type": "stream",
     "text": [
      "1\n"
     ]
    }
   ],
   "source": [
    "a = True\n",
    "print(int(a))"
   ]
  },
  {
   "cell_type": "raw",
   "id": "988f9e74-5b5e-45a0-b226-42a90ebdbf1b",
   "metadata": {},
   "source": [
    "18.Convert float to string\n",
    "Input: 45.67\n",
    "Output: ?"
   ]
  },
  {
   "cell_type": "code",
   "execution_count": 44,
   "id": "5bf6d076-b1c7-4a43-9dec-1f913547e6e2",
   "metadata": {},
   "outputs": [
    {
     "name": "stdout",
     "output_type": "stream",
     "text": [
      "<class 'str'>\n"
     ]
    }
   ],
   "source": [
    "x_float = 45.67\n",
    "my_str = str(x_float)\n",
    "print(type(my_str))\n"
   ]
  },
  {
   "cell_type": "raw",
   "id": "6d5d9407-cd83-48d9-b811-966b4b8d8905",
   "metadata": {},
   "source": [
    "19.Convert 20°C to Fahrenheit\n",
    "Input: 20°C\n",
    "Output: ?"
   ]
  },
  {
   "cell_type": "code",
   "execution_count": 38,
   "id": "4e13948a-abf4-4a12-892a-f15fadc731f4",
   "metadata": {},
   "outputs": [
    {
     "name": "stdout",
     "output_type": "stream",
     "text": [
      "Convert 20°C to Fahrenheit: 68.0F\n"
     ]
    }
   ],
   "source": [
    "#F = (9/5 * C) + 32\n",
    "num_c = 20\n",
    "cel_to_fah = (9/5 * num_c) + 32\n",
    "print(f\"Convert 20°C to Fahrenheit: {cel_to_fah}F\")"
   ]
  },
  {
   "cell_type": "raw",
   "id": "511a5257-bd05-4f8a-a9ee-10416b1a55c1",
   "metadata": {},
   "source": [
    "20. Convert 50°F to Celsius\n",
    "Input: 50°F\n",
    "Output: ?"
   ]
  },
  {
   "cell_type": "code",
   "execution_count": 39,
   "id": "38289394-6598-435a-b176-5c4a77992003",
   "metadata": {},
   "outputs": [
    {
     "name": "stdout",
     "output_type": "stream",
     "text": [
      "Convert 50°F to Celsius: 10.0C\n"
     ]
    }
   ],
   "source": [
    "# The formula to convert Fahrenheit to Celsius is: °C = (°F - 32) * 5/9. \n",
    "num_f = 50\n",
    "fah_to_cel = (num_f - 32) * 5/9\n",
    "print(f\"Convert 50°F to Celsius: {fah_to_cel}C\")"
   ]
  },
  {
   "cell_type": "raw",
   "id": "85879635-f6d7-4f5e-96da-4ae9f0461149",
   "metadata": {},
   "source": [
    "21.Convert integer to binary\n",
    "Input: 25\n",
    "Output: ?"
   ]
  },
  {
   "cell_type": "code",
   "execution_count": 48,
   "id": "28c2ecfa-22ca-4f6f-a468-da48987ccd0d",
   "metadata": {},
   "outputs": [
    {
     "name": "stdout",
     "output_type": "stream",
     "text": [
      "0b11001\n"
     ]
    }
   ],
   "source": [
    "x_int = 25\n",
    "my_binary = bin(x_int)\n",
    "print(my_binary)"
   ]
  },
  {
   "cell_type": "raw",
   "id": "e95cb711-a87d-46e1-990a-05332fb52ec7",
   "metadata": {},
   "source": [
    "Geometry\n",
    "21. Calculate area of a triangle\n",
    "Input: base = 10, height = 6\n",
    "Output: Area = ?"
   ]
  },
  {
   "cell_type": "code",
   "execution_count": 52,
   "id": "fe63843a-d5cd-4e1c-a22a-3db5d0b41732",
   "metadata": {},
   "outputs": [
    {
     "name": "stdout",
     "output_type": "stream",
     "text": [
      "Area of a triangle is: 30.0\n"
     ]
    }
   ],
   "source": [
    "#Area = (1/2) * base * height.\n",
    "\n",
    "base = 10\n",
    "height = 6\n",
    "\n",
    "area_value = (1/2) * base * height\n",
    "print(f\"Area of a triangle is: {area_value}\")"
   ]
  },
  {
   "cell_type": "raw",
   "id": "229e618f-51d8-484a-b3fc-0d620dc7161c",
   "metadata": {},
   "source": [
    "22.Calculate perimeter of a square\n",
    "Input: side = 9\n",
    "Output: Perimeter = ?"
   ]
  },
  {
   "cell_type": "code",
   "execution_count": 53,
   "id": "f5fc638c-e9e6-4346-b76f-e34870c1910d",
   "metadata": {},
   "outputs": [
    {
     "name": "stdout",
     "output_type": "stream",
     "text": [
      "perimeter of a square is: 36\n"
     ]
    }
   ],
   "source": [
    "# P=4a\n",
    "\n",
    "side = 9\n",
    "p_perimeter = 4 * side\n",
    "print(f\"perimeter of a square is: {p_perimeter}\")"
   ]
  },
  {
   "cell_type": "raw",
   "id": "84a39e0a-f56e-491a-818c-a2e4bab9ee36",
   "metadata": {},
   "source": [
    "23.Calculate diameter of a circle\n",
    "Input: radius = 14\n",
    "Output: Diameter = ?"
   ]
  },
  {
   "cell_type": "code",
   "execution_count": 55,
   "id": "cc496115-3cad-4c76-b248-f8f1e281585a",
   "metadata": {},
   "outputs": [
    {
     "name": "stdout",
     "output_type": "stream",
     "text": [
      "Diameter of a circle is: 28\n"
     ]
    }
   ],
   "source": [
    "# The formula for the diameter of a circle is d = 2r\n",
    "\n",
    "radius = 14\n",
    "radius_value = 2*radius\n",
    "print(f\"Diameter of a circle is: {radius_value}\")"
   ]
  },
  {
   "cell_type": "raw",
   "id": "61df862a-bdda-4131-b14a-50717c7d91bd",
   "metadata": {},
   "source": [
    "24.Calculate volume of a cube\n",
    "Input: side = 5\n",
    "Output: Volume = ?"
   ]
  },
  {
   "cell_type": "code",
   "execution_count": 56,
   "id": "e0c32082-97f5-4a62-9c1b-e88422a6cbcc",
   "metadata": {},
   "outputs": [
    {
     "name": "stdout",
     "output_type": "stream",
     "text": [
      "The volume of a cube is: 125\n"
     ]
    }
   ],
   "source": [
    "#The formula for the volume of a cube is V=a^3\n",
    "\n",
    "side = 5\n",
    "cude_val = side * side * side\n",
    "\n",
    "print(f\"The volume of a cube is: {cude_val}\")"
   ]
  },
  {
   "cell_type": "raw",
   "id": "f8ca1615-d2a2-483b-9244-9a0adfb19da0",
   "metadata": {},
   "source": [
    "25.Calculate surface area of a cuboid\n",
    "Input: l = 4, b = 3, h = 2\n",
    "Output: Surface Area = ?"
   ]
  },
  {
   "cell_type": "code",
   "execution_count": 65,
   "id": "34aa1516-181d-424e-a144-2da866e3195d",
   "metadata": {},
   "outputs": [
    {
     "name": "stdout",
     "output_type": "stream",
     "text": [
      "Surface area of a cuboid is: 52\n"
     ]
    }
   ],
   "source": [
    "# The total surface area of a cuboid is calculated using the formula 2(lb + bh + hl)\n",
    "\n",
    "l = 4\n",
    "b = 3\n",
    "h = 2\n",
    "\n",
    "surface_area = 2*(l*b + b*h + h*l)\n",
    "print(f\"Surface area of a cuboid is: {surface_area}\")"
   ]
  },
  {
   "cell_type": "raw",
   "id": "6084a904-b640-4816-94f5-87b3d09ca835",
   "metadata": {},
   "source": [
    "Mathematical Expressions\n",
    "\n",
    "26.Square of sum: (x + y)2\n",
    "Input: x = 5, y = 7\n",
    "Output: ?"
   ]
  },
  {
   "cell_type": "code",
   "execution_count": 69,
   "id": "04ca4614-1392-405b-9a5a-ea6a77a2c9de",
   "metadata": {},
   "outputs": [
    {
     "name": "stdout",
     "output_type": "stream",
     "text": [
      "Square of sum is: 144\n"
     ]
    }
   ],
   "source": [
    "x = 5\n",
    "y = 7\n",
    "\n",
    "sq_sum = (x + y)**2\n",
    "print(f\"Square of sum is: {sq_sum}\")"
   ]
  },
  {
   "cell_type": "raw",
   "id": "e15c50cd-d3ff-4c8a-a321-727e91a96ce4",
   "metadata": {},
   "source": [
    "27.Simplify expression: x2 - 4x + 4\n",
    "Input: x = 3\n",
    "Output: ?"
   ]
  },
  {
   "cell_type": "code",
   "execution_count": 70,
   "id": "7fa9a914-396d-43b7-92c0-e35ffd8e63fd",
   "metadata": {},
   "outputs": [
    {
     "name": "stdout",
     "output_type": "stream",
     "text": [
      "Simplify expression is: 1\n"
     ]
    }
   ],
   "source": [
    "x = 3\n",
    "exp = x**2 - 4*x + 4\n",
    "print(f\"Simplify expression is: {exp}\")"
   ]
  },
  {
   "cell_type": "raw",
   "id": "e1864887-1054-42fa-be32-a2e69a7bb5f4",
   "metadata": {},
   "source": [
    "25.Evaluate: (a + b)(a - b)\n",
    "Input: a = 6, b = 2\n",
    "Output: ?"
   ]
  },
  {
   "cell_type": "code",
   "execution_count": 71,
   "id": "7020b487-8eaa-4661-a2b6-ffb05346a403",
   "metadata": {},
   "outputs": [
    {
     "name": "stdout",
     "output_type": "stream",
     "text": [
      "Evaluate value is: 32\n"
     ]
    }
   ],
   "source": [
    "a = 6\n",
    "b = 2\n",
    "eval_val = (a + b) * (a - b)\n",
    "\n",
    "print(f\"Evaluate value is: {eval_val}\")\n"
   ]
  },
  {
   "cell_type": "raw",
   "id": "d51ad1b4-9682-4846-bb43-72d385138266",
   "metadata": {},
   "source": [
    "29.Sum of cubes: a3 + b3\n",
    "Input: a = 1, b = 2\n",
    "Output: ?"
   ]
  },
  {
   "cell_type": "code",
   "execution_count": 76,
   "id": "45642053-6506-4dab-9728-58f46c3faf48",
   "metadata": {},
   "outputs": [
    {
     "name": "stdout",
     "output_type": "stream",
     "text": [
      "Sum of cubes is: 9\n"
     ]
    }
   ],
   "source": [
    "a = 1\n",
    "b = 2\n",
    "val_cube = a**3 + b**3\n",
    "print(f\"Sum of cubes is: {val_cube}\")"
   ]
  },
  {
   "cell_type": "raw",
   "id": "7b33fff0-818f-47f2-be7f-0a7407befce7",
   "metadata": {},
   "source": [
    "30.Simplify: (x - y)2\n",
    "Input: x = 10, y = 6\n",
    "Output: ?"
   ]
  },
  {
   "cell_type": "code",
   "execution_count": 77,
   "id": "1739aafa-309e-4553-9414-539aa8db570d",
   "metadata": {},
   "outputs": [
    {
     "name": "stdout",
     "output_type": "stream",
     "text": [
      "Simplify equation is: 16\n"
     ]
    }
   ],
   "source": [
    "x = 10\n",
    "y = 6\n",
    "\n",
    "eq_value = (x - y) ** 2\n",
    "print(f\"Simplify equation is: {eq_value}\")"
   ]
  },
  {
   "cell_type": "raw",
   "id": "b1bd48b7-dc15-4bf0-9e51-e241e79eb1c3",
   "metadata": {},
   "source": [
    "31.Difference of cubes: x3 - y3\n",
    "Input: x = 4, y = 1\n",
    "Output: ?"
   ]
  },
  {
   "cell_type": "code",
   "execution_count": 78,
   "id": "aeaf6f42-9d26-4b14-b746-c74eb473baad",
   "metadata": {},
   "outputs": [
    {
     "name": "stdout",
     "output_type": "stream",
     "text": [
      "Cube value is: 63\n"
     ]
    }
   ],
   "source": [
    "x = 4\n",
    "y = 1\n",
    "\n",
    "cube_val = x**3 - y**3\n",
    "print(f\"Cube value is: {cube_val}\")"
   ]
  },
  {
   "cell_type": "raw",
   "id": "906fe5ea-48fe-464b-a0e1-e9db4dabe2b5",
   "metadata": {},
   "source": [
    "32.If user input is:\n",
    "Name: Dev\n",
    "Age: 25\n",
    "City: Jaipur\n",
    "Hobby: Cooking\n",
    "\n",
    "Then Output is :\n",
    "Meet Dev, a 25-year-old enthusiast from Jaipur.\n",
    "\n",
    "When not busy with daily tasks, Dev loves spending time cooking.\n",
    "Life in Jaipur keeps Dev energetic and curious every single day.\n",
    "With coding as a passion, the future looks creative and inspiring for\n",
    "Dev in the Jaipur City."
   ]
  },
  {
   "cell_type": "code",
   "execution_count": 9,
   "id": "c79208bf-8a46-4ffe-ae0b-91a9098f65f0",
   "metadata": {},
   "outputs": [
    {
     "name": "stdin",
     "output_type": "stream",
     "text": [
      "Enter your name:  rj\n"
     ]
    },
    {
     "name": "stdout",
     "output_type": "stream",
     "text": [
      "rj\n"
     ]
    },
    {
     "name": "stdin",
     "output_type": "stream",
     "text": [
      "Enter your age:  25\n"
     ]
    },
    {
     "name": "stdout",
     "output_type": "stream",
     "text": [
      "25\n"
     ]
    },
    {
     "name": "stdin",
     "output_type": "stream",
     "text": [
      "Enter your city:  ldh\n"
     ]
    },
    {
     "name": "stdout",
     "output_type": "stream",
     "text": [
      "ldh\n"
     ]
    },
    {
     "name": "stdin",
     "output_type": "stream",
     "text": [
      "Enter your hobby:  crr\n"
     ]
    },
    {
     "name": "stdout",
     "output_type": "stream",
     "text": [
      "crr\n",
      "Meet rj a 25 year old enthusiast from ldh .When not busy with daily tasks rj loves spending time cooking.Life in ldh keeps rj energetic and curious every single day. With coding as a passion, the future looks creative and inspiring for rj in the ldh City.\n"
     ]
    }
   ],
   "source": [
    "# name = Dev\n",
    "# age = 25\n",
    "# city = Jaipur\n",
    "# hobby = Cooking\n",
    "\n",
    "\n",
    "name = input(f\"Enter your name: \")\n",
    "print(name)\n",
    "age = input(f\"Enter your age: \")\n",
    "print(age)\n",
    "city = input(f\"Enter your city: \")\n",
    "print(city)\n",
    "hobby = input(f\"Enter your hobby: \")\n",
    "print(hobby)\n",
    "\n",
    "value = print(\"Meet\" ,name, \"a\" ,age, \"year old enthusiast from\" ,city,\".\"\n",
    "        \"When not busy with daily tasks\", name, \"loves spending time cooking.\"\n",
    "        \"Life in\" ,city, \"keeps\" ,name, \"energetic and curious every single day.\"\n",
    "        \" With coding as a passion, the future looks creative and inspiring for\"\n",
    "        ,name, \"in the\" ,city, \"City.\")"
   ]
  },
  {
   "cell_type": "raw",
   "id": "94c83b1e-8375-4767-b5ab-0a5b238d50c2",
   "metadata": {},
   "source": [
    "33.Create a Python program that asks the user for the following:\n",
    "● Full Name\n",
    "● Profession\n",
    "● Favorite Quote\n",
    "● Years of Experience\n",
    "Output format:\n",
    "------------------------------------------------\n",
    "Name : <Full Name>\n",
    "Profession : <Profession>\n",
    "Experience : <Years of Experience> years\n",
    "Quote : \"<Favorite Quote>\""
   ]
  },
  {
   "cell_type": "code",
   "execution_count": 1,
   "id": "e891ce4b-4693-43d1-8e74-82e2475b33ea",
   "metadata": {},
   "outputs": [
    {
     "name": "stdin",
     "output_type": "stream",
     "text": [
      "Enter your full name:  Rajvir\n"
     ]
    },
    {
     "name": "stdout",
     "output_type": "stream",
     "text": [
      "Rajvir\n"
     ]
    },
    {
     "name": "stdin",
     "output_type": "stream",
     "text": [
      "Enter your profession:  data scientist\n"
     ]
    },
    {
     "name": "stdout",
     "output_type": "stream",
     "text": [
      "data scientist\n"
     ]
    },
    {
     "name": "stdin",
     "output_type": "stream",
     "text": [
      "Enter your experience:  2 year\n"
     ]
    },
    {
     "name": "stdout",
     "output_type": "stream",
     "text": [
      "2 year\n"
     ]
    },
    {
     "name": "stdin",
     "output_type": "stream",
     "text": [
      "Write your favorite quote:  har\n"
     ]
    }
   ],
   "source": [
    "full_name = input(f\"Enter your full name: \")\n",
    "print(full_name)\n",
    "profession = input(f\"Enter your profession: \")\n",
    "print(profession)\n",
    "experience = input(f\"Enter your experience: \")\n",
    "print(experience)\n",
    "Quote = input(f\"Write your favorite quote: \")"
   ]
  },
  {
   "cell_type": "raw",
   "id": "91945e35-3368-4d46-8767-f29edca3dfd1",
   "metadata": {},
   "source": [
    "34.Ask the user:\n",
    "● Movie Name\n",
    "● Viewer Name\n",
    "● Seat Number\n",
    "● Show Time\n",
    "Output format:\n",
    "🎬 Movie Ticket ️\n",
    "------------------------\n",
    "Movie : <Movie Name>\n",
    "\n",
    "Name : <Viewer Name>\n",
    "Seat No : <Seat Number>\n",
    "Time : <Show Time>\n",
    "Enjoy the show!\n",
    "------------------------"
   ]
  },
  {
   "cell_type": "code",
   "execution_count": 2,
   "id": "a9862fc9-eca4-4fa2-bf23-a9619e2884f5",
   "metadata": {},
   "outputs": [
    {
     "name": "stdin",
     "output_type": "stream",
     "text": [
      "Enter movie name:  Black Panthor\n"
     ]
    },
    {
     "name": "stdout",
     "output_type": "stream",
     "text": [
      "Black Panthor\n"
     ]
    },
    {
     "name": "stdin",
     "output_type": "stream",
     "text": [
      "Enter viewer name:  rajvir\n"
     ]
    },
    {
     "name": "stdout",
     "output_type": "stream",
     "text": [
      "rajvir\n"
     ]
    },
    {
     "name": "stdin",
     "output_type": "stream",
     "text": [
      "Enter seat number:  23\n"
     ]
    },
    {
     "name": "stdout",
     "output_type": "stream",
     "text": [
      "23\n"
     ]
    },
    {
     "name": "stdin",
     "output_type": "stream",
     "text": [
      "Enter show time:  10:10\n"
     ]
    },
    {
     "name": "stdout",
     "output_type": "stream",
     "text": [
      "10:10\n"
     ]
    }
   ],
   "source": [
    "movie_name = input(f\"Enter movie name: \")\n",
    "print(movie_name)\n",
    "viewer_name = input(f\"Enter viewer name: \")\n",
    "print(viewer_name)\n",
    "seat_number = input(f\"Enter seat number: \")\n",
    "print(seat_number)\n",
    "show_time = input(f\"Enter show time: \")\n",
    "print(show_time)"
   ]
  },
  {
   "cell_type": "code",
   "execution_count": null,
   "id": "0eaf4a15-9872-49bb-88b3-739736321f2d",
   "metadata": {},
   "outputs": [],
   "source": []
  },
  {
   "cell_type": "code",
   "execution_count": null,
   "id": "2261fa9d-8a7d-4e55-af3d-3b478277804c",
   "metadata": {},
   "outputs": [],
   "source": []
  }
 ],
 "metadata": {
  "kernelspec": {
   "display_name": "Python 3 (ipykernel)",
   "language": "python",
   "name": "python3"
  },
  "language_info": {
   "codemirror_mode": {
    "name": "ipython",
    "version": 3
   },
   "file_extension": ".py",
   "mimetype": "text/x-python",
   "name": "python",
   "nbconvert_exporter": "python",
   "pygments_lexer": "ipython3",
   "version": "3.13.5"
  }
 },
 "nbformat": 4,
 "nbformat_minor": 5
}
