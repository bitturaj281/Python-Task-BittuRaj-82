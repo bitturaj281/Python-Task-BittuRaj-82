{
 "cells": [
  {
   "cell_type": "code",
   "execution_count": null,
   "id": "d9d3f99e-44e2-4b01-a55e-3735890a64b3",
   "metadata": {},
   "outputs": [],
   "source": [
    "# _ _ _ _ _ _ _ _ _ _ _ Set\n",
    "# Defination and properties\n",
    "# Creation\n",
    "# Accessing ❌\n",
    "# Modification ❌\n",
    "# slicing ❌\n",
    "# Traversing\n",
    "# Built-in-methods \n",
    "# Assignment"
   ]
  },
  {
   "cell_type": "code",
   "execution_count": 1,
   "id": "66f5865d-8ce5-4790-96c5-d9a2806845b3",
   "metadata": {},
   "outputs": [],
   "source": [
    "# Defination and properties\n",
    "# 1. Set is a data structure in python user store unique values.\n",
    "# 2. Set does not allow duplicate values.\n",
    "# 3. Set are unordered and unindexed and immutable"
   ]
  },
  {
   "cell_type": "code",
   "execution_count": 5,
   "id": "b73645d4-0b50-428b-8a92-93aa8ecd20bf",
   "metadata": {},
   "outputs": [
    {
     "name": "stdout",
     "output_type": "stream",
     "text": [
      "{1, 2, 'b', 'a', 'c', 10, 12}\n"
     ]
    }
   ],
   "source": [
    "# Creation \n",
    "# 1.Using {}\n",
    "set1 = {\"a\", \"b\", \"c\", 1, 2, 10, 2, 12, 10}\n",
    "print(set1)\n",
    "\n",
    "# print(set1[0])"
   ]
  },
  {
   "cell_type": "code",
   "execution_count": 3,
   "id": "a304b152-4252-4631-89d0-c4a615d54b6e",
   "metadata": {},
   "outputs": [
    {
     "name": "stdout",
     "output_type": "stream",
     "text": [
      "{1}\n"
     ]
    }
   ],
   "source": [
    "# 2. Usinng set \n",
    "\n",
    "set2 = set([1,1,1,1,1,1])\n",
    "print(set2)\n"
   ]
  },
  {
   "cell_type": "code",
   "execution_count": 11,
   "id": "fb89d264-3332-4b7a-8d59-ea7edf83b2f7",
   "metadata": {},
   "outputs": [
    {
     "name": "stdout",
     "output_type": "stream",
     "text": [
      "(10, 1)\n",
      "(11, 2)\n",
      "(12, 'b')\n",
      "(13, 'a')\n",
      "(14, 'c')\n",
      "(15, 10)\n",
      "(16, 12)\n"
     ]
    }
   ],
   "source": [
    "# Traversing\n",
    "\n",
    "# set1 = {\"a\", \"b\", \"c\", 1, 2, 10, 2, 12, 10}\n",
    "# for i in range(len(set1)):\n",
    "#     print(set1[i])\n",
    "\n",
    "# set1 = {\"a\", \"b\", \"c\", 1, 2, 10, 2, 12, 10}\n",
    "# for i in set1:\n",
    "#     print(i)\n",
    "\n",
    "set1 = {\"a\", \"b\", \"c\", 1, 2, 10, 2, 12, 10}\n",
    "for i in enumerate(set1, start=10):\n",
    "    print(i)"
   ]
  },
  {
   "cell_type": "code",
   "execution_count": 15,
   "id": "11731c4c-c412-4182-9335-742d192e6cda",
   "metadata": {},
   "outputs": [
    {
     "name": "stdout",
     "output_type": "stream",
     "text": [
      "{1, 2, 3, 4, 5, 6, 7, 10, 12}\n"
     ]
    }
   ],
   "source": [
    "#  Build-in-methods\n",
    "\n",
    "s1 = {1, 2, 3, 4, 5, 6, 7}\n",
    "s2 = {1, 2, 10, 2, 12, 10}\n",
    "res = s1.union(s2)\n",
    "print(res)"
   ]
  },
  {
   "cell_type": "code",
   "execution_count": 16,
   "id": "4e95a415-fca6-4858-a872-7a59d4f287a1",
   "metadata": {},
   "outputs": [
    {
     "name": "stdout",
     "output_type": "stream",
     "text": [
      "{1, 2}\n"
     ]
    }
   ],
   "source": [
    "s1 = {1, 2, 3, 4, 5, 6, 7}\n",
    "s2 = {1, 2, 10, 2, 12, 10}\n",
    "res = s1.intersection(s2)\n",
    "print(res)"
   ]
  },
  {
   "cell_type": "code",
   "execution_count": 17,
   "id": "6ba870c6-32a4-4e92-852b-29bfa85e6b6c",
   "metadata": {},
   "outputs": [
    {
     "name": "stdout",
     "output_type": "stream",
     "text": [
      "{3, 4, 5, 6, 7, 10, 12}\n"
     ]
    }
   ],
   "source": [
    "s1 = {1, 2, 3, 4, 5, 6, 7}\n",
    "s2 = {1, 2, 10, 2, 12, 10}\n",
    "res = s1.symmetric_difference(s2)\n",
    "print(res)"
   ]
  },
  {
   "cell_type": "code",
   "execution_count": 18,
   "id": "5d2ff6c1-b66e-435c-b1b8-664daf4a39af",
   "metadata": {},
   "outputs": [
    {
     "name": "stdout",
     "output_type": "stream",
     "text": [
      "{3, 4, 5, 6, 7, 10, 12}\n"
     ]
    }
   ],
   "source": [
    "s1 = {1, 2, 3, 4, 5, 6, 7}\n",
    "s2 = {1, 2, 10, 2, 12, 10}\n",
    "res = s2.symmetric_difference(s1)\n",
    "print(res)"
   ]
  },
  {
   "cell_type": "code",
   "execution_count": 20,
   "id": "e0d4d739-144e-4f64-be93-2d353b2175c9",
   "metadata": {},
   "outputs": [
    {
     "name": "stdout",
     "output_type": "stream",
     "text": [
      "{3, 4, 5, 6, 7}\n"
     ]
    }
   ],
   "source": [
    "s1 = {1, 2, 3, 4, 5, 6, 7}\n",
    "s2 = {1, 2, 10, 2, 12, 10}\n",
    "res = s1.difference(s2)\n",
    "print(res)"
   ]
  },
  {
   "cell_type": "code",
   "execution_count": 21,
   "id": "4561c7b2-7140-4746-b324-64136068090e",
   "metadata": {},
   "outputs": [
    {
     "name": "stdout",
     "output_type": "stream",
     "text": [
      "{10, 12}\n"
     ]
    }
   ],
   "source": [
    "s1 = {1, 2, 3, 4, 5, 6, 7}\n",
    "s2 = {1, 2, 10, 2, 12, 10}\n",
    "res = s2.difference(s1)\n",
    "print(res)"
   ]
  },
  {
   "cell_type": "code",
   "execution_count": 25,
   "id": "c75b04b8-c220-4709-b641-8b5305e23c1b",
   "metadata": {},
   "outputs": [
    {
     "name": "stdout",
     "output_type": "stream",
     "text": [
      "False\n"
     ]
    }
   ],
   "source": [
    "s1 = {\"a\", \"b\", \"c\", \"e\"}\n",
    "s2 = {\"a\", \"x\", \"c\", \"e\", \"m\", \"d\"}\n",
    "\n",
    "res = s1.issuperset(s2)\n",
    "print(res)"
   ]
  },
  {
   "cell_type": "code",
   "execution_count": 27,
   "id": "b1b44ad5-cdc5-4124-8c9a-45fe5fa5a73a",
   "metadata": {},
   "outputs": [
    {
     "name": "stdout",
     "output_type": "stream",
     "text": [
      "True\n"
     ]
    }
   ],
   "source": [
    "s1 = {\"a\", \"b\", \"c\", \"e\"}\n",
    "s2 = {\"a\", \"x\", \"c\", \"e\", \"m\", \"d\", \"b\"}\n",
    "\n",
    "res = s2.issuperset(s1)\n",
    "print(res)"
   ]
  },
  {
   "cell_type": "code",
   "execution_count": 29,
   "id": "70008f97-9b36-4751-a6a6-e1170f458104",
   "metadata": {},
   "outputs": [
    {
     "name": "stdout",
     "output_type": "stream",
     "text": [
      "True\n"
     ]
    }
   ],
   "source": [
    "s1 = {\"a\", \"b\", \"c\", \"e\"}\n",
    "s2 = {\"a\", \"x\", \"c\", \"e\", \"m\", \"d\", \"b\"}\n",
    "\n",
    "res = s1.issubset(s2)\n",
    "print(res)"
   ]
  },
  {
   "cell_type": "code",
   "execution_count": 30,
   "id": "1fa8155b-d634-4147-a95a-35fbd74a1293",
   "metadata": {},
   "outputs": [
    {
     "name": "stdout",
     "output_type": "stream",
     "text": [
      "False\n"
     ]
    }
   ],
   "source": [
    "s1 = {\"a\", \"b\", \"c\", \"e\"}\n",
    "s2 = {\"a\", \"x\", \"c\", \"e\", \"m\", \"d\", \"b\"}\n",
    "\n",
    "res = s2.issubset(s1)\n",
    "print(res)"
   ]
  },
  {
   "cell_type": "code",
   "execution_count": 32,
   "id": "8c034cd5-4796-49bc-b3f0-6b20565d44e1",
   "metadata": {},
   "outputs": [
    {
     "name": "stdout",
     "output_type": "stream",
     "text": [
      "{'b', 'x', 'd', 'a', 'c', 'e', 'm'}\n"
     ]
    }
   ],
   "source": [
    "s1 = {\"a\", \"b\", \"c\", \"e\"}\n",
    "s2 = {\"a\", \"x\", \"c\", \"e\", \"m\", \"d\", \"b\"}\n",
    "\n",
    "s1.update(s2)\n",
    "print(s1)"
   ]
  },
  {
   "cell_type": "code",
   "execution_count": 33,
   "id": "b89a180e-03ae-4f08-96c4-bdbc171fbe89",
   "metadata": {},
   "outputs": [
    {
     "name": "stdout",
     "output_type": "stream",
     "text": [
      "{'m', 8546, 'b', 'x', 'd', 'a', 'c', 'e'}\n"
     ]
    }
   ],
   "source": [
    "s2 = {\"a\", \"x\", \"c\", \"e\", \"m\", \"d\", \"b\"}\n",
    "\n",
    "s2.add(8546)\n",
    "print(s2)"
   ]
  },
  {
   "cell_type": "code",
   "execution_count": 35,
   "id": "53e4e807-3eab-496a-bb24-b79fb7b55dc9",
   "metadata": {},
   "outputs": [
    {
     "name": "stdout",
     "output_type": "stream",
     "text": [
      "{'d', 'a', 'c', 'e'}\n",
      "m b x\n"
     ]
    }
   ],
   "source": [
    "s2 = {\"a\", \"x\", \"c\", \"e\", \"m\", \"d\", \"b\"}\n",
    "\n",
    "d1= s2.pop()\n",
    "d2= s2.pop()\n",
    "d3= s2.pop()\n",
    "print(s2)\n",
    "print(d1,d2,d3)"
   ]
  },
  {
   "cell_type": "code",
   "execution_count": 36,
   "id": "9ed0acdf-9821-4d08-8a8b-6c1e06d14156",
   "metadata": {},
   "outputs": [
    {
     "name": "stdout",
     "output_type": "stream",
     "text": [
      "{'m', 'b', 'd', 'a', 'c', 'e'}\n"
     ]
    }
   ],
   "source": [
    "s2 = {\"a\", \"x\", \"c\", \"e\", \"m\", \"d\", \"b\"}\n",
    "\n",
    "s2.remove(\"x\")\n",
    "print(s2)"
   ]
  },
  {
   "cell_type": "code",
   "execution_count": 39,
   "id": "443df324-3987-417e-acaa-3bd6b8e8faea",
   "metadata": {},
   "outputs": [
    {
     "name": "stdout",
     "output_type": "stream",
     "text": [
      "{'m', 'b', 'd', 'a', 'c', 'e'}\n"
     ]
    }
   ],
   "source": [
    "s2 = {\"a\", \"x\", \"c\", \"e\", \"m\", \"d\", \"b\"}\n",
    "\n",
    "s2.discard(\"x\")\n",
    "s2.discard(\"y\")\n",
    "print(s2)"
   ]
  },
  {
   "cell_type": "code",
   "execution_count": null,
   "id": "6f60fd82-8536-47a3-883f-db672cadea44",
   "metadata": {},
   "outputs": [],
   "source": []
  }
 ],
 "metadata": {
  "kernelspec": {
   "display_name": "Python 3 (ipykernel)",
   "language": "python",
   "name": "python3"
  },
  "language_info": {
   "codemirror_mode": {
    "name": "ipython",
    "version": 3
   },
   "file_extension": ".py",
   "mimetype": "text/x-python",
   "name": "python",
   "nbconvert_exporter": "python",
   "pygments_lexer": "ipython3",
   "version": "3.13.5"
  }
 },
 "nbformat": 4,
 "nbformat_minor": 5
}
