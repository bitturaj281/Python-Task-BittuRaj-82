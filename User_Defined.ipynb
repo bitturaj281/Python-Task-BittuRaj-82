{
 "cells": [
  {
   "cell_type": "code",
   "execution_count": 12,
   "id": "87dc37ad-7b74-4b71-bc79-fccd5df3c83b",
   "metadata": {},
   "outputs": [
    {
     "name": "stdout",
     "output_type": "stream",
     "text": [
      "30\n"
     ]
    }
   ],
   "source": [
    "def sum():\n",
    "    a=10\n",
    "    b=20\n",
    "    # c=a+b\n",
    "    # return c\n",
    "    return a+b\n",
    "s=sum()\n",
    "print(s)"
   ]
  },
  {
   "cell_type": "code",
   "execution_count": 14,
   "id": "06ae08a6-45c3-4b29-8302-a09d8cee832b",
   "metadata": {},
   "outputs": [
    {
     "name": "stdout",
     "output_type": "stream",
     "text": [
      "30\n",
      "-10\n"
     ]
    }
   ],
   "source": [
    "def sum():\n",
    "    a=10\n",
    "    b=20\n",
    "    c=a+b\n",
    "    d=a-b\n",
    "    return c,d\n",
    "a,b=sum()\n",
    "print(a)\n",
    "print(b)"
   ]
  },
  {
   "cell_type": "code",
   "execution_count": 17,
   "id": "e9fbae81-2799-423b-ac50-76594efccd21",
   "metadata": {},
   "outputs": [
    {
     "name": "stdout",
     "output_type": "stream",
     "text": [
      "None\n"
     ]
    }
   ],
   "source": [
    "def sum(a,b):\n",
    "    (a+b)\n",
    "    \n",
    "print(sum(10,30))"
   ]
  },
  {
   "cell_type": "code",
   "execution_count": 25,
   "id": "b5104b76-a83f-4132-be5d-8375313a364c",
   "metadata": {},
   "outputs": [
    {
     "name": "stdout",
     "output_type": "stream",
     "text": [
      "50\n"
     ]
    }
   ],
   "source": [
    "def sum(var=10):\n",
    "    c=var+20\n",
    "    return c\n",
    "# c=sum()\n",
    "# print(c)\n",
    "print(sum(30))"
   ]
  },
  {
   "cell_type": "code",
   "execution_count": null,
   "id": "323d6e9d-faa6-4f8f-ac8d-4d1ed6241c01",
   "metadata": {},
   "outputs": [],
   "source": []
  }
 ],
 "metadata": {
  "kernelspec": {
   "display_name": "Python 3 (ipykernel)",
   "language": "python",
   "name": "python3"
  },
  "language_info": {
   "codemirror_mode": {
    "name": "ipython",
    "version": 3
   },
   "file_extension": ".py",
   "mimetype": "text/x-python",
   "name": "python",
   "nbconvert_exporter": "python",
   "pygments_lexer": "ipython3",
   "version": "3.13.5"
  }
 },
 "nbformat": 4,
 "nbformat_minor": 5
}
