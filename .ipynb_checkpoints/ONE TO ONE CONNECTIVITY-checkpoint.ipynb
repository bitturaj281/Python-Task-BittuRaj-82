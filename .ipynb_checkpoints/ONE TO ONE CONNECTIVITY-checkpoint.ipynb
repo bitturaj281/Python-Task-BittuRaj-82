{
 "cells": [
  {
   "cell_type": "code",
   "execution_count": 6,
   "id": "0245430b-c2ee-4d47-b2bb-918b94f90dfc",
   "metadata": {},
   "outputs": [
    {
     "name": "stdout",
     "output_type": "stream",
     "text": [
      "(('banking_customer',), ('batch_82',), ('data_science',), ('information_schema',), ('intro_sql',), ('join_sql',), ('metlife',), ('my_school',), ('mysql',), ('numbers',), ('performance_schema',), ('practice_db',), ('project',), ('python',), ('school',), ('students',), ('sys',))\n"
     ]
    }
   ],
   "source": [
    "# How to connect with database.\n",
    "\n",
    "import pymysql as mysql\n",
    "try:\n",
    "    mydb = mysql.connect(host=\"localhost\", user=\"root\", password=\"Scientist@$2024BIT\")\n",
    "    # print(mydb)\n",
    "    cursor=mydb.cursor()\n",
    "    cursor.execute(\"SHOW DATABASES\")\n",
    "    print(cursor.fetchall())\n",
    "except Exception as e:\n",
    "    print(\"Error:\", e)"
   ]
  },
  {
   "cell_type": "code",
   "execution_count": null,
   "id": "f5998dfb-a08b-4b70-8d3c-c63a5b93dff1",
   "metadata": {},
   "outputs": [],
   "source": [
    "# How to CREATE NEW database.\n",
    "import pymysql as mysql\n",
    "try:\n",
    "    mydb = mysql.connect(host=\"localhost\", user=\"root\", password=\"Scientist@$2024BIT\")\n",
    "    print(mydb)\n",
    "    cursor=mydb.cursor()\n",
    "    db_name=\"python\"\n",
    "    # cursor.execute(f\"DROP DATABASE {db_name}\")\n",
    "    cursor.execute(f\"CREATE DATABASE {db_name}\")\n",
    "    print(\"Database Created...\")\n",
    "except Exception as e:\n",
    "    print(\"Error:\", e)"
   ]
  },
  {
   "cell_type": "code",
   "execution_count": 7,
   "id": "c2a0a76c-f2e9-4c30-bd22-fc6aed75d33a",
   "metadata": {},
   "outputs": [
    {
     "name": "stdout",
     "output_type": "stream",
     "text": [
      "Your Table is Created...\n"
     ]
    }
   ],
   "source": [
    "# How to create a table in a dedicated database.\n",
    "# PARENT TABLE\n",
    "import pymysql as mysql\n",
    "\n",
    "try:\n",
    "    mydb = mysql.connect(host=\"localhost\", user=\"root\", password=\"Scientist@$2024BIT\", database=\"PYTHON\")\n",
    "\n",
    "    cursor=mydb.cursor()\n",
    "    \n",
    "    query=f\"\"\"\n",
    "    CREATE TABLE BANK_AXIS(\n",
    "    BANK_ID INT PRIMARY KEY,\n",
    "    BANK_NAME VARCHAR(50),\n",
    "    BRANCH_CODE VARCHAR(10)\n",
    "    );\"\"\"\n",
    "\n",
    "    cursor.execute(query)\n",
    "    \n",
    "    print(\"Your Table is Created...\")\n",
    "except Exception as e:\n",
    "    print(\"Error:\", e)"
   ]
  },
  {
   "cell_type": "code",
   "execution_count": null,
   "id": "7d84cdbd-f5e0-452c-b583-b3fd4f46e4d7",
   "metadata": {},
   "outputs": [],
   "source": [
    "# How to create a table in a dedicated database.\n",
    "# CHILD TABLE\n",
    "import pymysql as mysql\n",
    "\n",
    "try:\n",
    "    mydb = mysql.connect(host=\"localhost\", user=\"root\", password=\"Scientist@$2024BIT\", database=\"PYTHON\")\n",
    "\n",
    "    cursor=mydb.cursor()\n",
    "    \n",
    "    query=f\"\"\"\n",
    "    CREATE TABLE CUSTOMER (\n",
    "    CUSTOMER_ID INT PRIMARY KEY AUTO_INCREMENT,\n",
    "    CUSTOMER_NAME VARCHAR(50),\n",
    "    EMAIL VARCHAR(100),\n",
    "    BANK_ID INT,\n",
    "    FOREIGN KEY (BANK_ID) REFERENCES BANK(BANK_ID)\n",
    "    );\"\"\"\n",
    "\n",
    "    cursor.execute(query)\n",
    "    \n",
    "    print(\"Your Table is Created...\")\n",
    "except Exception as e:\n",
    "    print(\"Error:\", e)"
   ]
  }
 ],
 "metadata": {
  "kernelspec": {
   "display_name": "Python 3 (ipykernel)",
   "language": "python",
   "name": "python3"
  },
  "language_info": {
   "codemirror_mode": {
    "name": "ipython",
    "version": 3
   },
   "file_extension": ".py",
   "mimetype": "text/x-python",
   "name": "python",
   "nbconvert_exporter": "python",
   "pygments_lexer": "ipython3",
   "version": "3.13.5"
  }
 },
 "nbformat": 4,
 "nbformat_minor": 5
}
