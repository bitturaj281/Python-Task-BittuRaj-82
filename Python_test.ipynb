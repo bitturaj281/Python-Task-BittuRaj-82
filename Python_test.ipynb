{
 "cells": [
  {
   "cell_type": "code",
   "execution_count": 10,
   "id": "4102893c-2fc8-445d-a864-58256d520ba7",
   "metadata": {},
   "outputs": [
    {
     "name": "stdin",
     "output_type": "stream",
     "text": [
      "Enter your character: hello\n"
     ]
    },
    {
     "name": "stdout",
     "output_type": "stream",
     "text": [
      "o\n"
     ]
    }
   ],
   "source": [
    "# 1.Write a Python program that reads a string from the user and prints the greatest character in it\n",
    "\n",
    "str1 = input(\"Enter your character:\")\n",
    "\n",
    "\n",
    "great_char = 'a'\n",
    "\n",
    "for i in str1:\n",
    "    if( i > great_char):\n",
    "        great_char = i\n",
    "print(great_char)"
   ]
  },
  {
   "cell_type": "code",
   "execution_count": 17,
   "id": "0616fe3b-b8a2-49a8-a3f1-5c066e80e8d1",
   "metadata": {},
   "outputs": [
    {
     "name": "stdin",
     "output_type": "stream",
     "text": [
      "Enter a string:  python\n"
     ]
    },
    {
     "name": "stdout",
     "output_type": "stream",
     "text": [
      "The character that comes last is: y\n"
     ]
    }
   ],
   "source": [
    "# 2.Write a Python program that reads a string from the user and prints the character that comes\n",
    "# last in the alphabet from “a” to “z” (ignore case).\n",
    "\n",
    "user_str = input(\"Enter a string: \").lower()\n",
    "\n",
    "last_char = user_str[0]\n",
    "\n",
    "for ch in user_str:\n",
    "    if ch > last_char:\n",
    "        last_char = ch\n",
    "\n",
    "print(f\"The character that comes last is: {last_char}\")\n"
   ]
  },
  {
   "cell_type": "code",
   "execution_count": 20,
   "id": "e07ae796-4619-4837-a874-561302f03881",
   "metadata": {},
   "outputs": [
    {
     "name": "stdin",
     "output_type": "stream",
     "text": [
      "Enter a string: python\n"
     ]
    },
    {
     "name": "stdout",
     "output_type": "stream",
     "text": [
      "characters in ascending order is: hnopty\n"
     ]
    }
   ],
   "source": [
    "# 3.Write a Python program that reads a string and prints its characters in ascending order.\n",
    "\n",
    "str1 = input(\"Enter a string:\")\n",
    "sorted_str = ''.join(sorted(str1))\n",
    "\n",
    "print(f\"characters in ascending order is: {sorted_str}\")\n"
   ]
  },
  {
   "cell_type": "code",
   "execution_count": 22,
   "id": "43749e37-512d-4a0b-8842-df05379b1078",
   "metadata": {},
   "outputs": [
    {
     "name": "stdin",
     "output_type": "stream",
     "text": [
      "Enter a string: abcdefghiu\n"
     ]
    },
    {
     "name": "stdout",
     "output_type": "stream",
     "text": [
      "characters in ascending order is: uihgfedcba\n"
     ]
    }
   ],
   "source": [
    "# 4.Write a Python program that reads a string and prints its characters in descending order\n",
    "\n",
    "str1 = input(\"Enter a string:\")\n",
    "sorted_str = ''.join(sorted(str1, reverse=True))\n",
    "\n",
    "print(f\"characters in ascending order is: {sorted_str}\")"
   ]
  },
  {
   "cell_type": "code",
   "execution_count": 33,
   "id": "21accf22-e1da-4eee-a414-2981d0b80214",
   "metadata": {},
   "outputs": [
    {
     "name": "stdin",
     "output_type": "stream",
     "text": [
      "Enter a string: science\n"
     ]
    },
    {
     "name": "stdout",
     "output_type": "stream",
     "text": [
      "Middle character is: e\n"
     ]
    }
   ],
   "source": [
    "# 5.Write a Python program that prints the middle character of a string; if the string length is even, print “No middle character.”\n",
    "\n",
    "str1 = input(\"Enter a string:\")\n",
    "\n",
    "if len(str1) % 2 == 0:\n",
    "    print(\"No middle character\")\n",
    "else:\n",
    "    mid_char = len(str1) // 2\n",
    "    print(f\"Middle character is: {str1[mid_char]}\")"
   ]
  },
  {
   "cell_type": "code",
   "execution_count": 46,
   "id": "e5e80a44-c1b0-411c-8c4b-fdd7fd46fd3c",
   "metadata": {},
   "outputs": [
    {
     "name": "stdin",
     "output_type": "stream",
     "text": [
      "Enter a string: science\n"
     ]
    },
    {
     "name": "stdout",
     "output_type": "stream",
     "text": [
      "Sum of all char: 21\n",
      "Reversed string:ecneics\n"
     ]
    }
   ],
   "source": [
    "# 6.Write a Python program that calculates the sum of all index positions of a string and also\n",
    "# prints the string in reverse order.\n",
    "\n",
    "str1 = input(\"Enter a string:\")\n",
    "count_val = 0\n",
    "for i in range(len(str1)):\n",
    "    count_val += i\n",
    "    \n",
    "print(f\"Sum of all char: {count_val}\")\n",
    "print(f\"reverse string: {str1[::-1]}\")"
   ]
  },
  {
   "cell_type": "code",
   "execution_count": 48,
   "id": "618e6309-1bb0-413d-9194-8f8b696d37c8",
   "metadata": {},
   "outputs": [
    {
     "name": "stdout",
     "output_type": "stream",
     "text": [
      "The longest string is:contact\n"
     ]
    }
   ],
   "source": [
    "# 7.Write a Python program that finds and prints the longest string in a given list of strings (if there\n",
    "# is a tie, print the first longest).\n",
    "\n",
    "list_str = [\"car\", \"racer\", \"bike\", \"mobile\", \"contact\", \"laptop\"]\n",
    "\n",
    "longest = list_str[0]\n",
    "\n",
    "for ch in list_str:\n",
    "    if len(ch) > len(longest):\n",
    "        longest = ch\n",
    "\n",
    "print(f\"The longest string is:{longest}\")"
   ]
  },
  {
   "cell_type": "code",
   "execution_count": 52,
   "id": "8e7ee31e-d612-40a2-8dd1-ed7ef7a7724b",
   "metadata": {},
   "outputs": [
    {
     "name": "stdout",
     "output_type": "stream",
     "text": [
      "['aman']\n"
     ]
    }
   ],
   "source": [
    "# 8.Using a list comprehension, filter the list [\"aman\", \"shivam\", \"raju\"] to return the names that start with \"a\".\n",
    "\n",
    "list_word = [\"aman\", \"shivam\", \"raju\"]\n",
    "\n",
    "result = [name for name in list_word if name.startswith(\"a\")]\n",
    "print(result)"
   ]
  },
  {
   "cell_type": "code",
   "execution_count": 58,
   "id": "7e7c05c3-50f2-45d9-a185-20ea5a95e9f0",
   "metadata": {},
   "outputs": [
    {
     "name": "stdout",
     "output_type": "stream",
     "text": [
      "[1, 4, 9]\n"
     ]
    }
   ],
   "source": [
    "# 9.Using a list comprehension From a list of numbers, make a list of their squares.\n",
    "# Example: [1, 2, 3] → [1, 4, 9].\n",
    "\n",
    "_list = [1, 2, 3]\n",
    "\n",
    "new_list = [i**2 for i in _list]\n",
    "print(new_list)\n"
   ]
  },
  {
   "cell_type": "code",
   "execution_count": 63,
   "id": "86cda5b8-2e64-4e9b-8003-fc217228351e",
   "metadata": {},
   "outputs": [
    {
     "name": "stdout",
     "output_type": "stream",
     "text": [
      "[2, 6]\n"
     ]
    }
   ],
   "source": [
    "# 10.Using list comprehension Convert a list of strings to a list of their lengths.\n",
    "# Example: [\"hi\", \"python\"] → [2, 6].\n",
    "\n",
    "str_list = [\"hi\", \"python\"]\n",
    "\n",
    "num_list = [len(ch) for ch in str_list]\n",
    "\n",
    "print(num_list)\n"
   ]
  },
  {
   "cell_type": "code",
   "execution_count": 70,
   "id": "f9ff4968-6b9d-46d4-8d2e-65d24a8fbc6b",
   "metadata": {},
   "outputs": [
    {
     "name": "stdout",
     "output_type": "stream",
     "text": [
      "['80%', '50%', '90%']\n"
     ]
    }
   ],
   "source": [
    "# 11. Using List comprehension Given marks [35, 80, 50, 39, 90], keep only passing\n",
    "# marks (≥ 40) and convert them to strings like \"80%\" “50%”. . ..\n",
    "\n",
    "marks = [35, 80, 50, 39, 90]\n",
    "\n",
    "pass_marks = [str(i)+\"%\" for i in marks if i >= 40]\n",
    "\n",
    "print(pass_marks)"
   ]
  },
  {
   "cell_type": "code",
   "execution_count": 75,
   "id": "a3b9d964-115c-492d-950c-5ebd2c4ef4bf",
   "metadata": {},
   "outputs": [
    {
     "name": "stdout",
     "output_type": "stream",
     "text": [
      "['2024', '2025', '2024', '2022']\n"
     ]
    }
   ],
   "source": [
    "# 12.Using a list comprehension Given dates as strings\n",
    "# [\"2024-01-01\",\"2025-12-31\",\"2024-12-31\",\"2022-12-31\"], keep only dates from the years \"2024\".\n",
    "\n",
    "dates = [\"2024-01-01\",\"2025-12-31\",\"2024-12-31\",\"2022-12-31\"]\n",
    "\n",
    "years = [i[:4] for i in dates]\n",
    "\n",
    "print(years)\n"
   ]
  },
  {
   "cell_type": "code",
   "execution_count": null,
   "id": "2d9eedc5-7960-45d8-8cc7-8c694ae038cf",
   "metadata": {},
   "outputs": [],
   "source": []
  },
  {
   "cell_type": "code",
   "execution_count": null,
   "id": "0fe440ce-2196-4f3c-a01b-dcee01ab0b50",
   "metadata": {},
   "outputs": [],
   "source": []
  }
 ],
 "metadata": {
  "kernelspec": {
   "display_name": "Python 3 (ipykernel)",
   "language": "python",
   "name": "python3"
  },
  "language_info": {
   "codemirror_mode": {
    "name": "ipython",
    "version": 3
   },
   "file_extension": ".py",
   "mimetype": "text/x-python",
   "name": "python",
   "nbconvert_exporter": "python",
   "pygments_lexer": "ipython3",
   "version": "3.13.5"
  }
 },
 "nbformat": 4,
 "nbformat_minor": 5
}
