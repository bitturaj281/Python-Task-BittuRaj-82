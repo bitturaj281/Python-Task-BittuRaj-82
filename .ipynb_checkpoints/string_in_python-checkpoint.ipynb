{
 "cells": [
  {
   "cell_type": "code",
   "execution_count": null,
   "id": "a4650e82-40e3-4730-87bc-a7e40934a10a",
   "metadata": {},
   "outputs": [],
   "source": [
    "# _ _ _ _ _ _ _ _ _ _ _ String\n",
    "# string\n",
    "# Defination and properties\n",
    "# Creation\n",
    "# Accessing # Self assesment\n",
    "# slicing # Self assesment\n",
    "# Traversing # Self assesment\n",
    "# Built-in-methods \n",
    "# Assignment"
   ]
  },
  {
   "cell_type": "code",
   "execution_count": null,
   "id": "177e672e-d5a1-4fa5-a5fe-d4ea8e1213a6",
   "metadata": {},
   "outputs": [],
   "source": [
    "# Defination?\n",
    "# String is a data structure in python used to store series of char, num, symbols.\n",
    "# String are indexed, ordered an support slicing\n",
    "# String are immutable in nature\n",
    "# String can be create by using (''), (\"\"), (\"\"\" \"\"\")\n",
    "\n",
    "# A string is a sequence of characters enclosed in single ('), double (\") or triple quotes (''' or \"\"\").\n",
    "Syntax: string[start:end:step]"
   ]
  },
  {
   "cell_type": "code",
   "execution_count": 3,
   "id": "613fd88c-a31e-47ff-8d3b-de594a62ddd4",
   "metadata": {},
   "outputs": [
    {
     "name": "stdout",
     "output_type": "stream",
     "text": [
      "How 'are' you\n",
      "How \"are\" you\n",
      "How 'are' \"kuch\" you\n"
     ]
    }
   ],
   "source": [
    "# Creation\n",
    "str1 = \"How 'are' you\"\n",
    "str2 = 'How \"are\" you'\n",
    "str3 = \"\"\"How 'are' \"kuch\" you\"\"\"\n",
    "\n",
    "print(str1)\n",
    "print(str2)\n",
    "print(str3)"
   ]
  },
  {
   "cell_type": "code",
   "execution_count": null,
   "id": "30d49dae-eee6-4e95-80d9-d9f8a164c380",
   "metadata": {},
   "outputs": [],
   "source": [
    "# Accessing # \n"
   ]
  },
  {
   "cell_type": "code",
   "execution_count": 5,
   "id": "58380a06-e51e-4840-b3b5-00046ef56095",
   "metadata": {},
   "outputs": [
    {
     "name": "stdout",
     "output_type": "stream",
     "text": [
      "H\n",
      "e\n",
      "l\n",
      "l\n",
      "o\n"
     ]
    }
   ],
   "source": [
    "my_string = \"Hello\"\n",
    "for char in my_string:\n",
    "    print(char)"
   ]
  },
  {
   "cell_type": "code",
   "execution_count": 4,
   "id": "363eaf4f-03e2-4ec7-9522-ab25400a4d37",
   "metadata": {},
   "outputs": [
    {
     "name": "stdout",
     "output_type": "stream",
     "text": [
      "False\n",
      "False\n",
      "True\n"
     ]
    }
   ],
   "source": [
    "# Built-in-methods.\n",
    "\n",
    "data = \"This Is My String\"\n",
    "print(data.isupper())\n",
    "print(data.islower())\n",
    "print(data.istitle())"
   ]
  },
  {
   "cell_type": "code",
   "execution_count": 14,
   "id": "9c121e26-5567-4efe-9878-8b46e6bd802d",
   "metadata": {},
   "outputs": [
    {
     "name": "stdout",
     "output_type": "stream",
     "text": [
      "False\n"
     ]
    }
   ],
   "source": [
    "# str3=\"\"\n",
    "# print(str3.isspace())\n",
    "\n",
    "# str4=\"7897r\"\n",
    "# print(str4.isdigit())\n",
    "\n",
    "# str5=\"ghh555gh\"\n",
    "# print(str5.isalnum())\n",
    "\n",
    "str6=\"❤️\"\n",
    "print(str6.isascii())"
   ]
  },
  {
   "cell_type": "code",
   "execution_count": 19,
   "id": "ffd13d76-d471-414c-ab5a-24efaf43e005",
   "metadata": {},
   "outputs": [
    {
     "name": "stdout",
     "output_type": "stream",
     "text": [
      "java for data science\n",
      "python for data science\n"
     ]
    }
   ],
   "source": [
    "my_data=\"python for data science\"\n",
    "# my_data[0]=\"z\"\n",
    "res = my_data.replace(\"python\",\"java\")\n",
    "print(res)\n",
    "print(my_data)"
   ]
  },
  {
   "cell_type": "code",
   "execution_count": 23,
   "id": "b7b602fb-d016-46ac-be77-d6ebf10947f2",
   "metadata": {},
   "outputs": [
    {
     "name": "stdout",
     "output_type": "stream",
     "text": [
      "True\n"
     ]
    }
   ],
   "source": [
    "# my_data=\"python for data science\"\n",
    "# res = my_data.endswith(\"ce\")\n",
    "# print(res)\n",
    "\n",
    "my_data=\"python for data science\"\n",
    "res = my_data.startswith(\"p\")\n",
    "print(res)"
   ]
  },
  {
   "cell_type": "code",
   "execution_count": 1,
   "id": "84767052-8aa2-49f6-a30f-13063f27ec63",
   "metadata": {},
   "outputs": [
    {
     "name": "stdout",
     "output_type": "stream",
     "text": [
      "python for data science\n",
      "p#y#t#h#o#n# #f#o#r# #d#a#t#a# #s#c#i#e#n#c#e\n"
     ]
    }
   ],
   "source": [
    "my_data=\"python for data science\"\n",
    "new =\"#\".join(my_data)\n",
    "print(my_data)\n",
    "print(new)"
   ]
  },
  {
   "cell_type": "code",
   "execution_count": 35,
   "id": "513d99d5-744b-4bf7-b93f-94ac12a483ad",
   "metadata": {},
   "outputs": [
    {
     "name": "stdout",
     "output_type": "stream",
     "text": [
      "['python', 'for', 'data', 'science']\n"
     ]
    }
   ],
   "source": [
    "my_data=\"python for data science\"\n",
    "res=my_data.split(\" \")\n",
    "print(res)"
   ]
  },
  {
   "cell_type": "code",
   "execution_count": 2,
   "id": "f7020695-c512-4f12-8b2d-b4b579049ba2",
   "metadata": {},
   "outputs": [
    {
     "name": "stdout",
     "output_type": "stream",
     "text": [
      "23\n",
      "30\n"
     ]
    }
   ],
   "source": [
    "my_data=\"   python for data science    \"\n",
    "new = my_data.strip()\n",
    "print(len(new))\n",
    "print(len(my_data))"
   ]
  },
  {
   "cell_type": "code",
   "execution_count": 45,
   "id": "a3163bff-587e-4cc5-8559-7d262263f316",
   "metadata": {},
   "outputs": [
    {
     "name": "stdout",
     "output_type": "stream",
     "text": [
      "python for data science    \n",
      "   python for data science    \n"
     ]
    }
   ],
   "source": [
    "my_data=\"   python for data science    \"\n",
    "new = my_data.lstrip()\n",
    "print((new))\n",
    "print((my_data))"
   ]
  },
  {
   "cell_type": "code",
   "execution_count": 48,
   "id": "a25d270f-33c5-4f54-9388-7e7ee2cf8710",
   "metadata": {},
   "outputs": [
    {
     "name": "stdout",
     "output_type": "stream",
     "text": [
      "python for data science\n"
     ]
    }
   ],
   "source": [
    "my_data=\"python for data science    \"\n",
    "new = my_data.rstrip()\n",
    "print((new))\n",
    "print((my_data))"
   ]
  },
  {
   "cell_type": "code",
   "execution_count": 59,
   "id": "71b1e3e4-80ea-4528-86f4-ba3311d65739",
   "metadata": {},
   "outputs": [
    {
     "name": "stdout",
     "output_type": "stream",
     "text": [
      "python for data science    \n"
     ]
    }
   ],
   "source": [
    "my_data=\"Python For data science    \"\n",
    "# print(my_data.upper())\n",
    "# print(my_data.lower())\n",
    "# print(my_data.title())\n",
    "print(my_data.casefold())\n",
    "# res = my_data.swapcase()\n",
    "# print(res)"
   ]
  },
  {
   "cell_type": "code",
   "execution_count": 69,
   "id": "529fc756-dcbc-42f3-b75f-47c8dd6eafe7",
   "metadata": {},
   "outputs": [
    {
     "name": "stdout",
     "output_type": "stream",
     "text": [
      "0042562000\n"
     ]
    }
   ],
   "source": [
    "my_data = \"42562000\"\n",
    "res = my_data.zfill(10)\n",
    "print(res)"
   ]
  },
  {
   "cell_type": "code",
   "execution_count": 75,
   "id": "cf715bf0-301e-4bf7-9326-22373103d6b9",
   "metadata": {},
   "outputs": [
    {
     "name": "stdout",
     "output_type": "stream",
     "text": [
      "     pyth\n"
     ]
    }
   ],
   "source": [
    "my_data = \"     python   \"\n",
    "# res = my_data.lstrip(\"py\")\n",
    "res = my_data.rstrip(\"on  \")\n",
    "print(res)"
   ]
  },
  {
   "cell_type": "code",
   "execution_count": 76,
   "id": "8ed4e87f-769e-4ac6-85b0-6343e53998eb",
   "metadata": {},
   "outputs": [
    {
     "data": {
      "text/plain": [
       "['__add__',\n",
       " '__class__',\n",
       " '__contains__',\n",
       " '__delattr__',\n",
       " '__dir__',\n",
       " '__doc__',\n",
       " '__eq__',\n",
       " '__format__',\n",
       " '__ge__',\n",
       " '__getattribute__',\n",
       " '__getitem__',\n",
       " '__getnewargs__',\n",
       " '__getstate__',\n",
       " '__gt__',\n",
       " '__hash__',\n",
       " '__init__',\n",
       " '__init_subclass__',\n",
       " '__iter__',\n",
       " '__le__',\n",
       " '__len__',\n",
       " '__lt__',\n",
       " '__mod__',\n",
       " '__mul__',\n",
       " '__ne__',\n",
       " '__new__',\n",
       " '__reduce__',\n",
       " '__reduce_ex__',\n",
       " '__repr__',\n",
       " '__rmod__',\n",
       " '__rmul__',\n",
       " '__setattr__',\n",
       " '__sizeof__',\n",
       " '__str__',\n",
       " '__subclasshook__',\n",
       " 'capitalize',\n",
       " 'casefold',\n",
       " 'center',\n",
       " 'count',\n",
       " 'encode',\n",
       " 'endswith',\n",
       " 'expandtabs',\n",
       " 'find',\n",
       " 'format',\n",
       " 'format_map',\n",
       " 'index',\n",
       " 'isalnum',\n",
       " 'isalpha',\n",
       " 'isascii',\n",
       " 'isdecimal',\n",
       " 'isdigit',\n",
       " 'isidentifier',\n",
       " 'islower',\n",
       " 'isnumeric',\n",
       " 'isprintable',\n",
       " 'isspace',\n",
       " 'istitle',\n",
       " 'isupper',\n",
       " 'join',\n",
       " 'ljust',\n",
       " 'lower',\n",
       " 'lstrip',\n",
       " 'maketrans',\n",
       " 'partition',\n",
       " 'removeprefix',\n",
       " 'removesuffix',\n",
       " 'replace',\n",
       " 'rfind',\n",
       " 'rindex',\n",
       " 'rjust',\n",
       " 'rpartition',\n",
       " 'rsplit',\n",
       " 'rstrip',\n",
       " 'split',\n",
       " 'splitlines',\n",
       " 'startswith',\n",
       " 'strip',\n",
       " 'swapcase',\n",
       " 'title',\n",
       " 'translate',\n",
       " 'upper',\n",
       " 'zfill']"
      ]
     },
     "execution_count": 76,
     "metadata": {},
     "output_type": "execute_result"
    }
   ],
   "source": [
    "dir(str)"
   ]
  },
  {
   "cell_type": "code",
   "execution_count": 83,
   "id": "919b253c-f048-4fca-bd1c-489c2f05d5db",
   "metadata": {},
   "outputs": [
    {
     "name": "stdout",
     "output_type": "stream",
     "text": [
      "6\n"
     ]
    }
   ],
   "source": [
    "my_data=\"pynthon\"\n",
    "res = my_data.find(\"n\",3)\n",
    "print(res)"
   ]
  },
  {
   "cell_type": "code",
   "execution_count": null,
   "id": "b737e370-2313-490e-8a96-15dd4cc23cac",
   "metadata": {},
   "outputs": [],
   "source": [
    "# list, comprehansion, for loop"
   ]
  },
  {
   "cell_type": "code",
   "execution_count": 86,
   "id": "3ca9ea24-7563-4974-b5e4-7c5f14504ddd",
   "metadata": {},
   "outputs": [
    {
     "name": "stdin",
     "output_type": "stream",
     "text": [
      "Enter your user name :      hdfhsj\n",
      "Enter your password :               hdfsd\n"
     ]
    },
    {
     "name": "stdout",
     "output_type": "stream",
     "text": [
      "              hdfsd\n",
      "     hdfhsj\n",
      "\n",
      "     hdfhsj\n",
      "              hdfsd\n"
     ]
    }
   ],
   "source": [
    "username = input(\"Enter your user name :\")\n",
    "password = input(\"Enter your password :\")\n",
    "\n",
    "store_user = username\n",
    "store_pass = password\n",
    "\n",
    "print(store_pass)\n",
    "print(store_user)\n",
    "print()\n",
    "print(username)\n",
    "print(password)"
   ]
  },
  {
   "cell_type": "code",
   "execution_count": 97,
   "id": "7343af55-27aa-41d9-9b51-cb06686fb39a",
   "metadata": {},
   "outputs": [
    {
     "name": "stdout",
     "output_type": "stream",
     "text": [
      "$\n"
     ]
    }
   ],
   "source": [
    "password = \"raj$ 123\"\n",
    "\n",
    "# res=password.replace(\" \", \"\")\n",
    "print(password[3])\n",
    "\n",
    "# print(res)"
   ]
  },
  {
   "cell_type": "code",
   "execution_count": null,
   "id": "dc532690-c135-455f-bd06-ad24503c801c",
   "metadata": {},
   "outputs": [],
   "source": []
  }
 ],
 "metadata": {
  "kernelspec": {
   "display_name": "Python 3 (ipykernel)",
   "language": "python",
   "name": "python3"
  },
  "language_info": {
   "codemirror_mode": {
    "name": "ipython",
    "version": 3
   },
   "file_extension": ".py",
   "mimetype": "text/x-python",
   "name": "python",
   "nbconvert_exporter": "python",
   "pygments_lexer": "ipython3",
   "version": "3.13.5"
  }
 },
 "nbformat": 4,
 "nbformat_minor": 5
}
