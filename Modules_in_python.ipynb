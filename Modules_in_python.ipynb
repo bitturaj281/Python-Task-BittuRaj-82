{
 "cells": [
  {
   "cell_type": "code",
   "execution_count": 5,
   "id": "7985d101-8182-4972-9c11-6dfcaaa462f9",
   "metadata": {},
   "outputs": [
    {
     "name": "stdout",
     "output_type": "stream",
     "text": [
      "5.0\n"
     ]
    }
   ],
   "source": [
    "# what is module in python\n",
    "# Module is python is collection or readymade code, function and variables.\n",
    "\n",
    "import math\n",
    "# res = math.prod([10,20])\n",
    "res = math.sqrt(25)\n",
    "print(res)"
   ]
  },
  {
   "cell_type": "code",
   "execution_count": null,
   "id": "7e1bb605-1126-4cbf-842f-0c260f796754",
   "metadata": {},
   "outputs": [],
   "source": [
    "# Module types\n",
    "# inbuild modules\n",
    "# user defined module"
   ]
  },
  {
   "cell_type": "code",
   "execution_count": 9,
   "id": "bd7a1137-69a5-4042-9e0c-e39937c0c613",
   "metadata": {},
   "outputs": [
    {
     "data": {
      "text/plain": [
       "'Odd number'"
      ]
     },
     "execution_count": 9,
     "metadata": {},
     "output_type": "execute_result"
    }
   ],
   "source": [
    "def odd_even(n):\n",
    "    if n%2==0:\n",
    "        return \"Even number\"\n",
    "    else:\n",
    "        return \"Odd number\"\n",
    "odd_even(41)"
   ]
  },
  {
   "cell_type": "code",
   "execution_count": 14,
   "id": "496ddd7d-3c6d-4eaa-8d39-f59181874d04",
   "metadata": {},
   "outputs": [
    {
     "data": {
      "text/plain": [
       "'jaR'"
      ]
     },
     "execution_count": 14,
     "metadata": {},
     "output_type": "execute_result"
    }
   ],
   "source": [
    "def revstr(s):\n",
    "    return s[::-1]\n",
    "revstr(\"Raj\")     "
   ]
  },
  {
   "cell_type": "code",
   "execution_count": null,
   "id": "c538d011-5ab9-443e-83b4-e5b464058bc1",
   "metadata": {},
   "outputs": [],
   "source": [
    "# random module\n",
    "# Math module\n",
    "# os module\n",
    "# datetime module\n",
    "# string module"
   ]
  },
  {
   "cell_type": "code",
   "execution_count": 26,
   "id": "118e200b-041d-43ed-aacf-2f3a5df5509c",
   "metadata": {},
   "outputs": [
    {
     "name": "stdout",
     "output_type": "stream",
     "text": [
      "1712\n"
     ]
    }
   ],
   "source": [
    "# random module\n",
    "import math\n",
    "import random as rand\n",
    "# res = rand.random()*10000\n",
    "res = math.floor(rand.random()*10000)\n",
    "print(int(res))"
   ]
  },
  {
   "cell_type": "code",
   "execution_count": 31,
   "id": "a90353c8-d77e-4fd9-99e2-8c9ae8a7a106",
   "metadata": {},
   "outputs": [
    {
     "name": "stdout",
     "output_type": "stream",
     "text": [
      "755\n"
     ]
    }
   ],
   "source": [
    "res=rand.randint(99,999)\n",
    "print(res)"
   ]
  },
  {
   "cell_type": "code",
   "execution_count": 38,
   "id": "e62b34a8-63f7-4178-8a8a-a722b62481f1",
   "metadata": {},
   "outputs": [
    {
     "name": "stdout",
     "output_type": "stream",
     "text": [
      "3\n"
     ]
    }
   ],
   "source": [
    "res=rand.randrange(1,5)\n",
    "print(res)"
   ]
  },
  {
   "cell_type": "code",
   "execution_count": 45,
   "id": "73a038d6-97a9-4232-843f-4cb9986f8870",
   "metadata": {},
   "outputs": [
    {
     "name": "stdout",
     "output_type": "stream",
     "text": [
      "13\n"
     ]
    }
   ],
   "source": [
    "res=rand.choice([i for i in range(10, 30)])\n",
    "print(res)"
   ]
  },
  {
   "cell_type": "code",
   "execution_count": 46,
   "id": "cf79a9bd-0a84-464c-a17f-be2cbd630eb9",
   "metadata": {},
   "outputs": [
    {
     "name": "stdout",
     "output_type": "stream",
     "text": [
      "d\n"
     ]
    }
   ],
   "source": [
    "res=rand.choice([\"a\",\"b\",\"c\",\"d\"])\n",
    "print(res)"
   ]
  },
  {
   "cell_type": "code",
   "execution_count": 49,
   "id": "2995e379-c59b-483a-81ba-cf842b3f66d5",
   "metadata": {},
   "outputs": [
    {
     "name": "stdout",
     "output_type": "stream",
     "text": [
      "['a', 'b']\n"
     ]
    }
   ],
   "source": [
    "res=rand.choice(([\"a\",\"b\"],[\"c\",\"d\"]))\n",
    "print(res)"
   ]
  },
  {
   "cell_type": "code",
   "execution_count": 51,
   "id": "9a16a6e0-b1c7-4335-b852-19b2aedf988a",
   "metadata": {},
   "outputs": [
    {
     "name": "stdout",
     "output_type": "stream",
     "text": [
      "{'b', 'a'}\n"
     ]
    }
   ],
   "source": [
    "res=rand.choice(({\"a\",\"b\"},{\"c\",\"d\"}))\n",
    "print(res)"
   ]
  },
  {
   "cell_type": "code",
   "execution_count": 60,
   "id": "9999c916-5b35-49c1-862e-704d4a86c8a0",
   "metadata": {},
   "outputs": [
    {
     "name": "stdout",
     "output_type": "stream",
     "text": [
      "Bobby\n"
     ]
    }
   ],
   "source": [
    "stu_name=[\"Aman\",\"Pavn\",\"Jass\",\"Bobby\"]\n",
    "res = rand.choice(stu_name)\n",
    "print(res)\n"
   ]
  },
  {
   "cell_type": "code",
   "execution_count": 69,
   "id": "326381bb-6a09-4a81-a0f4-36e935a5349d",
   "metadata": {},
   "outputs": [
    {
     "name": "stdout",
     "output_type": "stream",
     "text": [
      "['Jass']\n"
     ]
    }
   ],
   "source": [
    "stu_name=[\"Aman\",\"Pavn\",\"Jass\",\"Bobby\"]\n",
    "res = rand.choices(stu_name)\n",
    "\n",
    "print(res)\n"
   ]
  },
  {
   "cell_type": "code",
   "execution_count": 68,
   "id": "5c78bc40-450f-4a83-8130-2991d8a18442",
   "metadata": {},
   "outputs": [
    {
     "name": "stdout",
     "output_type": "stream",
     "text": [
      "['Pavn', 'Jass', 'Aman', 'Jass', 'Aman']\n"
     ]
    }
   ],
   "source": [
    "stu_name=[\"Aman\",\"Pavn\",\"Jass\",\"Bobby\"]\n",
    "res = rand.choices(stu_name,weights=[1,1,1,1],k=5)\n",
    "\n",
    "print(res)\n"
   ]
  },
  {
   "cell_type": "code",
   "execution_count": 70,
   "id": "afd5e085-e06c-4bed-a30e-9973ad0df49e",
   "metadata": {},
   "outputs": [
    {
     "name": "stdout",
     "output_type": "stream",
     "text": [
      "abcdefghijklmnopqrstuvwxyzABCDEFGHIJKLMNOPQRSTUVWXYZ\n"
     ]
    }
   ],
   "source": [
    "import  string \n",
    "res = string.ascii_letters\n",
    "print(res)"
   ]
  },
  {
   "cell_type": "code",
   "execution_count": 72,
   "id": "621fd642-7f6c-4cc0-a1d9-256f109ace05",
   "metadata": {},
   "outputs": [
    {
     "name": "stdout",
     "output_type": "stream",
     "text": [
      "abcdefghijklmnopqrstuvwxyz\n"
     ]
    }
   ],
   "source": [
    "import  string \n",
    "res = string.ascii_lowercase\n",
    "print(res)"
   ]
  },
  {
   "cell_type": "code",
   "execution_count": 73,
   "id": "e6449ed4-3584-46c5-96fd-ebc26f7945d2",
   "metadata": {},
   "outputs": [
    {
     "name": "stdout",
     "output_type": "stream",
     "text": [
      "ABCDEFGHIJKLMNOPQRSTUVWXYZ\n"
     ]
    }
   ],
   "source": [
    "import  string \n",
    "res = string.ascii_uppercase\n",
    "print(res)"
   ]
  },
  {
   "cell_type": "code",
   "execution_count": 75,
   "id": "edd73aaf-d368-49ed-8845-1c49bb63b2a3",
   "metadata": {},
   "outputs": [
    {
     "name": "stdout",
     "output_type": "stream",
     "text": [
      "0123456789\n"
     ]
    }
   ],
   "source": [
    "import  string \n",
    "res = string.digits\n",
    "print(res)"
   ]
  },
  {
   "cell_type": "code",
   "execution_count": 76,
   "id": "83bd6566-fa88-4420-ac5d-67a7c08c3d75",
   "metadata": {},
   "outputs": [
    {
     "name": "stdout",
     "output_type": "stream",
     "text": [
      "0123456789abcdefghijklmnopqrstuvwxyzABCDEFGHIJKLMNOPQRSTUVWXYZ\n"
     ]
    }
   ],
   "source": [
    "import  string \n",
    "res = string.digits+string.ascii_letters\n",
    "print(res)"
   ]
  },
  {
   "cell_type": "code",
   "execution_count": 77,
   "id": "39111fa1-a9f8-45d6-a1a2-d0325b5a5b39",
   "metadata": {},
   "outputs": [
    {
     "name": "stdout",
     "output_type": "stream",
     "text": [
      "0123456789abcdefghijklmnopqrstuvwxyzABCDEFGHIJKLMNOPQRSTUVWXYZ\n"
     ]
    }
   ],
   "source": [
    "\n",
    "\"\".join([rand.choice(string.digits+string.ascii_letters) for _ in range(11)])\n",
    "print(res)"
   ]
  },
  {
   "cell_type": "code",
   "execution_count": 78,
   "id": "9cf4a49c-2f3d-413d-906d-6e842f769368",
   "metadata": {},
   "outputs": [
    {
     "name": "stdout",
     "output_type": "stream",
     "text": [
      "P2Lckr9Egy7\n",
      "QjaWDunaTtq\n",
      "BvNaH7K1pYD\n",
      "8D3zb4rmbLi\n",
      "Q9MDaa8zNGS\n",
      "4EuLOyYaFGd\n",
      "4C22cWMiX99\n",
      "wXMvzoh4idM\n",
      "D10OwwYsGQu\n"
     ]
    }
   ],
   "source": [
    "for i in range(1,10):\n",
    "    print(\"\".join([rand.choice(string.digits+string.ascii_letters) for _ in range(11)]))"
   ]
  },
  {
   "cell_type": "code",
   "execution_count": 91,
   "id": "5c4d336d-49a2-402e-a1ec-9e44144aa087",
   "metadata": {},
   "outputs": [
    {
     "name": "stdout",
     "output_type": "stream",
     "text": [
      "Aman : Yn6opP4svPw\n",
      "Pavn : AyxcX615OPA\n",
      "Jass : X8OqQexL4il\n",
      "Bobby : URsyLhFkLH0\n"
     ]
    }
   ],
   "source": [
    "stu_name=[\"Aman\",\"Pavn\",\"Jass\",\"Bobby\"]\n",
    "for i in range(len(stu_name)):\n",
    "    print(stu_name[i] +\" : \"+ \"\".join([rand.choice(string.digits+string.ascii_letters) for _ in range(11)]))\n"
   ]
  },
  {
   "cell_type": "code",
   "execution_count": null,
   "id": "2d684df0-20aa-4db9-a95c-e095e24b5bf5",
   "metadata": {},
   "outputs": [],
   "source": []
  }
 ],
 "metadata": {
  "kernelspec": {
   "display_name": "Python 3 (ipykernel)",
   "language": "python",
   "name": "python3"
  },
  "language_info": {
   "codemirror_mode": {
    "name": "ipython",
    "version": 3
   },
   "file_extension": ".py",
   "mimetype": "text/x-python",
   "name": "python",
   "nbconvert_exporter": "python",
   "pygments_lexer": "ipython3",
   "version": "3.13.5"
  }
 },
 "nbformat": 4,
 "nbformat_minor": 5
}
