{
 "cells": [
  {
   "cell_type": "code",
   "execution_count": null,
   "id": "21635b1b-533e-4106-82dd-e84f201dae44",
   "metadata": {},
   "outputs": [],
   "source": [
    "# What is error/exception handling?\n",
    "#Error handling is a methedology to handle the program,s\n",
    "# Exception or error efficiently.\n",
    "try\n",
    "except\n",
    "finally\n",
    "\n",
    "ZeroDivisionError\n",
    "ValueError\n",
    "NameError"
   ]
  },
  {
   "cell_type": "code",
   "execution_count": 15,
   "id": "49b313c5-9305-48cd-9a58-222c046271d3",
   "metadata": {},
   "outputs": [
    {
     "name": "stdout",
     "output_type": "stream",
     "text": [
      "Something went wrong: division by zero\n",
      "I am always work\n"
     ]
    }
   ],
   "source": [
    "try:\n",
    "    n =  10\n",
    "    res = n/0\n",
    "    print(res)\n",
    "except ZeroDivisionError as Z:\n",
    "    print(\"Something went wrong:\", Z)\n",
    "except NameError as n:\n",
    "    print(\"Something went wrong,\", n)\n",
    "finally:\n",
    "    print(\"I am always work\")"
   ]
  },
  {
   "cell_type": "code",
   "execution_count": 25,
   "id": "94af1e08-374d-4ea7-ac24-ab0d0a802cba",
   "metadata": {},
   "outputs": [
    {
     "name": "stdout",
     "output_type": "stream",
     "text": [
      "Something went wrong: name 'z' is not defined\n",
      "I'm always work.\n"
     ]
    }
   ],
   "source": [
    "try:\n",
    "    n =  10\n",
    "    res = n/2\n",
    "    print(z)\n",
    "except Exception as e:\n",
    "    print(f\"Something went wrong: {e}\")\n",
    "\n",
    "finally:\n",
    "    print(\"I'm always work.\")"
   ]
  },
  {
   "cell_type": "code",
   "execution_count": 2,
   "id": "adf964c9-54d4-42c7-a279-811529256639",
   "metadata": {},
   "outputs": [
    {
     "name": "stdin",
     "output_type": "stream",
     "text": [
      "Enter your number 5\n"
     ]
    },
    {
     "name": "stdout",
     "output_type": "stream",
     "text": [
      "Odd\n",
      "I'm always work\n"
     ]
    }
   ],
   "source": [
    "try:\n",
    "    user = int(input(\"Enter your number\"))\n",
    "    \n",
    "    if user/2==0:\n",
    "        print(\"Even\")\n",
    "    else:\n",
    "        print(\"Odd\")\n",
    "except Exception as e:\n",
    "    print(f\"Error: {e}\")\n",
    "finally:\n",
    "    print(\"I'm always work\")"
   ]
  },
  {
   "cell_type": "code",
   "execution_count": null,
   "id": "e8b16885-fd5e-4997-8e7b-a650a9ed5323",
   "metadata": {},
   "outputs": [],
   "source": [
    "# WHAT IS DATA STRUCTURE\n",
    "# DATA STRUCTURE IS A PART OF HOW DATA STORES AND FETCH (READ/WRITE).\n",
    "# DATA RIGHT STRUCTURE IS ALSO HELP TO FETCH DATA VERY FAST AND EFFICIENTLY.\n",
    "\n",
    "# DATA STRUCTURE IN PYTHON\n",
    "# 1. LIST\n",
    "# 2. STRING\n",
    "# 3. TUPLE\n",
    "# 4. SET\n",
    "# 5. DICTIONARY\n"
   ]
  },
  {
   "cell_type": "code",
   "execution_count": null,
   "id": "e43ffad4-e2f2-4b54-b4b4-1b7549db6aa2",
   "metadata": {},
   "outputs": [],
   "source": [
    "# 1. LIST\n",
    "\n",
    "# Defination and properties\n",
    "# creation\n",
    "# Accessing / Slicing\n",
    "# Modification / update\n",
    "# Traversing\n",
    "# Built-in Methods\n",
    "# Assignment"
   ]
  },
  {
   "cell_type": "code",
   "execution_count": null,
   "id": "f80d12d2-a81f-457a-b2f0-99de50367998",
   "metadata": {},
   "outputs": [],
   "source": [
    "# Defination and Properties\n",
    "\n",
    "# 1. List is dynamic data structure in python used to store multiple data of\n",
    "#  different types in one object/variable.\n",
    "# 2. List are mutable in nature\n",
    "# 3. List are indexed, ordered and support slicing.\n",
    "# 4. List cam be hetrogenous and homogenous\n",
    "# 5. List have dynamic memory management"
   ]
  },
  {
   "cell_type": "code",
   "execution_count": 3,
   "id": "8fdefcaa-69b2-48b1-93c7-d2eed8b1094c",
   "metadata": {},
   "outputs": [
    {
     "name": "stdout",
     "output_type": "stream",
     "text": [
      "<class 'list'>\n",
      "[10, 20, 30, 40, 50, 60]\n",
      "[2, 3, 4, 45, 5]\n",
      "<class 'list'>\n"
     ]
    }
   ],
   "source": [
    "# Creation\n",
    "# 1. using []\n",
    "stu_marks = [10, 20, 30, 40, 50, 60]\n",
    "print(type(stu_marks))\n",
    "print(stu_marks)\n",
    "\n",
    "# 2. list() constructor/ method\n",
    "stu_roll = list((2,3,4,45,5))\n",
    "print(stu_roll)\n",
    "print(type(stu_roll))\n"
   ]
  },
  {
   "cell_type": "code",
   "execution_count": 6,
   "id": "d4151078-674c-48aa-b3f9-19003111d814",
   "metadata": {},
   "outputs": [
    {
     "name": "stdout",
     "output_type": "stream",
     "text": [
      "56\n"
     ]
    }
   ],
   "source": [
    "import sys\n",
    "stu_marks = [10, 20, 30, 40, 50, 60]\n",
    "print(sys.getsizeof(stu_marks))\n"
   ]
  },
  {
   "cell_type": "code",
   "execution_count": 1,
   "id": "1d6ea997-7808-46a6-9149-9ff2e88580aa",
   "metadata": {},
   "outputs": [
    {
     "name": "stdout",
     "output_type": "stream",
     "text": [
      "b\n",
      "10\n",
      "40\n"
     ]
    }
   ],
   "source": [
    "# Accessing\n",
    "my_list=[\"Aman\", \"Shivam\", 60, 89, 220, True, False, 90, \n",
    "[56, 90, 80], \n",
    "['a', 'b', 'c']] # hetrogeneous\n",
    "# print(my_list) \n",
    "# print(len(my_list))\n",
    "# print((my_list[-1]))\n",
    "# print(my_list[9][1])\n",
    "\n",
    "\n",
    "my_list = [10, 20, 30, 40]\n",
    "mixed_list = [1, \"apple\", 3.14, True]\n",
    "empty_list = []\n",
    "\n",
    "print(my_list[0])   # 10\n",
    "print(my_list[-1])  # 40 (last element)\n"
   ]
  },
  {
   "cell_type": "code",
   "execution_count": 12,
   "id": "0f25f673-47cf-4b84-bb99-16340ced81c3",
   "metadata": {},
   "outputs": [
    {
     "name": "stdout",
     "output_type": "stream",
     "text": [
      "['a', 'c', 'e']\n"
     ]
    }
   ],
   "source": [
    "# slicing\n",
    "new_list = ['a','b','c','d','e','f']\n",
    "\n",
    "res = new_list[::2]\n",
    "print(res)"
   ]
  },
  {
   "cell_type": "code",
   "execution_count": null,
   "id": "0269c1cb-445f-421f-ba27-0c9425700e72",
   "metadata": {},
   "outputs": [],
   "source": [
    "# Modification / update\n",
    "\n",
    "new_list= ['a','b','c','d','e','f', 'g']\n"
   ]
  },
  {
   "cell_type": "code",
   "execution_count": 14,
   "id": "b6876345-2d72-448f-946e-167a8d0d3ed7",
   "metadata": {},
   "outputs": [
    {
     "name": "stdout",
     "output_type": "stream",
     "text": [
      "<class 'type'>\n",
      "56\n"
     ]
    }
   ],
   "source": [
    "# create a empty list without []\n",
    "\n",
    "li = list()\n",
    "print(type(list))\n",
    "print(sys.getsizeof(li))"
   ]
  },
  {
   "cell_type": "code",
   "execution_count": 2,
   "id": "0afe33ca-8681-4271-9a79-e29d7a03679a",
   "metadata": {},
   "outputs": [
    {
     "name": "stdout",
     "output_type": "stream",
     "text": [
      "[[6], 'b', 'c', 'd', 'e', 'f', 'a']\n"
     ]
    }
   ],
   "source": [
    "# ['a','b','c','d','e','f', 'g'] = > ['g','b','c','d','e','f', 'a']\n",
    "\n",
    "my_list= ['a','b','c','d','e','f', 'g']\n",
    "first =  my_list[0]\n",
    "last = [len(my_list)-1]\n",
    "my_list[0] = last\n",
    "my_list[-1] = first\n",
    "\n",
    "print(my_list)"
   ]
  },
  {
   "cell_type": "code",
   "execution_count": 1,
   "id": "cc8d4c7b-0d2d-4b14-ab41-81309cf1517c",
   "metadata": {},
   "outputs": [
    {
     "name": "stdout",
     "output_type": "stream",
     "text": [
      "a\n",
      "b\n",
      "c\n",
      "d\n",
      "e\n",
      "f\n",
      "g\n"
     ]
    }
   ],
   "source": [
    "# Traversing\n",
    "\n",
    "# using for loop(3)\n",
    "my_list = ['a','b','c','d','e','f', 'g']\n",
    "# for i in range(len(my_list)):\n",
    "#     print(my_list[i],\"=\",i)\n",
    "\n",
    "for i in my_list:\n",
    "    print(i)"
   ]
  },
  {
   "cell_type": "code",
   "execution_count": 47,
   "id": "d5d85ef1-38c6-4e6e-8c2b-c8633de30ad2",
   "metadata": {},
   "outputs": [
    {
     "name": "stdout",
     "output_type": "stream",
     "text": [
      "a\n",
      "b\n",
      "c\n",
      "d\n",
      "e\n",
      "f\n",
      "g\n"
     ]
    }
   ],
   "source": [
    "# While loop\n",
    "my_list = ['a','b','c','d','e','f', 'g']\n",
    "i = 0\n",
    "while i<len(my_list):\n",
    "    print(my_list[i])\n",
    "    i+=1"
   ]
  },
  {
   "cell_type": "code",
   "execution_count": 63,
   "id": "2562f01a-ddd0-4e8e-82af-02d79a4796ac",
   "metadata": {},
   "outputs": [
    {
     "name": "stdout",
     "output_type": "stream",
     "text": [
      "210\n"
     ]
    }
   ],
   "source": [
    "my_num = [10, 20, 30, 40, 50, 60]\n",
    "sum = 0\n",
    "\n",
    "for i in my_num:\n",
    "    sum+=i\n",
    "print(sum)\n",
    "    "
   ]
  },
  {
   "cell_type": "code",
   "execution_count": 21,
   "id": "0c37e23f-8fa2-4a44-8d37-2959c05227c2",
   "metadata": {},
   "outputs": [],
   "source": [
    "# wap to sum of all element present in the list.\n",
    "# wap to only print even number of the list.\n",
    "# wap to check greatest element of the list.\n",
    "# wap to find the middle number of the list.\n",
    "\n",
    "# mylist = ['apple', 'banana', 'cherry']\n",
    "# mylist[0] = 'kiwi'\n",
    "# print(mylist[1])4\n"
   ]
  },
  {
   "cell_type": "code",
   "execution_count": 38,
   "id": "84546a8b-cf7b-4a10-84e1-5c98213398d9",
   "metadata": {},
   "outputs": [
    {
     "name": "stdout",
     "output_type": "stream",
     "text": [
      "[44, 8, 16]\n"
     ]
    }
   ],
   "source": [
    "# wap to only print even number of the list.\n",
    "num_list = [44, 5, 8, 13, 5, 16]\n",
    "new_num = []\n",
    "for i in num_list:\n",
    "    if i % 2 == 0:\n",
    "        new_num.append(i)\n",
    "print(new_num)"
   ]
  },
  {
   "cell_type": "code",
   "execution_count": 64,
   "id": "cf00027c-c6ec-433b-ab77-125861475a1a",
   "metadata": {},
   "outputs": [
    {
     "name": "stdout",
     "output_type": "stream",
     "text": [
      "44\n"
     ]
    }
   ],
   "source": [
    "# wap to check greatest element of the list.\n",
    "num1 = [44, 5, 8, 13, 5, 16]\n",
    "# num1.sort(reverse = True )\n",
    "# print(num1[0])\n",
    "\n",
    "gre_num = 0\n",
    "\n",
    "for i in num1:\n",
    "    if i>gre_num:\n",
    "        gre_num = i\n",
    "\n",
    "print(gre_num)"
   ]
  },
  {
   "cell_type": "code",
   "execution_count": 58,
   "id": "d784a777-1ac8-487f-8fb0-a0a329526f99",
   "metadata": {},
   "outputs": [
    {
     "name": "stdout",
     "output_type": "stream",
     "text": [
      "91\n"
     ]
    }
   ],
   "source": [
    "# wap to sum of all element present in the list.\n",
    "number = [44, 5, 8, 13, 5, 16]\n",
    "\n",
    "sum = 0\n",
    "for i in number:\n",
    "    sum+=i\n",
    "\n",
    "print(sum)\n"
   ]
  },
  {
   "cell_type": "code",
   "execution_count": null,
   "id": "d408949f-99d7-447c-99b8-98e7d4114d65",
   "metadata": {},
   "outputs": [],
   "source": [
    "# wap to find the middle number of the list.\n"
   ]
  },
  {
   "cell_type": "code",
   "execution_count": 1,
   "id": "667c9431-e310-44fa-9394-c7aeca57deb9",
   "metadata": {},
   "outputs": [],
   "source": [
    "# Build-in methods\n",
    "# append\n",
    "# extend\n",
    "# insert"
   ]
  },
  {
   "cell_type": "code",
   "execution_count": 4,
   "id": "0a778ad7-aadc-4368-8dff-329bba831984",
   "metadata": {},
   "outputs": [
    {
     "data": {
      "text/plain": [
       "['__add__',\n",
       " '__class__',\n",
       " '__class_getitem__',\n",
       " '__contains__',\n",
       " '__delattr__',\n",
       " '__delitem__',\n",
       " '__dir__',\n",
       " '__doc__',\n",
       " '__eq__',\n",
       " '__format__',\n",
       " '__ge__',\n",
       " '__getattribute__',\n",
       " '__getitem__',\n",
       " '__getstate__',\n",
       " '__gt__',\n",
       " '__hash__',\n",
       " '__iadd__',\n",
       " '__imul__',\n",
       " '__init__',\n",
       " '__init_subclass__',\n",
       " '__iter__',\n",
       " '__le__',\n",
       " '__len__',\n",
       " '__lt__',\n",
       " '__mul__',\n",
       " '__ne__',\n",
       " '__new__',\n",
       " '__reduce__',\n",
       " '__reduce_ex__',\n",
       " '__repr__',\n",
       " '__reversed__',\n",
       " '__rmul__',\n",
       " '__setattr__',\n",
       " '__setitem__',\n",
       " '__sizeof__',\n",
       " '__str__',\n",
       " '__subclasshook__',\n",
       " 'append',\n",
       " 'clear',\n",
       " 'copy',\n",
       " 'count',\n",
       " 'extend',\n",
       " 'index',\n",
       " 'insert',\n",
       " 'pop',\n",
       " 'remove',\n",
       " 'reverse',\n",
       " 'sort']"
      ]
     },
     "execution_count": 4,
     "metadata": {},
     "output_type": "execute_result"
    }
   ],
   "source": [
    "dir(list)"
   ]
  },
  {
   "cell_type": "code",
   "execution_count": null,
   "id": "24c7232a-3842-4b16-84bb-c5b1cd7d8cfc",
   "metadata": {},
   "outputs": [],
   "source": [
    "# list comprehension"
   ]
  },
  {
   "cell_type": "code",
   "execution_count": 1,
   "id": "d35bfde8-f72f-445c-826f-269279cfd6ad",
   "metadata": {},
   "outputs": [
    {
     "name": "stdout",
     "output_type": "stream",
     "text": [
      "[1, 2, 3, 4, 5, 6, 7, 8, 9, 10]\n"
     ]
    }
   ],
   "source": [
    "# wap to fill the all generated number from loop into the list\n",
    "\n",
    "# li =[]\n",
    "# for i in range(1,11):\n",
    "#     # print(i)\n",
    "#     li.append(i)\n",
    "# print(li)\n",
    "\n",
    "# i = 1\n",
    "# _li = []\n",
    "# while i <= 10:\n",
    "#     _li.append(i)\n",
    "#     i+=1\n",
    "    \n",
    "# print(_li)\n",
    "\n",
    "# while True:\n",
    "#     s = input()\n",
    "#     if s == \"x\":\n",
    "#         print(\"program closed\")\n",
    "#         break"
   ]
  },
  {
   "cell_type": "code",
   "execution_count": 4,
   "id": "29e1df21-447a-488f-bbde-87fab3ee0ff6",
   "metadata": {},
   "outputs": [
    {
     "name": "stdout",
     "output_type": "stream",
     "text": [
      "[1, 2, 3, 4, 5, 6, 7, 8, 9, 10]\n"
     ]
    }
   ],
   "source": [
    "my_list = []\n",
    "\n",
    "for i in range(1, 11):\n",
    "    my_list.append(i)\n",
    "print(my_list)"
   ]
  },
  {
   "cell_type": "code",
   "execution_count": 5,
   "id": "dfc3ee71-d56f-48f2-95ab-b0e121866cbb",
   "metadata": {},
   "outputs": [
    {
     "name": "stdout",
     "output_type": "stream",
     "text": [
      "[4, 16, 36, 64, 100]\n"
     ]
    }
   ],
   "source": [
    "my_list = [i**2 for i in range(1,11) if i%2==0]\n",
    "print(my_list)"
   ]
  },
  {
   "cell_type": "code",
   "execution_count": null,
   "id": "53d0b07f-7110-4fd1-bed7-477a683444da",
   "metadata": {},
   "outputs": [],
   "source": [
    "my_list = [i**2 for i in range(1,11) if i%2==0]\n",
    "print(my_list)"
   ]
  }
 ],
 "metadata": {
  "kernelspec": {
   "display_name": "Python 3 (ipykernel)",
   "language": "python",
   "name": "python3"
  },
  "language_info": {
   "codemirror_mode": {
    "name": "ipython",
    "version": 3
   },
   "file_extension": ".py",
   "mimetype": "text/x-python",
   "name": "python",
   "nbconvert_exporter": "python",
   "pygments_lexer": "ipython3",
   "version": "3.13.5"
  }
 },
 "nbformat": 4,
 "nbformat_minor": 5
}
