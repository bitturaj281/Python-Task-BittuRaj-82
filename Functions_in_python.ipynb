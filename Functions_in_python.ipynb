{
 "cells": [
  {
   "cell_type": "code",
   "execution_count": null,
   "id": "812c0c8f-3215-4b5e-bc52-4af91271340c",
   "metadata": {},
   "outputs": [],
   "source": [
    "# _ _ _ _ _ _ _ _ _ _ _ _ Function in python\n",
    "# 1. Every function has their own purpose.\n",
    "# 2. Function is a block of code.\n",
    "# 3. Function programming is very easy to find and debug the error.\n",
    "# 4. Function are reusable as per need.\n",
    "\n",
    "# Function type function\n",
    "# 1. In-built method\n",
    "# 2. UDF (User Defined Function)\n",
    "\n",
    "# Parameters and arguments (args)\n",
    "# 1. Default parameters\n",
    "# 2. Positional arguments\n",
    "# 3. Keyword arguments\n",
    "# 4. Arbitrary arguments\n",
    "\n",
    "# Categories of function\n",
    "# 1. Take nothing return nothing\n",
    "# 2. Take nothing return something\n",
    "# 3. Take something return nothing\n",
    "# 4. Take something return something\n",
    "\n",
    "# lambda function (anonymous function)\n",
    "# HOF : Higher order functions(filter(),map(),reduce())"
   ]
  },
  {
   "cell_type": "code",
   "execution_count": 7,
   "id": "40b6fb93-b66f-4210-b85e-7cb9adaa1eeb",
   "metadata": {},
   "outputs": [
    {
     "name": "stdout",
     "output_type": "stream",
     "text": [
      "30\n"
     ]
    }
   ],
   "source": [
    "# 1. Take nothing return nothing\n",
    "def add():\n",
    "    a=10\n",
    "    b=20\n",
    "    c=a+b\n",
    "    print(c)\n",
    "add()"
   ]
  },
  {
   "cell_type": "code",
   "execution_count": 5,
   "id": "3948c236-3148-445d-9a43-f8b46584f285",
   "metadata": {},
   "outputs": [
    {
     "name": "stdout",
     "output_type": "stream",
     "text": [
      "name: 10\n",
      "age: raj\n"
     ]
    }
   ],
   "source": [
    "# parameter and arguments\n",
    "# positional args.\n",
    "def odd_even(name,age):\n",
    "    print(f\"name: {name}\")\n",
    "    print(f\"age: {age}\")\n",
    "odd_even(10,\"raj\")"
   ]
  },
  {
   "cell_type": "code",
   "execution_count": null,
   "id": "c526d771-7a70-48cf-9fe3-599ee30c6ef0",
   "metadata": {},
   "outputs": [],
   "source": [
    "# Defination\n",
    "def fun():\n",
    "    print()"
   ]
  },
  {
   "cell_type": "code",
   "execution_count": 1,
   "id": "165d2757-1fb0-4922-bcf2-3b4b5fe8d8f4",
   "metadata": {},
   "outputs": [
    {
     "name": "stdout",
     "output_type": "stream",
     "text": [
      "a : 200\n",
      "b : 300\n"
     ]
    }
   ],
   "source": [
    "# positional args.\n",
    "# default parameter\n",
    "def odd_even(a=0, b=1):\n",
    "    print(f\"a : {a}\")\n",
    "    print(f\"b : {b}\")\n",
    "odd_even(200,300)"
   ]
  },
  {
   "cell_type": "code",
   "execution_count": 9,
   "id": "aca102ec-cd24-430a-afd1-d109c0385dd2",
   "metadata": {},
   "outputs": [
    {
     "name": "stdout",
     "output_type": "stream",
     "text": [
      "student id: 11\n",
      "student name: Rajvir\n",
      "student roll: 12\n",
      "student mob: 2565453685\n"
     ]
    }
   ],
   "source": [
    "# Keyword args\n",
    "def stu_profile(SID, SNAME, SROLL, SMOB):\n",
    "    print(f\"student id: {SID}\")\n",
    "    print(f\"student name: {SNAME}\")\n",
    "    print(f\"student roll: {SROLL}\")\n",
    "    print(f\"student mob: {SMOB}\")\n",
    "\n",
    "stu_profile(SNAME=\"Rajvir\", SROLL=12, SMOB=2565453685, SID=11)"
   ]
  },
  {
   "cell_type": "code",
   "execution_count": 4,
   "id": "cd25519b-9f32-42c5-a5ee-b9589284ea5a",
   "metadata": {},
   "outputs": [
    {
     "name": "stdout",
     "output_type": "stream",
     "text": [
      "student id: 125\n",
      "student name: Rajvir\n",
      "student roll: 225\n",
      "student mob: 8956235478\n"
     ]
    }
   ],
   "source": [
    "# Keyword args\n",
    "def stu_profile(**kwargs):\n",
    "    print(f\"student id: {kwargs.get(\"SID\",\"N/A\")}\")\n",
    "    print(f\"student name: {kwargs.get(\"SNAME\",\"N/A\")}\")\n",
    "    print(f\"student roll: {kwargs.get(\"SROLL\",\"N/A\")}\")\n",
    "    print(f\"student mob: {kwargs.get(\"SMOB\",\"N/A\")}\")\n",
    "\n",
    "stu_profile(SMOB=8956235478,SNAME=\"Rajvir\",SID=125, SROLL=225)"
   ]
  },
  {
   "cell_type": "markdown",
   "id": "8f0c1e27-400a-4e8b-be72-6286ef36126b",
   "metadata": {},
   "source": [
    "🔹 What is a Function?\n",
    "\n",
    "    A function is a reusable block of code that performs a specific task.\n",
    "\n",
    "    Instead of writing the same code again and again, we put it inside a function and call it whenever needed."
   ]
  },
  {
   "cell_type": "code",
   "execution_count": 1,
   "id": "7451088d-3189-4e6b-8d94-b890afccf936",
   "metadata": {},
   "outputs": [
    {
     "name": "stdout",
     "output_type": "stream",
     "text": [
      "Hello, Welcome to Python!\n"
     ]
    }
   ],
   "source": [
    "# 🔹 Defining and Calling a Function\n",
    "def greet():\n",
    "    print(\"Hello, Welcome to Python!\")\n",
    "\n",
    "# function call\n",
    "greet()\n"
   ]
  },
  {
   "cell_type": "markdown",
   "id": "b4cb2956-fae8-4bfa-b0d0-55bef9f65c75",
   "metadata": {},
   "source": [
    "🔹 Function with Parameters\n",
    "    You can pass data to a function using parameters (arguments)."
   ]
  },
  {
   "cell_type": "code",
   "execution_count": 5,
   "id": "4c64132a-6194-4062-b5a0-49e8e61c037c",
   "metadata": {},
   "outputs": [
    {
     "name": "stdout",
     "output_type": "stream",
     "text": [
      "Hello, Rajvir\n"
     ]
    }
   ],
   "source": [
    "def greet(name):\n",
    "    print(\"Hello,\", name)\n",
    "\n",
    "greet(\"Rajvir\")"
   ]
  },
  {
   "cell_type": "markdown",
   "id": "500f9da7-5b7b-4483-b752-426c1c0dc040",
   "metadata": {},
   "source": [
    "🔹 Function with Return Value\n",
    "\n",
    "     Functions can return a result using return."
   ]
  },
  {
   "cell_type": "code",
   "execution_count": 6,
   "id": "acff6493-5a50-4f75-805d-add2da5ca172",
   "metadata": {},
   "outputs": [
    {
     "name": "stdout",
     "output_type": "stream",
     "text": [
      "15\n"
     ]
    }
   ],
   "source": [
    "def add(a, b):\n",
    "    return a + b\n",
    "\n",
    "result = add(10, 5)\n",
    "print(result)"
   ]
  },
  {
   "cell_type": "markdown",
   "id": "40693191-54e3-4d50-8748-9b3310f412af",
   "metadata": {},
   "source": [
    "🔹 Default Arguments\n",
    "\n",
    "    If no value is passed, a default is used."
   ]
  },
  {
   "cell_type": "code",
   "execution_count": 9,
   "id": "5e3c417d-c9c2-4c28-a400-df57e9256015",
   "metadata": {},
   "outputs": [
    {
     "name": "stdout",
     "output_type": "stream",
     "text": [
      "Hello, Rajvir\n"
     ]
    }
   ],
   "source": [
    "def greet(name=\"Guest\"):\n",
    "    print(\"Hello,\", name)\n",
    "\n",
    "# greet()   \n",
    "greet(\"Rajvir\")  "
   ]
  },
  {
   "cell_type": "markdown",
   "id": "c0e9f7cd-e81c-4bf1-998d-5c0102e2a56c",
   "metadata": {},
   "source": [
    "🔹 Keyword Arguments\n",
    "\n",
    "    Arguments can be passed using key = value."
   ]
  },
  {
   "cell_type": "code",
   "execution_count": 11,
   "id": "c6b8f1f7-306e-4d89-abf2-d0fbb3108c33",
   "metadata": {},
   "outputs": [
    {
     "name": "stdout",
     "output_type": "stream",
     "text": [
      "Name: Rajvir, Age: 25\n"
     ]
    }
   ],
   "source": [
    "def student(name, age):\n",
    "    print(f\"Name: {name}, Age: {age}\")\n",
    "\n",
    "student(age=25, name=\"Rajvir\")"
   ]
  },
  {
   "cell_type": "markdown",
   "id": "79b4235c-00c3-4c9c-bdc8-f498ebd8bc58",
   "metadata": {},
   "source": [
    "🔹 Variable-Length Arguments\n",
    "\n",
    "    Sometimes, you don’t know how many arguments will be passed.\n",
    "\n",
    "    1. *args → non-keyword variable arguments (tuple)"
   ]
  },
  {
   "cell_type": "code",
   "execution_count": 14,
   "id": "faec4a8f-41dc-4064-a271-fc33667856f5",
   "metadata": {},
   "outputs": [
    {
     "data": {
      "text/plain": [
       "15"
      ]
     },
     "execution_count": 14,
     "metadata": {},
     "output_type": "execute_result"
    }
   ],
   "source": [
    "def add(*numbers):\n",
    "    return sum(numbers)\n",
    "\n",
    "print(add(1, 2, 3, 4, 5))"
   ]
  },
  {
   "cell_type": "markdown",
   "id": "87f72815-5592-4d70-bc23-23225ecfa61b",
   "metadata": {},
   "source": [
    "2. **kwargs → keyword variable arguments (dictionary)"
   ]
  },
  {
   "cell_type": "code",
   "execution_count": 20,
   "id": "1919437e-3a68-4777-87ca-a0605ff3e255",
   "metadata": {},
   "outputs": [
    {
     "name": "stdout",
     "output_type": "stream",
     "text": [
      "name : Rajvir\n",
      "age : 25\n",
      "city : Ludhiana\n",
      "education : BAE\n"
     ]
    }
   ],
   "source": [
    "def display(**details):\n",
    "    for key, value in details.items():\n",
    "        print(key, \":\", value)\n",
    "\n",
    "display(name=\"Rajvir\", age=25, city=\"Ludhiana\", education=\"BAE\")\n"
   ]
  },
  {
   "cell_type": "markdown",
   "id": "82f60127-a57a-4b45-a4f3-2105849448cc",
   "metadata": {},
   "source": [
    "🔹 Lambda Functions (Anonymous Functions)\n",
    "\n",
    "    Short, one-line functions without def."
   ]
  },
  {
   "cell_type": "code",
   "execution_count": 24,
   "id": "f4bf84c5-7720-448b-924e-8143b47048d6",
   "metadata": {},
   "outputs": [
    {
     "name": "stdout",
     "output_type": "stream",
     "text": [
      "144\n"
     ]
    }
   ],
   "source": [
    "square = lambda x: x*x\n",
    "print(square(12))"
   ]
  },
  {
   "cell_type": "markdown",
   "id": "0f3fa328-4d8f-441f-9a03-1fab78f6a59a",
   "metadata": {},
   "source": [
    "🔹 Scope of Variables\n",
    "\n",
    "1. Local variable → Defined inside a function, can’t be accessed outside.\n",
    "\n",
    "2. Global variable → Defined outside a function, accessible everywhere."
   ]
  },
  {
   "cell_type": "code",
   "execution_count": 28,
   "id": "c7b8210e-9bcd-493d-95d5-d68e28e136fb",
   "metadata": {},
   "outputs": [
    {
     "name": "stdout",
     "output_type": "stream",
     "text": [
      "Inside function: 10 5\n",
      "Outside function: 10\n"
     ]
    }
   ],
   "source": [
    "x = 10   # global\n",
    "\n",
    "def func():\n",
    "    y = 5   # local\n",
    "    print(\"Inside function:\", x, y)\n",
    "\n",
    "func()\n",
    "print(\"Outside function:\", x)"
   ]
  },
  {
   "cell_type": "code",
   "execution_count": 41,
   "id": "0974115e-c633-4f3f-bd79-c3a5ca1f8a7d",
   "metadata": {},
   "outputs": [
    {
     "name": "stdout",
     "output_type": "stream",
     "text": [
      "[12, 339, 445, 51]\n"
     ]
    }
   ],
   "source": [
    "li = [1020, 3309, 4405, 5001]\n",
    "li = [int(str(x).replace('0','')) for x in li]\n",
    "print(li)\n",
    "    "
   ]
  },
  {
   "cell_type": "code",
   "execution_count": 61,
   "id": "76b6e001-7607-4248-bbf3-f29dc068a54a",
   "metadata": {},
   "outputs": [
    {
     "name": "stdout",
     "output_type": "stream",
     "text": [
      "[3, 2, 7, 6]\n"
     ]
    }
   ],
   "source": [
    "li = [3, 7, 2, 6]\n",
    "odd_li = [x for x in li if x % 2 != 0]\n",
    "even_li = [x for x in li if x % 2 == 0]\n",
    "\n",
    "new_li = []\n",
    "for o , e in zip(odd_li,even_li):\n",
    "    new_li.append(o)\n",
    "    new_li.append(e)\n",
    "print(new_li)"
   ]
  },
  {
   "cell_type": "code",
   "execution_count": null,
   "id": "0ffd52e7-98a3-486b-84fc-8ffb20b45d27",
   "metadata": {},
   "outputs": [],
   "source": [
    "str1 = \"abcdeabcf\""
   ]
  },
  {
   "cell_type": "code",
   "execution_count": 9,
   "id": "c7bcd0b9-f9a6-4222-b26a-7216fae51df4",
   "metadata": {},
   "outputs": [
    {
     "name": "stdout",
     "output_type": "stream",
     "text": [
      "240000\n"
     ]
    }
   ],
   "source": [
    "# 4. Arbitrary arguments\n",
    "import math\n",
    "def multiply(*n):\n",
    "    # print(n)\n",
    "    print(math.prod(n))\n",
    "\n",
    "multiply(10,20,30,40)"
   ]
  },
  {
   "cell_type": "code",
   "execution_count": 12,
   "id": "27dc12c9-66a7-4d28-b4d3-551655b9b349",
   "metadata": {},
   "outputs": [
    {
     "name": "stdout",
     "output_type": "stream",
     "text": [
      "240000\n"
     ]
    }
   ],
   "source": [
    "# 4. Arbitrary arguments\n",
    "import math\n",
    "def multiply(*n):\n",
    "    m=1\n",
    "    for i in n:\n",
    "        m=m*i\n",
    "    print(m)\n",
    "            \n",
    "multiply(10,20,30,40)"
   ]
  },
  {
   "cell_type": "code",
   "execution_count": 26,
   "id": "6a5f5a3b-3d84-4bda-85fd-dfa6f4ab5108",
   "metadata": {},
   "outputs": [
    {
     "name": "stdout",
     "output_type": "stream",
     "text": [
      "100\n"
     ]
    }
   ],
   "source": [
    "# 4. Take something return something\n",
    "def my_money(price):\n",
    "    return price\n",
    "\n",
    "res = my_money(100)\n",
    "print(res)"
   ]
  },
  {
   "cell_type": "code",
   "execution_count": 27,
   "id": "97b26b4b-3b1f-40d1-a636-8ba2f7445a03",
   "metadata": {},
   "outputs": [
    {
     "name": "stdout",
     "output_type": "stream",
     "text": [
      "100\n"
     ]
    }
   ],
   "source": [
    "# 3. Take something return nothing\n",
    "def my_money(price):\n",
    "    print(price)\n",
    "my_money(100)"
   ]
  },
  {
   "cell_type": "code",
   "execution_count": 29,
   "id": "cbc6065e-2287-4e89-aade-eaa1e03795a5",
   "metadata": {},
   "outputs": [
    {
     "name": "stdout",
     "output_type": "stream",
     "text": [
      "40\n"
     ]
    }
   ],
   "source": [
    "# 2. Take nothing return something\n",
    "def my_money():\n",
    "    a = 10\n",
    "    b = 30\n",
    "    return a+b\n",
    "r = my_money()\n",
    "print(r)"
   ]
  },
  {
   "cell_type": "code",
   "execution_count": 34,
   "id": "1e7659d1-2c74-4473-b9cf-0f483a03f77a",
   "metadata": {},
   "outputs": [
    {
     "name": "stdout",
     "output_type": "stream",
     "text": [
      "raj@1234\n"
     ]
    }
   ],
   "source": [
    "# Global and local scope\n",
    "user_pass=\"raj@1234\"\n",
    "def login():\n",
    "    print(user_pass)\n",
    "login()\n",
    "# print(user_pass)"
   ]
  },
  {
   "cell_type": "code",
   "execution_count": 2,
   "id": "5bff23d8-eefc-4193-8c1c-86efa6506de3",
   "metadata": {},
   "outputs": [
    {
     "name": "stdout",
     "output_type": "stream",
     "text": [
      "raj@1234\n"
     ]
    }
   ],
   "source": [
    "# Global and local scope\n",
    "\n",
    "def login():\n",
    "    user_pass=\"raj@1234\"\n",
    "    print(user_pass)\n",
    "login()\n",
    "# print(user_pass)"
   ]
  },
  {
   "cell_type": "code",
   "execution_count": 42,
   "id": "2a17ac4a-0380-4879-94b2-57a40faa75bf",
   "metadata": {},
   "outputs": [
    {
     "name": "stdout",
     "output_type": "stream",
     "text": [
      "30\n"
     ]
    }
   ],
   "source": [
    "# lambda function (anonymous function).\n",
    "s = lambda :10+20\n",
    "print(s())"
   ]
  },
  {
   "cell_type": "code",
   "execution_count": 1,
   "id": "bb74718b-a8b6-43ce-ad60-3a3bd3d0a005",
   "metadata": {},
   "outputs": [
    {
     "name": "stdout",
     "output_type": "stream",
     "text": [
      "Even\n"
     ]
    }
   ],
   "source": [
    "# Wap to check number is given by user is odd or even using lambda \n",
    "check= lambda x : \"Even\" if x%2 ==0 else \"Odd\"\n",
    "\n",
    "print(check(10))"
   ]
  },
  {
   "cell_type": "code",
   "execution_count": 10,
   "id": "daee7746-d293-4b59-9c13-9f6245d40d83",
   "metadata": {},
   "outputs": [
    {
     "name": "stdout",
     "output_type": "stream",
     "text": [
      "([89, 90], [12, 45, 44, 33])\n"
     ]
    },
    {
     "data": {
      "text/plain": [
       "tuple"
      ]
     },
     "execution_count": 10,
     "metadata": {},
     "output_type": "execute_result"
    }
   ],
   "source": [
    "marks=[12,89,45,90,44,33]\n",
    "res=lambda x : ([i for i in x if i>=50],[i for i in x if i<=50])\n",
    "print(res(marks))\n",
    "type(res(marks))"
   ]
  },
  {
   "cell_type": "code",
   "execution_count": 6,
   "id": "3fdfbbaf-e15d-406d-8787-bd6fc01c2fde",
   "metadata": {},
   "outputs": [
    {
     "name": "stdout",
     "output_type": "stream",
     "text": [
      "Second highest number: 40\n"
     ]
    }
   ],
   "source": [
    "numbers = [10, 40, 20, 50, 30]\n",
    "\n",
    "\n",
    "second_highest = max(numbers, key=lambda x: x if x != max(numbers) else float('-inf'))\n",
    "\n",
    "print(\"Second highest number:\", second_highest)\n"
   ]
  },
  {
   "cell_type": "code",
   "execution_count": null,
   "id": "d8a42f8e-e482-44b4-b2e7-0237d5ed1530",
   "metadata": {},
   "outputs": [],
   "source": [
    "# HOF : higher order funtions(filter(),map(),reduce())\n",
    "# Higher order funtions are funtions that take another function as its argument and\n",
    "# that function passed as argument known as callback function.\n",
    "# return value as list , tuple, set\n",
    "# filter(fun, iterator)\n",
    "# map(fun,iterator)\n",
    "# reduce(fun, iterator)"
   ]
  },
  {
   "cell_type": "code",
   "execution_count": 9,
   "id": "3d653351-9b62-41f8-b0a0-3dbfd0d5eeba",
   "metadata": {},
   "outputs": [
    {
     "name": "stdout",
     "output_type": "stream",
     "text": [
      "[89, 90]\n"
     ]
    }
   ],
   "source": [
    "def check_pass(n):\n",
    "    if n >= 50:\n",
    "        return n\n",
    "marks=[12,89,45,90,44,33]\n",
    "res = (list(filter(check_pass,marks)))\n",
    "print(res)"
   ]
  },
  {
   "cell_type": "code",
   "execution_count": 31,
   "id": "33aebb0d-4f90-4520-9359-a383ce650660",
   "metadata": {},
   "outputs": [
    {
     "name": "stdout",
     "output_type": "stream",
     "text": [
      "[89, 90]\n"
     ]
    }
   ],
   "source": [
    "print((list(filter(lambda x : x>=50,(12,89,45,90,44,33)))))\n",
    "# print((list(filter(lambda x:((x>=50),(x<=50)),(12,89,45,90,44,33)))))"
   ]
  },
  {
   "cell_type": "code",
   "execution_count": 44,
   "id": "83d182d6-def3-41ed-bea9-7a8c9753dfdd",
   "metadata": {},
   "outputs": [
    {
     "name": "stdout",
     "output_type": "stream",
     "text": [
      "['Apple', 'orange', 'grapes']\n"
     ]
    }
   ],
   "source": [
    "fruits = [\"Apple\", \"Banana\",\"orange\",\"papaya\",\"kiwi\",\"grapes\"]\n",
    "print((list(filter(lambda x : \"e\" in x.lower() ,fruits))))"
   ]
  },
  {
   "cell_type": "code",
   "execution_count": 45,
   "id": "0633ea40-7253-4339-950a-526342c3c3d8",
   "metadata": {},
   "outputs": [
    {
     "name": "stdin",
     "output_type": "stream",
     "text": [
      "Enter your fruit name:  banana\n"
     ]
    },
    {
     "name": "stdout",
     "output_type": "stream",
     "text": [
      "['Banana']\n"
     ]
    }
   ],
   "source": [
    "user = input(\"Enter your fruit name: \")\n",
    "fruits = [\"Apple\", \"Banana\", \"orange\", \"papaya\", \"kiwi\", \"grapes\"]\n",
    "\n",
    "result = list(filter(lambda x: user.lower() in x.lower(), fruits))\n",
    "\n",
    "print(result if result else \"no fruit found\")"
   ]
  },
  {
   "cell_type": "code",
   "execution_count": 4,
   "id": "c44182ef-acf9-4d15-acb4-31df05d5f4b5",
   "metadata": {},
   "outputs": [
    {
     "name": "stdout",
     "output_type": "stream",
     "text": [
      "[30, 55, 88, 100, 54, 32]\n"
     ]
    }
   ],
   "source": [
    "# map(fun, iterator)\n",
    "marks = [20, 45, 78, 90, 44, 22]\n",
    "new_marks=map(lambda x : x+10, marks)\n",
    "print(list(new_marks))"
   ]
  },
  {
   "cell_type": "code",
   "execution_count": 12,
   "id": "a99d5297-01d2-452e-a522-9adcb612f073",
   "metadata": {},
   "outputs": [
    {
     "name": "stdout",
     "output_type": "stream",
     "text": [
      "[0, 0, 0, 0, 0, 0]\n"
     ]
    }
   ],
   "source": [
    "# wap to transform the given array  [20, 45, 78, 90, 44, 22] to [0, 0, 0, 0, 0, 0]\n",
    "marks = [20, 45, 78, 90, 44, 22] \n",
    "new_marks=map(lambda x : x % x, marks)\n",
    "print(list(new_marks))"
   ]
  },
  {
   "cell_type": "code",
   "execution_count": null,
   "id": "78087dc8-b3e9-4377-8e91-0d125ec5445d",
   "metadata": {},
   "outputs": [],
   "source": [
    "# [0, 0, 0, 0, 0, 0] zeroes\n",
    "# [1, 1, 1, 1, 1, 1] ones\n",
    "# [-1, -1, -1, -1, -1, -1] negative ones\n"
   ]
  },
  {
   "cell_type": "code",
   "execution_count": null,
   "id": "6eb776fb-2a83-4869-b220-1ba6705a6046",
   "metadata": {},
   "outputs": [],
   "source": []
  },
  {
   "cell_type": "code",
   "execution_count": 16,
   "id": "05134439-9f2b-479f-88a3-a35557d897c5",
   "metadata": {},
   "outputs": [
    {
     "name": "stdout",
     "output_type": "stream",
     "text": [
      "['aman-MANAGER', 'shubham-DOTNETDEV', 'shivam-HR', 'kamal-TL', 'abhishek-DEVELOPER']\n"
     ]
    }
   ],
   "source": [
    "import random\n",
    "emp = [\"aman\", \"shubham\", \"shivam\", \"kamal\", \"abhishek\"]\n",
    "tags = [\"HR\", \"DEVELOPER\", \"MANAGER\", \"TL\", \"DOTNETDEV\"]\n",
    "new_listr = []\n",
    "# [\"aman-TL\", \"shubham-DEVELOPER\", \"shivam-shivam\", \"kamal-TL\", \"abhishek-DOTNETDEV\"]\n",
    "random.shuffle(tags)\n",
    "for i in range(len(emp)):\n",
    "    new_listr.append(emp[i]+\"-\"+tags[i-1])\n",
    "print(new_listr)"
   ]
  },
  {
   "cell_type": "code",
   "execution_count": 15,
   "id": "9a530857-2cbe-44dc-b924-c0e793f8945a",
   "metadata": {},
   "outputs": [
    {
     "name": "stdout",
     "output_type": "stream",
     "text": [
      "['aman-HR', 'shubham-DEVELOPER', 'shivam-MANAGER', 'kamal-TL']\n"
     ]
    }
   ],
   "source": [
    "import random\n",
    "emp = [\"aman\", \"shubham\", \"shivam\", \"kamal\", \"abhishek\"]\n",
    "tags = [\"HR\", \"DEVELOPER\", \"MANAGER\", \"TL\"]\n",
    "random.choice(tags)\n",
    "res=[f\"{i}-{j}\" for i, j in zip(emp,tags)]\n",
    "print(res)"
   ]
  },
  {
   "cell_type": "code",
   "execution_count": 25,
   "id": "dc30a0ad-3584-4054-9e92-5ec033a8ca3b",
   "metadata": {},
   "outputs": [
    {
     "name": "stdout",
     "output_type": "stream",
     "text": [
      "['aman-DEVELOPER', 'shubham-DOTNET', 'shivam-TL', 'kamal-HR', 'abhishek-MANAGER']\n"
     ]
    }
   ],
   "source": [
    "import random\n",
    "emp = [\"aman\", \"shubham\", \"shivam\", \"kamal\", \"abhishek\"]\n",
    "tags = [\"HR\", \"DEVELOPER\", \"MANAGER\", \"TL\", \"DOTNET\"]\n",
    "# new_list = []\n",
    "random.shuffle(tags)\n",
    "new_list=list(map(lambda i:emp[i]+\"-\"+tags[i], range(len(emp))))\n",
    "print(new_list)"
   ]
  },
  {
   "cell_type": "code",
   "execution_count": 28,
   "id": "8c0438e4-b0ee-4d60-a47f-b5e143bc06eb",
   "metadata": {},
   "outputs": [
    {
     "name": "stdout",
     "output_type": "stream",
     "text": [
      "['AMAN', 'SHUBHAM', 'SHIVAM', 'KAMAL', 'ABHISHEK']\n"
     ]
    }
   ],
   "source": [
    "emp = [\"aman\", \"shubham\", \"shivam\", \"kamal\", \"abhishek\"]\n",
    "#res = [\"AMAN\", \"SHUBHAM\", \"SHIVAM\", \"KAMAL\", \"ABHISHEK\"]\n",
    "\n",
    "new_list = list(map(lambda x : x.upper(),emp))\n",
    "print(new_list)\n"
   ]
  },
  {
   "cell_type": "code",
   "execution_count": 5,
   "id": "0685f766-c5d2-4828-b42e-c315ce5ada54",
   "metadata": {},
   "outputs": [
    {
     "data": {
      "text/plain": [
       "[{'name': 'AmaN', 'upper': 2, 'lower': 2},\n",
       " {'name': 'shUBhAM', 'upper': 4, 'lower': 3},\n",
       " {'name': 'SHIvam', 'upper': 3, 'lower': 3},\n",
       " {'name': 'KAmaL', 'upper': 3, 'lower': 2},\n",
       " {'name': 'abhISHEK', 'upper': 5, 'lower': 3}]"
      ]
     },
     "execution_count": 5,
     "metadata": {},
     "output_type": "execute_result"
    }
   ],
   "source": [
    "emp = [\"AmaN\", \"shUBhAM\", \"SHIvam\", \"KAmaL\", \"abhISHEK\"]\n",
    "\n",
    "upper_counts = list(map(lambda name: sum(1 for ch in name if ch.isupper()), emp))\n",
    "lower_counts = list(map(lambda name: sum(1 for ch in name if ch.islower()), emp))\n",
    "\n",
    "new_list = [{\"name\": name, \"upper\": u, \"lower\": l} for name, u, l in zip(emp, upper_counts, lower_counts)]\n",
    "\n",
    "new_list"
   ]
  },
  {
   "cell_type": "code",
   "execution_count": 12,
   "id": "6e8ef8b8-5227-48c6-b7fd-bafbd89149a1",
   "metadata": {},
   "outputs": [
    {
     "name": "stdout",
     "output_type": "stream",
     "text": [
      "17\n",
      "13\n"
     ]
    }
   ],
   "source": [
    "res = [\"AmaN\", \"shUBhAM\", \"SHIvam\", \"KAmaL\", \"abhISHEK\"]\n",
    "all_char = \"\".join(res)\n",
    "upper = len(list(filter(lambda ch: ch.isupper(), all_char)))\n",
    "lower = len(list(filter(lambda ch: ch.islower(), all_char)))\n",
    "print(upper)\n",
    "print(lower)"
   ]
  },
  {
   "cell_type": "code",
   "execution_count": 14,
   "id": "75317752-7895-4bf6-b106-fa354314bd9b",
   "metadata": {},
   "outputs": [
    {
     "data": {
      "text/plain": [
       "['THEMTHEN', 'SHUBHTHEM', 'SHIVTHEM', 'KTHEMTHEL', 'THEBHISHEK']"
      ]
     },
     "execution_count": 14,
     "metadata": {},
     "output_type": "execute_result"
    }
   ],
   "source": [
    "res = [\"AMAN\", \"SHUBHAM\", \"SHIVAM\", \"KAMAL\", \"ABHISHEK\"]\n",
    "A=\"THE\"\n",
    "new_list = list(map(lambda a : a.replace(\"A\",\"THE\"), res))\n",
    "new_list"
   ]
  },
  {
   "cell_type": "code",
   "execution_count": 45,
   "id": "bcf18328-670a-4914-b316-0cc4638a9a1f",
   "metadata": {},
   "outputs": [
    {
     "name": "stdout",
     "output_type": "stream",
     "text": [
      "Product with a:['samsung', 'apple', 'realme']\n",
      "Product with i:['iphone', 'vivo', 'nothing']\n",
      "Product Unable to found with: z\n"
     ]
    }
   ],
   "source": [
    "product_list = [\"samsung\",\"iphone\", \"vivo\", \"apple\", \"oppo\", \"oneplus\", \"nothing\", \"realme\"]\n",
    "user_char=\"aiz\"\n",
    "for i in user_char:\n",
    "    res = list(filter(lambda x :i in x,product_list))\n",
    "    if res==[]:\n",
    "        print(f\"Product Unable to found with: {i}\")\n",
    "    else:\n",
    "        print(f\"Product with {i}:{res}\")"
   ]
  },
  {
   "cell_type": "code",
   "execution_count": null,
   "id": "7c288362-2987-40c4-b5de-f872bd996b81",
   "metadata": {},
   "outputs": [],
   "source": []
  },
  {
   "cell_type": "code",
   "execution_count": null,
   "id": "2b746840-31ae-4502-b183-d63aa2357980",
   "metadata": {},
   "outputs": [],
   "source": []
  }
 ],
 "metadata": {
  "kernelspec": {
   "display_name": "Python 3 (ipykernel)",
   "language": "python",
   "name": "python3"
  },
  "language_info": {
   "codemirror_mode": {
    "name": "ipython",
    "version": 3
   },
   "file_extension": ".py",
   "mimetype": "text/x-python",
   "name": "python",
   "nbconvert_exporter": "python",
   "pygments_lexer": "ipython3",
   "version": "3.13.5"
  }
 },
 "nbformat": 4,
 "nbformat_minor": 5
}
