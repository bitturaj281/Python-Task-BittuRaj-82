{
 "cells": [
  {
   "cell_type": "raw",
   "id": "3bf542f8-4497-4c42-beea-a2379302b949",
   "metadata": {},
   "source": [
    "What is an outlier?\n",
    "\n",
    "An outlier is a data point in a data set that is distant from all other observations. A data point that lies outside the overall\n",
    "distribution of the dataset."
   ]
  },
  {
   "cell_type": "code",
   "execution_count": null,
   "id": "105b0340-e3d9-46eb-b0d1-a3e14541340b",
   "metadata": {},
   "outputs": [],
   "source": [
    "import numpy as np\n",
    "import matplotlib.pyplot as plt\n",
    "%matploylib inline"
   ]
  },
  {
   "cell_type": "raw",
   "id": "2a15c9c9-2c0c-4ada-b3b8-7ba4932f7d39",
   "metadata": {},
   "source": [
    "What are the criteria to identify an outlier?\n",
    "\n",
    "1. Data point that falls outside of 1.5 times of an interquartile range above the 3rd quartile and below the 1st quartile\n",
    "2. Data point that falls outside of 3 standard deviations. we can use a z score and if the z score falls outside of 2 standard deviation\n",
    "\n",
    "What is the reason for an outlier to exists in a dataset?\n",
    "\n",
    "1. Variability in the data\n",
    "2. An experimental measurement error\n",
    "\n",
    "What are the impacts of having outliers in a dataset?\n",
    "\n",
    "1. It causes various problems during our statistical analysis\n",
    "2. It may cause a significant impact on the mean and the standard deviation\n",
    "\n",
    "Various ways of finding the outlier.\n",
    "\n",
    "1. Using scatter plots\n",
    "2. Box plot\n",
    "3. using z score\n",
    "4. using the IQR interquantile range"
   ]
  },
  {
   "cell_type": "code",
   "execution_count": 10,
   "id": "7406bc06-b23b-4c69-ad51-b8ed6f4464b4",
   "metadata": {},
   "outputs": [],
   "source": [
    "dataset= [11,10,12,14,12,15,14,13,15,102,12,14,17,19,107, 10,13,12,14,12,108,12,11,14,13,15,10,15,12,10,14,13,15,10]"
   ]
  },
  {
   "cell_type": "raw",
   "id": "1547ffb1-82e6-4789-8c04-f80f509df6cf",
   "metadata": {},
   "source": [
    "Detecting outlier using Z score    \n",
    "Using Z score\n",
    "Formula for Z score = (Observation — Mean)/Standard Deviation\n",
    "\n",
    "z = (X — μ) / σ"
   ]
  },
  {
   "cell_type": "code",
   "execution_count": 14,
   "id": "712c4c52-8ed0-47ff-b668-6d076e9c09d1",
   "metadata": {},
   "outputs": [],
   "source": [
    "outliers=[]\n",
    "def detect_outliers(data):\n",
    "    \n",
    "    threshold=3\n",
    "    mean = np.mean(data)\n",
    "    std =np.std(data)\n",
    "    \n",
    "    \n",
    "    for i in data:\n",
    "        z_score= (i - mean)/std \n",
    "        if np.abs(z_score) > threshold:\n",
    "            outliers.append(i)\n",
    "    return outliers"
   ]
  },
  {
   "cell_type": "code",
   "execution_count": 15,
   "id": "e3b5dcb7-7147-4f1f-9e5a-4b590bc19dc6",
   "metadata": {},
   "outputs": [],
   "source": [
    "outlier_pt=detect_outliers(dataset)"
   ]
  },
  {
   "cell_type": "code",
   "execution_count": 16,
   "id": "623b094a-915b-4ac8-bba7-c1b002e8af6e",
   "metadata": {},
   "outputs": [
    {
     "data": {
      "text/plain": [
       "[102, 107, 108]"
      ]
     },
     "execution_count": 16,
     "metadata": {},
     "output_type": "execute_result"
    }
   ],
   "source": [
    "outlier_pt"
   ]
  },
  {
   "cell_type": "raw",
   "id": "c445bfb0-9175-4e43-88c8-d8e08441e028",
   "metadata": {},
   "source": [
    "InterQuantile Range\n",
    "\n",
    "75%- 25% values in a dataset\n",
    "\n",
    "Steps\n",
    "1. Arrange the data in increasing order\n",
    "2. Calculate first(q1) and third quartile(q3)\n",
    "3. Find interquartile range (q3-q1)\n",
    "4. Find lower bound q1*1.5\n",
    "5. Find upper bound q3*1.5\n",
    "Anything that lies outside of lower and upper bound is an outlier"
   ]
  },
  {
   "cell_type": "code",
   "execution_count": 17,
   "id": "36770c41-96c7-43a7-847f-6197f30000b2",
   "metadata": {},
   "outputs": [
    {
     "data": {
      "text/plain": [
       "[10,\n",
       " 10,\n",
       " 10,\n",
       " 10,\n",
       " 10,\n",
       " 11,\n",
       " 11,\n",
       " 12,\n",
       " 12,\n",
       " 12,\n",
       " 12,\n",
       " 12,\n",
       " 12,\n",
       " 12,\n",
       " 13,\n",
       " 13,\n",
       " 13,\n",
       " 13,\n",
       " 14,\n",
       " 14,\n",
       " 14,\n",
       " 14,\n",
       " 14,\n",
       " 14,\n",
       " 15,\n",
       " 15,\n",
       " 15,\n",
       " 15,\n",
       " 15,\n",
       " 17,\n",
       " 19,\n",
       " 102,\n",
       " 107,\n",
       " 108]"
      ]
     },
     "execution_count": 17,
     "metadata": {},
     "output_type": "execute_result"
    }
   ],
   "source": [
    "## Perform all the steps of IQR\n",
    "sorted(dataset)"
   ]
  },
  {
   "cell_type": "code",
   "execution_count": 19,
   "id": "de645bea-89d1-4c63-85f8-1423eb63964b",
   "metadata": {},
   "outputs": [],
   "source": [
    "quantile1, quantile3 = np.percentile(dataset,[25,75])"
   ]
  },
  {
   "cell_type": "code",
   "execution_count": 20,
   "id": "3e498c75-ed0a-42c5-b290-f5e26e98673b",
   "metadata": {},
   "outputs": [
    {
     "name": "stdout",
     "output_type": "stream",
     "text": [
      "12.0 15.0\n"
     ]
    }
   ],
   "source": [
    "print(quantile1,quantile3)"
   ]
  },
  {
   "cell_type": "code",
   "execution_count": 21,
   "id": "86427fc2-1079-46eb-b8ad-f7ad5e351363",
   "metadata": {},
   "outputs": [
    {
     "name": "stdout",
     "output_type": "stream",
     "text": [
      "3.0\n"
     ]
    }
   ],
   "source": [
    "## Find the IQR\n",
    "\n",
    "iqr_value=quantile3-quantile1\n",
    "print(iqr_value)"
   ]
  },
  {
   "cell_type": "code",
   "execution_count": 23,
   "id": "d2ffb551-bbd7-4994-83ba-0d47aa8ca208",
   "metadata": {},
   "outputs": [],
   "source": [
    "## Find the lower bound value and the higher bound value\n",
    "\n",
    "lower_bound_val = quantile1 -(1.5 * iqr_value) \n",
    "upper_bound_val = quantile3 +(1.5 * iqr_value) "
   ]
  },
  {
   "cell_type": "code",
   "execution_count": 24,
   "id": "f3f4b9ac-58d7-4682-b5ad-b17cde253088",
   "metadata": {},
   "outputs": [
    {
     "name": "stdout",
     "output_type": "stream",
     "text": [
      "7.5 19.5\n"
     ]
    }
   ],
   "source": [
    "print(lower_bound_val,upper_bound_val)"
   ]
  },
  {
   "cell_type": "code",
   "execution_count": null,
   "id": "673be63e-3fe2-428c-9a4a-0d49a43eb71c",
   "metadata": {},
   "outputs": [],
   "source": []
  },
  {
   "cell_type": "code",
   "execution_count": null,
   "id": "c4178695-1909-482b-b7b0-3178dae60986",
   "metadata": {},
   "outputs": [],
   "source": []
  }
 ],
 "metadata": {
  "kernelspec": {
   "display_name": "Python 3 (ipykernel)",
   "language": "python",
   "name": "python3"
  },
  "language_info": {
   "codemirror_mode": {
    "name": "ipython",
    "version": 3
   },
   "file_extension": ".py",
   "mimetype": "text/x-python",
   "name": "python",
   "nbconvert_exporter": "python",
   "pygments_lexer": "ipython3",
   "version": "3.13.5"
  }
 },
 "nbformat": 4,
 "nbformat_minor": 5
}
