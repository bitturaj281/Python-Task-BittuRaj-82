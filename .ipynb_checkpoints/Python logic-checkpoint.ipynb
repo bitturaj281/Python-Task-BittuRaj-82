{
 "cells": [
  {
   "cell_type": "code",
   "execution_count": 1,
   "id": "61d117cd-855f-4377-ae9e-bb8022e26128",
   "metadata": {},
   "outputs": [
    {
     "name": "stdout",
     "output_type": "stream",
     "text": [
      "nohtyp\n"
     ]
    }
   ],
   "source": [
    "# Reverse a string without using reversed()\n",
    "s = \"python\"\n",
    "print(s[::-1])"
   ]
  },
  {
   "cell_type": "code",
   "execution_count": 2,
   "id": "ce6ae27c-6139-4715-a746-1c33d347568b",
   "metadata": {},
   "outputs": [
    {
     "name": "stdout",
     "output_type": "stream",
     "text": [
      "4\n"
     ]
    }
   ],
   "source": [
    "# count vowels in a word\n",
    "word = \"development\"\n",
    "vowels = \"aeiou\"\n",
    "count = sum(1 for ch in word if ch in vowels)\n",
    "print(count)"
   ]
  },
  {
   "cell_type": "code",
   "execution_count": null,
   "id": "bc75c95b-c4ec-4057-8b4d-c2e39df37ddc",
   "metadata": {},
   "outputs": [],
   "source": []
  }
 ],
 "metadata": {
  "kernelspec": {
   "display_name": "Python 3 (ipykernel)",
   "language": "python",
   "name": "python3"
  },
  "language_info": {
   "codemirror_mode": {
    "name": "ipython",
    "version": 3
   },
   "file_extension": ".py",
   "mimetype": "text/x-python",
   "name": "python",
   "nbconvert_exporter": "python",
   "pygments_lexer": "ipython3",
   "version": "3.13.5"
  }
 },
 "nbformat": 4,
 "nbformat_minor": 5
}
